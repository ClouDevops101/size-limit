{
  "nbformat": 4,
  "nbformat_minor": 0,
  "metadata": {
    "colab": {
      "name": "Untitled0.ipynb",
      "provenance": [],
      "collapsed_sections": [],
      "authorship_tag": "ABX9TyM539mzq67kfSmpSrQLn65H",
      "include_colab_link": true
    },
    "kernelspec": {
      "display_name": "Python 3",
      "name": "python3"
    },
    "language_info": {
      "name": "python"
    }
  },
  "cells": [
    {
      "cell_type": "markdown",
      "metadata": {
        "id": "view-in-github",
        "colab_type": "text"
      },
      "source": [
        "<a href=\"https://colab.research.google.com/github/ClouDevops101/size-limit/blob/gh-pages/recommended-engine-with-udemy-data-v1.0.ipynb\" target=\"_parent\"><img src=\"https://colab.research.google.com/assets/colab-badge.svg\" alt=\"Open In Colab\"/></a>"
      ]
    },
    {
      "cell_type": "markdown",
      "metadata": {
        "id": "sjKF4fY8XJ-4"
      },
      "source": [
        "# build a online courses recommendation system"
      ]
    },
    {
      "cell_type": "code",
      "metadata": {
        "id": "bBUIP4N7XffM"
      },
      "source": [
        "# importing libraries"
      ],
      "execution_count": null,
      "outputs": []
    },
    {
      "cell_type": "code",
      "metadata": {
        "id": "qnloLFNVJZ6W",
        "colab": {
          "base_uri": "https://localhost:8080/"
        },
        "outputId": "6678c797-9511-4e6e-9a48-bb89166af587"
      },
      "source": [
        "import pandas as pd\n",
        "import numpy as np\n",
        "from sklearn.metrics.pairwise import cosine_similarity\n",
        "from sklearn.feature_extraction.text import CountVectorizer\n",
        "from nltk.corpus import stopwords\n",
        "import nltk\n",
        "nltk.download('stopwords')"
      ],
      "execution_count": 1,
      "outputs": [
        {
          "output_type": "stream",
          "name": "stdout",
          "text": [
            "[nltk_data] Downloading package stopwords to /root/nltk_data...\n",
            "[nltk_data]   Unzipping corpora/stopwords.zip.\n"
          ]
        },
        {
          "output_type": "execute_result",
          "data": {
            "text/plain": [
              "True"
            ]
          },
          "metadata": {},
          "execution_count": 1
        }
      ]
    },
    {
      "cell_type": "code",
      "metadata": {
        "id": "w2Sly4SSJekt",
        "colab": {
          "resources": {
            "http://localhost:8080/nbextensions/google.colab/files.js": {
              "data": "Ly8gQ29weXJpZ2h0IDIwMTcgR29vZ2xlIExMQwovLwovLyBMaWNlbnNlZCB1bmRlciB0aGUgQXBhY2hlIExpY2Vuc2UsIFZlcnNpb24gMi4wICh0aGUgIkxpY2Vuc2UiKTsKLy8geW91IG1heSBub3QgdXNlIHRoaXMgZmlsZSBleGNlcHQgaW4gY29tcGxpYW5jZSB3aXRoIHRoZSBMaWNlbnNlLgovLyBZb3UgbWF5IG9idGFpbiBhIGNvcHkgb2YgdGhlIExpY2Vuc2UgYXQKLy8KLy8gICAgICBodHRwOi8vd3d3LmFwYWNoZS5vcmcvbGljZW5zZXMvTElDRU5TRS0yLjAKLy8KLy8gVW5sZXNzIHJlcXVpcmVkIGJ5IGFwcGxpY2FibGUgbGF3IG9yIGFncmVlZCB0byBpbiB3cml0aW5nLCBzb2Z0d2FyZQovLyBkaXN0cmlidXRlZCB1bmRlciB0aGUgTGljZW5zZSBpcyBkaXN0cmlidXRlZCBvbiBhbiAiQVMgSVMiIEJBU0lTLAovLyBXSVRIT1VUIFdBUlJBTlRJRVMgT1IgQ09ORElUSU9OUyBPRiBBTlkgS0lORCwgZWl0aGVyIGV4cHJlc3Mgb3IgaW1wbGllZC4KLy8gU2VlIHRoZSBMaWNlbnNlIGZvciB0aGUgc3BlY2lmaWMgbGFuZ3VhZ2UgZ292ZXJuaW5nIHBlcm1pc3Npb25zIGFuZAovLyBsaW1pdGF0aW9ucyB1bmRlciB0aGUgTGljZW5zZS4KCi8qKgogKiBAZmlsZW92ZXJ2aWV3IEhlbHBlcnMgZm9yIGdvb2dsZS5jb2xhYiBQeXRob24gbW9kdWxlLgogKi8KKGZ1bmN0aW9uKHNjb3BlKSB7CmZ1bmN0aW9uIHNwYW4odGV4dCwgc3R5bGVBdHRyaWJ1dGVzID0ge30pIHsKICBjb25zdCBlbGVtZW50ID0gZG9jdW1lbnQuY3JlYXRlRWxlbWVudCgnc3BhbicpOwogIGVsZW1lbnQudGV4dENvbnRlbnQgPSB0ZXh0OwogIGZvciAoY29uc3Qga2V5IG9mIE9iamVjdC5rZXlzKHN0eWxlQXR0cmlidXRlcykpIHsKICAgIGVsZW1lbnQuc3R5bGVba2V5XSA9IHN0eWxlQXR0cmlidXRlc1trZXldOwogIH0KICByZXR1cm4gZWxlbWVudDsKfQoKLy8gTWF4IG51bWJlciBvZiBieXRlcyB3aGljaCB3aWxsIGJlIHVwbG9hZGVkIGF0IGEgdGltZS4KY29uc3QgTUFYX1BBWUxPQURfU0laRSA9IDEwMCAqIDEwMjQ7CgpmdW5jdGlvbiBfdXBsb2FkRmlsZXMoaW5wdXRJZCwgb3V0cHV0SWQpIHsKICBjb25zdCBzdGVwcyA9IHVwbG9hZEZpbGVzU3RlcChpbnB1dElkLCBvdXRwdXRJZCk7CiAgY29uc3Qgb3V0cHV0RWxlbWVudCA9IGRvY3VtZW50LmdldEVsZW1lbnRCeUlkKG91dHB1dElkKTsKICAvLyBDYWNoZSBzdGVwcyBvbiB0aGUgb3V0cHV0RWxlbWVudCB0byBtYWtlIGl0IGF2YWlsYWJsZSBmb3IgdGhlIG5leHQgY2FsbAogIC8vIHRvIHVwbG9hZEZpbGVzQ29udGludWUgZnJvbSBQeXRob24uCiAgb3V0cHV0RWxlbWVudC5zdGVwcyA9IHN0ZXBzOwoKICByZXR1cm4gX3VwbG9hZEZpbGVzQ29udGludWUob3V0cHV0SWQpOwp9CgovLyBUaGlzIGlzIHJvdWdobHkgYW4gYXN5bmMgZ2VuZXJhdG9yIChub3Qgc3VwcG9ydGVkIGluIHRoZSBicm93c2VyIHlldCksCi8vIHdoZXJlIHRoZXJlIGFyZSBtdWx0aXBsZSBhc3luY2hyb25vdXMgc3RlcHMgYW5kIHRoZSBQeXRob24gc2lkZSBpcyBnb2luZwovLyB0byBwb2xsIGZvciBjb21wbGV0aW9uIG9mIGVhY2ggc3RlcC4KLy8gVGhpcyB1c2VzIGEgUHJvbWlzZSB0byBibG9jayB0aGUgcHl0aG9uIHNpZGUgb24gY29tcGxldGlvbiBvZiBlYWNoIHN0ZXAsCi8vIHRoZW4gcGFzc2VzIHRoZSByZXN1bHQgb2YgdGhlIHByZXZpb3VzIHN0ZXAgYXMgdGhlIGlucHV0IHRvIHRoZSBuZXh0IHN0ZXAuCmZ1bmN0aW9uIF91cGxvYWRGaWxlc0NvbnRpbnVlKG91dHB1dElkKSB7CiAgY29uc3Qgb3V0cHV0RWxlbWVudCA9IGRvY3VtZW50LmdldEVsZW1lbnRCeUlkKG91dHB1dElkKTsKICBjb25zdCBzdGVwcyA9IG91dHB1dEVsZW1lbnQuc3RlcHM7CgogIGNvbnN0IG5leHQgPSBzdGVwcy5uZXh0KG91dHB1dEVsZW1lbnQubGFzdFByb21pc2VWYWx1ZSk7CiAgcmV0dXJuIFByb21pc2UucmVzb2x2ZShuZXh0LnZhbHVlLnByb21pc2UpLnRoZW4oKHZhbHVlKSA9PiB7CiAgICAvLyBDYWNoZSB0aGUgbGFzdCBwcm9taXNlIHZhbHVlIHRvIG1ha2UgaXQgYXZhaWxhYmxlIHRvIHRoZSBuZXh0CiAgICAvLyBzdGVwIG9mIHRoZSBnZW5lcmF0b3IuCiAgICBvdXRwdXRFbGVtZW50Lmxhc3RQcm9taXNlVmFsdWUgPSB2YWx1ZTsKICAgIHJldHVybiBuZXh0LnZhbHVlLnJlc3BvbnNlOwogIH0pOwp9CgovKioKICogR2VuZXJhdG9yIGZ1bmN0aW9uIHdoaWNoIGlzIGNhbGxlZCBiZXR3ZWVuIGVhY2ggYXN5bmMgc3RlcCBvZiB0aGUgdXBsb2FkCiAqIHByb2Nlc3MuCiAqIEBwYXJhbSB7c3RyaW5nfSBpbnB1dElkIEVsZW1lbnQgSUQgb2YgdGhlIGlucHV0IGZpbGUgcGlja2VyIGVsZW1lbnQuCiAqIEBwYXJhbSB7c3RyaW5nfSBvdXRwdXRJZCBFbGVtZW50IElEIG9mIHRoZSBvdXRwdXQgZGlzcGxheS4KICogQHJldHVybiB7IUl0ZXJhYmxlPCFPYmplY3Q+fSBJdGVyYWJsZSBvZiBuZXh0IHN0ZXBzLgogKi8KZnVuY3Rpb24qIHVwbG9hZEZpbGVzU3RlcChpbnB1dElkLCBvdXRwdXRJZCkgewogIGNvbnN0IGlucHV0RWxlbWVudCA9IGRvY3VtZW50LmdldEVsZW1lbnRCeUlkKGlucHV0SWQpOwogIGlucHV0RWxlbWVudC5kaXNhYmxlZCA9IGZhbHNlOwoKICBjb25zdCBvdXRwdXRFbGVtZW50ID0gZG9jdW1lbnQuZ2V0RWxlbWVudEJ5SWQob3V0cHV0SWQpOwogIG91dHB1dEVsZW1lbnQuaW5uZXJIVE1MID0gJyc7CgogIGNvbnN0IHBpY2tlZFByb21pc2UgPSBuZXcgUHJvbWlzZSgocmVzb2x2ZSkgPT4gewogICAgaW5wdXRFbGVtZW50LmFkZEV2ZW50TGlzdGVuZXIoJ2NoYW5nZScsIChlKSA9PiB7CiAgICAgIHJlc29sdmUoZS50YXJnZXQuZmlsZXMpOwogICAgfSk7CiAgfSk7CgogIGNvbnN0IGNhbmNlbCA9IGRvY3VtZW50LmNyZWF0ZUVsZW1lbnQoJ2J1dHRvbicpOwogIGlucHV0RWxlbWVudC5wYXJlbnRFbGVtZW50LmFwcGVuZENoaWxkKGNhbmNlbCk7CiAgY2FuY2VsLnRleHRDb250ZW50ID0gJ0NhbmNlbCB1cGxvYWQnOwogIGNvbnN0IGNhbmNlbFByb21pc2UgPSBuZXcgUHJvbWlzZSgocmVzb2x2ZSkgPT4gewogICAgY2FuY2VsLm9uY2xpY2sgPSAoKSA9PiB7CiAgICAgIHJlc29sdmUobnVsbCk7CiAgICB9OwogIH0pOwoKICAvLyBXYWl0IGZvciB0aGUgdXNlciB0byBwaWNrIHRoZSBmaWxlcy4KICBjb25zdCBmaWxlcyA9IHlpZWxkIHsKICAgIHByb21pc2U6IFByb21pc2UucmFjZShbcGlja2VkUHJvbWlzZSwgY2FuY2VsUHJvbWlzZV0pLAogICAgcmVzcG9uc2U6IHsKICAgICAgYWN0aW9uOiAnc3RhcnRpbmcnLAogICAgfQogIH07CgogIGNhbmNlbC5yZW1vdmUoKTsKCiAgLy8gRGlzYWJsZSB0aGUgaW5wdXQgZWxlbWVudCBzaW5jZSBmdXJ0aGVyIHBpY2tzIGFyZSBub3QgYWxsb3dlZC4KICBpbnB1dEVsZW1lbnQuZGlzYWJsZWQgPSB0cnVlOwoKICBpZiAoIWZpbGVzKSB7CiAgICByZXR1cm4gewogICAgICByZXNwb25zZTogewogICAgICAgIGFjdGlvbjogJ2NvbXBsZXRlJywKICAgICAgfQogICAgfTsKICB9CgogIGZvciAoY29uc3QgZmlsZSBvZiBmaWxlcykgewogICAgY29uc3QgbGkgPSBkb2N1bWVudC5jcmVhdGVFbGVtZW50KCdsaScpOwogICAgbGkuYXBwZW5kKHNwYW4oZmlsZS5uYW1lLCB7Zm9udFdlaWdodDogJ2JvbGQnfSkpOwogICAgbGkuYXBwZW5kKHNwYW4oCiAgICAgICAgYCgke2ZpbGUudHlwZSB8fCAnbi9hJ30pIC0gJHtmaWxlLnNpemV9IGJ5dGVzLCBgICsKICAgICAgICBgbGFzdCBtb2RpZmllZDogJHsKICAgICAgICAgICAgZmlsZS5sYXN0TW9kaWZpZWREYXRlID8gZmlsZS5sYXN0TW9kaWZpZWREYXRlLnRvTG9jYWxlRGF0ZVN0cmluZygpIDoKICAgICAgICAgICAgICAgICAgICAgICAgICAgICAgICAgICAgJ24vYSd9IC0gYCkpOwogICAgY29uc3QgcGVyY2VudCA9IHNwYW4oJzAlIGRvbmUnKTsKICAgIGxpLmFwcGVuZENoaWxkKHBlcmNlbnQpOwoKICAgIG91dHB1dEVsZW1lbnQuYXBwZW5kQ2hpbGQobGkpOwoKICAgIGNvbnN0IGZpbGVEYXRhUHJvbWlzZSA9IG5ldyBQcm9taXNlKChyZXNvbHZlKSA9PiB7CiAgICAgIGNvbnN0IHJlYWRlciA9IG5ldyBGaWxlUmVhZGVyKCk7CiAgICAgIHJlYWRlci5vbmxvYWQgPSAoZSkgPT4gewogICAgICAgIHJlc29sdmUoZS50YXJnZXQucmVzdWx0KTsKICAgICAgfTsKICAgICAgcmVhZGVyLnJlYWRBc0FycmF5QnVmZmVyKGZpbGUpOwogICAgfSk7CiAgICAvLyBXYWl0IGZvciB0aGUgZGF0YSB0byBiZSByZWFkeS4KICAgIGxldCBmaWxlRGF0YSA9IHlpZWxkIHsKICAgICAgcHJvbWlzZTogZmlsZURhdGFQcm9taXNlLAogICAgICByZXNwb25zZTogewogICAgICAgIGFjdGlvbjogJ2NvbnRpbnVlJywKICAgICAgfQogICAgfTsKCiAgICAvLyBVc2UgYSBjaHVua2VkIHNlbmRpbmcgdG8gYXZvaWQgbWVzc2FnZSBzaXplIGxpbWl0cy4gU2VlIGIvNjIxMTU2NjAuCiAgICBsZXQgcG9zaXRpb24gPSAwOwogICAgZG8gewogICAgICBjb25zdCBsZW5ndGggPSBNYXRoLm1pbihmaWxlRGF0YS5ieXRlTGVuZ3RoIC0gcG9zaXRpb24sIE1BWF9QQVlMT0FEX1NJWkUpOwogICAgICBjb25zdCBjaHVuayA9IG5ldyBVaW50OEFycmF5KGZpbGVEYXRhLCBwb3NpdGlvbiwgbGVuZ3RoKTsKICAgICAgcG9zaXRpb24gKz0gbGVuZ3RoOwoKICAgICAgY29uc3QgYmFzZTY0ID0gYnRvYShTdHJpbmcuZnJvbUNoYXJDb2RlLmFwcGx5KG51bGwsIGNodW5rKSk7CiAgICAgIHlpZWxkIHsKICAgICAgICByZXNwb25zZTogewogICAgICAgICAgYWN0aW9uOiAnYXBwZW5kJywKICAgICAgICAgIGZpbGU6IGZpbGUubmFtZSwKICAgICAgICAgIGRhdGE6IGJhc2U2NCwKICAgICAgICB9LAogICAgICB9OwoKICAgICAgbGV0IHBlcmNlbnREb25lID0gZmlsZURhdGEuYnl0ZUxlbmd0aCA9PT0gMCA/CiAgICAgICAgICAxMDAgOgogICAgICAgICAgTWF0aC5yb3VuZCgocG9zaXRpb24gLyBmaWxlRGF0YS5ieXRlTGVuZ3RoKSAqIDEwMCk7CiAgICAgIHBlcmNlbnQudGV4dENvbnRlbnQgPSBgJHtwZXJjZW50RG9uZX0lIGRvbmVgOwoKICAgIH0gd2hpbGUgKHBvc2l0aW9uIDwgZmlsZURhdGEuYnl0ZUxlbmd0aCk7CiAgfQoKICAvLyBBbGwgZG9uZS4KICB5aWVsZCB7CiAgICByZXNwb25zZTogewogICAgICBhY3Rpb246ICdjb21wbGV0ZScsCiAgICB9CiAgfTsKfQoKc2NvcGUuZ29vZ2xlID0gc2NvcGUuZ29vZ2xlIHx8IHt9OwpzY29wZS5nb29nbGUuY29sYWIgPSBzY29wZS5nb29nbGUuY29sYWIgfHwge307CnNjb3BlLmdvb2dsZS5jb2xhYi5fZmlsZXMgPSB7CiAgX3VwbG9hZEZpbGVzLAogIF91cGxvYWRGaWxlc0NvbnRpbnVlLAp9Owp9KShzZWxmKTsK",
              "ok": true,
              "headers": [
                [
                  "content-type",
                  "application/javascript"
                ]
              ],
              "status": 200,
              "status_text": ""
            }
          },
          "base_uri": "https://localhost:8080/",
          "height": 380
        },
        "outputId": "29bcd2bc-3c61-4df6-f708-28c91c914f5f"
      },
      "source": [
        "# Load the data \n",
        "from google.colab import files\n",
        "uploaded = files.upload()"
      ],
      "execution_count": null,
      "outputs": [
        {
          "output_type": "display_data",
          "data": {
            "text/html": [
              "\n",
              "     <input type=\"file\" id=\"files-83b1cd30-286e-4f3d-9f10-3ae13117d4fa\" name=\"files[]\" multiple disabled\n",
              "        style=\"border:none\" />\n",
              "     <output id=\"result-83b1cd30-286e-4f3d-9f10-3ae13117d4fa\">\n",
              "      Upload widget is only available when the cell has been executed in the\n",
              "      current browser session. Please rerun this cell to enable.\n",
              "      </output>\n",
              "      <script src=\"/nbextensions/google.colab/files.js\"></script> "
            ],
            "text/plain": [
              "<IPython.core.display.HTML object>"
            ]
          },
          "metadata": {}
        },
        {
          "output_type": "error",
          "ename": "KeyboardInterrupt",
          "evalue": "ignored",
          "traceback": [
            "\u001b[0;31m---------------------------------------------------------------------------\u001b[0m",
            "\u001b[0;31mKeyboardInterrupt\u001b[0m                         Traceback (most recent call last)",
            "\u001b[0;32m<ipython-input-2-bac6ecd8d656>\u001b[0m in \u001b[0;36m<module>\u001b[0;34m()\u001b[0m\n\u001b[1;32m      1\u001b[0m \u001b[0;31m# Load the data\u001b[0m\u001b[0;34m\u001b[0m\u001b[0;34m\u001b[0m\u001b[0;34m\u001b[0m\u001b[0m\n\u001b[1;32m      2\u001b[0m \u001b[0;32mfrom\u001b[0m \u001b[0mgoogle\u001b[0m\u001b[0;34m.\u001b[0m\u001b[0mcolab\u001b[0m \u001b[0;32mimport\u001b[0m \u001b[0mfiles\u001b[0m\u001b[0;34m\u001b[0m\u001b[0;34m\u001b[0m\u001b[0m\n\u001b[0;32m----> 3\u001b[0;31m \u001b[0muploaded\u001b[0m \u001b[0;34m=\u001b[0m \u001b[0mfiles\u001b[0m\u001b[0;34m.\u001b[0m\u001b[0mupload\u001b[0m\u001b[0;34m(\u001b[0m\u001b[0;34m)\u001b[0m\u001b[0;34m\u001b[0m\u001b[0;34m\u001b[0m\u001b[0m\n\u001b[0m",
            "\u001b[0;32m/usr/local/lib/python3.7/dist-packages/google/colab/files.py\u001b[0m in \u001b[0;36mupload\u001b[0;34m()\u001b[0m\n\u001b[1;32m     62\u001b[0m   result = _output.eval_js(\n\u001b[1;32m     63\u001b[0m       'google.colab._files._uploadFiles(\"{input_id}\", \"{output_id}\")'.format(\n\u001b[0;32m---> 64\u001b[0;31m           input_id=input_id, output_id=output_id))\n\u001b[0m\u001b[1;32m     65\u001b[0m   \u001b[0mfiles\u001b[0m \u001b[0;34m=\u001b[0m \u001b[0m_collections\u001b[0m\u001b[0;34m.\u001b[0m\u001b[0mdefaultdict\u001b[0m\u001b[0;34m(\u001b[0m\u001b[0m_six\u001b[0m\u001b[0;34m.\u001b[0m\u001b[0mbinary_type\u001b[0m\u001b[0;34m)\u001b[0m\u001b[0;34m\u001b[0m\u001b[0;34m\u001b[0m\u001b[0m\n\u001b[1;32m     66\u001b[0m   \u001b[0;31m# Mapping from original filename to filename as saved locally.\u001b[0m\u001b[0;34m\u001b[0m\u001b[0;34m\u001b[0m\u001b[0;34m\u001b[0m\u001b[0m\n",
            "\u001b[0;32m/usr/local/lib/python3.7/dist-packages/google/colab/output/_js.py\u001b[0m in \u001b[0;36meval_js\u001b[0;34m(script, ignore_result, timeout_sec)\u001b[0m\n\u001b[1;32m     38\u001b[0m   \u001b[0;32mif\u001b[0m \u001b[0mignore_result\u001b[0m\u001b[0;34m:\u001b[0m\u001b[0;34m\u001b[0m\u001b[0;34m\u001b[0m\u001b[0m\n\u001b[1;32m     39\u001b[0m     \u001b[0;32mreturn\u001b[0m\u001b[0;34m\u001b[0m\u001b[0;34m\u001b[0m\u001b[0m\n\u001b[0;32m---> 40\u001b[0;31m   \u001b[0;32mreturn\u001b[0m \u001b[0m_message\u001b[0m\u001b[0;34m.\u001b[0m\u001b[0mread_reply_from_input\u001b[0m\u001b[0;34m(\u001b[0m\u001b[0mrequest_id\u001b[0m\u001b[0;34m,\u001b[0m \u001b[0mtimeout_sec\u001b[0m\u001b[0;34m)\u001b[0m\u001b[0;34m\u001b[0m\u001b[0;34m\u001b[0m\u001b[0m\n\u001b[0m\u001b[1;32m     41\u001b[0m \u001b[0;34m\u001b[0m\u001b[0m\n\u001b[1;32m     42\u001b[0m \u001b[0;34m\u001b[0m\u001b[0m\n",
            "\u001b[0;32m/usr/local/lib/python3.7/dist-packages/google/colab/_message.py\u001b[0m in \u001b[0;36mread_reply_from_input\u001b[0;34m(message_id, timeout_sec)\u001b[0m\n\u001b[1;32m     99\u001b[0m     \u001b[0mreply\u001b[0m \u001b[0;34m=\u001b[0m \u001b[0m_read_next_input_message\u001b[0m\u001b[0;34m(\u001b[0m\u001b[0;34m)\u001b[0m\u001b[0;34m\u001b[0m\u001b[0;34m\u001b[0m\u001b[0m\n\u001b[1;32m    100\u001b[0m     \u001b[0;32mif\u001b[0m \u001b[0mreply\u001b[0m \u001b[0;34m==\u001b[0m \u001b[0m_NOT_READY\u001b[0m \u001b[0;32mor\u001b[0m \u001b[0;32mnot\u001b[0m \u001b[0misinstance\u001b[0m\u001b[0;34m(\u001b[0m\u001b[0mreply\u001b[0m\u001b[0;34m,\u001b[0m \u001b[0mdict\u001b[0m\u001b[0;34m)\u001b[0m\u001b[0;34m:\u001b[0m\u001b[0;34m\u001b[0m\u001b[0;34m\u001b[0m\u001b[0m\n\u001b[0;32m--> 101\u001b[0;31m       \u001b[0mtime\u001b[0m\u001b[0;34m.\u001b[0m\u001b[0msleep\u001b[0m\u001b[0;34m(\u001b[0m\u001b[0;36m0.025\u001b[0m\u001b[0;34m)\u001b[0m\u001b[0;34m\u001b[0m\u001b[0;34m\u001b[0m\u001b[0m\n\u001b[0m\u001b[1;32m    102\u001b[0m       \u001b[0;32mcontinue\u001b[0m\u001b[0;34m\u001b[0m\u001b[0;34m\u001b[0m\u001b[0m\n\u001b[1;32m    103\u001b[0m     if (reply.get('type') == 'colab_reply' and\n",
            "\u001b[0;31mKeyboardInterrupt\u001b[0m: "
          ]
        }
      ]
    },
    {
      "cell_type": "code",
      "metadata": {
        "colab": {
          "base_uri": "https://localhost:8080/",
          "height": 400
        },
        "id": "xlcp5Q6Bij1w",
        "outputId": "5a31a2ec-0a31-49fe-c618-7f0affba600e"
      },
      "source": [
        "#Store the data \n",
        "df = pd.read_csv('udemy-data.csv')\n",
        "# show the first 3 rows of data \n",
        "df.head(3)"
      ],
      "execution_count": 2,
      "outputs": [
        {
          "output_type": "execute_result",
          "data": {
            "text/html": [
              "<div>\n",
              "<style scoped>\n",
              "    .dataframe tbody tr th:only-of-type {\n",
              "        vertical-align: middle;\n",
              "    }\n",
              "\n",
              "    .dataframe tbody tr th {\n",
              "        vertical-align: top;\n",
              "    }\n",
              "\n",
              "    .dataframe thead th {\n",
              "        text-align: right;\n",
              "    }\n",
              "</style>\n",
              "<table border=\"1\" class=\"dataframe\">\n",
              "  <thead>\n",
              "    <tr style=\"text-align: right;\">\n",
              "      <th></th>\n",
              "      <th>Course_id</th>\n",
              "      <th>title</th>\n",
              "      <th>description</th>\n",
              "      <th>headline</th>\n",
              "      <th>category</th>\n",
              "      <th>subcategory</th>\n",
              "      <th>instructors_name</th>\n",
              "      <th>instructors_job_title</th>\n",
              "      <th>price</th>\n",
              "      <th>avg_rating</th>\n",
              "      <th>num_reviews</th>\n",
              "      <th>created</th>\n",
              "    </tr>\n",
              "  </thead>\n",
              "  <tbody>\n",
              "    <tr>\n",
              "      <th>0</th>\n",
              "      <td>1070968</td>\n",
              "      <td>Ultimate Investment Banking Course</td>\n",
              "      <td>&lt;p&gt;Our dedicated approach and solid methodolog...</td>\n",
              "      <td>Master all the Financial Markets concepts : St...</td>\n",
              "      <td>Finance &amp; Accounting</td>\n",
              "      <td>Finance</td>\n",
              "      <td>VBA Finance</td>\n",
              "      <td>Trainer</td>\n",
              "      <td>€94.99</td>\n",
              "      <td>4.100000</td>\n",
              "      <td>99</td>\n",
              "      <td>2017-01-11T03:06:21Z</td>\n",
              "    </tr>\n",
              "    <tr>\n",
              "      <th>1</th>\n",
              "      <td>1070976</td>\n",
              "      <td>Complete E-Commerce Course - Java,Spring,Hiber...</td>\n",
              "      <td>&lt;p&gt;&lt;strong&gt;&lt;/strong&gt;&lt;/p&gt;  &lt;p&gt;&lt;strong&gt;WELCOME T...</td>\n",
              "      <td>Step-by-step guide on how to develop a complet...</td>\n",
              "      <td>Development</td>\n",
              "      <td>Web Development</td>\n",
              "      <td>Le Deng</td>\n",
              "      <td>ldeng.net/courses, consultant, thousands of st...</td>\n",
              "      <td>€94.99</td>\n",
              "      <td>4.708334</td>\n",
              "      <td>730</td>\n",
              "      <td>2017-01-11T03:16:09Z</td>\n",
              "    </tr>\n",
              "    <tr>\n",
              "      <th>2</th>\n",
              "      <td>1071018</td>\n",
              "      <td>FL Studio Sytrus Sound Design Course</td>\n",
              "      <td>&lt;p&gt;In this course Alex Merced will teach you a...</td>\n",
              "      <td>Making Sounds with one of the best FM Synths o...</td>\n",
              "      <td>Music</td>\n",
              "      <td>Music Production</td>\n",
              "      <td>Alex Merced</td>\n",
              "      <td>Knowledge is Freedom</td>\n",
              "      <td>Free</td>\n",
              "      <td>3.950000</td>\n",
              "      <td>327</td>\n",
              "      <td>2017-01-11T04:11:35Z</td>\n",
              "    </tr>\n",
              "  </tbody>\n",
              "</table>\n",
              "</div>"
            ],
            "text/plain": [
              "   Course_id  ...               created\n",
              "0    1070968  ...  2017-01-11T03:06:21Z\n",
              "1    1070976  ...  2017-01-11T03:16:09Z\n",
              "2    1071018  ...  2017-01-11T04:11:35Z\n",
              "\n",
              "[3 rows x 12 columns]"
            ]
          },
          "metadata": {},
          "execution_count": 2
        }
      ]
    },
    {
      "cell_type": "code",
      "metadata": {
        "colab": {
          "base_uri": "https://localhost:8080/"
        },
        "id": "cDHmd10Mnfbp",
        "outputId": "71e7fa4f-bd10-4334-a13f-e134a07728f3"
      },
      "source": [
        "df.shape\n"
      ],
      "execution_count": 3,
      "outputs": [
        {
          "output_type": "execute_result",
          "data": {
            "text/plain": [
              "(914, 12)"
            ]
          },
          "metadata": {},
          "execution_count": 3
        }
      ]
    },
    {
      "cell_type": "code",
      "metadata": {
        "id": "SZPROhUynmtW"
      },
      "source": [
        "# Creat a list of important columns for the recommendation engine\n",
        "columns= ['title','description','headline','category','subcategory','instructors_name','instructors_job_title']"
      ],
      "execution_count": 4,
      "outputs": []
    },
    {
      "cell_type": "code",
      "metadata": {
        "colab": {
          "base_uri": "https://localhost:8080/",
          "height": 244
        },
        "id": "b78UcfsUn8Hm",
        "outputId": "a8811628-83aa-49cf-ad99-2587571d251a"
      },
      "source": [
        "# show the data \n",
        "df[columns].head(3)\n"
      ],
      "execution_count": 5,
      "outputs": [
        {
          "output_type": "execute_result",
          "data": {
            "text/html": [
              "<div>\n",
              "<style scoped>\n",
              "    .dataframe tbody tr th:only-of-type {\n",
              "        vertical-align: middle;\n",
              "    }\n",
              "\n",
              "    .dataframe tbody tr th {\n",
              "        vertical-align: top;\n",
              "    }\n",
              "\n",
              "    .dataframe thead th {\n",
              "        text-align: right;\n",
              "    }\n",
              "</style>\n",
              "<table border=\"1\" class=\"dataframe\">\n",
              "  <thead>\n",
              "    <tr style=\"text-align: right;\">\n",
              "      <th></th>\n",
              "      <th>title</th>\n",
              "      <th>description</th>\n",
              "      <th>headline</th>\n",
              "      <th>category</th>\n",
              "      <th>subcategory</th>\n",
              "      <th>instructors_name</th>\n",
              "      <th>instructors_job_title</th>\n",
              "    </tr>\n",
              "  </thead>\n",
              "  <tbody>\n",
              "    <tr>\n",
              "      <th>0</th>\n",
              "      <td>Ultimate Investment Banking Course</td>\n",
              "      <td>&lt;p&gt;Our dedicated approach and solid methodolog...</td>\n",
              "      <td>Master all the Financial Markets concepts : St...</td>\n",
              "      <td>Finance &amp; Accounting</td>\n",
              "      <td>Finance</td>\n",
              "      <td>VBA Finance</td>\n",
              "      <td>Trainer</td>\n",
              "    </tr>\n",
              "    <tr>\n",
              "      <th>1</th>\n",
              "      <td>Complete E-Commerce Course - Java,Spring,Hiber...</td>\n",
              "      <td>&lt;p&gt;&lt;strong&gt;&lt;/strong&gt;&lt;/p&gt;  &lt;p&gt;&lt;strong&gt;WELCOME T...</td>\n",
              "      <td>Step-by-step guide on how to develop a complet...</td>\n",
              "      <td>Development</td>\n",
              "      <td>Web Development</td>\n",
              "      <td>Le Deng</td>\n",
              "      <td>ldeng.net/courses, consultant, thousands of st...</td>\n",
              "    </tr>\n",
              "    <tr>\n",
              "      <th>2</th>\n",
              "      <td>FL Studio Sytrus Sound Design Course</td>\n",
              "      <td>&lt;p&gt;In this course Alex Merced will teach you a...</td>\n",
              "      <td>Making Sounds with one of the best FM Synths o...</td>\n",
              "      <td>Music</td>\n",
              "      <td>Music Production</td>\n",
              "      <td>Alex Merced</td>\n",
              "      <td>Knowledge is Freedom</td>\n",
              "    </tr>\n",
              "  </tbody>\n",
              "</table>\n",
              "</div>"
            ],
            "text/plain": [
              "                                               title  ...                              instructors_job_title\n",
              "0                 Ultimate Investment Banking Course  ...                                            Trainer\n",
              "1  Complete E-Commerce Course - Java,Spring,Hiber...  ...  ldeng.net/courses, consultant, thousands of st...\n",
              "2               FL Studio Sytrus Sound Design Course  ...                               Knowledge is Freedom\n",
              "\n",
              "[3 rows x 7 columns]"
            ]
          },
          "metadata": {},
          "execution_count": 5
        }
      ]
    },
    {
      "cell_type": "code",
      "metadata": {
        "colab": {
          "base_uri": "https://localhost:8080/"
        },
        "id": "xNDOQsIdoIlW",
        "outputId": "3f474198-4ff5-43b6-a828-f4d72a3b1d96"
      },
      "source": [
        "# check for missing values in the important columns\n",
        "df[columns].isnull().values.any()\n",
        "\n",
        "# data cleaning is needed"
      ],
      "execution_count": 6,
      "outputs": [
        {
          "output_type": "execute_result",
          "data": {
            "text/plain": [
              "True"
            ]
          },
          "metadata": {},
          "execution_count": 6
        }
      ]
    },
    {
      "cell_type": "code",
      "metadata": {
        "id": "wDFpKULComom"
      },
      "source": [
        "# Create a function to combine the values of the important columns into a single string\n",
        "def get_important_features(data):\n",
        "  important_features = []\n",
        "  for i in range(0, data.shape[0]):\n",
        "    important_features.append(str(data['title'][i])+' '+str(data['description'][i])+' '+str(data['headline'][i])+' '+str(data['category'][i])+' '+str(data['subcategory'][i])+' '+str(data['instructors_name'][i])+' '+str(data['instructors_job_title'][i]) )\n",
        "  return important_features\n"
      ],
      "execution_count": 7,
      "outputs": []
    },
    {
      "cell_type": "code",
      "metadata": {
        "colab": {
          "base_uri": "https://localhost:8080/",
          "height": 400
        },
        "id": "fZVZLsyhp_dp",
        "outputId": "9c0fae64-85b9-4782-cee6-c608da186ab4"
      },
      "source": [
        "# Create a column to hold the combined strings\n",
        "df['important_features'] = get_important_features(df)\n",
        "\n",
        "#show the data \n",
        "df.head(3)"
      ],
      "execution_count": 103,
      "outputs": [
        {
          "output_type": "execute_result",
          "data": {
            "text/html": [
              "<div>\n",
              "<style scoped>\n",
              "    .dataframe tbody tr th:only-of-type {\n",
              "        vertical-align: middle;\n",
              "    }\n",
              "\n",
              "    .dataframe tbody tr th {\n",
              "        vertical-align: top;\n",
              "    }\n",
              "\n",
              "    .dataframe thead th {\n",
              "        text-align: right;\n",
              "    }\n",
              "</style>\n",
              "<table border=\"1\" class=\"dataframe\">\n",
              "  <thead>\n",
              "    <tr style=\"text-align: right;\">\n",
              "      <th></th>\n",
              "      <th>Course_id</th>\n",
              "      <th>title</th>\n",
              "      <th>description</th>\n",
              "      <th>headline</th>\n",
              "      <th>category</th>\n",
              "      <th>subcategory</th>\n",
              "      <th>instructors_name</th>\n",
              "      <th>instructors_job_title</th>\n",
              "      <th>price</th>\n",
              "      <th>avg_rating</th>\n",
              "      <th>num_reviews</th>\n",
              "      <th>created</th>\n",
              "      <th>important_features</th>\n",
              "    </tr>\n",
              "  </thead>\n",
              "  <tbody>\n",
              "    <tr>\n",
              "      <th>0</th>\n",
              "      <td>1070968</td>\n",
              "      <td>Ultimate Investment Banking Course</td>\n",
              "      <td>&lt;p&gt;Our dedicated approach and solid methodolog...</td>\n",
              "      <td>Master all the Financial Markets concepts : St...</td>\n",
              "      <td>Finance &amp; Accounting</td>\n",
              "      <td>Finance</td>\n",
              "      <td>VBA Finance</td>\n",
              "      <td>Trainer</td>\n",
              "      <td>€94.99</td>\n",
              "      <td>4.100000</td>\n",
              "      <td>99</td>\n",
              "      <td>2017-01-11T03:06:21Z</td>\n",
              "      <td>Ultimate Investment Banking Course &lt;p&gt;Our dedi...</td>\n",
              "    </tr>\n",
              "    <tr>\n",
              "      <th>1</th>\n",
              "      <td>1070976</td>\n",
              "      <td>Complete E-Commerce Course - Java,Spring,Hiber...</td>\n",
              "      <td>&lt;p&gt;&lt;strong&gt;&lt;/strong&gt;&lt;/p&gt;  &lt;p&gt;&lt;strong&gt;WELCOME T...</td>\n",
              "      <td>Step-by-step guide on how to develop a complet...</td>\n",
              "      <td>Development</td>\n",
              "      <td>Web Development</td>\n",
              "      <td>Le Deng</td>\n",
              "      <td>ldeng.net/courses, consultant, thousands of st...</td>\n",
              "      <td>€94.99</td>\n",
              "      <td>4.708334</td>\n",
              "      <td>730</td>\n",
              "      <td>2017-01-11T03:16:09Z</td>\n",
              "      <td>Complete E-Commerce Course - Java,Spring,Hiber...</td>\n",
              "    </tr>\n",
              "    <tr>\n",
              "      <th>2</th>\n",
              "      <td>1071018</td>\n",
              "      <td>FL Studio Sytrus Sound Design Course</td>\n",
              "      <td>&lt;p&gt;In this course Alex Merced will teach you a...</td>\n",
              "      <td>Making Sounds with one of the best FM Synths o...</td>\n",
              "      <td>Music</td>\n",
              "      <td>Music Production</td>\n",
              "      <td>Alex Merced</td>\n",
              "      <td>Knowledge is Freedom</td>\n",
              "      <td>Free</td>\n",
              "      <td>3.950000</td>\n",
              "      <td>327</td>\n",
              "      <td>2017-01-11T04:11:35Z</td>\n",
              "      <td>FL Studio Sytrus Sound Design Course &lt;p&gt;In thi...</td>\n",
              "    </tr>\n",
              "  </tbody>\n",
              "</table>\n",
              "</div>"
            ],
            "text/plain": [
              "   Course_id  ...                                 important_features\n",
              "0    1070968  ...  Ultimate Investment Banking Course <p>Our dedi...\n",
              "1    1070976  ...  Complete E-Commerce Course - Java,Spring,Hiber...\n",
              "2    1071018  ...  FL Studio Sytrus Sound Design Course <p>In thi...\n",
              "\n",
              "[3 rows x 13 columns]"
            ]
          },
          "metadata": {},
          "execution_count": 103
        }
      ]
    },
    {
      "cell_type": "code",
      "metadata": {
        "colab": {
          "base_uri": "https://localhost:8080/"
        },
        "id": "BksF3bl4X4ws",
        "outputId": "42af985d-b87e-43a1-ea0a-cb0da2c382c4"
      },
      "source": [
        "# creating stop word\n",
        "stop_words = stopwords.words('english') + stopwords.words('french') + stopwords.words('spanish') + stopwords.words('dutch') \n",
        "print(stop_words)"
      ],
      "execution_count": 14,
      "outputs": [
        {
          "output_type": "stream",
          "name": "stdout",
          "text": [
            "['i', 'me', 'my', 'myself', 'we', 'our', 'ours', 'ourselves', 'you', \"you're\", \"you've\", \"you'll\", \"you'd\", 'your', 'yours', 'yourself', 'yourselves', 'he', 'him', 'his', 'himself', 'she', \"she's\", 'her', 'hers', 'herself', 'it', \"it's\", 'its', 'itself', 'they', 'them', 'their', 'theirs', 'themselves', 'what', 'which', 'who', 'whom', 'this', 'that', \"that'll\", 'these', 'those', 'am', 'is', 'are', 'was', 'were', 'be', 'been', 'being', 'have', 'has', 'had', 'having', 'do', 'does', 'did', 'doing', 'a', 'an', 'the', 'and', 'but', 'if', 'or', 'because', 'as', 'until', 'while', 'of', 'at', 'by', 'for', 'with', 'about', 'against', 'between', 'into', 'through', 'during', 'before', 'after', 'above', 'below', 'to', 'from', 'up', 'down', 'in', 'out', 'on', 'off', 'over', 'under', 'again', 'further', 'then', 'once', 'here', 'there', 'when', 'where', 'why', 'how', 'all', 'any', 'both', 'each', 'few', 'more', 'most', 'other', 'some', 'such', 'no', 'nor', 'not', 'only', 'own', 'same', 'so', 'than', 'too', 'very', 's', 't', 'can', 'will', 'just', 'don', \"don't\", 'should', \"should've\", 'now', 'd', 'll', 'm', 'o', 're', 've', 'y', 'ain', 'aren', \"aren't\", 'couldn', \"couldn't\", 'didn', \"didn't\", 'doesn', \"doesn't\", 'hadn', \"hadn't\", 'hasn', \"hasn't\", 'haven', \"haven't\", 'isn', \"isn't\", 'ma', 'mightn', \"mightn't\", 'mustn', \"mustn't\", 'needn', \"needn't\", 'shan', \"shan't\", 'shouldn', \"shouldn't\", 'wasn', \"wasn't\", 'weren', \"weren't\", 'won', \"won't\", 'wouldn', \"wouldn't\", 'au', 'aux', 'avec', 'ce', 'ces', 'dans', 'de', 'des', 'du', 'elle', 'en', 'et', 'eux', 'il', 'ils', 'je', 'la', 'le', 'les', 'leur', 'lui', 'ma', 'mais', 'me', 'même', 'mes', 'moi', 'mon', 'ne', 'nos', 'notre', 'nous', 'on', 'ou', 'par', 'pas', 'pour', 'qu', 'que', 'qui', 'sa', 'se', 'ses', 'son', 'sur', 'ta', 'te', 'tes', 'toi', 'ton', 'tu', 'un', 'une', 'vos', 'votre', 'vous', 'c', 'd', 'j', 'l', 'à', 'm', 'n', 's', 't', 'y', 'été', 'étée', 'étées', 'étés', 'étant', 'étante', 'étants', 'étantes', 'suis', 'es', 'est', 'sommes', 'êtes', 'sont', 'serai', 'seras', 'sera', 'serons', 'serez', 'seront', 'serais', 'serait', 'serions', 'seriez', 'seraient', 'étais', 'était', 'étions', 'étiez', 'étaient', 'fus', 'fut', 'fûmes', 'fûtes', 'furent', 'sois', 'soit', 'soyons', 'soyez', 'soient', 'fusse', 'fusses', 'fût', 'fussions', 'fussiez', 'fussent', 'ayant', 'ayante', 'ayantes', 'ayants', 'eu', 'eue', 'eues', 'eus', 'ai', 'as', 'avons', 'avez', 'ont', 'aurai', 'auras', 'aura', 'aurons', 'aurez', 'auront', 'aurais', 'aurait', 'aurions', 'auriez', 'auraient', 'avais', 'avait', 'avions', 'aviez', 'avaient', 'eut', 'eûmes', 'eûtes', 'eurent', 'aie', 'aies', 'ait', 'ayons', 'ayez', 'aient', 'eusse', 'eusses', 'eût', 'eussions', 'eussiez', 'eussent', 'de', 'la', 'que', 'el', 'en', 'y', 'a', 'los', 'del', 'se', 'las', 'por', 'un', 'para', 'con', 'no', 'una', 'su', 'al', 'lo', 'como', 'más', 'pero', 'sus', 'le', 'ya', 'o', 'este', 'sí', 'porque', 'esta', 'entre', 'cuando', 'muy', 'sin', 'sobre', 'también', 'me', 'hasta', 'hay', 'donde', 'quien', 'desde', 'todo', 'nos', 'durante', 'todos', 'uno', 'les', 'ni', 'contra', 'otros', 'ese', 'eso', 'ante', 'ellos', 'e', 'esto', 'mí', 'antes', 'algunos', 'qué', 'unos', 'yo', 'otro', 'otras', 'otra', 'él', 'tanto', 'esa', 'estos', 'mucho', 'quienes', 'nada', 'muchos', 'cual', 'poco', 'ella', 'estar', 'estas', 'algunas', 'algo', 'nosotros', 'mi', 'mis', 'tú', 'te', 'ti', 'tu', 'tus', 'ellas', 'nosotras', 'vosotros', 'vosotras', 'os', 'mío', 'mía', 'míos', 'mías', 'tuyo', 'tuya', 'tuyos', 'tuyas', 'suyo', 'suya', 'suyos', 'suyas', 'nuestro', 'nuestra', 'nuestros', 'nuestras', 'vuestro', 'vuestra', 'vuestros', 'vuestras', 'esos', 'esas', 'estoy', 'estás', 'está', 'estamos', 'estáis', 'están', 'esté', 'estés', 'estemos', 'estéis', 'estén', 'estaré', 'estarás', 'estará', 'estaremos', 'estaréis', 'estarán', 'estaría', 'estarías', 'estaríamos', 'estaríais', 'estarían', 'estaba', 'estabas', 'estábamos', 'estabais', 'estaban', 'estuve', 'estuviste', 'estuvo', 'estuvimos', 'estuvisteis', 'estuvieron', 'estuviera', 'estuvieras', 'estuviéramos', 'estuvierais', 'estuvieran', 'estuviese', 'estuvieses', 'estuviésemos', 'estuvieseis', 'estuviesen', 'estando', 'estado', 'estada', 'estados', 'estadas', 'estad', 'he', 'has', 'ha', 'hemos', 'habéis', 'han', 'haya', 'hayas', 'hayamos', 'hayáis', 'hayan', 'habré', 'habrás', 'habrá', 'habremos', 'habréis', 'habrán', 'habría', 'habrías', 'habríamos', 'habríais', 'habrían', 'había', 'habías', 'habíamos', 'habíais', 'habían', 'hube', 'hubiste', 'hubo', 'hubimos', 'hubisteis', 'hubieron', 'hubiera', 'hubieras', 'hubiéramos', 'hubierais', 'hubieran', 'hubiese', 'hubieses', 'hubiésemos', 'hubieseis', 'hubiesen', 'habiendo', 'habido', 'habida', 'habidos', 'habidas', 'soy', 'eres', 'es', 'somos', 'sois', 'son', 'sea', 'seas', 'seamos', 'seáis', 'sean', 'seré', 'serás', 'será', 'seremos', 'seréis', 'serán', 'sería', 'serías', 'seríamos', 'seríais', 'serían', 'era', 'eras', 'éramos', 'erais', 'eran', 'fui', 'fuiste', 'fue', 'fuimos', 'fuisteis', 'fueron', 'fuera', 'fueras', 'fuéramos', 'fuerais', 'fueran', 'fuese', 'fueses', 'fuésemos', 'fueseis', 'fuesen', 'sintiendo', 'sentido', 'sentida', 'sentidos', 'sentidas', 'siente', 'sentid', 'tengo', 'tienes', 'tiene', 'tenemos', 'tenéis', 'tienen', 'tenga', 'tengas', 'tengamos', 'tengáis', 'tengan', 'tendré', 'tendrás', 'tendrá', 'tendremos', 'tendréis', 'tendrán', 'tendría', 'tendrías', 'tendríamos', 'tendríais', 'tendrían', 'tenía', 'tenías', 'teníamos', 'teníais', 'tenían', 'tuve', 'tuviste', 'tuvo', 'tuvimos', 'tuvisteis', 'tuvieron', 'tuviera', 'tuvieras', 'tuviéramos', 'tuvierais', 'tuvieran', 'tuviese', 'tuvieses', 'tuviésemos', 'tuvieseis', 'tuviesen', 'teniendo', 'tenido', 'tenida', 'tenidos', 'tenidas', 'tened', 'de', 'en', 'van', 'ik', 'te', 'dat', 'die', 'in', 'een', 'hij', 'het', 'niet', 'zijn', 'is', 'was', 'op', 'aan', 'met', 'als', 'voor', 'had', 'er', 'maar', 'om', 'hem', 'dan', 'zou', 'of', 'wat', 'mijn', 'men', 'dit', 'zo', 'door', 'over', 'ze', 'zich', 'bij', 'ook', 'tot', 'je', 'mij', 'uit', 'der', 'daar', 'haar', 'naar', 'heb', 'hoe', 'heeft', 'hebben', 'deze', 'u', 'want', 'nog', 'zal', 'me', 'zij', 'nu', 'ge', 'geen', 'omdat', 'iets', 'worden', 'toch', 'al', 'waren', 'veel', 'meer', 'doen', 'toen', 'moet', 'ben', 'zonder', 'kan', 'hun', 'dus', 'alles', 'onder', 'ja', 'eens', 'hier', 'wie', 'werd', 'altijd', 'doch', 'wordt', 'wezen', 'kunnen', 'ons', 'zelf', 'tegen', 'na', 'reeds', 'wil', 'kon', 'niets', 'uw', 'iemand', 'geweest', 'andere']\n"
          ]
        }
      ]
    },
    {
      "cell_type": "code",
      "metadata": {
        "colab": {
          "base_uri": "https://localhost:8080/"
        },
        "id": "pZucHH61q7TV",
        "outputId": "ebaf7ec7-65d6-40c8-be08-7525131df4b5"
      },
      "source": [
        "# convert the text to a matrix of token counts \n",
        "df['important_features'].replace('<[^<]+?>',' ',regex=True, inplace = True)\n",
        "print (df['important_features'].head(3))\n",
        "df['important_features'] = df['important_features'].apply(lambda x: ' '.join([word for word in x.split() if word not in (stop_words)]))\n",
        "cm = CountVectorizer().fit_transform(df['important_features'])\n",
        "\n",
        "# GEt the cosine similarity matrix from the count matrix\n",
        "cs = cosine_similarity(cm)\n",
        "#Print the cosine similarity matrix\n",
        "print(cs)\n"
      ],
      "execution_count": 106,
      "outputs": [
        {
          "output_type": "stream",
          "name": "stdout",
          "text": [
            "0    Ultimate Investment Banking Course Our dedicat...\n",
            "1    Complete E-Commerce Course - Java,Spring,Hiber...\n",
            "2    FL Studio Sytrus Sound Design Course In course...\n",
            "Name: important_features, dtype: object\n",
            "[[1.         0.14385183 0.12341645 ... 0.07802535 0.00183064 0.10052742]\n",
            " [0.14385183 1.         0.15303305 ... 0.15528265 0.07014129 0.10158148]\n",
            " [0.12341645 0.15303305 1.         ... 0.09658793 0.00453232 0.05943563]\n",
            " ...\n",
            " [0.07802535 0.15528265 0.09658793 ... 1.         0.00354591 0.06393776]\n",
            " [0.00183064 0.07014129 0.00453232 ... 0.00354591 1.         0.        ]\n",
            " [0.10052742 0.10158148 0.05943563 ... 0.06393776 0.         1.        ]]\n"
          ]
        }
      ]
    },
    {
      "cell_type": "code",
      "metadata": {
        "colab": {
          "base_uri": "https://localhost:8080/",
          "height": 562
        },
        "id": "fMtrvRjTDRy2",
        "outputId": "8c2ad3af-6f64-4bf7-d9b2-73f1c9f3ee92"
      },
      "source": [
        "from google.colab import drive\n",
        "drive.mount('/content/drive')"
      ],
      "execution_count": null,
      "outputs": [
        {
          "output_type": "error",
          "ename": "KeyboardInterrupt",
          "evalue": "ignored",
          "traceback": [
            "\u001b[0;31m---------------------------------------------------------------------------\u001b[0m",
            "\u001b[0;31mKeyboardInterrupt\u001b[0m                         Traceback (most recent call last)",
            "\u001b[0;32m/usr/local/lib/python3.7/dist-packages/ipykernel/kernelbase.py\u001b[0m in \u001b[0;36m_input_request\u001b[0;34m(self, prompt, ident, parent, password)\u001b[0m\n\u001b[1;32m    728\u001b[0m             \u001b[0;32mtry\u001b[0m\u001b[0;34m:\u001b[0m\u001b[0;34m\u001b[0m\u001b[0;34m\u001b[0m\u001b[0m\n\u001b[0;32m--> 729\u001b[0;31m                 \u001b[0mident\u001b[0m\u001b[0;34m,\u001b[0m \u001b[0mreply\u001b[0m \u001b[0;34m=\u001b[0m \u001b[0mself\u001b[0m\u001b[0;34m.\u001b[0m\u001b[0msession\u001b[0m\u001b[0;34m.\u001b[0m\u001b[0mrecv\u001b[0m\u001b[0;34m(\u001b[0m\u001b[0mself\u001b[0m\u001b[0;34m.\u001b[0m\u001b[0mstdin_socket\u001b[0m\u001b[0;34m,\u001b[0m \u001b[0;36m0\u001b[0m\u001b[0;34m)\u001b[0m\u001b[0;34m\u001b[0m\u001b[0;34m\u001b[0m\u001b[0m\n\u001b[0m\u001b[1;32m    730\u001b[0m             \u001b[0;32mexcept\u001b[0m \u001b[0mException\u001b[0m\u001b[0;34m:\u001b[0m\u001b[0;34m\u001b[0m\u001b[0;34m\u001b[0m\u001b[0m\n",
            "\u001b[0;32m/usr/local/lib/python3.7/dist-packages/jupyter_client/session.py\u001b[0m in \u001b[0;36mrecv\u001b[0;34m(self, socket, mode, content, copy)\u001b[0m\n\u001b[1;32m    802\u001b[0m         \u001b[0;32mtry\u001b[0m\u001b[0;34m:\u001b[0m\u001b[0;34m\u001b[0m\u001b[0;34m\u001b[0m\u001b[0m\n\u001b[0;32m--> 803\u001b[0;31m             \u001b[0mmsg_list\u001b[0m \u001b[0;34m=\u001b[0m \u001b[0msocket\u001b[0m\u001b[0;34m.\u001b[0m\u001b[0mrecv_multipart\u001b[0m\u001b[0;34m(\u001b[0m\u001b[0mmode\u001b[0m\u001b[0;34m,\u001b[0m \u001b[0mcopy\u001b[0m\u001b[0;34m=\u001b[0m\u001b[0mcopy\u001b[0m\u001b[0;34m)\u001b[0m\u001b[0;34m\u001b[0m\u001b[0;34m\u001b[0m\u001b[0m\n\u001b[0m\u001b[1;32m    804\u001b[0m         \u001b[0;32mexcept\u001b[0m \u001b[0mzmq\u001b[0m\u001b[0;34m.\u001b[0m\u001b[0mZMQError\u001b[0m \u001b[0;32mas\u001b[0m \u001b[0me\u001b[0m\u001b[0;34m:\u001b[0m\u001b[0;34m\u001b[0m\u001b[0;34m\u001b[0m\u001b[0m\n",
            "\u001b[0;32m/usr/local/lib/python3.7/dist-packages/zmq/sugar/socket.py\u001b[0m in \u001b[0;36mrecv_multipart\u001b[0;34m(self, flags, copy, track)\u001b[0m\n\u001b[1;32m    618\u001b[0m         \"\"\"\n\u001b[0;32m--> 619\u001b[0;31m         \u001b[0mparts\u001b[0m \u001b[0;34m=\u001b[0m \u001b[0;34m[\u001b[0m\u001b[0mself\u001b[0m\u001b[0;34m.\u001b[0m\u001b[0mrecv\u001b[0m\u001b[0;34m(\u001b[0m\u001b[0mflags\u001b[0m\u001b[0;34m,\u001b[0m \u001b[0mcopy\u001b[0m\u001b[0;34m=\u001b[0m\u001b[0mcopy\u001b[0m\u001b[0;34m,\u001b[0m \u001b[0mtrack\u001b[0m\u001b[0;34m=\u001b[0m\u001b[0mtrack\u001b[0m\u001b[0;34m)\u001b[0m\u001b[0;34m]\u001b[0m\u001b[0;34m\u001b[0m\u001b[0;34m\u001b[0m\u001b[0m\n\u001b[0m\u001b[1;32m    620\u001b[0m         \u001b[0;31m# have first part already, only loop while more to receive\u001b[0m\u001b[0;34m\u001b[0m\u001b[0;34m\u001b[0m\u001b[0;34m\u001b[0m\u001b[0m\n",
            "\u001b[0;32mzmq/backend/cython/socket.pyx\u001b[0m in \u001b[0;36mzmq.backend.cython.socket.Socket.recv\u001b[0;34m()\u001b[0m\n",
            "\u001b[0;32mzmq/backend/cython/socket.pyx\u001b[0m in \u001b[0;36mzmq.backend.cython.socket.Socket.recv\u001b[0;34m()\u001b[0m\n",
            "\u001b[0;32mzmq/backend/cython/socket.pyx\u001b[0m in \u001b[0;36mzmq.backend.cython.socket._recv_copy\u001b[0;34m()\u001b[0m\n",
            "\u001b[0;32m/usr/local/lib/python3.7/dist-packages/zmq/backend/cython/checkrc.pxd\u001b[0m in \u001b[0;36mzmq.backend.cython.checkrc._check_rc\u001b[0;34m()\u001b[0m\n",
            "\u001b[0;31mKeyboardInterrupt\u001b[0m: ",
            "\nDuring handling of the above exception, another exception occurred:\n",
            "\u001b[0;31mKeyboardInterrupt\u001b[0m                         Traceback (most recent call last)",
            "\u001b[0;32m<ipython-input-40-d5df0069828e>\u001b[0m in \u001b[0;36m<module>\u001b[0;34m()\u001b[0m\n\u001b[1;32m      1\u001b[0m \u001b[0;32mfrom\u001b[0m \u001b[0mgoogle\u001b[0m\u001b[0;34m.\u001b[0m\u001b[0mcolab\u001b[0m \u001b[0;32mimport\u001b[0m \u001b[0mdrive\u001b[0m\u001b[0;34m\u001b[0m\u001b[0;34m\u001b[0m\u001b[0m\n\u001b[0;32m----> 2\u001b[0;31m \u001b[0mdrive\u001b[0m\u001b[0;34m.\u001b[0m\u001b[0mmount\u001b[0m\u001b[0;34m(\u001b[0m\u001b[0;34m'/content/drive'\u001b[0m\u001b[0;34m)\u001b[0m\u001b[0;34m\u001b[0m\u001b[0;34m\u001b[0m\u001b[0m\n\u001b[0m",
            "\u001b[0;32m/usr/local/lib/python3.7/dist-packages/google/colab/drive.py\u001b[0m in \u001b[0;36mmount\u001b[0;34m(mountpoint, force_remount, timeout_ms, use_metadata_server)\u001b[0m\n\u001b[1;32m    262\u001b[0m       \u001b[0;32mwith\u001b[0m \u001b[0m_output\u001b[0m\u001b[0;34m.\u001b[0m\u001b[0muse_tags\u001b[0m\u001b[0;34m(\u001b[0m\u001b[0;34m'dfs-auth-dance'\u001b[0m\u001b[0;34m)\u001b[0m\u001b[0;34m:\u001b[0m\u001b[0;34m\u001b[0m\u001b[0;34m\u001b[0m\u001b[0m\n\u001b[1;32m    263\u001b[0m         \u001b[0;32mwith\u001b[0m \u001b[0mopen\u001b[0m\u001b[0;34m(\u001b[0m\u001b[0mfifo\u001b[0m\u001b[0;34m,\u001b[0m \u001b[0;34m'w'\u001b[0m\u001b[0;34m)\u001b[0m \u001b[0;32mas\u001b[0m \u001b[0mfifo_file\u001b[0m\u001b[0;34m:\u001b[0m\u001b[0;34m\u001b[0m\u001b[0;34m\u001b[0m\u001b[0m\n\u001b[0;32m--> 264\u001b[0;31m           \u001b[0mfifo_file\u001b[0m\u001b[0;34m.\u001b[0m\u001b[0mwrite\u001b[0m\u001b[0;34m(\u001b[0m\u001b[0mget_code\u001b[0m\u001b[0;34m(\u001b[0m\u001b[0mauth_prompt\u001b[0m\u001b[0;34m)\u001b[0m \u001b[0;34m+\u001b[0m \u001b[0;34m'\\n'\u001b[0m\u001b[0;34m)\u001b[0m\u001b[0;34m\u001b[0m\u001b[0;34m\u001b[0m\u001b[0m\n\u001b[0m\u001b[1;32m    265\u001b[0m       \u001b[0mwrote_to_fifo\u001b[0m \u001b[0;34m=\u001b[0m \u001b[0;32mTrue\u001b[0m\u001b[0;34m\u001b[0m\u001b[0;34m\u001b[0m\u001b[0m\n\u001b[1;32m    266\u001b[0m     \u001b[0;32melif\u001b[0m \u001b[0mcase\u001b[0m \u001b[0;34m==\u001b[0m \u001b[0;36m5\u001b[0m\u001b[0;34m:\u001b[0m\u001b[0;34m\u001b[0m\u001b[0;34m\u001b[0m\u001b[0m\n",
            "\u001b[0;32m/usr/local/lib/python3.7/dist-packages/ipykernel/kernelbase.py\u001b[0m in \u001b[0;36mraw_input\u001b[0;34m(self, prompt)\u001b[0m\n\u001b[1;32m    702\u001b[0m             \u001b[0mself\u001b[0m\u001b[0;34m.\u001b[0m\u001b[0m_parent_ident\u001b[0m\u001b[0;34m,\u001b[0m\u001b[0;34m\u001b[0m\u001b[0;34m\u001b[0m\u001b[0m\n\u001b[1;32m    703\u001b[0m             \u001b[0mself\u001b[0m\u001b[0;34m.\u001b[0m\u001b[0m_parent_header\u001b[0m\u001b[0;34m,\u001b[0m\u001b[0;34m\u001b[0m\u001b[0;34m\u001b[0m\u001b[0m\n\u001b[0;32m--> 704\u001b[0;31m             \u001b[0mpassword\u001b[0m\u001b[0;34m=\u001b[0m\u001b[0;32mFalse\u001b[0m\u001b[0;34m,\u001b[0m\u001b[0;34m\u001b[0m\u001b[0;34m\u001b[0m\u001b[0m\n\u001b[0m\u001b[1;32m    705\u001b[0m         )\n\u001b[1;32m    706\u001b[0m \u001b[0;34m\u001b[0m\u001b[0m\n",
            "\u001b[0;32m/usr/local/lib/python3.7/dist-packages/ipykernel/kernelbase.py\u001b[0m in \u001b[0;36m_input_request\u001b[0;34m(self, prompt, ident, parent, password)\u001b[0m\n\u001b[1;32m    732\u001b[0m             \u001b[0;32mexcept\u001b[0m \u001b[0mKeyboardInterrupt\u001b[0m\u001b[0;34m:\u001b[0m\u001b[0;34m\u001b[0m\u001b[0;34m\u001b[0m\u001b[0m\n\u001b[1;32m    733\u001b[0m                 \u001b[0;31m# re-raise KeyboardInterrupt, to truncate traceback\u001b[0m\u001b[0;34m\u001b[0m\u001b[0;34m\u001b[0m\u001b[0;34m\u001b[0m\u001b[0m\n\u001b[0;32m--> 734\u001b[0;31m                 \u001b[0;32mraise\u001b[0m \u001b[0mKeyboardInterrupt\u001b[0m\u001b[0;34m\u001b[0m\u001b[0;34m\u001b[0m\u001b[0m\n\u001b[0m\u001b[1;32m    735\u001b[0m             \u001b[0;32melse\u001b[0m\u001b[0;34m:\u001b[0m\u001b[0;34m\u001b[0m\u001b[0;34m\u001b[0m\u001b[0m\n\u001b[1;32m    736\u001b[0m                 \u001b[0;32mbreak\u001b[0m\u001b[0;34m\u001b[0m\u001b[0;34m\u001b[0m\u001b[0m\n",
            "\u001b[0;31mKeyboardInterrupt\u001b[0m: "
          ]
        }
      ]
    },
    {
      "cell_type": "code",
      "metadata": {
        "colab": {
          "base_uri": "https://localhost:8080/"
        },
        "id": "-O800M2PsNeE",
        "outputId": "e5484c9d-e160-4f5d-fcad-23186b97c00d"
      },
      "source": [
        "# Get the shape of the cosine similarity matrix \n",
        "cs.shape\n"
      ],
      "execution_count": 107,
      "outputs": [
        {
          "output_type": "execute_result",
          "data": {
            "text/plain": [
              "(914, 914)"
            ]
          },
          "metadata": {},
          "execution_count": 107
        }
      ]
    },
    {
      "cell_type": "code",
      "metadata": {
        "id": "VrzTIGQisZwc",
        "colab": {
          "base_uri": "https://localhost:8080/"
        },
        "outputId": "692733aa-cbc4-46ec-b8fc-7efda84f8927"
      },
      "source": [
        "# Get the title of the course that the user likes \n",
        "title_to_search = 'Linux for Absolute Beginners!'\n",
        "\n",
        "# Find the course id\n",
        "course_id = df[df.title == title_to_search]['Course_id'].index\n",
        "print (course_id[0])\n",
        "#course_id = 251"
      ],
      "execution_count": 118,
      "outputs": [
        {
          "output_type": "stream",
          "name": "stdout",
          "text": [
            "558\n"
          ]
        }
      ]
    },
    {
      "cell_type": "code",
      "metadata": {
        "id": "XjR5iXP0v_tH"
      },
      "source": [
        "# Create a list of enumeration for the similarity score [(course_id, similiraty score ),(..)]\n",
        "scores = list(enumerate(cs[course_id[0]]))"
      ],
      "execution_count": 119,
      "outputs": []
    },
    {
      "cell_type": "code",
      "metadata": {
        "id": "dHosRQKrw6JV"
      },
      "source": [
        "#sort the list \n",
        "sorted_scores = sorted(scores, key = lambda x:x[1], reverse  = True)\n",
        "sorted_scores = sorted_scores[1:]\n"
      ],
      "execution_count": 120,
      "outputs": []
    },
    {
      "cell_type": "code",
      "metadata": {
        "colab": {
          "base_uri": "https://localhost:8080/"
        },
        "id": "VVwGyqgUxV-6",
        "outputId": "ac06c2ff-cb85-41d8-bc15-1e76abcdf635"
      },
      "source": [
        "#Print the sorted scores\n",
        "print(sorted_scores)"
      ],
      "execution_count": 121,
      "outputs": [
        {
          "output_type": "stream",
          "name": "stdout",
          "text": [
            "[(627, 0.4696293974394789), (681, 0.46299992260714473), (309, 0.45721565504361844), (146, 0.4548301348344854), (329, 0.4216959954814239), (290, 0.40914437815773336), (834, 0.3997129746406082), (17, 0.39780063304227814), (480, 0.37193893517799054), (823, 0.3707205584466861), (77, 0.36947545987554586), (320, 0.3691782302769622), (372, 0.36881149777098465), (849, 0.3680615931414359), (91, 0.3615454172058361), (579, 0.35902129898909274), (719, 0.3569539806574639), (423, 0.3553807358720963), (88, 0.3521591772713783), (220, 0.35152772320691295), (433, 0.3454881803282798), (520, 0.3433376258298254), (141, 0.34298673460924484), (1, 0.3424797112692641), (839, 0.3381490450531511), (289, 0.3372038865217675), (589, 0.3355692651136668), (122, 0.33334956547460576), (399, 0.3325908951159447), (732, 0.3320820126787287), (487, 0.3299168986395675), (696, 0.32946947440739094), (899, 0.3259150606293811), (214, 0.32296077883625995), (734, 0.32295246832377883), (519, 0.3224993150246893), (124, 0.32110711767239775), (52, 0.31662011433044324), (715, 0.31298665148398214), (229, 0.3128347857933035), (768, 0.31255062524890126), (47, 0.3117244698503141), (150, 0.311556969424805), (228, 0.3101571206846506), (358, 0.30899262309437514), (241, 0.30848736777322955), (155, 0.3074446089061302), (590, 0.3074174596627436), (332, 0.3074059824439765), (212, 0.3073746957009221), (204, 0.307093365614581), (898, 0.3067020495754028), (301, 0.30589291941741226), (355, 0.30566562457459784), (463, 0.30373569952270335), (368, 0.30371096719606194), (760, 0.30348349786959083), (352, 0.30233445313517787), (18, 0.3017548618126239), (296, 0.30117420814560786), (844, 0.29978689395286207), (809, 0.29958029235075695), (628, 0.29857979107698585), (284, 0.2980182573500423), (85, 0.2965249978689536), (442, 0.29626330009933133), (84, 0.2961668088160938), (586, 0.29559361976669546), (113, 0.2953448877133634), (874, 0.2938458465353975), (532, 0.2936240993132992), (39, 0.2936234751780851), (871, 0.2930707801968936), (410, 0.29293790446041384), (862, 0.29279533712597783), (192, 0.29101402321609277), (786, 0.28842265845134707), (319, 0.28832918210556385), (506, 0.2864852088481528), (86, 0.2861173503972499), (622, 0.285511769176618), (841, 0.28536063502086173), (574, 0.2850204965258917), (621, 0.2841335859862102), (666, 0.2836815117360282), (565, 0.2836549716287998), (694, 0.28229136293479073), (166, 0.2815900439126464), (467, 0.2805177408535735), (62, 0.2802140441898911), (304, 0.2797936850457548), (525, 0.2793808626625489), (816, 0.2790312291160729), (518, 0.2789873247322938), (893, 0.278983928117756), (237, 0.2782858351977603), (324, 0.27777318047589905), (407, 0.27735810544864753), (515, 0.27735810544864753), (451, 0.2759497939351894), (396, 0.27573274595592695), (779, 0.275344640878314), (247, 0.2753155299257187), (675, 0.27461232050787043), (99, 0.27415154697577604), (796, 0.27360842921224326), (234, 0.2730500965914889), (240, 0.2726099743170513), (889, 0.27260018473627196), (892, 0.27234348403969627), (243, 0.27198626116052077), (430, 0.27037672811731545), (346, 0.2680804163577628), (524, 0.2680198226307104), (737, 0.2670343581226351), (153, 0.26577650783298706), (340, 0.2653050632542225), (748, 0.2637587424519555), (105, 0.2631546549333945), (663, 0.2630407166360221), (272, 0.2620946835467789), (568, 0.26164279304248655), (177, 0.2614261205701795), (354, 0.2613173063633551), (246, 0.26081323325223227), (412, 0.26053979887708073), (822, 0.2601918144867393), (495, 0.25947941727050833), (242, 0.25907474038730083), (13, 0.25902860612103296), (677, 0.25900324960766863), (850, 0.25885290669689803), (824, 0.25879865568825206), (821, 0.2581921730766413), (48, 0.2578512748340591), (151, 0.25642803818697957), (206, 0.25629121874189104), (767, 0.2557229055806922), (24, 0.2554165226652715), (708, 0.2550954657356561), (493, 0.25326928211215893), (298, 0.25322923933731767), (620, 0.2526953636051607), (543, 0.25199296227342693), (89, 0.2506409783539043), (655, 0.24982986134071564), (805, 0.24940906040107103), (371, 0.24839001802893676), (90, 0.2477865430782582), (161, 0.2472492470924058), (853, 0.24722054716324024), (670, 0.24676417809012563), (671, 0.24606690353242824), (783, 0.24567604794946174), (657, 0.24531582744458588), (617, 0.2453027908654643), (63, 0.24422863869000241), (846, 0.24419314525275224), (879, 0.24344833024616874), (810, 0.24318954919299712), (225, 0.24277144125726682), (747, 0.24218744225802108), (227, 0.24216123426104028), (125, 0.2420397663726545), (136, 0.2416147610755201), (37, 0.2408583293911866), (169, 0.24034195698940589), (416, 0.2402267088863353), (79, 0.23934687447295822), (741, 0.2391073965616644), (600, 0.2388108172287184), (384, 0.23853916496518196), (139, 0.23784717104809178), (219, 0.23732016696492433), (268, 0.2373053180430025), (78, 0.23678420408857556), (244, 0.23647338483139121), (281, 0.23642326454464796), (477, 0.23589410976586095), (203, 0.23575911503136113), (782, 0.23474638659358216), (261, 0.2341128130537672), (96, 0.2338937037598696), (789, 0.2337583360689398), (745, 0.233614886171732), (738, 0.23233159099927544), (9, 0.2321911506614756), (436, 0.231840392350848), (721, 0.23175079219586855), (722, 0.23091237732338146), (830, 0.22971084424328458), (514, 0.229005410172062), (774, 0.22877578393506492), (325, 0.22866591452712698), (393, 0.22855184477224785), (612, 0.22842111814577684), (7, 0.22670776507769258), (444, 0.22640166162658906), (842, 0.22569622732547598), (413, 0.22555032146679457), (473, 0.22522972390073215), (486, 0.22417753847870148), (443, 0.2241506709960779), (688, 0.22355374419547708), (629, 0.22351047778093958), (788, 0.22340034696480238), (427, 0.2227384185558819), (909, 0.2224893698509092), (674, 0.2223474308445323), (390, 0.22230127912070338), (432, 0.2220432176665488), (531, 0.22181610230197038), (566, 0.22167917888670038), (567, 0.22157528570475127), (189, 0.22088635559385833), (375, 0.21987413790299631), (434, 0.21975685292217398), (583, 0.21949549395676077), (400, 0.2192382045910004), (54, 0.21910418644624846), (381, 0.21858128414340003), (673, 0.2182381886305515), (702, 0.21817336960098127), (365, 0.21801641489967835), (637, 0.21722811562705605), (182, 0.21672200249030338), (684, 0.21664627108904194), (483, 0.21628825370390337), (93, 0.21592466974198277), (859, 0.21540465305554313), (784, 0.21357806080209668), (872, 0.21357084377342675), (126, 0.213231625313303), (660, 0.21317575063243963), (650, 0.2131001894896577), (441, 0.21180356990639543), (803, 0.21165190884243107), (507, 0.21152976966535927), (388, 0.21134094779617088), (336, 0.21115186661437574), (40, 0.21114754349687267), (148, 0.2107547105175608), (755, 0.21020477280886823), (316, 0.21016969152345727), (312, 0.2101183221480831), (502, 0.21001071133405466), (685, 0.2099537910963821), (900, 0.20957326721661623), (580, 0.20951857380645897), (706, 0.20914160194426856), (630, 0.20897952230764344), (135, 0.2088230823323678), (746, 0.2085458998124913), (103, 0.20823265884594694), (435, 0.20799916800499194), (335, 0.2079287999105233), (4, 0.20783836460406724), (808, 0.2076890241067845), (277, 0.20679471802510985), (658, 0.2064840403390265), (366, 0.20615547470889148), (30, 0.20597442891900763), (315, 0.20592151859470445), (403, 0.20552907828136457), (656, 0.2052406842752924), (522, 0.20511409619506507), (159, 0.20483856370786405), (723, 0.20405207208620138), (699, 0.2031391757256881), (198, 0.20292691415883268), (588, 0.20282831150170566), (804, 0.20213811255614925), (542, 0.20197703008809129), (649, 0.20173664619648232), (461, 0.20138982273092), (195, 0.20089992200800885), (131, 0.2007272533710299), (857, 0.20061618203242024), (582, 0.20054644910587185), (866, 0.19860493752360472), (299, 0.19819825405311903), (510, 0.19790827839811742), (503, 0.19757015730588584), (484, 0.1968748077395394), (819, 0.19682419074224072), (837, 0.1965182180430661), (250, 0.19596995143836252), (343, 0.19559310100263105), (609, 0.19537284816078396), (880, 0.1951486827237626), (64, 0.19413923525579577), (680, 0.19393478801333125), (108, 0.19373387364073705), (216, 0.19288565475050498), (765, 0.19280903348266615), (775, 0.19273702609148516), (92, 0.1925496794924445), (771, 0.19230932517894375), (740, 0.19227425015938773), (800, 0.19220621531740753), (818, 0.19218663979154188), (314, 0.19213013923474492), (557, 0.19195994862911298), (137, 0.1918507980960621), (508, 0.19159412523622846), (911, 0.19134209621962042), (505, 0.19124981323269538), (460, 0.1909826208623179), (462, 0.1908105214101239), (292, 0.1906232129157559), (645, 0.19060260388678424), (380, 0.1900932973440217), (19, 0.190015950793138), (259, 0.18963807343765904), (144, 0.18938919793548642), (218, 0.18902617311247702), (632, 0.18883568182068294), (896, 0.18865711376011055), (232, 0.1885748589312545), (793, 0.18829924823317357), (42, 0.18821108579259918), (160, 0.18797450624778514), (826, 0.18788395046831902), (401, 0.18744129066088647), (283, 0.18684128156749633), (95, 0.18663676726545186), (647, 0.18652332587228287), (158, 0.1863871415176279), (133, 0.18628357836308423), (454, 0.18616695580400194), (554, 0.18586840324099457), (710, 0.18578698039581926), (757, 0.18565850451144747), (404, 0.18552389013184017), (252, 0.1854870769787329), (881, 0.18528672885963898), (891, 0.1850427838165434), (119, 0.184269105818564), (208, 0.18342727215117172), (599, 0.1829444851081205), (769, 0.1826664649341165), (790, 0.1821628973187749), (431, 0.18201564555647087), (81, 0.18166098843088607), (801, 0.18133015424143056), (529, 0.18123032226677946), (43, 0.18096803250583451), (541, 0.18088778123376795), (328, 0.1805358040465194), (288, 0.180379733671623), (191, 0.18037239467783375), (758, 0.1802110756322453), (497, 0.18003303442043614), (197, 0.1797558471360708), (517, 0.1789289793535102), (855, 0.1778574272878883), (598, 0.1776335077164589), (58, 0.17737754176563242), (698, 0.17700903302631504), (342, 0.176484895158546), (106, 0.17639042049638728), (22, 0.17636171601587655), (856, 0.17612540987031175), (123, 0.17610764966269418), (2, 0.17609018126512474), (379, 0.17576660218221823), (470, 0.1756407964360724), (897, 0.17493417210643852), (854, 0.17430813090894975), (120, 0.17375398713385454), (545, 0.17367892732324416), (376, 0.17334380098781574), (338, 0.17312164001942784), (581, 0.17303428539270624), (616, 0.1728529533693692), (614, 0.17284873807295761), (170, 0.17225449645211285), (653, 0.17223997936949198), (772, 0.17208585821848582), (362, 0.17200569634173637), (429, 0.171893409692788), (180, 0.17189001630010425), (107, 0.17153056197160738), (21, 0.1714737183821679), (652, 0.17134759118260745), (308, 0.17103390356274367), (199, 0.17093520167692658), (109, 0.16932537955864693), (792, 0.16890025879982024), (201, 0.16863912191171257), (282, 0.16679340251319905), (888, 0.166650649496223), (115, 0.16640398681071156), (217, 0.16621679948293436), (193, 0.16589657415913608), (60, 0.16575850112578538), (606, 0.16565734932147697), (713, 0.16536062899525694), (865, 0.16496422640397596), (176, 0.16495792082955038), (642, 0.16488505728002775), (482, 0.16473871129320408), (584, 0.1645854677010278), (294, 0.1645526840104332), (560, 0.16410556009569682), (221, 0.1638931160764593), (49, 0.16308740449741127), (337, 0.16302782918784453), (82, 0.16256402219058877), (326, 0.16208163530460404), (251, 0.16167828642216753), (491, 0.1615990222490833), (418, 0.16028767051786705), (132, 0.15976074942499743), (162, 0.15948816180797615), (511, 0.15892351274210176), (222, 0.15860855055714967), (280, 0.1584753569353341), (773, 0.1582192415472695), (725, 0.1581891267110402), (813, 0.15802180512806135), (726, 0.15779232526656184), (446, 0.1572185319881161), (270, 0.15696685025970472), (45, 0.1569322162718961), (165, 0.15643922910210298), (605, 0.1560351355244412), (350, 0.1558186503024746), (27, 0.15577773032073433), (321, 0.15552132788788006), (895, 0.15478999608282115), (861, 0.15458538361330731), (256, 0.1545332076047258), (546, 0.15253461774365837), (181, 0.15221110811596356), (174, 0.1518003234506221), (438, 0.1511627906976745), (238, 0.1510412126778622), (485, 0.15103079247695977), (389, 0.15103079247695972), (569, 0.15080144904982562), (3, 0.15070634356844834), (0, 0.15015130636409635), (894, 0.14990603798859536), (465, 0.1488233659121359), (682, 0.14811970539375385), (798, 0.1472575703959055), (863, 0.14668687555200866), (44, 0.14656248148806586), (369, 0.1464901827078817), (858, 0.14647690460815121), (714, 0.14593949203872922), (300, 0.1458231063594868), (860, 0.145556832061438), (825, 0.14515077268319), (901, 0.14418959141559065), (257, 0.14310233443707537), (386, 0.1430757476582835), (258, 0.14271068471680015), (573, 0.14269413476916784), (594, 0.14256027819190956), (868, 0.14251580454297455), (592, 0.1424639711880894), (475, 0.14215803435843838), (173, 0.1414776479819486), (494, 0.14142554048679598), (363, 0.1410834485460315), (817, 0.14098497814593788), (729, 0.14082502739580352), (561, 0.14074980704285606), (6, 0.14071372012406616), (676, 0.14053526415122225), (575, 0.14050787025261866), (73, 0.1397952102228497), (333, 0.13935232489588395), (249, 0.13917538843848337), (845, 0.13894314185859538), (184, 0.13890997479596076), (223, 0.13881931549795332), (563, 0.13871087777388136), (339, 0.13826725234603254), (662, 0.13808232133832435), (504, 0.13797958328770396), (832, 0.1378123654176776), (601, 0.1366395655300723), (145, 0.13661467233951752), (448, 0.1364545750101171), (763, 0.1360549999941455), (67, 0.1358819003940784), (71, 0.13584552334951686), (414, 0.13513536988208802), (903, 0.1351253267495349), (130, 0.13498265208713864), (101, 0.13452974988571567), (905, 0.13433248071204001), (906, 0.1340138951407738), (540, 0.13342051413381398), (70, 0.13235437829853797), (271, 0.13216542762159075), (445, 0.13207795494217484), (539, 0.1319672146855455), (31, 0.13166052773905437), (811, 0.13163981611411477), (701, 0.13158932297194856), (829, 0.1309848350341123), (453, 0.13074409009212276), (387, 0.13038352657098978), (787, 0.12983282764413673), (275, 0.12976050478295), (547, 0.1294952858312431), (111, 0.12888481555661677), (351, 0.12862537991741688), (164, 0.12813867603299672), (509, 0.12802814034195314), (907, 0.1275015903592461), (707, 0.12747919368419855), (207, 0.12628615113346203), (46, 0.1262714962719895), (34, 0.1260733020720201), (604, 0.1255402878975906), (411, 0.12549156434360792), (611, 0.1253877133845861), (420, 0.12522811760902663), (168, 0.12511921410324697), (690, 0.12494908641033341), (466, 0.1248029901080336), (53, 0.12451456127293806), (455, 0.12441988319793357), (72, 0.12410698387407172), (428, 0.1240361527368099), (417, 0.12313749698714757), (693, 0.12245894158055702), (795, 0.12198424824875707), (59, 0.12186563853758031), (689, 0.12081446210664654), (780, 0.12079090360621747), (129, 0.12020113663765344), (648, 0.12009019878601843), (419, 0.11964858878591388), (695, 0.11962972091091587), (152, 0.11943540923930648), (615, 0.1190763524207005), (127, 0.11901175303135532), (538, 0.11868251898457043), (683, 0.11832061780968747), (750, 0.11747405388015285), (274, 0.1170564065268836), (397, 0.11669515701631036), (753, 0.1166754446634245), (904, 0.11661857142355324), (910, 0.11641956920098982), (279, 0.11620402679752968), (572, 0.11612085881802878), (468, 0.1160615134714384), (449, 0.11577533135652764), (408, 0.11576865900362132), (717, 0.1148233358765551), (110, 0.11445861782233108), (833, 0.11379672848535155), (836, 0.11323524383464459), (902, 0.11260364916199594), (815, 0.112423437603322), (578, 0.11240310077519385), (526, 0.11188958705225306), (330, 0.11163738022533014), (286, 0.11112964932661246), (749, 0.11048941050787771), (361, 0.11014244571551085), (364, 0.10993428430300957), (596, 0.10977976086203299), (370, 0.10923507883157123), (215, 0.10917539481336212), (406, 0.10861765615233918), (536, 0.10858950370291238), (291, 0.10805750308916783), (913, 0.10793093687711494), (851, 0.10762950672071658), (640, 0.10716639788560872), (26, 0.10683174241396545), (285, 0.1064839502637647), (562, 0.10596539782156525), (619, 0.10566236395373987), (472, 0.10558813678338907), (870, 0.10473644811127696), (36, 0.10434973704599984), (873, 0.1043378603353711), (812, 0.10322317178593861), (51, 0.1027192724046561), (278, 0.10266037035703235), (61, 0.10252799407434289), (100, 0.1019809568343008), (492, 0.10193150672382688), (254, 0.10170723518782196), (28, 0.10166571355506979), (23, 0.1016219330117829), (171, 0.10157511584194245), (835, 0.10136625572180127), (550, 0.10132166616041159), (875, 0.10020717949001971), (87, 0.10011347410377036), (267, 0.09986344359642045), (661, 0.09753930003929333), (618, 0.09668087765164375), (200, 0.09636838628934889), (530, 0.0952852078282823), (293, 0.09528119671464151), (102, 0.09511420561126366), (55, 0.0947111953287367), (776, 0.09435367655300865), (489, 0.09384756875268013), (5, 0.0938332046952374), (535, 0.09329485713884263), (548, 0.09246584018191364), (147, 0.0919976557043011), (104, 0.09149914219956283), (310, 0.09129572241066206), (167, 0.09110843952845428), (76, 0.09055648951016197), (235, 0.08986064433619868), (847, 0.08967014929236267), (391, 0.08953118867562558), (383, 0.08854232381916494), (347, 0.08628048097808551), (213, 0.08611348981759573), (827, 0.0861112038266483), (777, 0.08557373385749675), (138, 0.08416220450487259), (498, 0.083635765217811), (864, 0.08249818937646872), (447, 0.0819755260734912), (720, 0.08165986621409685), (802, 0.08123601314835929), (613, 0.07864167572767856), (556, 0.07842130341843495), (852, 0.07761021142020517), (440, 0.07746935119835313), (571, 0.07702340943102745), (32, 0.07691991624194881), (820, 0.07567235920959768), (266, 0.07554249219858787), (97, 0.07511178353410673), (295, 0.07470492538520446), (83, 0.07458526574151107), (341, 0.07329697285061137), (464, 0.06965729653572621), (469, 0.06941088628198232), (806, 0.06863814270269306), (869, 0.06841356142509748), (38, 0.06802749999707275), (345, 0.06742687055561211), (639, 0.06633633811908844), (450, 0.06608385714001352), (610, 0.06543163671298978), (831, 0.0645663997972124), (533, 0.06410310839298122), (317, 0.0625635160338891), (474, 0.0625161477847934), (156, 0.06241671055343172), (587, 0.062382719006526983), (378, 0.060422133491116234), (878, 0.06036401742332269), (318, 0.059671591122886745), (754, 0.059635934357753106), (624, 0.05921116923881961), (11, 0.05809469346003988), (794, 0.057241369030040894), (751, 0.056313829183370835), (678, 0.05625193126024741), (382, 0.05575899960152278), (646, 0.05555021649874101), (253, 0.055254251436749995), (265, 0.05492607727829278), (585, 0.054342609729281496), (66, 0.05407172269889128), (187, 0.0537964389857286), (743, 0.05324761613933422), (233, 0.05240700097620957), (437, 0.052322283419901555), (255, 0.05214207169780676), (224, 0.051919483394248137), (392, 0.05149390999016741), (761, 0.05014799827086395), (188, 0.05008509276455137), (239, 0.04997267865999509), (644, 0.04991687442297915), (700, 0.04871388139074812), (781, 0.04776013010474164), (16, 0.04769109075930463), (385, 0.04750398769828448), (626, 0.04719712264904993), (785, 0.04695738167069993), (405, 0.046747921593873025), (359, 0.04662239640847227), (226, 0.04447874968034303), (597, 0.043682597793970726), (705, 0.04229549344378136), (307, 0.041698350628299755), (209, 0.041524029020280295), (544, 0.040576216019260036), (848, 0.0403554011267913), (230, 0.040186901847534345), (488, 0.039239419109370254), (260, 0.03882423566231711), (415, 0.038817918155862094), (553, 0.03833561353849123), (770, 0.03831670748930858), (603, 0.03751982039034828), (287, 0.037123069759313634), (33, 0.037097841710352124), (402, 0.035666691744818124), (665, 0.03541127795731873), (791, 0.03540208099548317), (636, 0.03475764996874854), (882, 0.03397357882951099), (501, 0.03365565728285493), (667, 0.033416286593089095), (439, 0.0329847130663529), (65, 0.03274620875852807), (744, 0.03195447708044531), (398, 0.03169985567541421), (231, 0.0310077519379845), (664, 0.030365056834625283), (35, 0.030363436951470396), (311, 0.03030311263021228), (496, 0.030273507873307428), (500, 0.03003606492987275), (885, 0.029907430227728963), (709, 0.029755999228233847), (248, 0.029550072883987765), (8, 0.029319463129945694), (179, 0.02924904561622751), (205, 0.029080336345115268), (41, 0.028913548935637492), (638, 0.02886250304315275), (211, 0.028350751970893304), (305, 0.027701327731017383), (481, 0.02741720403842217), (327, 0.027210999998829095), (735, 0.027014243983189763), (908, 0.026622333025588876), (759, 0.02608147210069499), (112, 0.025707280647769122), (394, 0.025594791478003677), (512, 0.02465755738184364), (516, 0.024595121795413018), (373, 0.024341421776503006), (724, 0.02411214110852061), (178, 0.023883359536079996), (143, 0.023700941680821257), (202, 0.0236078138484345), (703, 0.023188503207527467), (186, 0.022326759753774603), (15, 0.02213976921182067), (728, 0.022038838445596117), (727, 0.021151897815604597), (691, 0.020470067778041875), (360, 0.020282916674539915), (883, 0.020132811296304547), (353, 0.018806929373198923), (633, 0.018737239600553665), (814, 0.01839894896012186), (134, 0.01766430560360938), (697, 0.017631070756476894), (29, 0.01737882498437427), (513, 0.017308720523600277), (68, 0.01704985848676184), (762, 0.016813439730167433), (128, 0.016738892722044096), (452, 0.016638958140993046), (764, 0.016546876868770082), (121, 0.0158775169409847), (890, 0.015829330132009933), (528, 0.015734258220214743), (116, 0.01569662892911675), (395, 0.015640879008472275), (334, 0.015613187846579652), (140, 0.01524985703326047), (117, 0.015113505951904912), (269, 0.015108498439717573), (273, 0.015071928140111745), (306, 0.01506273513642627), (262, 0.014505183639671381), (149, 0.014221826983470479), (712, 0.01408744450218147), (323, 0.013819163330878854), (876, 0.013792447461618259), (357, 0.01340727726641248), (730, 0.013124987182635963), (194, 0.012783337297167208), (172, 0.012537952915465948), (236, 0.012418552536966714), (736, 0.01232877869092182), (190, 0.012172261593601269), (196, 0.012093923302202207), (377, 0.012062103114334713), (643, 0.012056070554260303), (576, 0.012044314266184585), (607, 0.011917224420304356), (157, 0.011719828620441155), (57, 0.011462494466661234), (12, 0.011335129463928685), (80, 0.011159261814696066), (421, 0.011151799920304555), (523, 0.01079761019361605), (739, 0.0099905135161012), (276, 0.009969143409242988), (742, 0.009762720569807), (114, 0.009760220833350758), (668, 0.009538615602458087), (807, 0.009439424529809984), (490, 0.009280767439828409), (887, 0.009021373270752522), (672, 0.008832819454845741), (797, 0.008816861321748727), (711, 0.008685888090301257), (20, 0.008561797597700047), (716, 0.008561797597700047), (877, 0.008538280746069998), (322, 0.00836944636102205), (25, 0.007993096945072022), (409, 0.007729501069175822), (559, 0.007682766982760301), (686, 0.007622546842820258), (456, 0.007577714883005262), (458, 0.007577714883005262), (799, 0.007188851546895895), (867, 0.007049248907296894), (843, 0.007008928754418385), (163, 0.006913475929133777), (424, 0.006804988851174736), (74, 0.006792826216160188), (75, 0.006689112855285253), (142, 0.006124489966057262), (828, 0.005884402149082975), (625, 0.005546319380331016), (344, 0.0054814479161747875), (263, 0.005388272041885391), (631, 0.005328731296714682), (98, 0.005271121698345379), (367, 0.004824841245733885), (426, 0.00481761301508974), (635, 0.004792567697930596), (422, 0.004327180130900069), (349, 0.0041367192171925206), (570, 0.004058339955760423), (245, 0.003887285714118442), (527, 0.0038316707489308576), (94, 0.0035765873220300125), (752, 0.0035416929527665973), (264, 0.0034040198658906746), (669, 0.0033888571185023263), (534, 0.0030935891466094697), (551, 0.002891780186629749), (602, 0.0028328043565083554), (537, 0.0021814466824328278), (687, 0.0020030951702618522), (766, 0.001983178624166428), (56, 0.0017633722643497455), (331, 0.0017087277879446476), (185, 0.0010778966595678145), (10, 0.0), (14, 0.0), (50, 0.0), (69, 0.0), (118, 0.0), (154, 0.0), (175, 0.0), (183, 0.0), (210, 0.0), (297, 0.0), (302, 0.0), (303, 0.0), (313, 0.0), (348, 0.0), (356, 0.0), (374, 0.0), (425, 0.0), (457, 0.0), (459, 0.0), (471, 0.0), (476, 0.0), (478, 0.0), (479, 0.0), (499, 0.0), (521, 0.0), (549, 0.0), (552, 0.0), (555, 0.0), (564, 0.0), (577, 0.0), (591, 0.0), (593, 0.0), (595, 0.0), (608, 0.0), (623, 0.0), (634, 0.0), (641, 0.0), (651, 0.0), (654, 0.0), (659, 0.0), (679, 0.0), (692, 0.0), (704, 0.0), (718, 0.0), (731, 0.0), (733, 0.0), (756, 0.0), (778, 0.0), (838, 0.0), (840, 0.0), (884, 0.0), (886, 0.0), (912, 0.0)]\n"
          ]
        }
      ]
    },
    {
      "cell_type": "code",
      "metadata": {
        "colab": {
          "base_uri": "https://localhost:8080/"
        },
        "id": "YMtLBI6dxqam",
        "outputId": "3bc190c1-e8c7-42c0-f084-156976fe9a79"
      },
      "source": [
        "# Create a loop to print the first 7 similar movies\n",
        "j = 0\n",
        "print('The 7 most recommended courses : ', title_to_search, 'are:\\n')\n",
        "print('ID  Course Title' )\n",
        "for item in sorted_scores:\n",
        "  course_title = df[df.index == item[0]]['title'].values[0]\n",
        "  course_id = df[df.index == item[0]]['Course_id'].values[0]\n",
        "  course_headline = df[df.index == item[0]]['headline'].values[0]\n",
        "  print(course_id, course_title, \" | \" + course_headline)\n",
        "  j=j+1\n",
        "  if j>10:\n",
        "    break"
      ],
      "execution_count": 124,
      "outputs": [
        {
          "output_type": "stream",
          "name": "stdout",
          "text": [
            "The 7 most recommended courses :  Linux for Absolute Beginners! are:\n",
            "\n",
            "ID  Course Title\n",
            "1100052 Linux Terminal for beginners  | Learn Linux and Supercharge Your IT Career\n",
            "1102606 Quickbooks Basic to Advance Training Course in Hindi Urdu  | Quickbooks Basic to Advance Training Course in Hindi Urdu Covers all Popular Quickbooks Versions with  pro enterprise\n",
            "1085644 Ubuntu Linux for beginners  | Introduction to Ubuntu Linux\n",
            "1078254 Tally Basic to Advance Training in Hindi / Urdu 2021  | Tally.ERP 9 Expert course for 2021 Updated | include Tally Payroll | Tally Accounting and Inventory\n",
            "1087426 The Complete iOS 11 Developer Course - Beginner To Advanced  | In the complete iOS 11 Developer Course students will learn Swift4 creating real apps like Instagram & Foursquare clones\n",
            "1084874 Subnetting - Become a Subnet Master!  | Easy IPv4 Subnetting for CCNA and Industry! You will become a Subnet Master Quickly!\n",
            "1109478 SAP GTS Training  | SAP Global Trade System - Business scenarios and configuration\n",
            "1071956 The Complete 3D Artist: Learn 3D Art by Creating 3 Scenes  | Learn 3D Modeling, Sculpting, Lighting, Texturing, Rendering & Compositing using Blender in One Complete Course\n",
            "1093488 Introduction to QA Software Testing  Professionalism  | Learn QA SW Testing concept and decide if Quality Assurance Testing career is for you\n",
            "1109022 Photoshop Bootcamp For Photographers & Freelancers  | A Complete Beginner's Guide for Aspiring Photographers and Designers\n",
            "1075570 Perfect React JS Course for Beginners  | Essential React Js Course\n"
          ]
        }
      ]
    }
  ]
}