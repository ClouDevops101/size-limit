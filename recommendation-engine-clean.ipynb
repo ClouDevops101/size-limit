{
  "nbformat": 4,
  "nbformat_minor": 0,
  "metadata": {
    "colab": {
      "name": "Untitled0.ipynb",
      "provenance": [],
      "collapsed_sections": [],
      "authorship_tag": "ABX9TyPZJQmnot8hcKHfUPd7Uv7h",
      "include_colab_link": true
    },
    "kernelspec": {
      "display_name": "Python 3",
      "name": "python3"
    },
    "language_info": {
      "name": "python"
    }
  },
  "cells": [
    {
      "cell_type": "markdown",
      "metadata": {
        "id": "view-in-github",
        "colab_type": "text"
      },
      "source": [
        "<a href=\"https://colab.research.google.com/github/ClouDevops101/size-limit/blob/main/recommendation-engine-clean.ipynb\" target=\"_parent\"><img src=\"https://colab.research.google.com/assets/colab-badge.svg\" alt=\"Open In Colab\"/></a>"
      ]
    },
    {
      "cell_type": "markdown",
      "metadata": {
        "id": "sjKF4fY8XJ-4"
      },
      "source": [
        "# build a online courses recommendation system"
      ]
    },
    {
      "cell_type": "code",
      "metadata": {
        "id": "bBUIP4N7XffM"
      },
      "source": [
        "# importing libraries"
      ],
      "execution_count": null,
      "outputs": []
    },
    {
      "cell_type": "code",
      "metadata": {
        "id": "qnloLFNVJZ6W",
        "colab": {
          "base_uri": "https://localhost:8080/"
        },
        "outputId": "e7b1e004-3e68-4021-f623-8db9c1f3bc61"
      },
      "source": [
        "import pandas as pd\n",
        "import numpy as np\n",
        "from sklearn.metrics.pairwise import cosine_similarity\n",
        "from sklearn.feature_extraction.text import CountVectorizer\n",
        "from nltk.corpus import stopwords\n",
        "import nltk\n",
        "nltk.download('stopwords')"
      ],
      "execution_count": 126,
      "outputs": [
        {
          "output_type": "stream",
          "name": "stdout",
          "text": [
            "[nltk_data] Downloading package stopwords to /root/nltk_data...\n",
            "[nltk_data]   Package stopwords is already up-to-date!\n"
          ]
        },
        {
          "output_type": "execute_result",
          "data": {
            "text/plain": [
              "True"
            ]
          },
          "metadata": {},
          "execution_count": 126
        }
      ]
    },
    {
      "cell_type": "code",
      "metadata": {
        "colab": {
          "base_uri": "https://localhost:8080/"
        },
        "id": "OIHJzTADS_Mb",
        "outputId": "ee442642-8bf9-4a74-970a-fb56a61987cc"
      },
      "source": [
        "# show available language\n",
        "print(stopwords.fileids())"
      ],
      "execution_count": 131,
      "outputs": [
        {
          "output_type": "stream",
          "name": "stdout",
          "text": [
            "['arabic', 'azerbaijani', 'danish', 'dutch', 'english', 'finnish', 'french', 'german', 'greek', 'hungarian', 'indonesian', 'italian', 'kazakh', 'nepali', 'norwegian', 'portuguese', 'romanian', 'russian', 'slovene', 'spanish', 'swedish', 'tajik', 'turkish']\n"
          ]
        }
      ]
    },
    {
      "cell_type": "code",
      "metadata": {
        "id": "w2Sly4SSJekt",
        "colab": {
          "resources": {
            "http://localhost:8080/nbextensions/google.colab/files.js": {
              "data": "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",
              "ok": true,
              "headers": [
                [
                  "content-type",
                  "application/javascript"
                ]
              ],
              "status": 200,
              "status_text": ""
            }
          },
          "base_uri": "https://localhost:8080/",
          "height": 380
        },
        "outputId": "29bcd2bc-3c61-4df6-f708-28c91c914f5f"
      },
      "source": [
        "# Load the data \n",
        "from google.colab import files\n",
        "uploaded = files.upload()"
      ],
      "execution_count": null,
      "outputs": [
        {
          "output_type": "display_data",
          "data": {
            "text/html": [
              "\n",
              "     <input type=\"file\" id=\"files-83b1cd30-286e-4f3d-9f10-3ae13117d4fa\" name=\"files[]\" multiple disabled\n",
              "        style=\"border:none\" />\n",
              "     <output id=\"result-83b1cd30-286e-4f3d-9f10-3ae13117d4fa\">\n",
              "      Upload widget is only available when the cell has been executed in the\n",
              "      current browser session. Please rerun this cell to enable.\n",
              "      </output>\n",
              "      <script src=\"/nbextensions/google.colab/files.js\"></script> "
            ],
            "text/plain": [
              "<IPython.core.display.HTML object>"
            ]
          },
          "metadata": {}
        },
        {
          "output_type": "error",
          "ename": "KeyboardInterrupt",
          "evalue": "ignored",
          "traceback": [
            "\u001b[0;31m---------------------------------------------------------------------------\u001b[0m",
            "\u001b[0;31mKeyboardInterrupt\u001b[0m                         Traceback (most recent call last)",
            "\u001b[0;32m<ipython-input-2-bac6ecd8d656>\u001b[0m in \u001b[0;36m<module>\u001b[0;34m()\u001b[0m\n\u001b[1;32m      1\u001b[0m \u001b[0;31m# Load the data\u001b[0m\u001b[0;34m\u001b[0m\u001b[0;34m\u001b[0m\u001b[0;34m\u001b[0m\u001b[0m\n\u001b[1;32m      2\u001b[0m \u001b[0;32mfrom\u001b[0m \u001b[0mgoogle\u001b[0m\u001b[0;34m.\u001b[0m\u001b[0mcolab\u001b[0m \u001b[0;32mimport\u001b[0m \u001b[0mfiles\u001b[0m\u001b[0;34m\u001b[0m\u001b[0;34m\u001b[0m\u001b[0m\n\u001b[0;32m----> 3\u001b[0;31m \u001b[0muploaded\u001b[0m \u001b[0;34m=\u001b[0m \u001b[0mfiles\u001b[0m\u001b[0;34m.\u001b[0m\u001b[0mupload\u001b[0m\u001b[0;34m(\u001b[0m\u001b[0;34m)\u001b[0m\u001b[0;34m\u001b[0m\u001b[0;34m\u001b[0m\u001b[0m\n\u001b[0m",
            "\u001b[0;32m/usr/local/lib/python3.7/dist-packages/google/colab/files.py\u001b[0m in \u001b[0;36mupload\u001b[0;34m()\u001b[0m\n\u001b[1;32m     62\u001b[0m   result = _output.eval_js(\n\u001b[1;32m     63\u001b[0m       'google.colab._files._uploadFiles(\"{input_id}\", \"{output_id}\")'.format(\n\u001b[0;32m---> 64\u001b[0;31m           input_id=input_id, output_id=output_id))\n\u001b[0m\u001b[1;32m     65\u001b[0m   \u001b[0mfiles\u001b[0m \u001b[0;34m=\u001b[0m \u001b[0m_collections\u001b[0m\u001b[0;34m.\u001b[0m\u001b[0mdefaultdict\u001b[0m\u001b[0;34m(\u001b[0m\u001b[0m_six\u001b[0m\u001b[0;34m.\u001b[0m\u001b[0mbinary_type\u001b[0m\u001b[0;34m)\u001b[0m\u001b[0;34m\u001b[0m\u001b[0;34m\u001b[0m\u001b[0m\n\u001b[1;32m     66\u001b[0m   \u001b[0;31m# Mapping from original filename to filename as saved locally.\u001b[0m\u001b[0;34m\u001b[0m\u001b[0;34m\u001b[0m\u001b[0;34m\u001b[0m\u001b[0m\n",
            "\u001b[0;32m/usr/local/lib/python3.7/dist-packages/google/colab/output/_js.py\u001b[0m in \u001b[0;36meval_js\u001b[0;34m(script, ignore_result, timeout_sec)\u001b[0m\n\u001b[1;32m     38\u001b[0m   \u001b[0;32mif\u001b[0m \u001b[0mignore_result\u001b[0m\u001b[0;34m:\u001b[0m\u001b[0;34m\u001b[0m\u001b[0;34m\u001b[0m\u001b[0m\n\u001b[1;32m     39\u001b[0m     \u001b[0;32mreturn\u001b[0m\u001b[0;34m\u001b[0m\u001b[0;34m\u001b[0m\u001b[0m\n\u001b[0;32m---> 40\u001b[0;31m   \u001b[0;32mreturn\u001b[0m \u001b[0m_message\u001b[0m\u001b[0;34m.\u001b[0m\u001b[0mread_reply_from_input\u001b[0m\u001b[0;34m(\u001b[0m\u001b[0mrequest_id\u001b[0m\u001b[0;34m,\u001b[0m \u001b[0mtimeout_sec\u001b[0m\u001b[0;34m)\u001b[0m\u001b[0;34m\u001b[0m\u001b[0;34m\u001b[0m\u001b[0m\n\u001b[0m\u001b[1;32m     41\u001b[0m \u001b[0;34m\u001b[0m\u001b[0m\n\u001b[1;32m     42\u001b[0m \u001b[0;34m\u001b[0m\u001b[0m\n",
            "\u001b[0;32m/usr/local/lib/python3.7/dist-packages/google/colab/_message.py\u001b[0m in \u001b[0;36mread_reply_from_input\u001b[0;34m(message_id, timeout_sec)\u001b[0m\n\u001b[1;32m     99\u001b[0m     \u001b[0mreply\u001b[0m \u001b[0;34m=\u001b[0m \u001b[0m_read_next_input_message\u001b[0m\u001b[0;34m(\u001b[0m\u001b[0;34m)\u001b[0m\u001b[0;34m\u001b[0m\u001b[0;34m\u001b[0m\u001b[0m\n\u001b[1;32m    100\u001b[0m     \u001b[0;32mif\u001b[0m \u001b[0mreply\u001b[0m \u001b[0;34m==\u001b[0m \u001b[0m_NOT_READY\u001b[0m \u001b[0;32mor\u001b[0m \u001b[0;32mnot\u001b[0m \u001b[0misinstance\u001b[0m\u001b[0;34m(\u001b[0m\u001b[0mreply\u001b[0m\u001b[0;34m,\u001b[0m \u001b[0mdict\u001b[0m\u001b[0;34m)\u001b[0m\u001b[0;34m:\u001b[0m\u001b[0;34m\u001b[0m\u001b[0;34m\u001b[0m\u001b[0m\n\u001b[0;32m--> 101\u001b[0;31m       \u001b[0mtime\u001b[0m\u001b[0;34m.\u001b[0m\u001b[0msleep\u001b[0m\u001b[0;34m(\u001b[0m\u001b[0;36m0.025\u001b[0m\u001b[0;34m)\u001b[0m\u001b[0;34m\u001b[0m\u001b[0;34m\u001b[0m\u001b[0m\n\u001b[0m\u001b[1;32m    102\u001b[0m       \u001b[0;32mcontinue\u001b[0m\u001b[0;34m\u001b[0m\u001b[0;34m\u001b[0m\u001b[0m\n\u001b[1;32m    103\u001b[0m     if (reply.get('type') == 'colab_reply' and\n",
            "\u001b[0;31mKeyboardInterrupt\u001b[0m: "
          ]
        }
      ]
    },
    {
      "cell_type": "code",
      "metadata": {
        "colab": {
          "base_uri": "https://localhost:8080/",
          "height": 400
        },
        "id": "xlcp5Q6Bij1w",
        "outputId": "31d2c95a-ee5c-4f82-d830-153242d68790"
      },
      "source": [
        "#Store the data \n",
        "df = pd.read_csv('udemy-data.csv')\n",
        "# show the first 3 rows of data \n",
        "df.head(3)"
      ],
      "execution_count": 133,
      "outputs": [
        {
          "output_type": "execute_result",
          "data": {
            "text/html": [
              "<div>\n",
              "<style scoped>\n",
              "    .dataframe tbody tr th:only-of-type {\n",
              "        vertical-align: middle;\n",
              "    }\n",
              "\n",
              "    .dataframe tbody tr th {\n",
              "        vertical-align: top;\n",
              "    }\n",
              "\n",
              "    .dataframe thead th {\n",
              "        text-align: right;\n",
              "    }\n",
              "</style>\n",
              "<table border=\"1\" class=\"dataframe\">\n",
              "  <thead>\n",
              "    <tr style=\"text-align: right;\">\n",
              "      <th></th>\n",
              "      <th>Course_id</th>\n",
              "      <th>title</th>\n",
              "      <th>description</th>\n",
              "      <th>headline</th>\n",
              "      <th>category</th>\n",
              "      <th>subcategory</th>\n",
              "      <th>instructors_name</th>\n",
              "      <th>instructors_job_title</th>\n",
              "      <th>price</th>\n",
              "      <th>avg_rating</th>\n",
              "      <th>num_reviews</th>\n",
              "      <th>created</th>\n",
              "    </tr>\n",
              "  </thead>\n",
              "  <tbody>\n",
              "    <tr>\n",
              "      <th>0</th>\n",
              "      <td>1070968</td>\n",
              "      <td>Ultimate Investment Banking Course</td>\n",
              "      <td>&lt;p&gt;Our dedicated approach and solid methodolog...</td>\n",
              "      <td>Master all the Financial Markets concepts : St...</td>\n",
              "      <td>Finance &amp; Accounting</td>\n",
              "      <td>Finance</td>\n",
              "      <td>VBA Finance</td>\n",
              "      <td>Trainer</td>\n",
              "      <td>€94.99</td>\n",
              "      <td>4.100000</td>\n",
              "      <td>99</td>\n",
              "      <td>2017-01-11T03:06:21Z</td>\n",
              "    </tr>\n",
              "    <tr>\n",
              "      <th>1</th>\n",
              "      <td>1070976</td>\n",
              "      <td>Complete E-Commerce Course - Java,Spring,Hiber...</td>\n",
              "      <td>&lt;p&gt;&lt;strong&gt;&lt;/strong&gt;&lt;/p&gt;  &lt;p&gt;&lt;strong&gt;WELCOME T...</td>\n",
              "      <td>Step-by-step guide on how to develop a complet...</td>\n",
              "      <td>Development</td>\n",
              "      <td>Web Development</td>\n",
              "      <td>Le Deng</td>\n",
              "      <td>ldeng.net/courses, consultant, thousands of st...</td>\n",
              "      <td>€94.99</td>\n",
              "      <td>4.708334</td>\n",
              "      <td>730</td>\n",
              "      <td>2017-01-11T03:16:09Z</td>\n",
              "    </tr>\n",
              "    <tr>\n",
              "      <th>2</th>\n",
              "      <td>1071018</td>\n",
              "      <td>FL Studio Sytrus Sound Design Course</td>\n",
              "      <td>&lt;p&gt;In this course Alex Merced will teach you a...</td>\n",
              "      <td>Making Sounds with one of the best FM Synths o...</td>\n",
              "      <td>Music</td>\n",
              "      <td>Music Production</td>\n",
              "      <td>Alex Merced</td>\n",
              "      <td>Knowledge is Freedom</td>\n",
              "      <td>Free</td>\n",
              "      <td>3.950000</td>\n",
              "      <td>327</td>\n",
              "      <td>2017-01-11T04:11:35Z</td>\n",
              "    </tr>\n",
              "  </tbody>\n",
              "</table>\n",
              "</div>"
            ],
            "text/plain": [
              "   Course_id  ...               created\n",
              "0    1070968  ...  2017-01-11T03:06:21Z\n",
              "1    1070976  ...  2017-01-11T03:16:09Z\n",
              "2    1071018  ...  2017-01-11T04:11:35Z\n",
              "\n",
              "[3 rows x 12 columns]"
            ]
          },
          "metadata": {},
          "execution_count": 133
        }
      ]
    },
    {
      "cell_type": "code",
      "metadata": {
        "colab": {
          "base_uri": "https://localhost:8080/"
        },
        "id": "cDHmd10Mnfbp",
        "outputId": "fd34c7e7-4fa2-460e-b70a-8a2fa70364b3"
      },
      "source": [
        "df.shape\n"
      ],
      "execution_count": 134,
      "outputs": [
        {
          "output_type": "execute_result",
          "data": {
            "text/plain": [
              "(914, 12)"
            ]
          },
          "metadata": {},
          "execution_count": 134
        }
      ]
    },
    {
      "cell_type": "code",
      "metadata": {
        "id": "SZPROhUynmtW"
      },
      "source": [
        "# Creat a list of important columns for the recommendation engine\n",
        "columns= ['title','description','headline','category','subcategory','instructors_name','instructors_job_title']"
      ],
      "execution_count": 135,
      "outputs": []
    },
    {
      "cell_type": "code",
      "metadata": {
        "colab": {
          "base_uri": "https://localhost:8080/",
          "height": 400
        },
        "id": "b78UcfsUn8Hm",
        "outputId": "2e3bec99-8099-40cb-e545-6c346f187e14"
      },
      "source": [
        "# show the data \n",
        "df[columns].head(3)\n"
      ],
      "execution_count": 136,
      "outputs": [
        {
          "output_type": "execute_result",
          "data": {
            "text/html": [
              "<div>\n",
              "<style scoped>\n",
              "    .dataframe tbody tr th:only-of-type {\n",
              "        vertical-align: middle;\n",
              "    }\n",
              "\n",
              "    .dataframe tbody tr th {\n",
              "        vertical-align: top;\n",
              "    }\n",
              "\n",
              "    .dataframe thead th {\n",
              "        text-align: right;\n",
              "    }\n",
              "</style>\n",
              "<table border=\"1\" class=\"dataframe\">\n",
              "  <thead>\n",
              "    <tr style=\"text-align: right;\">\n",
              "      <th></th>\n",
              "      <th>title</th>\n",
              "      <th>description</th>\n",
              "      <th>headline</th>\n",
              "      <th>category</th>\n",
              "      <th>subcategory</th>\n",
              "      <th>instructors_name</th>\n",
              "      <th>instructors_job_title</th>\n",
              "    </tr>\n",
              "  </thead>\n",
              "  <tbody>\n",
              "    <tr>\n",
              "      <th>0</th>\n",
              "      <td>Ultimate Investment Banking Course</td>\n",
              "      <td>&lt;p&gt;Our dedicated approach and solid methodolog...</td>\n",
              "      <td>Master all the Financial Markets concepts : St...</td>\n",
              "      <td>Finance &amp; Accounting</td>\n",
              "      <td>Finance</td>\n",
              "      <td>VBA Finance</td>\n",
              "      <td>Trainer</td>\n",
              "    </tr>\n",
              "    <tr>\n",
              "      <th>1</th>\n",
              "      <td>Complete E-Commerce Course - Java,Spring,Hiber...</td>\n",
              "      <td>&lt;p&gt;&lt;strong&gt;&lt;/strong&gt;&lt;/p&gt;  &lt;p&gt;&lt;strong&gt;WELCOME T...</td>\n",
              "      <td>Step-by-step guide on how to develop a complet...</td>\n",
              "      <td>Development</td>\n",
              "      <td>Web Development</td>\n",
              "      <td>Le Deng</td>\n",
              "      <td>ldeng.net/courses, consultant, thousands of st...</td>\n",
              "    </tr>\n",
              "    <tr>\n",
              "      <th>2</th>\n",
              "      <td>FL Studio Sytrus Sound Design Course</td>\n",
              "      <td>&lt;p&gt;In this course Alex Merced will teach you a...</td>\n",
              "      <td>Making Sounds with one of the best FM Synths o...</td>\n",
              "      <td>Music</td>\n",
              "      <td>Music Production</td>\n",
              "      <td>Alex Merced</td>\n",
              "      <td>Knowledge is Freedom</td>\n",
              "    </tr>\n",
              "  </tbody>\n",
              "</table>\n",
              "</div>"
            ],
            "text/plain": [
              "                                               title  ...                              instructors_job_title\n",
              "0                 Ultimate Investment Banking Course  ...                                            Trainer\n",
              "1  Complete E-Commerce Course - Java,Spring,Hiber...  ...  ldeng.net/courses, consultant, thousands of st...\n",
              "2               FL Studio Sytrus Sound Design Course  ...                               Knowledge is Freedom\n",
              "\n",
              "[3 rows x 7 columns]"
            ]
          },
          "metadata": {},
          "execution_count": 136
        }
      ]
    },
    {
      "cell_type": "code",
      "metadata": {
        "colab": {
          "base_uri": "https://localhost:8080/"
        },
        "id": "xNDOQsIdoIlW",
        "outputId": "48a81d5b-af36-406e-9713-79261b61e9ba"
      },
      "source": [
        "# check for missing values in the important columns\n",
        "df[columns].isnull().values.any()\n",
        "\n",
        "# data cleaning is needed"
      ],
      "execution_count": 137,
      "outputs": [
        {
          "output_type": "execute_result",
          "data": {
            "text/plain": [
              "True"
            ]
          },
          "metadata": {},
          "execution_count": 137
        }
      ]
    },
    {
      "cell_type": "code",
      "metadata": {
        "id": "wDFpKULComom"
      },
      "source": [
        "# Create a function to combine the values of the important columns into a single string\n",
        "def get_important_features(data):\n",
        "  important_features = []\n",
        "  for i in range(0, data.shape[0]):\n",
        "    important_features.append(str(data['title'][i])+' '+str(data['description'][i])+' '+str(data['headline'][i])+' '+str(data['category'][i])+' '+str(data['subcategory'][i])+' '+str(data['instructors_name'][i])+' '+str(data['instructors_job_title'][i]) )\n",
        "  return important_features\n"
      ],
      "execution_count": 138,
      "outputs": []
    },
    {
      "cell_type": "code",
      "metadata": {
        "colab": {
          "base_uri": "https://localhost:8080/",
          "height": 1000
        },
        "id": "fZVZLsyhp_dp",
        "outputId": "63abe244-5379-4748-e0f7-393fde573c1a"
      },
      "source": [
        "# Create a column to hold the combined strings\n",
        "df['important_features'] = get_important_features(df)\n",
        "\n",
        "#show the data \n",
        "df.head(10)"
      ],
      "execution_count": 171,
      "outputs": [
        {
          "output_type": "execute_result",
          "data": {
            "text/html": [
              "<div>\n",
              "<style scoped>\n",
              "    .dataframe tbody tr th:only-of-type {\n",
              "        vertical-align: middle;\n",
              "    }\n",
              "\n",
              "    .dataframe tbody tr th {\n",
              "        vertical-align: top;\n",
              "    }\n",
              "\n",
              "    .dataframe thead th {\n",
              "        text-align: right;\n",
              "    }\n",
              "</style>\n",
              "<table border=\"1\" class=\"dataframe\">\n",
              "  <thead>\n",
              "    <tr style=\"text-align: right;\">\n",
              "      <th></th>\n",
              "      <th>Course_id</th>\n",
              "      <th>title</th>\n",
              "      <th>description</th>\n",
              "      <th>headline</th>\n",
              "      <th>category</th>\n",
              "      <th>subcategory</th>\n",
              "      <th>instructors_name</th>\n",
              "      <th>instructors_job_title</th>\n",
              "      <th>price</th>\n",
              "      <th>avg_rating</th>\n",
              "      <th>num_reviews</th>\n",
              "      <th>created</th>\n",
              "      <th>important_features</th>\n",
              "    </tr>\n",
              "  </thead>\n",
              "  <tbody>\n",
              "    <tr>\n",
              "      <th>0</th>\n",
              "      <td>1070968</td>\n",
              "      <td>Ultimate Investment Banking Course</td>\n",
              "      <td>&lt;p&gt;Our dedicated approach and solid methodolog...</td>\n",
              "      <td>Master all the Financial Markets concepts : St...</td>\n",
              "      <td>Finance &amp; Accounting</td>\n",
              "      <td>Finance</td>\n",
              "      <td>VBA Finance</td>\n",
              "      <td>Trainer</td>\n",
              "      <td>€94.99</td>\n",
              "      <td>4.100000</td>\n",
              "      <td>99</td>\n",
              "      <td>2017-01-11T03:06:21Z</td>\n",
              "      <td>Ultimate Investment Banking Course &lt;p&gt;Our dedi...</td>\n",
              "    </tr>\n",
              "    <tr>\n",
              "      <th>1</th>\n",
              "      <td>1070976</td>\n",
              "      <td>Complete E-Commerce Course - Java,Spring,Hiber...</td>\n",
              "      <td>&lt;p&gt;&lt;strong&gt;&lt;/strong&gt;&lt;/p&gt;  &lt;p&gt;&lt;strong&gt;WELCOME T...</td>\n",
              "      <td>Step-by-step guide on how to develop a complet...</td>\n",
              "      <td>Development</td>\n",
              "      <td>Web Development</td>\n",
              "      <td>Le Deng</td>\n",
              "      <td>ldeng.net/courses, consultant, thousands of st...</td>\n",
              "      <td>€94.99</td>\n",
              "      <td>4.708334</td>\n",
              "      <td>730</td>\n",
              "      <td>2017-01-11T03:16:09Z</td>\n",
              "      <td>Complete E-Commerce Course - Java,Spring,Hiber...</td>\n",
              "    </tr>\n",
              "    <tr>\n",
              "      <th>2</th>\n",
              "      <td>1071018</td>\n",
              "      <td>FL Studio Sytrus Sound Design Course</td>\n",
              "      <td>&lt;p&gt;In this course Alex Merced will teach you a...</td>\n",
              "      <td>Making Sounds with one of the best FM Synths o...</td>\n",
              "      <td>Music</td>\n",
              "      <td>Music Production</td>\n",
              "      <td>Alex Merced</td>\n",
              "      <td>Knowledge is Freedom</td>\n",
              "      <td>Free</td>\n",
              "      <td>3.950000</td>\n",
              "      <td>327</td>\n",
              "      <td>2017-01-11T04:11:35Z</td>\n",
              "      <td>FL Studio Sytrus Sound Design Course &lt;p&gt;In thi...</td>\n",
              "    </tr>\n",
              "    <tr>\n",
              "      <th>3</th>\n",
              "      <td>1071060</td>\n",
              "      <td>Django by Example</td>\n",
              "      <td>&lt;p&gt;Django is a powerful Python web framework d...</td>\n",
              "      <td>Create your own line of successful web applica...</td>\n",
              "      <td>Development</td>\n",
              "      <td>Web Development</td>\n",
              "      <td>Packt Publishing</td>\n",
              "      <td>Tech Knowledge in Motion</td>\n",
              "      <td>€94.99</td>\n",
              "      <td>4.000000</td>\n",
              "      <td>137</td>\n",
              "      <td>2017-01-11T04:44:04Z</td>\n",
              "      <td>Django by Example &lt;p&gt;Django is a powerful Pyth...</td>\n",
              "    </tr>\n",
              "    <tr>\n",
              "      <th>4</th>\n",
              "      <td>1071120</td>\n",
              "      <td>The Art &amp; Science of Drawing / FORM &amp; SPACE</td>\n",
              "      <td>&lt;p&gt;This course contains the third and fourth i...</td>\n",
              "      <td>Learn to draw in 3-Dimensions</td>\n",
              "      <td>Lifestyle</td>\n",
              "      <td>Arts &amp; Crafts</td>\n",
              "      <td>Brent Eviston</td>\n",
              "      <td>Artist and Instructor</td>\n",
              "      <td>€44.99</td>\n",
              "      <td>4.795652</td>\n",
              "      <td>2281</td>\n",
              "      <td>2017-01-11T05:48:46Z</td>\n",
              "      <td>The Art &amp; Science of Drawing / FORM &amp; SPACE &lt;p...</td>\n",
              "    </tr>\n",
              "    <tr>\n",
              "      <th>5</th>\n",
              "      <td>1071124</td>\n",
              "      <td>Quality Management Essentials Simplified</td>\n",
              "      <td>&lt;h4&gt;FREE Quality Essentials e-Course - Diversi...</td>\n",
              "      <td>Diversify your professional skill set with qua...</td>\n",
              "      <td>Business</td>\n",
              "      <td>Management</td>\n",
              "      <td>Gregory Peckford</td>\n",
              "      <td>Corporate quality/improvement/HSE management p...</td>\n",
              "      <td>Free</td>\n",
              "      <td>4.432099</td>\n",
              "      <td>3817</td>\n",
              "      <td>2017-01-11T05:49:32Z</td>\n",
              "      <td>Quality Management Essentials Simplified &lt;h4&gt;F...</td>\n",
              "    </tr>\n",
              "    <tr>\n",
              "      <th>6</th>\n",
              "      <td>1071250</td>\n",
              "      <td>Beginning C++ Game Programming - Part 1</td>\n",
              "      <td>&lt;p&gt;This video course is all about offering you...</td>\n",
              "      <td>Learn C++ from scratch and get started buildin...</td>\n",
              "      <td>Development</td>\n",
              "      <td>Game Development</td>\n",
              "      <td>Packt Publishing</td>\n",
              "      <td>Tech Knowledge in Motion</td>\n",
              "      <td>€94.99</td>\n",
              "      <td>3.600000</td>\n",
              "      <td>133</td>\n",
              "      <td>2017-01-11T07:28:29Z</td>\n",
              "      <td>Beginning C++ Game Programming - Part 1 &lt;p&gt;Thi...</td>\n",
              "    </tr>\n",
              "    <tr>\n",
              "      <th>7</th>\n",
              "      <td>1071416</td>\n",
              "      <td>The Amazon FBA Seller Beginner's Toolkit</td>\n",
              "      <td>&lt;p&gt;&lt;strong&gt;&lt;em&gt;If you are a beginner in the Am...</td>\n",
              "      <td>Start Your Amazon FBA Business easier and with...</td>\n",
              "      <td>Business</td>\n",
              "      <td>E-Commerce</td>\n",
              "      <td>Sorin Constantin</td>\n",
              "      <td>Online Entrepreneur And Marketer</td>\n",
              "      <td>€19.99</td>\n",
              "      <td>3.850000</td>\n",
              "      <td>17</td>\n",
              "      <td>2017-01-11T09:09:30Z</td>\n",
              "      <td>The Amazon FBA Seller Beginner's Toolkit &lt;p&gt;&lt;s...</td>\n",
              "    </tr>\n",
              "    <tr>\n",
              "      <th>8</th>\n",
              "      <td>1071470</td>\n",
              "      <td>Desenvolvedor Android Iniciante</td>\n",
              "      <td>&lt;p&gt;&lt;strong&gt;Desenvolvedor Android Iniciante&lt;/st...</td>\n",
              "      <td>Aprenda conceitos fundamentais do Android para...</td>\n",
              "      <td>Development</td>\n",
              "      <td>Mobile Development</td>\n",
              "      <td>Gabriel Ferrari</td>\n",
              "      <td>Engenheiro de Software</td>\n",
              "      <td>Free</td>\n",
              "      <td>4.685714</td>\n",
              "      <td>10414</td>\n",
              "      <td>2017-01-11T10:13:07Z</td>\n",
              "      <td>Desenvolvedor Android Iniciante &lt;p&gt;&lt;strong&gt;Des...</td>\n",
              "    </tr>\n",
              "    <tr>\n",
              "      <th>9</th>\n",
              "      <td>1071586</td>\n",
              "      <td>Learn real Arabic part 2 (package of 3 intensi...</td>\n",
              "      <td>&lt;p&gt;Welcome to the biggest Arabic course on Ude...</td>\n",
              "      <td>Now speak Arabic (2) Write Arabic Now (2) Arab...</td>\n",
              "      <td>Teaching &amp; Academics</td>\n",
              "      <td>Language Learning</td>\n",
              "      <td>Mohamed Emadeldin Ibrahim Elshenawy</td>\n",
              "      <td>Teacher</td>\n",
              "      <td>€39.99</td>\n",
              "      <td>4.300000</td>\n",
              "      <td>110</td>\n",
              "      <td>2017-01-11T11:49:01Z</td>\n",
              "      <td>Learn real Arabic part 2 (package of 3 intensi...</td>\n",
              "    </tr>\n",
              "  </tbody>\n",
              "</table>\n",
              "</div>"
            ],
            "text/plain": [
              "   Course_id  ...                                 important_features\n",
              "0    1070968  ...  Ultimate Investment Banking Course <p>Our dedi...\n",
              "1    1070976  ...  Complete E-Commerce Course - Java,Spring,Hiber...\n",
              "2    1071018  ...  FL Studio Sytrus Sound Design Course <p>In thi...\n",
              "3    1071060  ...  Django by Example <p>Django is a powerful Pyth...\n",
              "4    1071120  ...  The Art & Science of Drawing / FORM & SPACE <p...\n",
              "5    1071124  ...  Quality Management Essentials Simplified <h4>F...\n",
              "6    1071250  ...  Beginning C++ Game Programming - Part 1 <p>Thi...\n",
              "7    1071416  ...  The Amazon FBA Seller Beginner's Toolkit <p><s...\n",
              "8    1071470  ...  Desenvolvedor Android Iniciante <p><strong>Des...\n",
              "9    1071586  ...  Learn real Arabic part 2 (package of 3 intensi...\n",
              "\n",
              "[10 rows x 13 columns]"
            ]
          },
          "metadata": {},
          "execution_count": 171
        }
      ]
    },
    {
      "cell_type": "code",
      "metadata": {
        "colab": {
          "base_uri": "https://localhost:8080/"
        },
        "id": "BksF3bl4X4ws",
        "outputId": "343e6195-a0bd-4348-b52a-03f3291722dd"
      },
      "source": [
        "# creating stop word\n",
        "stop_words =  stopwords.words('arabic') + stopwords.words('azerbaijani') + stopwords.words('danish') + stopwords.words('dutch') + stopwords.words('english') + stopwords.words('finnish') + stopwords.words('french') + stopwords.words('german') + stopwords.words('greek') + stopwords.words('hungarian') + stopwords.words('indonesian') + stopwords.words('italian') + stopwords.words('kazakh') + stopwords.words('nepali') + stopwords.words('norwegian') + stopwords.words('portuguese') + stopwords.words('romanian') + stopwords.words('russian') + stopwords.words('slovene') + stopwords.words('spanish') + stopwords.words('swedish') + stopwords.words('tajik') + stopwords.words('turkish')\n",
        "print(stop_words)"
      ],
      "execution_count": 140,
      "outputs": [
        {
          "output_type": "stream",
          "name": "stdout",
          "text": [
            "['إذ', 'إذا', 'إذما', 'إذن', 'أف', 'أقل', 'أكثر', 'ألا', 'إلا', 'التي', 'الذي', 'الذين', 'اللاتي', 'اللائي', 'اللتان', 'اللتيا', 'اللتين', 'اللذان', 'اللذين', 'اللواتي', 'إلى', 'إليك', 'إليكم', 'إليكما', 'إليكن', 'أم', 'أما', 'أما', 'إما', 'أن', 'إن', 'إنا', 'أنا', 'أنت', 'أنتم', 'أنتما', 'أنتن', 'إنما', 'إنه', 'أنى', 'أنى', 'آه', 'آها', 'أو', 'أولاء', 'أولئك', 'أوه', 'آي', 'أي', 'أيها', 'إي', 'أين', 'أين', 'أينما', 'إيه', 'بخ', 'بس', 'بعد', 'بعض', 'بك', 'بكم', 'بكم', 'بكما', 'بكن', 'بل', 'بلى', 'بما', 'بماذا', 'بمن', 'بنا', 'به', 'بها', 'بهم', 'بهما', 'بهن', 'بي', 'بين', 'بيد', 'تلك', 'تلكم', 'تلكما', 'ته', 'تي', 'تين', 'تينك', 'ثم', 'ثمة', 'حاشا', 'حبذا', 'حتى', 'حيث', 'حيثما', 'حين', 'خلا', 'دون', 'ذا', 'ذات', 'ذاك', 'ذان', 'ذانك', 'ذلك', 'ذلكم', 'ذلكما', 'ذلكن', 'ذه', 'ذو', 'ذوا', 'ذواتا', 'ذواتي', 'ذي', 'ذين', 'ذينك', 'ريث', 'سوف', 'سوى', 'شتان', 'عدا', 'عسى', 'عل', 'على', 'عليك', 'عليه', 'عما', 'عن', 'عند', 'غير', 'فإذا', 'فإن', 'فلا', 'فمن', 'في', 'فيم', 'فيما', 'فيه', 'فيها', 'قد', 'كأن', 'كأنما', 'كأي', 'كأين', 'كذا', 'كذلك', 'كل', 'كلا', 'كلاهما', 'كلتا', 'كلما', 'كليكما', 'كليهما', 'كم', 'كم', 'كما', 'كي', 'كيت', 'كيف', 'كيفما', 'لا', 'لاسيما', 'لدى', 'لست', 'لستم', 'لستما', 'لستن', 'لسن', 'لسنا', 'لعل', 'لك', 'لكم', 'لكما', 'لكن', 'لكنما', 'لكي', 'لكيلا', 'لم', 'لما', 'لن', 'لنا', 'له', 'لها', 'لهم', 'لهما', 'لهن', 'لو', 'لولا', 'لوما', 'لي', 'لئن', 'ليت', 'ليس', 'ليسا', 'ليست', 'ليستا', 'ليسوا', 'ما', 'ماذا', 'متى', 'مذ', 'مع', 'مما', 'ممن', 'من', 'منه', 'منها', 'منذ', 'مه', 'مهما', 'نحن', 'نحو', 'نعم', 'ها', 'هاتان', 'هاته', 'هاتي', 'هاتين', 'هاك', 'هاهنا', 'هذا', 'هذان', 'هذه', 'هذي', 'هذين', 'هكذا', 'هل', 'هلا', 'هم', 'هما', 'هن', 'هنا', 'هناك', 'هنالك', 'هو', 'هؤلاء', 'هي', 'هيا', 'هيت', 'هيهات', 'والذي', 'والذين', 'وإذ', 'وإذا', 'وإن', 'ولا', 'ولكن', 'ولو', 'وما', 'ومن', 'وهو', 'يا', 'a', 'ad', 'altı', 'altmış', 'amma', 'arasında', 'artıq', 'ay', 'az', 'bax', 'belə', 'bəli', 'bəlkə', 'beş', 'bəy', 'bəzən', 'bəzi', 'bilər', 'bir', 'biraz', 'biri', 'birşey', 'biz', 'bizim', 'bizlər', 'bu', 'buna', 'bundan', 'bunların', 'bunu', 'bunun', 'buradan', 'bütün', 'ci', 'cı', 'çox', 'cu', 'cü', 'çünki', 'da', 'daha', 'də', 'dedi', 'dək', 'dən', 'dəqiqə', 'deyil', 'dir', 'doqquz', 'doqsan', 'dörd', 'düz', 'ə', 'edən', 'edir', 'əgər', 'əlbəttə', 'elə', 'əlli', 'ən', 'əslində', 'et', 'etdi', 'etmə', 'etmək', 'faiz', 'gilə', 'görə', 'ha', 'haqqında', 'harada', 'hə', 'heç', 'həm', 'həmin', 'həmişə', 'hər', 'ı', 'idi', 'iki', 'il', 'ildə', 'ilə', 'ilk', 'in', 'indi', 'isə', 'istifadə', 'iyirmi', 'ki', 'kim', 'kimə', 'kimi', 'lakin', 'lap', 'məhz', 'mən', 'mənə', 'mirşey', 'nə', 'nəhayət', 'niyə', 'o', 'obirisi', 'of', 'olan', 'olar', 'olaraq', 'oldu', 'olduğu', 'olmadı', 'olmaz', 'olmuşdur', 'olsun', 'olur', 'on', 'ona', 'ondan', 'onlar', 'onlardan', 'onların ', 'onsuzda', 'onu', 'onun', 'oradan', 'otuz', 'öz', 'özü', 'qarşı', 'qədər', 'qırx', 'saat', 'sadəcə', 'saniyə', 'səhv', 'səkkiz', 'səksən', 'sən', 'sənə', 'sənin', 'siz', 'sizin', 'sizlər', 'sonra', 'təəssüf', 'ü', 'üç', 'üçün', 'var', 'və', 'xan', 'xanım', 'xeyr', 'ya', 'yalnız', 'yaxşı', 'yeddi', 'yenə', 'yəni', 'yetmiş', 'yox', 'yoxdur', 'yoxsa', 'yüz', 'zaman', 'og', 'i', 'jeg', 'det', 'at', 'en', 'den', 'til', 'er', 'som', 'på', 'de', 'med', 'han', 'af', 'for', 'ikke', 'der', 'var', 'mig', 'sig', 'men', 'et', 'har', 'om', 'vi', 'min', 'havde', 'ham', 'hun', 'nu', 'over', 'da', 'fra', 'du', 'ud', 'sin', 'dem', 'os', 'op', 'man', 'hans', 'hvor', 'eller', 'hvad', 'skal', 'selv', 'her', 'alle', 'vil', 'blev', 'kunne', 'ind', 'når', 'være', 'dog', 'noget', 'ville', 'jo', 'deres', 'efter', 'ned', 'skulle', 'denne', 'end', 'dette', 'mit', 'også', 'under', 'have', 'dig', 'anden', 'hende', 'mine', 'alt', 'meget', 'sit', 'sine', 'vor', 'mod', 'disse', 'hvis', 'din', 'nogle', 'hos', 'blive', 'mange', 'ad', 'bliver', 'hendes', 'været', 'thi', 'jer', 'sådan', 'de', 'en', 'van', 'ik', 'te', 'dat', 'die', 'in', 'een', 'hij', 'het', 'niet', 'zijn', 'is', 'was', 'op', 'aan', 'met', 'als', 'voor', 'had', 'er', 'maar', 'om', 'hem', 'dan', 'zou', 'of', 'wat', 'mijn', 'men', 'dit', 'zo', 'door', 'over', 'ze', 'zich', 'bij', 'ook', 'tot', 'je', 'mij', 'uit', 'der', 'daar', 'haar', 'naar', 'heb', 'hoe', 'heeft', 'hebben', 'deze', 'u', 'want', 'nog', 'zal', 'me', 'zij', 'nu', 'ge', 'geen', 'omdat', 'iets', 'worden', 'toch', 'al', 'waren', 'veel', 'meer', 'doen', 'toen', 'moet', 'ben', 'zonder', 'kan', 'hun', 'dus', 'alles', 'onder', 'ja', 'eens', 'hier', 'wie', 'werd', 'altijd', 'doch', 'wordt', 'wezen', 'kunnen', 'ons', 'zelf', 'tegen', 'na', 'reeds', 'wil', 'kon', 'niets', 'uw', 'iemand', 'geweest', 'andere', 'i', 'me', 'my', 'myself', 'we', 'our', 'ours', 'ourselves', 'you', \"you're\", \"you've\", \"you'll\", \"you'd\", 'your', 'yours', 'yourself', 'yourselves', 'he', 'him', 'his', 'himself', 'she', \"she's\", 'her', 'hers', 'herself', 'it', \"it's\", 'its', 'itself', 'they', 'them', 'their', 'theirs', 'themselves', 'what', 'which', 'who', 'whom', 'this', 'that', \"that'll\", 'these', 'those', 'am', 'is', 'are', 'was', 'were', 'be', 'been', 'being', 'have', 'has', 'had', 'having', 'do', 'does', 'did', 'doing', 'a', 'an', 'the', 'and', 'but', 'if', 'or', 'because', 'as', 'until', 'while', 'of', 'at', 'by', 'for', 'with', 'about', 'against', 'between', 'into', 'through', 'during', 'before', 'after', 'above', 'below', 'to', 'from', 'up', 'down', 'in', 'out', 'on', 'off', 'over', 'under', 'again', 'further', 'then', 'once', 'here', 'there', 'when', 'where', 'why', 'how', 'all', 'any', 'both', 'each', 'few', 'more', 'most', 'other', 'some', 'such', 'no', 'nor', 'not', 'only', 'own', 'same', 'so', 'than', 'too', 'very', 's', 't', 'can', 'will', 'just', 'don', \"don't\", 'should', \"should've\", 'now', 'd', 'll', 'm', 'o', 're', 've', 'y', 'ain', 'aren', \"aren't\", 'couldn', \"couldn't\", 'didn', \"didn't\", 'doesn', \"doesn't\", 'hadn', \"hadn't\", 'hasn', \"hasn't\", 'haven', \"haven't\", 'isn', \"isn't\", 'ma', 'mightn', \"mightn't\", 'mustn', \"mustn't\", 'needn', \"needn't\", 'shan', \"shan't\", 'shouldn', \"shouldn't\", 'wasn', \"wasn't\", 'weren', \"weren't\", 'won', \"won't\", 'wouldn', \"wouldn't\", 'olla', 'olen', 'olet', 'on', 'olemme', 'olette', 'ovat', 'ole', 'oli', 'olisi', 'olisit', 'olisin', 'olisimme', 'olisitte', 'olisivat', 'olit', 'olin', 'olimme', 'olitte', 'olivat', 'ollut', 'olleet', 'en', 'et', 'ei', 'emme', 'ette', 'eivät', 'minä', 'minun', 'minut', 'minua', 'minussa', 'minusta', 'minuun', 'minulla', 'minulta', 'minulle', 'sinä', 'sinun', 'sinut', 'sinua', 'sinussa', 'sinusta', 'sinuun', 'sinulla', 'sinulta', 'sinulle', 'hän', 'hänen', 'hänet', 'häntä', 'hänessä', 'hänestä', 'häneen', 'hänellä', 'häneltä', 'hänelle', 'me', 'meidän', 'meidät', 'meitä', 'meissä', 'meistä', 'meihin', 'meillä', 'meiltä', 'meille', 'te', 'teidän', 'teidät', 'teitä', 'teissä', 'teistä', 'teihin', 'teillä', 'teiltä', 'teille', 'he', 'heidän', 'heidät', 'heitä', 'heissä', 'heistä', 'heihin', 'heillä', 'heiltä', 'heille', 'tämä', 'tämän', 'tätä', 'tässä', 'tästä', 'tähän', 'tallä', 'tältä', 'tälle', 'tänä', 'täksi', 'tuo', 'tuon', 'tuotä', 'tuossa', 'tuosta', 'tuohon', 'tuolla', 'tuolta', 'tuolle', 'tuona', 'tuoksi', 'se', 'sen', 'sitä', 'siinä', 'siitä', 'siihen', 'sillä', 'siltä', 'sille', 'sinä', 'siksi', 'nämä', 'näiden', 'näitä', 'näissä', 'näistä', 'näihin', 'näillä', 'näiltä', 'näille', 'näinä', 'näiksi', 'nuo', 'noiden', 'noita', 'noissa', 'noista', 'noihin', 'noilla', 'noilta', 'noille', 'noina', 'noiksi', 'ne', 'niiden', 'niitä', 'niissä', 'niistä', 'niihin', 'niillä', 'niiltä', 'niille', 'niinä', 'niiksi', 'kuka', 'kenen', 'kenet', 'ketä', 'kenessä', 'kenestä', 'keneen', 'kenellä', 'keneltä', 'kenelle', 'kenenä', 'keneksi', 'ketkä', 'keiden', 'ketkä', 'keitä', 'keissä', 'keistä', 'keihin', 'keillä', 'keiltä', 'keille', 'keinä', 'keiksi', 'mikä', 'minkä', 'minkä', 'mitä', 'missä', 'mistä', 'mihin', 'millä', 'miltä', 'mille', 'minä', 'miksi', 'mitkä', 'joka', 'jonka', 'jota', 'jossa', 'josta', 'johon', 'jolla', 'jolta', 'jolle', 'jona', 'joksi', 'jotka', 'joiden', 'joita', 'joissa', 'joista', 'joihin', 'joilla', 'joilta', 'joille', 'joina', 'joiksi', 'että', 'ja', 'jos', 'koska', 'kuin', 'mutta', 'niin', 'sekä', 'sillä', 'tai', 'vaan', 'vai', 'vaikka', 'kanssa', 'mukaan', 'noin', 'poikki', 'yli', 'kun', 'niin', 'nyt', 'itse', 'au', 'aux', 'avec', 'ce', 'ces', 'dans', 'de', 'des', 'du', 'elle', 'en', 'et', 'eux', 'il', 'ils', 'je', 'la', 'le', 'les', 'leur', 'lui', 'ma', 'mais', 'me', 'même', 'mes', 'moi', 'mon', 'ne', 'nos', 'notre', 'nous', 'on', 'ou', 'par', 'pas', 'pour', 'qu', 'que', 'qui', 'sa', 'se', 'ses', 'son', 'sur', 'ta', 'te', 'tes', 'toi', 'ton', 'tu', 'un', 'une', 'vos', 'votre', 'vous', 'c', 'd', 'j', 'l', 'à', 'm', 'n', 's', 't', 'y', 'été', 'étée', 'étées', 'étés', 'étant', 'étante', 'étants', 'étantes', 'suis', 'es', 'est', 'sommes', 'êtes', 'sont', 'serai', 'seras', 'sera', 'serons', 'serez', 'seront', 'serais', 'serait', 'serions', 'seriez', 'seraient', 'étais', 'était', 'étions', 'étiez', 'étaient', 'fus', 'fut', 'fûmes', 'fûtes', 'furent', 'sois', 'soit', 'soyons', 'soyez', 'soient', 'fusse', 'fusses', 'fût', 'fussions', 'fussiez', 'fussent', 'ayant', 'ayante', 'ayantes', 'ayants', 'eu', 'eue', 'eues', 'eus', 'ai', 'as', 'avons', 'avez', 'ont', 'aurai', 'auras', 'aura', 'aurons', 'aurez', 'auront', 'aurais', 'aurait', 'aurions', 'auriez', 'auraient', 'avais', 'avait', 'avions', 'aviez', 'avaient', 'eut', 'eûmes', 'eûtes', 'eurent', 'aie', 'aies', 'ait', 'ayons', 'ayez', 'aient', 'eusse', 'eusses', 'eût', 'eussions', 'eussiez', 'eussent', 'aber', 'alle', 'allem', 'allen', 'aller', 'alles', 'als', 'also', 'am', 'an', 'ander', 'andere', 'anderem', 'anderen', 'anderer', 'anderes', 'anderm', 'andern', 'anderr', 'anders', 'auch', 'auf', 'aus', 'bei', 'bin', 'bis', 'bist', 'da', 'damit', 'dann', 'der', 'den', 'des', 'dem', 'die', 'das', 'dass', 'daß', 'derselbe', 'derselben', 'denselben', 'desselben', 'demselben', 'dieselbe', 'dieselben', 'dasselbe', 'dazu', 'dein', 'deine', 'deinem', 'deinen', 'deiner', 'deines', 'denn', 'derer', 'dessen', 'dich', 'dir', 'du', 'dies', 'diese', 'diesem', 'diesen', 'dieser', 'dieses', 'doch', 'dort', 'durch', 'ein', 'eine', 'einem', 'einen', 'einer', 'eines', 'einig', 'einige', 'einigem', 'einigen', 'einiger', 'einiges', 'einmal', 'er', 'ihn', 'ihm', 'es', 'etwas', 'euer', 'eure', 'eurem', 'euren', 'eurer', 'eures', 'für', 'gegen', 'gewesen', 'hab', 'habe', 'haben', 'hat', 'hatte', 'hatten', 'hier', 'hin', 'hinter', 'ich', 'mich', 'mir', 'ihr', 'ihre', 'ihrem', 'ihren', 'ihrer', 'ihres', 'euch', 'im', 'in', 'indem', 'ins', 'ist', 'jede', 'jedem', 'jeden', 'jeder', 'jedes', 'jene', 'jenem', 'jenen', 'jener', 'jenes', 'jetzt', 'kann', 'kein', 'keine', 'keinem', 'keinen', 'keiner', 'keines', 'können', 'könnte', 'machen', 'man', 'manche', 'manchem', 'manchen', 'mancher', 'manches', 'mein', 'meine', 'meinem', 'meinen', 'meiner', 'meines', 'mit', 'muss', 'musste', 'nach', 'nicht', 'nichts', 'noch', 'nun', 'nur', 'ob', 'oder', 'ohne', 'sehr', 'sein', 'seine', 'seinem', 'seinen', 'seiner', 'seines', 'selbst', 'sich', 'sie', 'ihnen', 'sind', 'so', 'solche', 'solchem', 'solchen', 'solcher', 'solches', 'soll', 'sollte', 'sondern', 'sonst', 'über', 'um', 'und', 'uns', 'unsere', 'unserem', 'unseren', 'unser', 'unseres', 'unter', 'viel', 'vom', 'von', 'vor', 'während', 'war', 'waren', 'warst', 'was', 'weg', 'weil', 'weiter', 'welche', 'welchem', 'welchen', 'welcher', 'welches', 'wenn', 'werde', 'werden', 'wie', 'wieder', 'will', 'wir', 'wird', 'wirst', 'wo', 'wollen', 'wollte', 'würde', 'würden', 'zu', 'zum', 'zur', 'zwar', 'zwischen', 'αλλα', 'αν', 'αντι', 'απο', 'αυτα', 'αυτεσ', 'αυτη', 'αυτο', 'αυτοι', 'αυτοσ', 'αυτουσ', 'αυτων', 'αἱ', 'αἳ', 'αἵ', 'αὐτόσ', 'αὐτὸς', 'αὖ', 'γάρ', 'γα', 'γα^', 'γε', 'για', 'γοῦν', 'γὰρ', \"δ'\", 'δέ', 'δή', 'δαί', 'δαίσ', 'δαὶ', 'δαὶς', 'δε', 'δεν', \"δι'\", 'διά', 'διὰ', 'δὲ', 'δὴ', 'δ’', 'εαν', 'ειμαι', 'ειμαστε', 'ειναι', 'εισαι', 'ειστε', 'εκεινα', 'εκεινεσ', 'εκεινη', 'εκεινο', 'εκεινοι', 'εκεινοσ', 'εκεινουσ', 'εκεινων', 'ενω', 'επ', 'επι', 'εἰ', 'εἰμί', 'εἰμὶ', 'εἰς', 'εἰσ', 'εἴ', 'εἴμι', 'εἴτε', 'η', 'θα', 'ισωσ', 'κ', 'καί', 'καίτοι', 'καθ', 'και', 'κατ', 'κατά', 'κατα', 'κατὰ', 'καὶ', 'κι', 'κἀν', 'κἂν', 'μέν', 'μή', 'μήτε', 'μα', 'με', 'μεθ', 'μετ', 'μετά', 'μετα', 'μετὰ', 'μη', 'μην', 'μἐν', 'μὲν', 'μὴ', 'μὴν', 'να', 'ο', 'οι', 'ομωσ', 'οπωσ', 'οσο', 'οτι', 'οἱ', 'οἳ', 'οἷς', 'οὐ', 'οὐδ', 'οὐδέ', 'οὐδείσ', 'οὐδεὶς', 'οὐδὲ', 'οὐδὲν', 'οὐκ', 'οὐχ', 'οὐχὶ', 'οὓς', 'οὔτε', 'οὕτω', 'οὕτως', 'οὕτωσ', 'οὖν', 'οὗ', 'οὗτος', 'οὗτοσ', 'παρ', 'παρά', 'παρα', 'παρὰ', 'περί', 'περὶ', 'ποια', 'ποιεσ', 'ποιο', 'ποιοι', 'ποιοσ', 'ποιουσ', 'ποιων', 'ποτε', 'που', 'ποῦ', 'προ', 'προσ', 'πρόσ', 'πρὸ', 'πρὸς', 'πως', 'πωσ', 'σε', 'στη', 'στην', 'στο', 'στον', 'σόσ', 'σύ', 'σύν', 'σὸς', 'σὺ', 'σὺν', 'τά', 'τήν', 'τί', 'τίς', 'τίσ', 'τα', 'ταῖς', 'τε', 'την', 'τησ', 'τι', 'τινα', 'τις', 'τισ', 'το', 'τοί', 'τοι', 'τοιοῦτος', 'τοιοῦτοσ', 'τον', 'τοτε', 'του', 'τούσ', 'τοὺς', 'τοῖς', 'τοῦ', 'των', 'τό', 'τόν', 'τότε', 'τὰ', 'τὰς', 'τὴν', 'τὸ', 'τὸν', 'τῆς', 'τῆσ', 'τῇ', 'τῶν', 'τῷ', 'ωσ', \"ἀλλ'\", 'ἀλλά', 'ἀλλὰ', 'ἀλλ’', 'ἀπ', 'ἀπό', 'ἀπὸ', 'ἀφ', 'ἂν', 'ἃ', 'ἄλλος', 'ἄλλοσ', 'ἄν', 'ἄρα', 'ἅμα', 'ἐάν', 'ἐγώ', 'ἐγὼ', 'ἐκ', 'ἐμόσ', 'ἐμὸς', 'ἐν', 'ἐξ', 'ἐπί', 'ἐπεὶ', 'ἐπὶ', 'ἐστι', 'ἐφ', 'ἐὰν', 'ἑαυτοῦ', 'ἔτι', 'ἡ', 'ἢ', 'ἣ', 'ἤ', 'ἥ', 'ἧς', 'ἵνα', 'ὁ', 'ὃ', 'ὃν', 'ὃς', 'ὅ', 'ὅδε', 'ὅθεν', 'ὅπερ', 'ὅς', 'ὅσ', 'ὅστις', 'ὅστισ', 'ὅτε', 'ὅτι', 'ὑμόσ', 'ὑπ', 'ὑπέρ', 'ὑπό', 'ὑπὲρ', 'ὑπὸ', 'ὡς', 'ὡσ', 'ὥς', 'ὥστε', 'ὦ', 'ᾧ', 'a', 'ahogy', 'ahol', 'aki', 'akik', 'akkor', 'alatt', 'által', 'általában', 'amely', 'amelyek', 'amelyekben', 'amelyeket', 'amelyet', 'amelynek', 'ami', 'amit', 'amolyan', 'amíg', 'amikor', 'át', 'abban', 'ahhoz', 'annak', 'arra', 'arról', 'az', 'azok', 'azon', 'azt', 'azzal', 'azért', 'aztán', 'azután', 'azonban', 'bár', 'be', 'belül', 'benne', 'cikk', 'cikkek', 'cikkeket', 'csak', 'de', 'e', 'eddig', 'egész', 'egy', 'egyes', 'egyetlen', 'egyéb', 'egyik', 'egyre', 'ekkor', 'el', 'elég', 'ellen', 'elõ', 'elõször', 'elõtt', 'elsõ', 'én', 'éppen', 'ebben', 'ehhez', 'emilyen', 'ennek', 'erre', 'ez', 'ezt', 'ezek', 'ezen', 'ezzel', 'ezért', 'és', 'fel', 'felé', 'hanem', 'hiszen', 'hogy', 'hogyan', 'igen', 'így', 'illetve', 'ill.', 'ill', 'ilyen', 'ilyenkor', 'ison', 'ismét', 'itt', 'jó', 'jól', 'jobban', 'kell', 'kellett', 'keresztül', 'keressünk', 'ki', 'kívül', 'között', 'közül', 'legalább', 'lehet', 'lehetett', 'legyen', 'lenne', 'lenni', 'lesz', 'lett', 'maga', 'magát', 'majd', 'majd', 'már', 'más', 'másik', 'meg', 'még', 'mellett', 'mert', 'mely', 'melyek', 'mi', 'mit', 'míg', 'miért', 'milyen', 'mikor', 'minden', 'mindent', 'mindenki', 'mindig', 'mint', 'mintha', 'mivel', 'most', 'nagy', 'nagyobb', 'nagyon', 'ne', 'néha', 'nekem', 'neki', 'nem', 'néhány', 'nélkül', 'nincs', 'olyan', 'ott', 'össze', 'õ', 'õk', 'õket', 'pedig', 'persze', 'rá', 's', 'saját', 'sem', 'semmi', 'sok', 'sokat', 'sokkal', 'számára', 'szemben', 'szerint', 'szinte', 'talán', 'tehát', 'teljes', 'tovább', 'továbbá', 'több', 'úgy', 'ugyanis', 'új', 'újabb', 'újra', 'után', 'utána', 'utolsó', 'vagy', 'vagyis', 'valaki', 'valami', 'valamint', 'való', 'vagyok', 'van', 'vannak', 'volt', 'voltam', 'voltak', 'voltunk', 'vissza', 'vele', 'viszont', 'volna', 'ada', 'adalah', 'adanya', 'adapun', 'agak', 'agaknya', 'agar', 'akan', 'akankah', 'akhir', 'akhiri', 'akhirnya', 'aku', 'akulah', 'amat', 'amatlah', 'anda', 'andalah', 'antar', 'antara', 'antaranya', 'apa', 'apaan', 'apabila', 'apakah', 'apalagi', 'apatah', 'artinya', 'asal', 'asalkan', 'atas', 'atau', 'ataukah', 'ataupun', 'awal', 'awalnya', 'bagai', 'bagaikan', 'bagaimana', 'bagaimanakah', 'bagaimanapun', 'bagi', 'bagian', 'bahkan', 'bahwa', 'bahwasanya', 'baik', 'bakal', 'bakalan', 'balik', 'banyak', 'bapak', 'baru', 'bawah', 'beberapa', 'begini', 'beginian', 'beginikah', 'beginilah', 'begitu', 'begitukah', 'begitulah', 'begitupun', 'bekerja', 'belakang', 'belakangan', 'belum', 'belumlah', 'benar', 'benarkah', 'benarlah', 'berada', 'berakhir', 'berakhirlah', 'berakhirnya', 'berapa', 'berapakah', 'berapalah', 'berapapun', 'berarti', 'berawal', 'berbagai', 'berdatangan', 'beri', 'berikan', 'berikut', 'berikutnya', 'berjumlah', 'berkali-kali', 'berkata', 'berkehendak', 'berkeinginan', 'berkenaan', 'berlainan', 'berlalu', 'berlangsung', 'berlebihan', 'bermacam', 'bermacam-macam', 'bermaksud', 'bermula', 'bersama', 'bersama-sama', 'bersiap', 'bersiap-siap', 'bertanya', 'bertanya-tanya', 'berturut', 'berturut-turut', 'bertutur', 'berujar', 'berupa', 'besar', 'betul', 'betulkah', 'biasa', 'biasanya', 'bila', 'bilakah', 'bisa', 'bisakah', 'boleh', 'bolehkah', 'bolehlah', 'buat', 'bukan', 'bukankah', 'bukanlah', 'bukannya', 'bulan', 'bung', 'cara', 'caranya', 'cukup', 'cukupkah', 'cukuplah', 'cuma', 'dahulu', 'dalam', 'dan', 'dapat', 'dari', 'daripada', 'datang', 'dekat', 'demi', 'demikian', 'demikianlah', 'dengan', 'depan', 'di', 'dia', 'diakhiri', 'diakhirinya', 'dialah', 'diantara', 'diantaranya', 'diberi', 'diberikan', 'diberikannya', 'dibuat', 'dibuatnya', 'didapat', 'didatangkan', 'digunakan', 'diibaratkan', 'diibaratkannya', 'diingat', 'diingatkan', 'diinginkan', 'dijawab', 'dijelaskan', 'dijelaskannya', 'dikarenakan', 'dikatakan', 'dikatakannya', 'dikerjakan', 'diketahui', 'diketahuinya', 'dikira', 'dilakukan', 'dilalui', 'dilihat', 'dimaksud', 'dimaksudkan', 'dimaksudkannya', 'dimaksudnya', 'diminta', 'dimintai', 'dimisalkan', 'dimulai', 'dimulailah', 'dimulainya', 'dimungkinkan', 'dini', 'dipastikan', 'diperbuat', 'diperbuatnya', 'dipergunakan', 'diperkirakan', 'diperlihatkan', 'diperlukan', 'diperlukannya', 'dipersoalkan', 'dipertanyakan', 'dipunyai', 'diri', 'dirinya', 'disampaikan', 'disebut', 'disebutkan', 'disebutkannya', 'disini', 'disinilah', 'ditambahkan', 'ditandaskan', 'ditanya', 'ditanyai', 'ditanyakan', 'ditegaskan', 'ditujukan', 'ditunjuk', 'ditunjuki', 'ditunjukkan', 'ditunjukkannya', 'ditunjuknya', 'dituturkan', 'dituturkannya', 'diucapkan', 'diucapkannya', 'diungkapkan', 'dong', 'dua', 'dulu', 'empat', 'enggak', 'enggaknya', 'entah', 'entahlah', 'guna', 'gunakan', 'hal', 'hampir', 'hanya', 'hanyalah', 'hari', 'harus', 'haruslah', 'harusnya', 'hendak', 'hendaklah', 'hendaknya', 'hingga', 'ia', 'ialah', 'ibarat', 'ibaratkan', 'ibaratnya', 'ibu', 'ikut', 'ingat', 'ingat-ingat', 'ingin', 'inginkah', 'inginkan', 'ini', 'inikah', 'inilah', 'itu', 'itukah', 'itulah', 'jadi', 'jadilah', 'jadinya', 'jangan', 'jangankan', 'janganlah', 'jauh', 'jawab', 'jawaban', 'jawabnya', 'jelas', 'jelaskan', 'jelaslah', 'jelasnya', 'jika', 'jikalau', 'juga', 'jumlah', 'jumlahnya', 'justru', 'kala', 'kalau', 'kalaulah', 'kalaupun', 'kalian', 'kami', 'kamilah', 'kamu', 'kamulah', 'kan', 'kapan', 'kapankah', 'kapanpun', 'karena', 'karenanya', 'kasus', 'kata', 'katakan', 'katakanlah', 'katanya', 'ke', 'keadaan', 'kebetulan', 'kecil', 'kedua', 'keduanya', 'keinginan', 'kelamaan', 'kelihatan', 'kelihatannya', 'kelima', 'keluar', 'kembali', 'kemudian', 'kemungkinan', 'kemungkinannya', 'kenapa', 'kepada', 'kepadanya', 'kesampaian', 'keseluruhan', 'keseluruhannya', 'keterlaluan', 'ketika', 'khususnya', 'kini', 'kinilah', 'kira', 'kira-kira', 'kiranya', 'kita', 'kitalah', 'kok', 'kurang', 'lagi', 'lagian', 'lah', 'lain', 'lainnya', 'lalu', 'lama', 'lamanya', 'lanjut', 'lanjutnya', 'lebih', 'lewat', 'lima', 'luar', 'macam', 'maka', 'makanya', 'makin', 'malah', 'malahan', 'mampu', 'mampukah', 'mana', 'manakala', 'manalagi', 'masa', 'masalah', 'masalahnya', 'masih', 'masihkah', 'masing', 'masing-masing', 'mau', 'maupun', 'melainkan', 'melakukan', 'melalui', 'melihat', 'melihatnya', 'memang', 'memastikan', 'memberi', 'memberikan', 'membuat', 'memerlukan', 'memihak', 'meminta', 'memintakan', 'memisalkan', 'memperbuat', 'mempergunakan', 'memperkirakan', 'memperlihatkan', 'mempersiapkan', 'mempersoalkan', 'mempertanyakan', 'mempunyai', 'memulai', 'memungkinkan', 'menaiki', 'menambahkan', 'menandaskan', 'menanti', 'menanti-nanti', 'menantikan', 'menanya', 'menanyai', 'menanyakan', 'mendapat', 'mendapatkan', 'mendatang', 'mendatangi', 'mendatangkan', 'menegaskan', 'mengakhiri', 'mengapa', 'mengatakan', 'mengatakannya', 'mengenai', 'mengerjakan', 'mengetahui', 'menggunakan', 'menghendaki', 'mengibaratkan', 'mengibaratkannya', 'mengingat', 'mengingatkan', 'menginginkan', 'mengira', 'mengucapkan', 'mengucapkannya', 'mengungkapkan', 'menjadi', 'menjawab', 'menjelaskan', 'menuju', 'menunjuk', 'menunjuki', 'menunjukkan', 'menunjuknya', 'menurut', 'menuturkan', 'menyampaikan', 'menyangkut', 'menyatakan', 'menyebutkan', 'menyeluruh', 'menyiapkan', 'merasa', 'mereka', 'merekalah', 'merupakan', 'meski', 'meskipun', 'meyakini', 'meyakinkan', 'minta', 'mirip', 'misal', 'misalkan', 'misalnya', 'mula', 'mulai', 'mulailah', 'mulanya', 'mungkin', 'mungkinkah', 'nah', 'naik', 'namun', 'nanti', 'nantinya', 'nyaris', 'nyatanya', 'oleh', 'olehnya', 'pada', 'padahal', 'padanya', 'pak', 'paling', 'panjang', 'pantas', 'para', 'pasti', 'pastilah', 'penting', 'pentingnya', 'per', 'percuma', 'perlu', 'perlukah', 'perlunya', 'pernah', 'persoalan', 'pertama', 'pertama-tama', 'pertanyaan', 'pertanyakan', 'pihak', 'pihaknya', 'pukul', 'pula', 'pun', 'punya', 'rasa', 'rasanya', 'rata', 'rupanya', 'saat', 'saatnya', 'saja', 'sajalah', 'saling', 'sama', 'sama-sama', 'sambil', 'sampai', 'sampai-sampai', 'sampaikan', 'sana', 'sangat', 'sangatlah', 'satu', 'saya', 'sayalah', 'se', 'sebab', 'sebabnya', 'sebagai', 'sebagaimana', 'sebagainya', 'sebagian', 'sebaik', 'sebaik-baiknya', 'sebaiknya', 'sebaliknya', 'sebanyak', 'sebegini', 'sebegitu', 'sebelum', 'sebelumnya', 'sebenarnya', 'seberapa', 'sebesar', 'sebetulnya', 'sebisanya', 'sebuah', 'sebut', 'sebutlah', 'sebutnya', 'secara', 'secukupnya', 'sedang', 'sedangkan', 'sedemikian', 'sedikit', 'sedikitnya', 'seenaknya', 'segala', 'segalanya', 'segera', 'seharusnya', 'sehingga', 'seingat', 'sejak', 'sejauh', 'sejenak', 'sejumlah', 'sekadar', 'sekadarnya', 'sekali', 'sekali-kali', 'sekalian', 'sekaligus', 'sekalipun', 'sekarang', 'sekarang', 'sekecil', 'seketika', 'sekiranya', 'sekitar', 'sekitarnya', 'sekurang-kurangnya', 'sekurangnya', 'sela', 'selain', 'selaku', 'selalu', 'selama', 'selama-lamanya', 'selamanya', 'selanjutnya', 'seluruh', 'seluruhnya', 'semacam', 'semakin', 'semampu', 'semampunya', 'semasa', 'semasih', 'semata', 'semata-mata', 'semaunya', 'sementara', 'semisal', 'semisalnya', 'sempat', 'semua', 'semuanya', 'semula', 'sendiri', 'sendirian', 'sendirinya', 'seolah', 'seolah-olah', 'seorang', 'sepanjang', 'sepantasnya', 'sepantasnyalah', 'seperlunya', 'seperti', 'sepertinya', 'sepihak', 'sering', 'seringnya', 'serta', 'serupa', 'sesaat', 'sesama', 'sesampai', 'sesegera', 'sesekali', 'seseorang', 'sesuatu', 'sesuatunya', 'sesudah', 'sesudahnya', 'setelah', 'setempat', 'setengah', 'seterusnya', 'setiap', 'setiba', 'setibanya', 'setidak-tidaknya', 'setidaknya', 'setinggi', 'seusai', 'sewaktu', 'siap', 'siapa', 'siapakah', 'siapapun', 'sini', 'sinilah', 'soal', 'soalnya', 'suatu', 'sudah', 'sudahkah', 'sudahlah', 'supaya', 'tadi', 'tadinya', 'tahu', 'tahun', 'tak', 'tambah', 'tambahnya', 'tampak', 'tampaknya', 'tandas', 'tandasnya', 'tanpa', 'tanya', 'tanyakan', 'tanyanya', 'tapi', 'tegas', 'tegasnya', 'telah', 'tempat', 'tengah', 'tentang', 'tentu', 'tentulah', 'tentunya', 'tepat', 'terakhir', 'terasa', 'terbanyak', 'terdahulu', 'terdapat', 'terdiri', 'terhadap', 'terhadapnya', 'teringat', 'teringat-ingat', 'terjadi', 'terjadilah', 'terjadinya', 'terkira', 'terlalu', 'terlebih', 'terlihat', 'termasuk', 'ternyata', 'tersampaikan', 'tersebut', 'tersebutlah', 'tertentu', 'tertuju', 'terus', 'terutama', 'tetap', 'tetapi', 'tiap', 'tiba', 'tiba-tiba', 'tidak', 'tidakkah', 'tidaklah', 'tiga', 'tinggi', 'toh', 'tunjuk', 'turut', 'tutur', 'tuturnya', 'ucap', 'ucapnya', 'ujar', 'ujarnya', 'umum', 'umumnya', 'ungkap', 'ungkapnya', 'untuk', 'usah', 'usai', 'waduh', 'wah', 'wahai', 'waktu', 'waktunya', 'walau', 'walaupun', 'wong', 'yaitu', 'yakin', 'yakni', 'yang', 'ad', 'al', 'allo', 'ai', 'agli', 'all', 'agl', 'alla', 'alle', 'con', 'col', 'coi', 'da', 'dal', 'dallo', 'dai', 'dagli', 'dall', 'dagl', 'dalla', 'dalle', 'di', 'del', 'dello', 'dei', 'degli', 'dell', 'degl', 'della', 'delle', 'in', 'nel', 'nello', 'nei', 'negli', 'nell', 'negl', 'nella', 'nelle', 'su', 'sul', 'sullo', 'sui', 'sugli', 'sull', 'sugl', 'sulla', 'sulle', 'per', 'tra', 'contro', 'io', 'tu', 'lui', 'lei', 'noi', 'voi', 'loro', 'mio', 'mia', 'miei', 'mie', 'tuo', 'tua', 'tuoi', 'tue', 'suo', 'sua', 'suoi', 'sue', 'nostro', 'nostra', 'nostri', 'nostre', 'vostro', 'vostra', 'vostri', 'vostre', 'mi', 'ti', 'ci', 'vi', 'lo', 'la', 'li', 'le', 'gli', 'ne', 'il', 'un', 'uno', 'una', 'ma', 'ed', 'se', 'perché', 'anche', 'come', 'dov', 'dove', 'che', 'chi', 'cui', 'non', 'più', 'quale', 'quanto', 'quanti', 'quanta', 'quante', 'quello', 'quelli', 'quella', 'quelle', 'questo', 'questi', 'questa', 'queste', 'si', 'tutto', 'tutti', 'a', 'c', 'e', 'i', 'l', 'o', 'ho', 'hai', 'ha', 'abbiamo', 'avete', 'hanno', 'abbia', 'abbiate', 'abbiano', 'avrò', 'avrai', 'avrà', 'avremo', 'avrete', 'avranno', 'avrei', 'avresti', 'avrebbe', 'avremmo', 'avreste', 'avrebbero', 'avevo', 'avevi', 'aveva', 'avevamo', 'avevate', 'avevano', 'ebbi', 'avesti', 'ebbe', 'avemmo', 'aveste', 'ebbero', 'avessi', 'avesse', 'avessimo', 'avessero', 'avendo', 'avuto', 'avuta', 'avuti', 'avute', 'sono', 'sei', 'è', 'siamo', 'siete', 'sia', 'siate', 'siano', 'sarò', 'sarai', 'sarà', 'saremo', 'sarete', 'saranno', 'sarei', 'saresti', 'sarebbe', 'saremmo', 'sareste', 'sarebbero', 'ero', 'eri', 'era', 'eravamo', 'eravate', 'erano', 'fui', 'fosti', 'fu', 'fummo', 'foste', 'furono', 'fossi', 'fosse', 'fossimo', 'fossero', 'essendo', 'faccio', 'fai', 'facciamo', 'fanno', 'faccia', 'facciate', 'facciano', 'farò', 'farai', 'farà', 'faremo', 'farete', 'faranno', 'farei', 'faresti', 'farebbe', 'faremmo', 'fareste', 'farebbero', 'facevo', 'facevi', 'faceva', 'facevamo', 'facevate', 'facevano', 'feci', 'facesti', 'fece', 'facemmo', 'faceste', 'fecero', 'facessi', 'facesse', 'facessimo', 'facessero', 'facendo', 'sto', 'stai', 'sta', 'stiamo', 'stanno', 'stia', 'stiate', 'stiano', 'starò', 'starai', 'starà', 'staremo', 'starete', 'staranno', 'starei', 'staresti', 'starebbe', 'staremmo', 'stareste', 'starebbero', 'stavo', 'stavi', 'stava', 'stavamo', 'stavate', 'stavano', 'stetti', 'stesti', 'stette', 'stemmo', 'steste', 'stettero', 'stessi', 'stesse', 'stessimo', 'stessero', 'stando', 'ах', 'ох', 'эх', 'ай', 'эй', 'ой', 'тағы', 'тағыда', 'әрине', 'жоқ', 'сондай', 'осындай', 'осылай', 'солай', 'мұндай', 'бұндай', 'мен', 'сен', 'ол', 'біз', 'біздер', 'олар', 'сіз', 'сіздер', 'маған', 'оған', 'саған', 'біздің', 'сіздің', 'оның', 'бізге', 'сізге', 'оларға', 'біздерге', 'сіздерге', 'оларға', 'менімен', 'сенімен', 'онымен', 'бізбен', 'сізбен', 'олармен', 'біздермен', 'сіздермен', 'менің', 'сенің', 'біздің', 'сіздің', 'оның', 'біздердің', 'сіздердің', 'олардың', 'маған', 'саған', 'оған', 'менен', 'сенен', 'одан', 'бізден', 'сізден', 'олардан', 'біздерден', 'сіздерден', 'олардан', 'айтпақшы', 'сонымен', 'сондықтан', 'бұл', 'осы', 'сол', 'анау', 'мынау', 'сонау', 'осынау', 'ана', 'мына', 'сона', 'әні', 'міне', 'өй', 'үйт', 'бүйт', 'біреу', 'кейбіреу', 'кейбір', 'қайсыбір', 'әрбір', 'бірнеше', 'бірдеме', 'бірнеше', 'әркім', 'әрне', 'әрқайсы', 'әрқалай', 'әлдекім', 'әлдене', 'әлдеқайдан', 'әлденеше', 'әлдеқалай', 'әлдеқашан', 'алдақашан', 'еш', 'ешкім', 'ешбір', 'ештеме', 'дәнеңе', 'ешқашан', 'ешқандай', 'ешқайсы', 'емес', 'бәрі', 'барлық', 'барша', 'бар', 'күллі', 'бүкіл', 'түгел', 'өз', 'өзім', 'өзің', 'өзінің', 'өзіме', 'өзіне', 'өзімнің', 'өзі', 'өзге', 'менде', 'сенде', 'онда', 'менен', 'сенен\\tонан', 'одан', 'ау', 'па', 'ей', 'әй', 'е', 'уа', 'уау', 'уай', 'я', 'пай', 'ә', 'о', 'оһо', 'ой', 'ие', 'аһа', 'ау', 'беу', 'мәссаған', 'бәрекелді', 'әттегенай', 'жаракімалла', 'масқарай', 'астапыралла', 'япырмай', 'ойпырмай', 'кәне', 'кәнеки', 'ал', 'әйда', 'кәні', 'міне', 'әні', 'сорап', 'қош-қош', 'пфша', 'пішә', 'құрау-құрау', 'шәйт', 'шек', 'моһ', 'тәк', 'құрау', 'құр', 'кә', 'кәһ', 'күшім', 'күшім', 'мышы', 'пырс', 'әукім', 'алақай', 'паһ-паһ', 'бәрекелді', 'ура', 'әттең', 'әттеген-ай', 'қап', 'түге', 'пішту', 'шіркін', 'алатау', 'пай-пай', 'үшін', 'сайын', 'сияқты', 'туралы', 'арқылы', 'бойы', 'бойымен', 'шамалы', 'шақты', 'қаралы', 'ғұрлы', 'ғұрлым', 'шейін', 'дейін', 'қарай', 'таман', 'салым', 'тарта', 'жуық', 'таяу', 'гөрі', 'бері', 'кейін', 'соң', 'бұрын', 'бетер', 'қатар', 'бірге', 'қоса', 'арс', 'гүрс', 'дүрс', 'қорс', 'тарс', 'тырс', 'ырс', 'барқ', 'борт', 'күрт', 'кірт', 'морт', 'сарт', 'шырт', 'дүңк', 'күңк', 'қыңқ', 'мыңқ', 'маңқ', 'саңқ', 'шаңқ', 'шіңк', 'сыңқ', 'таңқ', 'тыңқ', 'ыңқ', 'болп', 'былп', 'жалп', 'желп', 'қолп', 'ірк', 'ырқ', 'сарт-сұрт', 'тарс-тұрс', 'арс-ұрс', 'жалт-жалт', 'жалт-жұлт', 'қалт-қалт', 'қалт-құлт', 'қаңқ-қаңқ', 'қаңқ-құңқ', 'шаңқ-шаңқ', 'шаңқ-шұңқ', 'арбаң-арбаң', 'бүгжең-бүгжең', 'арсалаң-арсалаң', 'ербелең-ербелең', 'батыр-бұтыр', 'далаң-далаң', 'тарбаң-тарбаң', 'қызараң-қызараң', 'қаңғыр-күңгір', 'қайқаң-құйқаң', 'митың-митың', 'салаң-сұлаң', 'ыржың-тыржың', 'бірақ', 'алайда', 'дегенмен', 'әйтпесе', 'әйткенмен', 'себебі', 'өйткені', 'сондықтан', 'үшін', 'сайын', 'сияқты', 'туралы', 'арқылы', 'бойы', 'бойымен', 'шамалы', 'шақты', 'қаралы', 'ғұрлы', 'ғұрлым', 'гөрі', 'бері', 'кейін', 'соң', 'бұрын', 'бетер', 'қатар', 'бірге', 'қоса', 'шейін', 'дейін', 'қарай', 'таман', 'салым', 'тарта', 'жуық', 'таяу', 'арнайы', 'осындай', 'ғана', 'қана', 'тек', 'әншейін', 'छ', 'र', 'पनि', 'छन्', 'लागि', 'भएको', 'गरेको', 'भने', 'गर्न', 'गर्ने', 'हो', 'तथा', 'यो', 'रहेको', 'उनले', 'थियो', 'हुने', 'गरेका', 'थिए', 'गर्दै', 'तर', 'नै', 'को', 'मा', 'हुन्', 'भन्ने', 'हुन', 'गरी', 'त', 'हुन्छ', 'अब', 'के', 'रहेका', 'गरेर', 'छैन', 'दिए', 'भए', 'यस', 'ले', 'गर्नु', 'औं', 'सो', 'त्यो', 'कि', 'जुन', 'यी', 'का', 'गरि', 'ती', 'न', 'छु', 'छौं', 'लाई', 'नि', 'उप', 'अक्सर', 'आदि', 'कसरी', 'क्रमशः', 'चाले', 'अगाडी', 'अझै', 'अनुसार', 'अन्तर्गत', 'अन्य', 'अन्यत्र', 'अन्यथा', 'अरु', 'अरुलाई', 'अर्को', 'अर्थात', 'अर्थात्', 'अलग', 'आए', 'आजको', 'ओठ', 'आत्म', 'आफू', 'आफूलाई', 'आफ्नै', 'आफ्नो', 'आयो', 'उदाहरण', 'उनको', 'उहालाई', 'एउटै', 'एक', 'एकदम', 'कतै', 'कम से कम', 'कसै', 'कसैले', 'कहाँबाट', 'कहिलेकाहीं', 'का', 'किन', 'किनभने', 'कुनै', 'कुरा', 'कृपया', 'केही', 'कोही', 'गए', 'गरौं', 'गर्छ', 'गर्छु', 'गर्नुपर्छ', 'गयौ', 'गैर', 'चार', 'चाहनुहुन्छ', 'चाहन्छु', 'चाहिए', 'छू', 'जताततै', 'जब', 'जबकि', 'जसको', 'जसबाट', 'जसमा', 'जसलाई', 'जसले', 'जस्तै', 'जस्तो', 'जस्तोसुकै', 'जहाँ', 'जान', 'जाहिर', 'जे', 'जो', 'ठीक', 'तत्काल', 'तदनुसार', 'तपाईको', 'तपाई', 'पर्याप्त', 'पहिले', 'पहिलो', 'पहिल्यै', 'पाँच', 'पाँचौं', 'तल', 'तापनी', 'तिनी', 'तिनीहरू', 'तिनीहरुको', 'तिनिहरुलाई', 'तिमी', 'तिर', 'तीन', 'तुरुन्तै', 'तेस्रो', 'तेस्कारण', 'पूर्व', 'प्रति', 'प्रतेक', 'प्लस', 'फेरी', 'बने', 'त्सपछि', 'त्सैले', 'त्यहाँ', 'थिएन', 'दिनुभएको', 'दिनुहुन्छ', 'दुई', 'देखि', 'बरु', 'बारे', 'बाहिर', 'देखिन्छ', 'देखियो', 'देखे', 'देखेको', 'देखेर', 'दोस्रो', 'धेरै', 'नजिकै', 'नत्र', 'नयाँ', 'निम्ति', 'बाहेक', 'बीच', 'बीचमा', 'भन', 'निम्न', 'निम्नानुसार', 'निर्दिष्ट', 'नौ', 'पक्का', 'पक्कै', 'पछि', 'पछिल्लो', 'पटक', 'पर्छ', 'पर्थ्यो', 'भन्छन्', 'भन्', 'भन्छु', 'भन्दा', 'भन्नुभयो', 'भर', 'भित्र', 'भित्री', 'म', 'मलाई', 'मात्र', 'माथि', 'मुख्य', 'मेरो', 'यति', 'यथोचित', 'यदि', 'यद्यपि', 'यसको', 'यसपछि', 'यसबाहेक', 'यसरी', 'यसो', 'यस्तो', 'यहाँ', 'यहाँसम्म', 'या', 'रही', 'राखे', 'राख्छ', 'राम्रो', 'रूप', 'लगभग', 'वरीपरी', 'वास्तवमा', 'बिरुद्ध', 'बिशेष', 'सायद', 'शायद', 'संग', 'संगै', 'सक्छ', 'सट्टा', 'सधै', 'सबै', 'सबैलाई', 'समय', 'सम्भव', 'सम्म', 'सही', 'साँच्चै', 'सात', 'साथ', 'साथै', 'सारा', 'सोही', 'स्पष्ट', 'हरे', 'हरेक', 'og', 'i', 'jeg', 'det', 'at', 'en', 'et', 'den', 'til', 'er', 'som', 'på', 'de', 'med', 'han', 'av', 'ikke', 'ikkje', 'der', 'så', 'var', 'meg', 'seg', 'men', 'ett', 'har', 'om', 'vi', 'min', 'mitt', 'ha', 'hadde', 'hun', 'nå', 'over', 'da', 'ved', 'fra', 'du', 'ut', 'sin', 'dem', 'oss', 'opp', 'man', 'kan', 'hans', 'hvor', 'eller', 'hva', 'skal', 'selv', 'sjøl', 'her', 'alle', 'vil', 'bli', 'ble', 'blei', 'blitt', 'kunne', 'inn', 'når', 'være', 'kom', 'noen', 'noe', 'ville', 'dere', 'som', 'deres', 'kun', 'ja', 'etter', 'ned', 'skulle', 'denne', 'for', 'deg', 'si', 'sine', 'sitt', 'mot', 'å', 'meget', 'hvorfor', 'dette', 'disse', 'uten', 'hvordan', 'ingen', 'din', 'ditt', 'blir', 'samme', 'hvilken', 'hvilke', 'sånn', 'inni', 'mellom', 'vår', 'hver', 'hvem', 'vors', 'hvis', 'både', 'bare', 'enn', 'fordi', 'før', 'mange', 'også', 'slik', 'vært', 'være', 'båe', 'begge', 'siden', 'dykk', 'dykkar', 'dei', 'deira', 'deires', 'deim', 'di', 'då', 'eg', 'ein', 'eit', 'eitt', 'elles', 'honom', 'hjå', 'ho', 'hoe', 'henne', 'hennar', 'hennes', 'hoss', 'hossen', 'ikkje', 'ingi', 'inkje', 'korleis', 'korso', 'kva', 'kvar', 'kvarhelst', 'kven', 'kvi', 'kvifor', 'me', 'medan', 'mi', 'mine', 'mykje', 'no', 'nokon', 'noka', 'nokor', 'noko', 'nokre', 'si', 'sia', 'sidan', 'so', 'somt', 'somme', 'um', 'upp', 'vere', 'vore', 'verte', 'vort', 'varte', 'vart', 'de', 'a', 'o', 'que', 'e', 'é', 'do', 'da', 'em', 'um', 'para', 'com', 'não', 'uma', 'os', 'no', 'se', 'na', 'por', 'mais', 'as', 'dos', 'como', 'mas', 'ao', 'ele', 'das', 'à', 'seu', 'sua', 'ou', 'quando', 'muito', 'nos', 'já', 'eu', 'também', 'só', 'pelo', 'pela', 'até', 'isso', 'ela', 'entre', 'depois', 'sem', 'mesmo', 'aos', 'seus', 'quem', 'nas', 'me', 'esse', 'eles', 'você', 'essa', 'num', 'nem', 'suas', 'meu', 'às', 'minha', 'numa', 'pelos', 'elas', 'qual', 'nós', 'lhe', 'deles', 'essas', 'esses', 'pelas', 'este', 'dele', 'tu', 'te', 'vocês', 'vos', 'lhes', 'meus', 'minhas', 'teu', 'tua', 'teus', 'tuas', 'nosso', 'nossa', 'nossos', 'nossas', 'dela', 'delas', 'esta', 'estes', 'estas', 'aquele', 'aquela', 'aqueles', 'aquelas', 'isto', 'aquilo', 'estou', 'está', 'estamos', 'estão', 'estive', 'esteve', 'estivemos', 'estiveram', 'estava', 'estávamos', 'estavam', 'estivera', 'estivéramos', 'esteja', 'estejamos', 'estejam', 'estivesse', 'estivéssemos', 'estivessem', 'estiver', 'estivermos', 'estiverem', 'hei', 'há', 'havemos', 'hão', 'houve', 'houvemos', 'houveram', 'houvera', 'houvéramos', 'haja', 'hajamos', 'hajam', 'houvesse', 'houvéssemos', 'houvessem', 'houver', 'houvermos', 'houverem', 'houverei', 'houverá', 'houveremos', 'houverão', 'houveria', 'houveríamos', 'houveriam', 'sou', 'somos', 'são', 'era', 'éramos', 'eram', 'fui', 'foi', 'fomos', 'foram', 'fora', 'fôramos', 'seja', 'sejamos', 'sejam', 'fosse', 'fôssemos', 'fossem', 'for', 'formos', 'forem', 'serei', 'será', 'seremos', 'serão', 'seria', 'seríamos', 'seriam', 'tenho', 'tem', 'temos', 'tém', 'tinha', 'tínhamos', 'tinham', 'tive', 'teve', 'tivemos', 'tiveram', 'tivera', 'tivéramos', 'tenha', 'tenhamos', 'tenham', 'tivesse', 'tivéssemos', 'tivessem', 'tiver', 'tivermos', 'tiverem', 'terei', 'terá', 'teremos', 'terão', 'teria', 'teríamos', 'teriam', 'a', 'abia', 'acea', 'aceasta', 'această', 'aceea', 'aceeasi', 'acei', 'aceia', 'acel', 'acela', 'acelasi', 'acele', 'acelea', 'acest', 'acesta', 'aceste', 'acestea', 'acestei', 'acestia', 'acestui', 'aceşti', 'aceştia', 'adica', 'ai', 'aia', 'aibă', 'aici', 'al', 'ala', 'ale', 'alea', 'alt', 'alta', 'altceva', 'altcineva', 'alte', 'altfel', 'alti', 'altii', 'altul', 'am', 'anume', 'apoi', 'ar', 'are', 'as', 'asa', 'asta', 'astea', 'astfel', 'asupra', 'atare', 'atat', 'atata', 'atatea', 'atatia', 'ati', 'atit', 'atita', 'atitea', 'atitia', 'atunci', 'au', 'avea', 'avem', 'aveţi', 'avut', 'aş', 'aţi', 'ba', 'ca', 'cam', 'cand', 'care', 'careia', 'carora', 'caruia', 'cat', 'catre', 'ce', 'cea', 'ceea', 'cei', 'ceilalti', 'cel', 'cele', 'celor', 'ceva', 'chiar', 'ci', 'cind', 'cine', 'cineva', 'cit', 'cita', 'cite', 'citeva', 'citi', 'citiva', 'cu', 'cui', 'cum', 'cumva', 'cât', 'câte', 'câtva', 'câţi', 'cînd', 'cît', 'cîte', 'cîtva', 'cîţi', 'că', 'căci', 'cărei', 'căror', 'cărui', 'către', 'da', 'daca', 'dacă', 'dar', 'dat', 'dată', 'dau', 'de', 'deasupra', 'deci', 'decit', 'deja', 'desi', 'despre', 'deşi', 'din', 'dintr', 'dintr-', 'dintre', 'doar', 'doi', 'doilea', 'două', 'drept', 'dupa', 'după', 'dă', 'e', 'ea', 'ei', 'el', 'ele', 'era', 'eram', 'este', 'eu', 'eşti', 'face', 'fara', 'fata', 'fel', 'fi', 'fie', 'fiecare', 'fii', 'fim', 'fiu', 'fiţi', 'foarte', 'fost', 'fără', 'i', 'ia', 'iar', 'ii', 'il', 'imi', 'in', 'inainte', 'inapoi', 'inca', 'incit', 'insa', 'intr', 'intre', 'isi', 'iti', 'la', 'le', 'li', 'lor', 'lui', 'lângă', 'lîngă', 'm', 'ma', 'mai', 'mea', 'mei', 'mele', 'mereu', 'meu', 'mi', 'mie', 'mine', 'mod', 'mult', 'multa', 'multe', 'multi', 'multă', 'mulţi', 'mâine', 'mîine', 'mă', 'ne', 'ni', 'nici', 'nimeni', 'nimic', 'niste', 'nişte', 'noastre', 'noastră', 'noi', 'nostri', 'nostru', 'nou', 'noua', 'nouă', 'noştri', 'nu', 'numai', 'o', 'or', 'ori', 'oricare', 'orice', 'oricine', 'oricum', 'oricând', 'oricât', 'oricînd', 'oricît', 'oriunde', 'pai', 'parca', 'patra', 'patru', 'pe', 'pentru', 'peste', 'pic', 'pina', 'poate', 'pot', 'prea', 'prima', 'primul', 'prin', 'printr-', 'putini', 'puţin', 'puţina', 'puţină', 'până', 'pînă', 'sa', 'sa-mi', 'sa-ti', 'sai', 'sale', 'sau', 'se', 'si', 'sint', 'sintem', 'spate', 'spre', 'sub', 'sunt', 'suntem', 'sunteţi', 'sus', 'să', 'săi', 'său', 't', 'ta', 'tale', 'te', 'ti', 'tine', 'toata', 'toate', 'toată', 'tocmai', 'tot', 'toti', 'totul', 'totusi', 'totuşi', 'toţi', 'trei', 'treia', 'treilea', 'tu', 'tuturor', 'tăi', 'tău', 'u', 'ul', 'ului', 'un', 'una', 'unde', 'undeva', 'unei', 'uneia', 'unele', 'uneori', 'unii', 'unor', 'unora', 'unu', 'unui', 'unuia', 'unul', 'v', 'va', 'vi', 'voastre', 'voastră', 'voi', 'vom', 'vor', 'vostru', 'vouă', 'voştri', 'vreo', 'vreun', 'vă', 'zi', 'zice', 'îi', 'îl', 'îmi', 'în', 'îţi', 'ăla', 'ălea', 'ăsta', 'ăstea', 'ăştia', 'şi', 'ţi', 'ţie', 'и', 'в', 'во', 'не', 'что', 'он', 'на', 'я', 'с', 'со', 'как', 'а', 'то', 'все', 'она', 'так', 'его', 'но', 'да', 'ты', 'к', 'у', 'же', 'вы', 'за', 'бы', 'по', 'только', 'ее', 'мне', 'было', 'вот', 'от', 'меня', 'еще', 'нет', 'о', 'из', 'ему', 'теперь', 'когда', 'даже', 'ну', 'вдруг', 'ли', 'если', 'уже', 'или', 'ни', 'быть', 'был', 'него', 'до', 'вас', 'нибудь', 'опять', 'уж', 'вам', 'ведь', 'там', 'потом', 'себя', 'ничего', 'ей', 'может', 'они', 'тут', 'где', 'есть', 'надо', 'ней', 'для', 'мы', 'тебя', 'их', 'чем', 'была', 'сам', 'чтоб', 'без', 'будто', 'чего', 'раз', 'тоже', 'себе', 'под', 'будет', 'ж', 'тогда', 'кто', 'этот', 'того', 'потому', 'этого', 'какой', 'совсем', 'ним', 'здесь', 'этом', 'один', 'почти', 'мой', 'тем', 'чтобы', 'нее', 'сейчас', 'были', 'куда', 'зачем', 'всех', 'никогда', 'можно', 'при', 'наконец', 'два', 'об', 'другой', 'хоть', 'после', 'над', 'больше', 'тот', 'через', 'эти', 'нас', 'про', 'всего', 'них', 'какая', 'много', 'разве', 'три', 'эту', 'моя', 'впрочем', 'хорошо', 'свою', 'этой', 'перед', 'иногда', 'лучше', 'чуть', 'том', 'нельзя', 'такой', 'им', 'более', 'всегда', 'конечно', 'всю', 'между', 'ali', 'ampak', 'bodisi', 'in', 'kajti', 'marveč', 'namreč', 'ne', 'niti', 'oziroma', 'pa', 'saj', 'sicer', 'temveč', 'ter', 'toda', 'torej', 'vendar', 'vendarle', 'zakaj', 'če', 'čeprav', 'čeravno', 'četudi', 'čim', 'da', 'kadar', 'kakor', 'ker', 'ki', 'ko', 'kot', 'naj', 'najsi', 'odkar', 'preden', 'dve', 'dvema', 'dveh', 'šest', 'šestdeset', 'šestindvajset', 'šestintrideset', 'šestnajst', 'šeststo', 'štiri', 'štirideset', 'štiriindvajset', 'štirinajst', 'štiristo', 'deset', 'devet', 'devetdeset', 'devetintrideset', 'devetnajst', 'devetsto', 'dvainšestdeset', 'dvaindvajset', 'dvajset', 'dvanajst', 'dvesto', 'enaindvajset', 'enaintrideset', 'enajst', 'nič', 'osem', 'osemdeset', 'oseminštirideset', 'osemindevetdeset', 'osemnajst', 'pet', 'petdeset', 'petinštirideset', 'petindevetdeset', 'petindvajset', 'petinosemdeset', 'petinpetdeset', 'petinsedemdeset', 'petintrideset', 'petnajst', 'petsto', 'sedem', 'sedemdeset', 'sedeminšestdeset', 'sedemindvajset', 'sedeminpetdeset', 'sedemnajst', 'sedemsto', 'sto', 'tisoč', 'tri', 'trideset', 'triinšestdeset', 'triindvajset', 'triinpetdeset', 'trinajst', 'tristo', 'šestdesetim', 'šestim', 'šestindvajsetim', 'šestintridesetim', 'šestnajstim', 'šeststotim', 'štiridesetim', 'štiriindvajsetim', 'štirim', 'štirinajstim', 'štiristotim', 'desetim', 'devetdesetim', 'devetim', 'devetintridesetim', 'devetnajstim', 'devetstotim', 'dvainšestdesetim', 'dvaindvajsetim', 'dvajsetim', 'dvanajstim', 'dvestotim', 'enaindvajsetim', 'enaintridesetim', 'enajstim', 'osemdesetim', 'oseminštiridesetim', 'osemindevetdesetim', 'osemnajstim', 'osmim', 'petdesetim', 'petim', 'petinštiridesetim', 'petindevetdesetim', 'petindvajsetim', 'petinosemdesetim', 'petinpetdesetim', 'petinsedemdesetim', 'petintridesetim', 'petnajstim', 'petstotim', 'sedemdesetim', 'sedeminšestdesetim', 'sedemindvajsetim', 'sedeminpetdesetim', 'sedemnajstim', 'sedemstotim', 'sedmim', 'stotim', 'tisočim', 'trem', 'tridesetim', 'triinšestdesetim', 'triindvajsetim', 'triinpetdesetim', 'trinajstim', 'tristotim', 'šestdesetih', 'šestih', 'šestindvajsetih', 'šestintridesetih', 'šestnajstih', 'šeststotih', 'štiridesetih', 'štirih', 'štiriindvajsetih', 'štirinajstih', 'štiristotih', 'desetih', 'devetdesetih', 'devetih', 'devetintridesetih', 'devetnajstih', 'devetstotih', 'dvainšestdesetih', 'dvaindvajsetih', 'dvajsetih', 'dvanajstih', 'dvestotih', 'enaindvajsetih', 'enaintridesetih', 'enajstih', 'osemdesetih', 'oseminštiridesetih', 'osemindevetdesetih', 'osemnajstih', 'osmih', 'petdesetih', 'petih', 'petinštiridesetih', 'petindevetdesetih', 'petindvajsetih', 'petinosemdesetih', 'petinpetdesetih', 'petinsedemdesetih', 'petintridesetih', 'petnajstih', 'petstotih', 'sedemdesetih', 'sedeminšestdesetih', 'sedemindvajsetih', 'sedeminpetdesetih', 'sedemnajstih', 'sedemstotih', 'sedmih', 'stotih', 'tisočih', 'treh', 'tridesetih', 'triinšestdesetih', 'triindvajsetih', 'triinpetdesetih', 'trinajstih', 'tristotih', 'šestdesetimi', 'šestimi', 'šestindvajsetimi', 'šestintridesetimi', 'šestnajstimi', 'šeststotimi', 'štiridesetimi', 'štiriindvajsetimi', 'štirimi', 'štirinajstimi', 'štiristotimi', 'desetimi', 'devetdesetimi', 'devetimi', 'devetintridesetimi', 'devetnajstimi', 'devetstotimi', 'dvainšestdesetimi', 'dvaindvajsetimi', 'dvajsetimi', 'dvanajstimi', 'dvestotimi', 'enaindvajsetimi', 'enaintridesetimi', 'enajstimi', 'osemdesetimi', 'oseminštiridesetimi', 'osemindevetdesetimi', 'osemnajstimi', 'osmimi', 'petdesetimi', 'petimi', 'petinštiridesetimi', 'petindevetdesetimi', 'petindvajsetimi', 'petinosemdesetimi', 'petinpetdesetimi', 'petinsedemdesetimi', 'petintridesetimi', 'petnajstimi', 'petstotimi', 'sedemdesetimi', 'sedeminšestdesetimi', 'sedemindvajsetimi', 'sedeminpetdesetimi', 'sedemnajstimi', 'sedemstotimi', 'sedmimi', 'stotimi', 'tisočimi', 'tremi', 'tridesetimi', 'triinšestdesetimi', 'triindvajsetimi', 'triinpetdesetimi', 'trinajstimi', 'tristotimi', 'eno', 'eni', 'ene', 'ena', 'dva', 'štirje', 'trije', 'en', 'enega', 'enemu', 'enim', 'enem', 'eden', 'dvojni', 'trojni', 'dvojnima', 'trojnima', 'dvojnih', 'trojnih', 'dvojne', 'trojne', 'dvojnim', 'trojnim', 'dvojnimi', 'trojnimi', 'dvojno', 'trojno', 'dvojna', 'trojna', 'dvojnega', 'trojnega', 'dvojen', 'trojen', 'dvojnemu', 'trojnemu', 'dvojnem', 'trojnem', 'četrti', 'šestdeseti', 'šesti', 'šestnajsti', 'štirideseti', 'štiriindvajseti', 'štirinajsti', 'deseti', 'devetdeseti', 'deveti', 'devetnajsti', 'drugi', 'dvaindevetdeseti', 'dvajseti', 'dvanajsti', 'dvestoti', 'enaindvajseti', 'enajsti', 'osemdeseti', 'osemnajsti', 'osmi', 'petdeseti', 'peti', 'petinštirideseti', 'petindvajseti', 'petinosemdeseti', 'petintrideseti', 'petnajsti', 'prvi', 'sedemdeseti', 'sedemindvajseti', 'sedemnajsti', 'sedmi', 'stoti', 'tisoči', 'tretji', 'trideseti', 'triindvajseti', 'triintrideseti', 'trinajsti', 'tristoti', 'četrtima', 'šestdesetima', 'šestima', 'šestnajstima', 'štiridesetima', 'štiriindvajsetima', 'štirinajstima', 'desetima', 'devetdesetima', 'devetima', 'devetnajstima', 'drugima', 'dvaindevetdesetima', 'dvajsetima', 'dvanajstima', 'dvestotima', 'enaindvajsetima', 'enajstima', 'osemdesetima', 'osemnajstima', 'osmima', 'petdesetima', 'petima', 'petinštiridesetima', 'petindvajsetima', 'petinosemdesetima', 'petintridesetima', 'petnajstima', 'prvima', 'sedemdesetima', 'sedemindvajsetima', 'sedemnajstima', 'sedmima', 'stotima', 'tisočima', 'tretjima', 'tridesetima', 'triindvajsetima', 'triintridesetima', 'trinajstima', 'tristotima', 'četrtih', 'drugih', 'dvaindevetdesetih', 'prvih', 'tretjih', 'triintridesetih', 'četrte', 'šestdesete', 'šeste', 'šestnajste', 'štiridesete', 'štiriindvajsete', 'štirinajste', 'desete', 'devetdesete', 'devete', 'devetnajste', 'druge', 'dvaindevetdesete', 'dvajsete', 'dvanajste', 'dvestote', 'enaindvajsete', 'enajste', 'osemdesete', 'osemnajste', 'osme', 'petdesete', 'pete', 'petinštiridesete', 'petindvajsete', 'petinosemdesete', 'petintridesete', 'petnajste', 'prve', 'sedemdesete', 'sedemindvajsete', 'sedemnajste', 'sedme', 'stote', 'tisoče', 'tretje', 'tridesete', 'triindvajsete', 'triintridesete', 'trinajste', 'tristote', 'četrtim', 'drugim', 'dvaindevetdesetim', 'prvim', 'tretjim', 'triintridesetim', 'četrtimi', 'drugimi', 'dvaindevetdesetimi', 'prvimi', 'tretjimi', 'triintridesetimi', 'četrto', 'šestdeseto', 'šestnajsto', 'šesto', 'štirideseto', 'štiriindvajseto', 'štirinajsto', 'deseto', 'devetdeseto', 'devetnajsto', 'deveto', 'drugo', 'dvaindevetdeseto', 'dvajseto', 'dvanajsto', 'dvestoto', 'enaindvajseto', 'enajsto', 'osemdeseto', 'osemnajsto', 'osmo', 'petdeseto', 'petinštirideseto', 'petindvajseto', 'petinosemdeseto', 'petintrideseto', 'petnajsto', 'peto', 'prvo', 'sedemdeseto', 'sedemindvajseto', 'sedemnajsto', 'sedmo', 'stoto', 'tisočo', 'tretjo', 'trideseto', 'triindvajseto', 'triintrideseto', 'trinajsto', 'tristoto', 'četrta', 'šesta', 'šestdeseta', 'šestnajsta', 'štirideseta', 'štiriindvajseta', 'štirinajsta', 'deseta', 'deveta', 'devetdeseta', 'devetnajsta', 'druga', 'dvaindevetdeseta', 'dvajseta', 'dvanajsta', 'dvestota', 'enaindvajseta', 'enajsta', 'osemdeseta', 'osemnajsta', 'osma', 'peta', 'petdeseta', 'petinštirideseta', 'petindvajseta', 'petinosemdeseta', 'petintrideseta', 'petnajsta', 'prva', 'sedemdeseta', 'sedemindvajseta', 'sedemnajsta', 'sedma', 'stota', 'tisoča', 'tretja', 'trideseta', 'triindvajseta', 'triintrideseta', 'trinajsta', 'tristota', 'četrtega', 'šestdesetega', 'šestega', 'šestnajstega', 'štiridesetega', 'štiriindvajsetega', 'štirinajstega', 'desetega', 'devetdesetega', 'devetega', 'devetnajstega', 'drugega', 'dvaindevetdesetega', 'dvajsetega', 'dvanajstega', 'dvestotega', 'enaindvajsetega', 'enajstega', 'osemdesetega', 'osemnajstega', 'osmega', 'petdesetega', 'petega', 'petinštiridesetega', 'petindvajsetega', 'petinosemdesetega', 'petintridesetega', 'petnajstega', 'prvega', 'sedemdesetega', 'sedemindvajsetega', 'sedemnajstega', 'sedmega', 'stotega', 'tisočega', 'tretjega', 'tridesetega', 'triindvajsetega', 'triintridesetega', 'trinajstega', 'tristotega', 'četrtemu', 'šestdesetemu', 'šestemu', 'šestnajstemu', 'štiridesetemu', 'štiriindvajsetemu', 'štirinajstemu', 'desetemu', 'devetdesetemu', 'devetemu', 'devetnajstemu', 'drugemu', 'dvaindevetdesetemu', 'dvajsetemu', 'dvanajstemu', 'dvestotemu', 'enaindvajsetemu', 'enajstemu', 'osemdesetemu', 'osemnajstemu', 'osmemu', 'petdesetemu', 'petemu', 'petinštiridesetemu', 'petindvajsetemu', 'petinosemdesetemu', 'petintridesetemu', 'petnajstemu', 'prvemu', 'sedemdesetemu', 'sedemindvajsetemu', 'sedemnajstemu', 'sedmemu', 'stotemu', 'tisočemu', 'tretjemu', 'tridesetemu', 'triindvajsetemu', 'triintridesetemu', 'trinajstemu', 'tristotemu', 'četrtem', 'šestdesetem', 'šestem', 'šestnajstem', 'štiridesetem', 'štiriindvajsetem', 'štirinajstem', 'desetem', 'devetdesetem', 'devetem', 'devetnajstem', 'drugem', 'dvaindevetdesetem', 'dvajsetem', 'dvanajstem', 'dvestotem', 'enaindvajsetem', 'enajstem', 'osemdesetem', 'osemnajstem', 'osmem', 'petdesetem', 'petem', 'petinštiridesetem', 'petindvajsetem', 'petinosemdesetem', 'petintridesetem', 'petnajstem', 'prvem', 'sedemdesetem', 'sedemindvajsetem', 'sedemnajstem', 'sedmem', 'stotem', 'tisočem', 'tretjem', 'tridesetem', 'triindvajsetem', 'triintridesetem', 'trinajstem', 'tristotem', 'deseteri', 'dvakratni', 'dvoji', 'enkratni', 'peteri', 'stoteri', 'tisočeri', 'trikratni', 'troji', 'deseterima', 'dvakratnima', 'dvojima', 'enkratnima', 'peterima', 'stoterima', 'tisočerima', 'trikratnima', 'trojima', 'deseterih', 'dvakratnih', 'dvojih', 'enkratnih', 'peterih', 'stoterih', 'tisočerih', 'trikratnih', 'trojih', 'desetere', 'dvakratne', 'dvoje', 'enkratne', 'petere', 'stotere', 'tisočere', 'trikratne', 'troje', 'deseterim', 'dvakratnim', 'dvojim', 'enkratnim', 'peterim', 'stoterim', 'tisočerim', 'trikratnim', 'trojim', 'deseterimi', 'dvakratnimi', 'dvojimi', 'enkratnimi', 'peterimi', 'stoterimi', 'tisočerimi', 'trikratnimi', 'trojimi', 'desetero', 'dvakratno', 'dvojo', 'enkratno', 'petero', 'stotero', 'tisočero', 'trikratno', 'trojo', 'desetera', 'dvakratna', 'dvoja', 'enkratna', 'petera', 'stotera', 'tisočera', 'trikratna', 'troja', 'deseterega', 'dvakratnega', 'dvojega', 'enkratnega', 'peterega', 'stoterega', 'tisočerega', 'trikratnega', 'trojega', 'deseter', 'dvakraten', 'dvoj', 'enkraten', 'peter', 'stoter', 'tisočer', 'trikraten', 'troj', 'deseteremu', 'dvakratnemu', 'dvojemu', 'enkratnemu', 'peteremu', 'stoteremu', 'tisočeremu', 'trikratnemu', 'trojemu', 'deseterem', 'dvakratnem', 'dvojem', 'enkratnem', 'peterem', 'stoterem', 'tisočerem', 'trikratnem', 'trojem', 'le-onega', 'le-tega', 'le-tistega', 'le-toliko', 'onega', 'tega', 'tistega', 'toliko', 'le-oni', 'le-takšni', 'le-taki', 'le-te', 'le-ti', 'le-tisti', 'oni', 'takšni', 'taki', 'te', 'ti', 'tisti', 'le-onima', 'le-takšnima', 'le-takima', 'le-tema', 'le-tistima', 'onima', 'takšnima', 'takima', 'tema', 'tistima', 'le-onih', 'le-takšnih', 'le-takih', 'le-teh', 'le-tistih', 'onih', 'takšnih', 'takih', 'teh', 'tistih', 'le-one', 'le-takšne', 'le-take', 'le-tiste', 'one', 'takšne', 'take', 'tiste', 'le-onim', 'le-takšnim', 'le-takim', 'le-tem', 'le-tistim', 'onim', 'takšnim', 'takim', 'tem', 'tistim', 'le-onimi', 'le-takšnimi', 'le-takimi', 'le-temi', 'le-tistimi', 'onimi', 'takšnimi', 'takimi', 'temi', 'tistimi', 'le-ono', 'le-takšno', 'le-tako', 'le-tisto', 'le-to', 'ono', 'takšno', 'tako', 'tisto', 'to', 'le-tej', 'tej', 'le-ona', 'le-ta', 'le-takšna', 'le-taka', 'le-tista', 'ona', 'ta', 'takšna', 'taka', 'tista', 'le-tak', 'le-takšen', 'tak', 'takšen', 'le-takšnega', 'le-takega', 'takšnega', 'takega', 'le-onemu', 'le-takšnemu', 'le-takemu', 'le-temu', 'le-tistemu', 'onemu', 'takšnemu', 'takemu', 'temu', 'temuintemu', 'tistemu', 'le-onem', 'le-takšnem', 'le-takem', 'le-tistem', 'onem', 'takšnem', 'takem', 'tistem', 'vsakogar', 'vsakomur', 'vsakomer', 'vsakdo', 'obe', 'vsaki', 'vsakršni', 'vsi', 'obema', 'vsakima', 'vsakršnima', 'vsema', 'obeh', 'vsakih', 'vsakršnih', 'vseh', 'vsake', 'vsakršne', 'vse', 'vsakim', 'vsakršnim', 'vsem', 'vsakimi', 'vsakršnimi', 'vsemi', 'vsako', 'vsakršno', 'vso', 'vsej', 'vsa', 'vsaka', 'vsakršna', 'oba', 'ves', 'vsak', 'vsakršen', 'vsakega', 'vsakršnega', 'vsega', 'vsakemu', 'vsakršnemu', 'vsemu', 'vsakem', 'vsakršnem', 'enako', 'istega', 'koliko', 'mnogo', 'nekoga', 'nekoliko', 'precej', 'kaj', 'koga', 'marsikaj', 'marsikoga', 'nekaj', 'čemu', 'komu', 'marsičemu', 'marsikomu', 'nečemu', 'nekomu', 'česa', 'marsičesa', 'nečesa', 'kom', 'marsičim', 'marsikom', 'nečim', 'nekom', 'čem', 'marsičem', 'nečem', 'kdo', 'marsikdo', 'nekdo', 'čigavi', 'drugačni', 'enaki', 'isti', 'kakšni', 'kaki', 'kakršnikoli', 'kateri', 'katerikoli', 'kolikšni', 'koliki', 'marsikateri', 'nekakšni', 'nekaki', 'nekateri', 'neki', 'takile', 'tele', 'tile', 'tolikšni', 'toliki', 'čigavima', 'drugačnima', 'enakima', 'enima', 'istima', 'kakšnima', 'kakima', 'kakršnimakoli', 'katerima', 'katerimakoli', 'kolikšnima', 'kolikima', 'marsikaterima', 'nekakšnima', 'nekakima', 'nekaterima', 'nekima', 'takimale', 'temale', 'tolikšnima', 'tolikima', 'čigavih', 'drugačnih', 'enakih', 'enih', 'istih', 'kakšnih', 'kakih', 'kakršnihkoli', 'katerih', 'katerihkoli', 'kolikšnih', 'kolikih', 'marsikaterih', 'nekakšnih', 'nekakih', 'nekaterih', 'nekih', 'takihle', 'tehle', 'tolikšnih', 'tolikih', 'čigave', 'drugačne', 'enake', 'iste', 'kakšne', 'kake', 'kakršnekoli', 'katere', 'katerekoli', 'kolikšne', 'kolike', 'marsikatere', 'nekakšne', 'nekake', 'nekatere', 'neke', 'takele', 'tolikšne', 'tolike', 'čigavim', 'drugačnim', 'enakim', 'istim', 'kakšnim', 'kakim', 'kakršnimkoli', 'katerim', 'katerimkoli', 'kolikšnim', 'kolikim', 'marsikaterim', 'nekakšnim', 'nekakim', 'nekaterim', 'nekim', 'takimle', 'temle', 'tolikšnim', 'tolikim', 'čigavimi', 'drugačnimi', 'enakimi', 'enimi', 'istimi', 'kakšnimi', 'kakimi', 'kakršnimikoli', 'katerimi', 'katerimikoli', 'kolikšnimi', 'kolikimi', 'marsikaterimi', 'nekakšnimi', 'nekakimi', 'nekaterimi', 'nekimi', 'takimile', 'temile', 'tolikšnimi', 'tolikimi', 'čigavo', 'drugačno', 'isto', 'kakšno', 'kako', 'kakršnokoli', 'katero', 'katerokoli', 'kolikšno', 'marsikatero', 'nekakšno', 'nekako', 'nekatero', 'neko', 'takole', 'tole', 'tolikšno', 'tejle', 'čigava', 'drugačna', 'enaka', 'ista', 'kakšna', 'kaka', 'kakršnakoli', 'katera', 'katerakoli', 'kolikšna', 'kolika', 'marsikatera', 'neka', 'nekakšna', 'nekaka', 'nekatera', 'takale', 'tale', 'tolikšna', 'tolika', 'čigav', 'drug', 'drugačen', 'enak', 'kak', 'kakšen', 'kakršenkoli', 'kakršnegakoli', 'kateregakoli', 'kolik', 'kolikšen', 'nek', 'nekak', 'nekakšen', 'takegale', 'takle', 'tegale', 'tolik', 'tolikšen', 'čigavega', 'drugačnega', 'enakega', 'kakšnega', 'kakega', 'katerega', 'kolikšnega', 'kolikega', 'marsikaterega', 'nekakšnega', 'nekakega', 'nekaterega', 'nekega', 'tolikšnega', 'tolikega', 'čigavemu', 'drugačnemu', 'enakemu', 'istemu', 'kakšnemu', 'kakemu', 'kakršnemukoli', 'kateremu', 'kateremukoli', 'kolikšnemu', 'kolikemu', 'marsikateremu', 'nekakšnemu', 'nekakemu', 'nekateremu', 'nekemu', 'takemule', 'temule', 'tolikšnemu', 'tolikemu', 'čigavem', 'drugačnem', 'enakem', 'istem', 'kakšnem', 'kakem', 'kakršnemkoli', 'katerem', 'kateremkoli', 'kolikšnem', 'kolikem', 'marsikaterem', 'nekakšnem', 'nekakem', 'nekaterem', 'nekem', 'takemle', 'tolikšnem', 'tolikem', 'naju', 'nama', 'midva', 'nas', 'nam', 'nami', 'mi', 'mene', 'me', 'meni', 'mano', 'menoj', 'jaz', 'vaju', 'vama', 'vidva', 'vas', 'vam', 'vami', 'vi', 'tebe', 'tebi', 'tabo', 'teboj', 'njiju', 'jih', 'ju', 'njima', 'jima', 'onedve', 'onidve', 'nje', 'njih', 'njim', 'jim', 'njimi', 'njo', 'jo', 'njej', 'nji', 'ji', 'je', 'onadva', 'njega', 'ga', 'njemu', 'mu', 'njem', 'on', 'čigar', 'kolikor', 'kar', 'karkoli', 'kogar', 'kogarkoli', 'čemur', 'čemurkoli', 'komur', 'komurkoli', 'česar', 'česarkoli', 'čimer', 'čimerkoli', 'komer', 'komerkoli', 'čemer', 'čemerkoli', 'kdor', 'kdorkoli', 'kakršni', 'kakršnima', 'kakršnih', 'kakršne', 'kakršnim', 'kakršnimi', 'kakršno', 'kakršna', 'kakršen', 'kakršnega', 'kakršnemu', 'kakršnem', 'najini', 'naši', 'moji', 'najinima', 'našima', 'mojima', 'najinih', 'naših', 'mojih', 'najine', 'naše', 'moje', 'najinim', 'našim', 'mojim', 'najinimi', 'našimi', 'mojimi', 'najino', 'našo', 'mojo', 'najina', 'naša', 'moja', 'najin', 'najinega', 'naš', 'našega', 'moj', 'mojega', 'najinemu', 'našemu', 'mojemu', 'najinem', 'našem', 'mojem', 'vajini', 'vaši', 'tvoji', 'vajinima', 'vašima', 'tvojima', 'vajinih', 'vaših', 'tvojih', 'vajine', 'vaše', 'tvoje', 'vajinim', 'vašim', 'tvojim', 'vajinimi', 'vašimi', 'tvojimi', 'vajino', 'vašo', 'tvojo', 'vajina', 'vaša', 'tvoja', 'vajin', 'vajinega', 'vaš', 'vašega', 'tvoj', 'tvojega', 'vajinemu', 'vašemu', 'tvojemu', 'vajinem', 'vašem', 'tvojem', 'njuni', 'njihovi', 'njeni', 'njegovi', 'njunima', 'njihovima', 'njenima', 'njegovima', 'njunih', 'njihovih', 'njenih', 'njegovih', 'njune', 'njihove', 'njene', 'njegove', 'njunim', 'njihovim', 'njenim', 'njegovim', 'njunimi', 'njihovimi', 'njenimi', 'njegovimi', 'njuno', 'njihovo', 'njeno', 'njegovo', 'njuna', 'njihova', 'njena', 'njegova', 'njun', 'njunega', 'njihov', 'njihovega', 'njen', 'njenega', 'njegov', 'njegovega', 'njunemu', 'njihovemu', 'njenemu', 'njegovemu', 'njunem', 'njihovem', 'njenem', 'njegovem', 'se', 'si', 'sebe', 'sebi', 'sabo', 'seboj', 'svoji', 'svojima', 'svojih', 'svoje', 'svojim', 'svojimi', 'svojo', 'svoja', 'svoj', 'svojega', 'svojemu', 'svojem', 'nikogar', 'noben', 'ničemur', 'nikomur', 'ničesar', 'ničimer', 'nikomer', 'ničemer', 'nihče', 'nikakršni', 'nobeni', 'nikakršnima', 'nobenima', 'nikakršnih', 'nobenih', 'nikakršne', 'nobene', 'nikakršnim', 'nobenim', 'nikakršnimi', 'nobenimi', 'nikakršno', 'nobeno', 'nikakršna', 'nobena', 'nikakršen', 'nikakršnega', 'nobenega', 'nikakršnemu', 'nobenemu', 'nikakršnem', 'nobenem', 'še', 'šele', 'žal', 'že', 'baje', 'bojda', 'bržčas', 'bržkone', 'celo', 'dobesedno', 'domala', 'edinole', 'gotovo', 'itak', 'ja', 'kajne', 'kajpada', 'kajpak', 'koli', 'komaj', 'le', 'malone', 'mar', 'menda', 'morda', 'morebiti', 'nadvse', 'najbrž', 'nemara', 'nerad', 'neradi', 'nikar', 'pač', 'pogodu', 'prav', 'pravzaprav', 'predvsem', 'preprosto', 'rad', 'rada', 'rade', 'radi', 'ravno', 'res', 'resda', 'samo', 'seveda', 'skoraj', 'skorajda', 'spet', 'sploh', 'tudi', 'všeč', 'verjetno', 'vnovič', 'vred', 'vsaj', 'zadosti', 'zapored', 'zares', 'zgolj', 'zlasti', 'zopet', 'čezenj', 'čeznje', 'mednje', 'mednju', 'medse', 'nadenj', 'nadme', 'nadnje', 'name', 'nanj', 'nanje', 'nanjo', 'nanju', 'nase', 'nate', 'obenj', 'podnjo', 'pome', 'ponj', 'ponje', 'ponjo', 'pote', 'predenj', 'predme', 'prednje', 'predse', 'skozenj', 'skoznje', 'skoznjo', 'skozte', 'vame', 'vanj', 'vanje', 'vanjo', 'vanju', 'vase', 'vate', 'zame', 'zanj', 'zanje', 'zanjo', 'zanju', 'zase', 'zate', 'čez', 'med', 'na', 'nad', 'ob', 'po', 'pod', 'pred', 'raz', 'skoz', 'skozi', 'v', 'za', 'zoper', 'h', 'k', 'kljub', 'nasproti', 'navkljub', 'navzlic', 'proti', 'ž', 'blizu', 'brez', 'dno', 'do', 'iz', 'izmed', 'iznad', 'izpod', 'izpred', 'izven', 'izza', 'krog', 'mimo', 'namesto', 'naokoli', 'naproti', 'od', 'okoli', 'okrog', 'onkraj', 'onstran', 'poleg', 'povrh', 'povrhu', 'prek', 'preko', 'razen', 's', 'spod', 'spričo', 'sredi', 'vštric', 'vpričo', 'vrh', 'vrhu', 'vzdolž', 'z', 'zaradi', 'zavoljo', 'zraven', 'zunaj', 'o', 'pri', 'bi', 'bova', 'bomo', 'bom', 'bosta', 'boste', 'boš', 'bodo', 'bojo', 'bo', 'sva', 'nisva', 'smo', 'nismo', 'sem', 'nisem', 'sta', 'nista', 'ste', 'niste', 'nisi', 'so', 'niso', 'ni', 'bodiva', 'bodimo', 'bodita', 'bodite', 'bodi', 'biti', 'bili', 'bila', 'bile', 'bil', 'bilo', 'želiva', 'dovoliva', 'hočeva', 'marava', 'morava', 'moreva', 'smeva', 'zmoreva', 'nočeva', 'želimo', 'dovolimo', 'hočemo', 'maramo', 'moramo', 'moremo', 'smemo', 'zmoremo', 'nočemo', 'želim', 'dovolim', 'hočem', 'maram', 'moram', 'morem', 'smem', 'zmorem', 'nočem', 'želita', 'dovolita', 'hočeta', 'marata', 'morata', 'moreta', 'smeta', 'zmoreta', 'nočeta', 'želite', 'dovolite', 'hočete', 'marate', 'morate', 'morete', 'smete', 'zmorete', 'nočete', 'želiš', 'dovoliš', 'hočeš', 'maraš', 'moraš', 'moreš', 'smeš', 'zmoreš', 'nočeš', 'želijo', 'dovolijo', 'hočejo', 'marajo', 'morajo', 'morejo', 'smejo', 'zmorejo', 'nočejo', 'želi', 'dovoli', 'hoče', 'mara', 'mora', 'more', 'sme', 'zmore', 'noče', 'hotiva', 'marajva', 'hotimo', 'marajmo', 'hotita', 'marajta', 'hotite', 'marajte', 'hoti', 'maraj', 'želeti', 'dovoliti', 'hoteti', 'marati', 'moči', 'morati', 'smeti', 'zmoči', 'želeni', 'dovoljeni', 'želena', 'dovoljena', 'želene', 'dovoljene', 'želen', 'dovoljen', 'želeno', 'dovoljeno', 'želeli', 'dovolili', 'hoteli', 'marali', 'mogli', 'morali', 'smeli', 'zmogli', 'želela', 'dovolila', 'hotela', 'marala', 'mogla', 'morala', 'smela', 'zmogla', 'želele', 'dovolile', 'hotele', 'marale', 'mogle', 'morale', 'smele', 'zmogle', 'želel', 'dovolil', 'hotel', 'maral', 'mogel', 'moral', 'smel', 'zmogel', 'želelo', 'dovolilo', 'hotelo', 'maralo', 'moglo', 'moralo', 'smelo', 'zmogl', 'de', 'la', 'que', 'el', 'en', 'y', 'a', 'los', 'del', 'se', 'las', 'por', 'un', 'para', 'con', 'no', 'una', 'su', 'al', 'lo', 'como', 'más', 'pero', 'sus', 'le', 'ya', 'o', 'este', 'sí', 'porque', 'esta', 'entre', 'cuando', 'muy', 'sin', 'sobre', 'también', 'me', 'hasta', 'hay', 'donde', 'quien', 'desde', 'todo', 'nos', 'durante', 'todos', 'uno', 'les', 'ni', 'contra', 'otros', 'ese', 'eso', 'ante', 'ellos', 'e', 'esto', 'mí', 'antes', 'algunos', 'qué', 'unos', 'yo', 'otro', 'otras', 'otra', 'él', 'tanto', 'esa', 'estos', 'mucho', 'quienes', 'nada', 'muchos', 'cual', 'poco', 'ella', 'estar', 'estas', 'algunas', 'algo', 'nosotros', 'mi', 'mis', 'tú', 'te', 'ti', 'tu', 'tus', 'ellas', 'nosotras', 'vosotros', 'vosotras', 'os', 'mío', 'mía', 'míos', 'mías', 'tuyo', 'tuya', 'tuyos', 'tuyas', 'suyo', 'suya', 'suyos', 'suyas', 'nuestro', 'nuestra', 'nuestros', 'nuestras', 'vuestro', 'vuestra', 'vuestros', 'vuestras', 'esos', 'esas', 'estoy', 'estás', 'está', 'estamos', 'estáis', 'están', 'esté', 'estés', 'estemos', 'estéis', 'estén', 'estaré', 'estarás', 'estará', 'estaremos', 'estaréis', 'estarán', 'estaría', 'estarías', 'estaríamos', 'estaríais', 'estarían', 'estaba', 'estabas', 'estábamos', 'estabais', 'estaban', 'estuve', 'estuviste', 'estuvo', 'estuvimos', 'estuvisteis', 'estuvieron', 'estuviera', 'estuvieras', 'estuviéramos', 'estuvierais', 'estuvieran', 'estuviese', 'estuvieses', 'estuviésemos', 'estuvieseis', 'estuviesen', 'estando', 'estado', 'estada', 'estados', 'estadas', 'estad', 'he', 'has', 'ha', 'hemos', 'habéis', 'han', 'haya', 'hayas', 'hayamos', 'hayáis', 'hayan', 'habré', 'habrás', 'habrá', 'habremos', 'habréis', 'habrán', 'habría', 'habrías', 'habríamos', 'habríais', 'habrían', 'había', 'habías', 'habíamos', 'habíais', 'habían', 'hube', 'hubiste', 'hubo', 'hubimos', 'hubisteis', 'hubieron', 'hubiera', 'hubieras', 'hubiéramos', 'hubierais', 'hubieran', 'hubiese', 'hubieses', 'hubiésemos', 'hubieseis', 'hubiesen', 'habiendo', 'habido', 'habida', 'habidos', 'habidas', 'soy', 'eres', 'es', 'somos', 'sois', 'son', 'sea', 'seas', 'seamos', 'seáis', 'sean', 'seré', 'serás', 'será', 'seremos', 'seréis', 'serán', 'sería', 'serías', 'seríamos', 'seríais', 'serían', 'era', 'eras', 'éramos', 'erais', 'eran', 'fui', 'fuiste', 'fue', 'fuimos', 'fuisteis', 'fueron', 'fuera', 'fueras', 'fuéramos', 'fuerais', 'fueran', 'fuese', 'fueses', 'fuésemos', 'fueseis', 'fuesen', 'sintiendo', 'sentido', 'sentida', 'sentidos', 'sentidas', 'siente', 'sentid', 'tengo', 'tienes', 'tiene', 'tenemos', 'tenéis', 'tienen', 'tenga', 'tengas', 'tengamos', 'tengáis', 'tengan', 'tendré', 'tendrás', 'tendrá', 'tendremos', 'tendréis', 'tendrán', 'tendría', 'tendrías', 'tendríamos', 'tendríais', 'tendrían', 'tenía', 'tenías', 'teníamos', 'teníais', 'tenían', 'tuve', 'tuviste', 'tuvo', 'tuvimos', 'tuvisteis', 'tuvieron', 'tuviera', 'tuvieras', 'tuviéramos', 'tuvierais', 'tuvieran', 'tuviese', 'tuvieses', 'tuviésemos', 'tuvieseis', 'tuviesen', 'teniendo', 'tenido', 'tenida', 'tenidos', 'tenidas', 'tened', 'och', 'det', 'att', 'i', 'en', 'jag', 'hon', 'som', 'han', 'på', 'den', 'med', 'var', 'sig', 'för', 'så', 'till', 'är', 'men', 'ett', 'om', 'hade', 'de', 'av', 'icke', 'mig', 'du', 'henne', 'då', 'sin', 'nu', 'har', 'inte', 'hans', 'honom', 'skulle', 'hennes', 'där', 'min', 'man', 'ej', 'vid', 'kunde', 'något', 'från', 'ut', 'när', 'efter', 'upp', 'vi', 'dem', 'vara', 'vad', 'över', 'än', 'dig', 'kan', 'sina', 'här', 'ha', 'mot', 'alla', 'under', 'någon', 'eller', 'allt', 'mycket', 'sedan', 'ju', 'denna', 'själv', 'detta', 'åt', 'utan', 'varit', 'hur', 'ingen', 'mitt', 'ni', 'bli', 'blev', 'oss', 'din', 'dessa', 'några', 'deras', 'blir', 'mina', 'samma', 'vilken', 'er', 'sådan', 'vår', 'blivit', 'dess', 'inom', 'mellan', 'sådant', 'varför', 'varje', 'vilka', 'ditt', 'vem', 'vilket', 'sitta', 'sådana', 'vart', 'dina', 'vars', 'vårt', 'våra', 'ert', 'era', 'vilkas', 'аз', 'дар', 'ба', 'бо', 'барои', 'бе', 'то', 'ҷуз', 'пеши', 'назди', 'рӯйи', 'болои ', 'паси', 'ғайри', 'ҳамон', 'ҳамоно', 'инҷониб', 'замон', 'замоно', 'эътиборан', 'пеш', 'қабл', 'дида', 'сар карда', 'агар ', 'агар ки', 'валекин ', 'ки', 'лекин', 'аммо', 'вале', 'балки', 'ва', 'ҳарчанд', 'чунки', 'зеро', 'зеро ки', 'вақте ки', 'то вақте ки', 'барои он ки', 'бо нияти он ки', 'лекин ва ҳол он ки', 'ё', 'ё ин ки  ', 'бе он ки ', 'дар ҳолате ки', 'то даме ки ', 'баъд аз он ки', 'даме ки', 'ба тразе ки ', 'аз баҳри он ки', 'гар ', 'ар', 'ба шарте', 'азбаски ', 'модоме ки', 'агар чи', 'гарчанде ки ', 'бо вуҷуди он ки', 'гӯё', 'аз-баски ', 'чун-ки', 'агар-чанд', 'агар-чи ', 'гар-чи', 'то ки', 'чунон ки', 'то даме ки', 'ҳар қадар ки', 'магар ', 'оё', 'наход', 'ҳатто ', 'ҳам ', 'бале ', 'оре ', 'хуб ', 'хуш', 'хайр', 'не', 'на', 'мана', 'э', 'фақат', 'танҳо', 'кошки ', 'мабодо', 'ҳтимол', 'ана ҳамин', 'наход ки', 'ҳатто ки', 'аз афташ', 'майлаш куя', 'ана', 'ҳа', 'канӣ', 'гӯё ки', 'ҳо ана', 'на ин ки', 'ваҳ', 'ҳой', 'и', 'а', 'о', 'эҳ', 'ҳе', 'ҳу', 'аҳа', 'оҳе', 'уҳа', 'ҳм', 'нм', 'оббо', 'ӯббо', 'ҳой-ҳой ', 'вой-вой', 'ту-ту', 'ҳмм', 'эҳа', 'тавба', 'ӯҳӯ', 'аҷабо', 'ало', 'аё', 'ой', 'ӯим ', 'ором', 'хом?ш', 'ҳай-ҳай ', 'бай-бай', 'аз ', 'он', 'баъд', 'азбаски', 'ӯ', 'ҳангоми', 'чӣ', 'кадом', 'ин', 'ҷо', 'ҳам', 'ё ки', 'бояд', 'аст', 'чанд', 'ҳар', 'бар', 'чаро ки', 'агар', 'то кӣ', 'бинобар', 'бинобар ин', 'ҳаргиз', 'асло', 'нахот', 'нахот ки', 'кошкӣ', 'шояд', 'шояд ки', 'охир', 'аз рӯи', 'аз рӯйи ', 'рӯ', 'acaba', 'ama', 'aslında', 'az', 'bazı', 'belki', 'biri', 'birkaç', 'birşey', 'biz', 'bu', 'çok', 'çünkü', 'da', 'daha', 'de', 'defa', 'diye', 'eğer', 'en', 'gibi', 'hem', 'hep', 'hepsi', 'her', 'hiç', 'için', 'ile', 'ise', 'kez', 'ki', 'kim', 'mı', 'mu', 'mü', 'nasıl', 'ne', 'neden', 'nerde', 'nerede', 'nereye', 'niçin', 'niye', 'o', 'sanki', 'şey', 'siz', 'şu', 'tüm', 've', 'veya', 'ya', 'yani']\n"
          ]
        }
      ]
    },
    {
      "cell_type": "code",
      "metadata": {
        "colab": {
          "base_uri": "https://localhost:8080/"
        },
        "id": "pZucHH61q7TV",
        "outputId": "e7d573a0-dddf-4c8f-b8d8-c1d7876a22df"
      },
      "source": [
        "# convert the text to a matrix of token counts \n",
        "df['important_features'].replace('<[^<]+?>',' ',regex=True, inplace = True)\n",
        "print (df['important_features'].head(3))\n",
        "df['important_features'] = df['important_features'].apply(lambda x: ' '.join([word for word in x.split() if word not in (stop_words)]))\n",
        "cm = CountVectorizer().fit_transform(df['important_features'])\n",
        "\n",
        "# GEt the cosine similarity matrix from the count matrix\n",
        "cs = cosine_similarity(cm)\n",
        "#Print the cosine similarity matrix\n",
        "print(cs)\n"
      ],
      "execution_count": 141,
      "outputs": [
        {
          "output_type": "stream",
          "name": "stdout",
          "text": [
            "0    Ultimate Investment Banking Course  Our dedica...\n",
            "1    Complete E-Commerce Course - Java,Spring,Hiber...\n",
            "2    FL Studio Sytrus Sound Design Course  In this ...\n",
            "Name: important_features, dtype: object\n",
            "[[1.         0.14444793 0.11465759 ... 0.07872064 0.00184976 0.08834937]\n",
            " [0.14444793 1.         0.15426368 ... 0.14710146 0.07120519 0.09564078]\n",
            " [0.11465759 0.15426368 1.         ... 0.09808165 0.00460941 0.04934555]\n",
            " ...\n",
            " [0.07872064 0.14710146 0.09808165 ... 1.         0.00356027 0.0625463 ]\n",
            " [0.00184976 0.07120519 0.00460941 ... 0.00356027 1.         0.        ]\n",
            " [0.08834937 0.09564078 0.04934555 ... 0.0625463  0.         1.        ]]\n"
          ]
        }
      ]
    },
    {
      "cell_type": "code",
      "metadata": {
        "colab": {
          "base_uri": "https://localhost:8080/"
        },
        "id": "-O800M2PsNeE",
        "outputId": "8723c1f6-922b-429c-e13e-8642950a317a"
      },
      "source": [
        "# Get the shape of the cosine similarity matrix \n",
        "cs.shape\n"
      ],
      "execution_count": 143,
      "outputs": [
        {
          "output_type": "execute_result",
          "data": {
            "text/plain": [
              "(914, 914)"
            ]
          },
          "metadata": {},
          "execution_count": 143
        }
      ]
    },
    {
      "cell_type": "code",
      "metadata": {
        "id": "VrzTIGQisZwc",
        "colab": {
          "base_uri": "https://localhost:8080/"
        },
        "outputId": "f84865a0-b371-46ec-b68a-84469ceae44c"
      },
      "source": [
        "# Get the title of the course that the user likes \n",
        "title_to_search = 'Dark Web Foundation: A Guide to the Deep/Dark Web 2019'\n",
        "\n",
        "# Find the course id\n",
        "course_id = df[df.title == title_to_search]['Course_id'].index\n",
        "print (course_id[0])\n",
        "#course_id = 251"
      ],
      "execution_count": 181,
      "outputs": [
        {
          "output_type": "stream",
          "name": "stdout",
          "text": [
            "473\n"
          ]
        }
      ]
    },
    {
      "cell_type": "code",
      "metadata": {
        "id": "XjR5iXP0v_tH"
      },
      "source": [
        "# Create a list of enumeration for the similarity score [(course_id, similiraty score ),(..)]\n",
        "scores = list(enumerate(cs[course_id[0]]))"
      ],
      "execution_count": 182,
      "outputs": []
    },
    {
      "cell_type": "code",
      "metadata": {
        "id": "dHosRQKrw6JV"
      },
      "source": [
        "#sort the list \n",
        "sorted_scores = sorted(scores, key = lambda x:x[1], reverse  = True)\n",
        "sorted_scores = sorted_scores[1:]\n"
      ],
      "execution_count": 183,
      "outputs": []
    },
    {
      "cell_type": "code",
      "metadata": {
        "colab": {
          "base_uri": "https://localhost:8080/"
        },
        "id": "VVwGyqgUxV-6",
        "outputId": "3c0b3a59-0612-4672-d5f8-26514e1eb611"
      },
      "source": [
        "#Print the sorted scores\n",
        "print(sorted_scores)"
      ],
      "execution_count": 184,
      "outputs": [
        {
          "output_type": "stream",
          "name": "stdout",
          "text": [
            "[(52, 0.43150338512672964), (841, 0.4278324340747868), (136, 0.40257553661463286), (122, 0.3593425159846164), (85, 0.3569247665117696), (84, 0.356174698072259), (86, 0.3443971645541892), (855, 0.34124003353950927), (909, 0.3060272313897129), (398, 0.30591547499484667), (406, 0.30507336310048094), (484, 0.2983149031747946), (24, 0.2973812079168519), (874, 0.29584436136431785), (857, 0.2950807509354847), (144, 0.29266638036079157), (453, 0.29052376686216214), (898, 0.2899832695221925), (888, 0.28361540252781237), (48, 0.2816725079764386), (450, 0.2704294449032917), (620, 0.265408046660862), (789, 0.2651578700992434), (3, 0.2628272457389092), (614, 0.26145953179410913), (569, 0.25869382302789645), (489, 0.2556287622994522), (601, 0.2478353938838184), (153, 0.24703366090613385), (705, 0.2457760196131729), (688, 0.24034176216786118), (292, 0.23129739659608928), (698, 0.2304657548474587), (514, 0.22800286332485237), (558, 0.22522972390073215), (151, 0.2204590259862134), (384, 0.21864344440301864), (40, 0.21724461586511618), (579, 0.21613621042049508), (882, 0.21116299059422877), (897, 0.20999328488213553), (66, 0.20251611876964898), (177, 0.20158654782465016), (387, 0.2002934336293903), (408, 0.19970901633763047), (850, 0.19573929842207036), (786, 0.19300427992687866), (1, 0.1929313189612224), (396, 0.18908582169532492), (681, 0.18802649947391917), (246, 0.18642014306984914), (17, 0.1862814909373432), (255, 0.18592799266989235), (13, 0.18269285373123995), (77, 0.1811526930041616), (574, 0.1776763557193071), (290, 0.1776038546023145), (146, 0.177466672976593), (747, 0.17329417481445664), (550, 0.17201546800063078), (737, 0.17116544223060254), (433, 0.1702918958531703), (734, 0.16988093397512058), (170, 0.16783296230960948), (329, 0.16657158348685036), (204, 0.16521178217602883), (621, 0.1644504375577061), (899, 0.16244065020606563), (834, 0.16121007808072885), (506, 0.1611701267016711), (622, 0.16016011503244293), (240, 0.1582754710761471), (818, 0.1578658876776241), (719, 0.15681313291678323), (141, 0.15528781051529905), (237, 0.15507969636824054), (324, 0.1544047009651128), (288, 0.15367929438410025), (823, 0.15324660978025248), (849, 0.15301490076223825), (741, 0.15264041728081434), (368, 0.15236720828495692), (515, 0.15216392758992156), (628, 0.15138123846103638), (247, 0.1512435320432312), (520, 0.15007302829672275), (261, 0.15004548943452256), (768, 0.14977861019341507), (483, 0.14909747176978388), (732, 0.14704269863459163), (824, 0.14702771963549796), (91, 0.1469526863467962), (103, 0.14680447381655273), (658, 0.14657425387196182), (124, 0.1465486989037046), (627, 0.1460023381891117), (180, 0.1455533904350077), (192, 0.145206650117498), (212, 0.14413947683120035), (844, 0.14413241122598364), (352, 0.1441241060525022), (879, 0.14373155894048842), (97, 0.14328603366892628), (509, 0.1428951712981296), (39, 0.14285563696571915), (82, 0.141826138370517), (583, 0.14163314594636403), (150, 0.14144021619021557), (610, 0.1406734406651589), (169, 0.14023047230137917), (234, 0.1396662129828663), (477, 0.13936152339701088), (99, 0.13904836849924399), (589, 0.13787015615824985), (765, 0.13770960588918263), (90, 0.13727569222019081), (666, 0.1370980010906192), (113, 0.13681141080410564), (660, 0.13675438322007463), (755, 0.1366134051744605), (241, 0.13601936902588818), (906, 0.1359446994707837), (205, 0.1356646894938404), (354, 0.1352650871840128), (242, 0.1352341435349946), (289, 0.13484480333519916), (524, 0.13464944158147177), (689, 0.13321614571509707), (449, 0.1330263056788699), (616, 0.13191754947165596), (155, 0.13169899480784036), (379, 0.13153450302348668), (703, 0.13097361943092442), (256, 0.13081284805726626), (485, 0.13052332318491436), (760, 0.13039919040122375), (198, 0.12993857244882406), (779, 0.1296824517424425), (9, 0.1294892298482099), (715, 0.1292313809783993), (657, 0.12884294793572507), (148, 0.12856045463273644), (304, 0.1278532921762673), (442, 0.12754474909845223), (320, 0.12747304896552994), (707, 0.12597435452999461), (463, 0.12552701726678717), (18, 0.1251921528294209), (454, 0.12502197845151936), (309, 0.12498479678361891), (771, 0.12484715579395828), (399, 0.12482584191039926), (410, 0.12428714533830343), (486, 0.124253454548193), (480, 0.12400260190737816), (301, 0.12351541471397927), (872, 0.1234630632522225), (684, 0.12322357355536565), (532, 0.12268481783465958), (423, 0.12253691630884163), (723, 0.12230861945135153), (407, 0.12211419371911886), (370, 0.12201048899775212), (358, 0.12194002951518805), (332, 0.12179411491522399), (675, 0.12153295100489868), (0, 0.12146619554124743), (889, 0.12136269769287535), (617, 0.12090756708365376), (567, 0.12090756708365374), (519, 0.12040022658041301), (655, 0.11991371299211613), (695, 0.11948054945853984), (131, 0.11936901194723636), (62, 0.11931139293870693), (405, 0.11917581210593238), (70, 0.11819841862151341), (738, 0.11808733829709206), (308, 0.11802152895971878), (366, 0.11802152895971876), (355, 0.11777251560012442), (96, 0.11776632354651319), (203, 0.11773256841743503), (629, 0.1175640685064693), (284, 0.11747318523147715), (350, 0.11746682339628842), (412, 0.11726759874802457), (804, 0.11716975886775288), (487, 0.11714636652269372), (312, 0.11695111901206205), (381, 0.11689418232131521), (609, 0.11688339102910483), (830, 0.11682988395973613), (73, 0.1167738382444677), (251, 0.11657721725424167), (495, 0.11632265504906134), (503, 0.11623561830720872), (670, 0.11621353992018495), (871, 0.11620176630403861), (677, 0.11603181417973474), (790, 0.11603175140287789), (184, 0.11588724314644344), (748, 0.1153719739586246), (229, 0.1148716822661047), (505, 0.1147936319998923), (892, 0.11464159713122105), (817, 0.11455602481792868), (839, 0.11435546098131033), (745, 0.11424023533902458), (125, 0.11421705335899983), (784, 0.11394457895437184), (47, 0.113898111469397), (228, 0.1138884543466258), (139, 0.11378710278012748), (325, 0.11363516576818564), (30, 0.11362266218715641), (837, 0.11356438624067068), (159, 0.11350378977296771), (891, 0.11328738404044689), (79, 0.11322912105555887), (793, 0.11317779327921926), (206, 0.11276788525962611), (809, 0.11261275968472693), (612, 0.11229768599344306), (467, 0.11146789074419472), (49, 0.11129698206861077), (37, 0.1112461863773273), (161, 0.11095483420933712), (758, 0.11087460110628486), (796, 0.11083566989073754), (386, 0.11040235857286027), (434, 0.11038844674623749), (767, 0.11029643116730473), (342, 0.11012007353755807), (895, 0.11001104924243754), (444, 0.10963362503847074), (346, 0.10960304290421227), (22, 0.10938036437726549), (708, 0.10887251146524159), (182, 0.10868238560454628), (88, 0.10867780132428424), (671, 0.10837841531472386), (252, 0.10770205159284012), (568, 0.10765648124485902), (414, 0.10752700858076315), (166, 0.10699745696435203), (769, 0.10668887356533134), (123, 0.10603073175535593), (460, 0.10600550661287973), (64, 0.10576208437106467), (115, 0.10565451488906892), (272, 0.1054925178277485), (694, 0.10510845240192523), (296, 0.10510412674067753), (230, 0.10508541661560883), (33, 0.10499867667790985), (543, 0.10448270954223776), (842, 0.10443472666506098), (904, 0.10441057472173934), (821, 0.10435803710982955), (582, 0.10405006706462526), (673, 0.1040292549697947), (674, 0.1035398110517059), (493, 0.10348096489119708), (788, 0.1033077662175012), (859, 0.10320362596209788), (782, 0.10318774725964805), (416, 0.10312103000972139), (250, 0.10286691208195087), (4, 0.10265581882115214), (846, 0.10240088431385208), (316, 0.10233418560681072), (682, 0.10233038613309495), (792, 0.10215363835714185), (214, 0.10170181365796245), (319, 0.10135526145215376), (427, 0.10122398591167495), (227, 0.10113095688732597), (145, 0.1010413664875835), (19, 0.10091275460728133), (508, 0.10081928745439003), (314, 0.10076920157697368), (347, 0.10022654607472929), (770, 0.10019501341827018), (129, 0.10010219726734527), (271, 0.09991506033292562), (243, 0.09977632038181672), (819, 0.09947417662269696), (590, 0.09921299033180794), (189, 0.09918800280079035), (315, 0.09900675009264083), (491, 0.09887010422293804), (270, 0.0983945417141934), (650, 0.09829707728219575), (137, 0.09828748610535842), (336, 0.098279829668458), (815, 0.09826003099961174), (102, 0.09814465336734829), (446, 0.09788414925379864), (575, 0.09778781823952487), (808, 0.09774787297538032), (321, 0.09738078151928747), (586, 0.09735190129623167), (560, 0.09712232302135615), (642, 0.09692353573379946), (371, 0.09673811416652618), (722, 0.09659394296485703), (222, 0.09658459563335337), (780, 0.09629486864882478), (853, 0.09611152538194773), (860, 0.09598650577084474), (277, 0.0959044760177425), (863, 0.09587410885447037), (390, 0.0958185848734886), (511, 0.09578782858881582), (401, 0.0956503539081869), (430, 0.09560679564368997), (822, 0.09560135514925375), (436, 0.09556960000621742), (133, 0.0954533424344635), (630, 0.09538506691262807), (903, 0.09533542596890028), (475, 0.09498428140203435), (746, 0.09498428140203434), (706, 0.09437039542843138), (510, 0.09433844224653118), (106, 0.09396554416044667), (294, 0.09378229377677264), (7, 0.0937784308965766), (517, 0.09366627627761698), (645, 0.09365547520114198), (244, 0.09356407991709506), (529, 0.09295543539392769), (220, 0.09292125172601315), (216, 0.09276255731961504), (160, 0.09274087349713253), (107, 0.09265911201656732), (431, 0.09247330947267007), (606, 0.09238836233999151), (896, 0.0923877853724979), (867, 0.09216600735493985), (525, 0.09201865952713154), (208, 0.09193236266246765), (497, 0.09185297800953908), (911, 0.09184542896674767), (810, 0.09169279831875318), (95, 0.09160401426542991), (554, 0.09153747789534283), (710, 0.09113259554093797), (507, 0.09095283802218193), (652, 0.09067143980543815), (232, 0.09064478349446804), (441, 0.0904728724659724), (130, 0.09042148248601631), (465, 0.09026371657870083), (696, 0.08995599526086843), (600, 0.08986828658388807), (92, 0.08969872579940703), (343, 0.08950343535928244), (783, 0.08941498650693286), (667, 0.08936674675216577), (893, 0.08920758946333598), (298, 0.08887008239573671), (156, 0.08881338696260055), (862, 0.08880683416169423), (126, 0.08872678198153201), (887, 0.08846303693041263), (281, 0.0884162778312701), (176, 0.08803087490781766), (545, 0.08799880653951454), (805, 0.08788428328303236), (109, 0.08781690354593057), (337, 0.08742006533481682), (435, 0.08729879671005107), (787, 0.08693486922783435), (826, 0.0867320122666535), (588, 0.08671812124866672), (866, 0.08669104580816224), (580, 0.08647282560882288), (63, 0.08645760521237396), (542, 0.08643079476258318), (565, 0.08640190385254555), (42, 0.08634322554581067), (531, 0.08595071589214479), (201, 0.08571620997733329), (162, 0.08568770915859784), (404, 0.08551963956982796), (429, 0.08547715462499722), (798, 0.08517328968050297), (763, 0.08495652400356711), (81, 0.08482650429453924), (775, 0.08473538682856784), (275, 0.08472797517640147), (418, 0.08444834413258277), (393, 0.08428314595625186), (89, 0.08411039901105262), (108, 0.08395540387263953), (380, 0.0837258610516197), (282, 0.08368467817785813), (21, 0.08338238665146466), (291, 0.08285107930998213), (462, 0.08269881137562236), (649, 0.0826566690006586), (663, 0.08263537205926884), (498, 0.08242284485752194), (699, 0.08239912282401246), (365, 0.08222521877885307), (340, 0.08216705693944018), (93, 0.08213195779589802), (702, 0.08196426852132821), (223, 0.0819640832358619), (721, 0.08179168176461148), (845, 0.08159460592518188), (43, 0.0811639542833311), (2, 0.08107515907975259), (881, 0.08100671233130836), (461, 0.08093742986042184), (901, 0.08092810202903596), (803, 0.08086152192559817), (263, 0.0805968353826117), (578, 0.08047236143129244), (801, 0.08037341056930754), (637, 0.08032379379238809), (311, 0.08028155399591741), (585, 0.079573637299204), (535, 0.07941351457035437), (58, 0.07931131699997913), (713, 0.07924864506842187), (557, 0.07924098115997896), (563, 0.07915332334486619), (372, 0.07914993290494643), (900, 0.0790348924334964), (812, 0.07903064130300713), (174, 0.07876746827350074), (693, 0.07842614222174568), (685, 0.07838878112819586), (683, 0.07832604499879574), (195, 0.07829231527140139), (328, 0.07819041538188864), (653, 0.07816537601935403), (632, 0.0777530596531616), (572, 0.07774171232475446), (267, 0.07737275132714308), (197, 0.07699030194999293), (191, 0.07674397845883944), (749, 0.07651490119770665), (382, 0.07640127800137257), (599, 0.07632020864040717), (443, 0.0761429601958299), (80, 0.07599100125289149), (199, 0.07599100125289149), (120, 0.0759680157537605), (816, 0.07570694407518772), (45, 0.07555164694863001), (53, 0.07544693221092039), (87, 0.07511804671183014), (541, 0.07489915998935981), (54, 0.074894023870859), (327, 0.07461177259562593), (127, 0.07458335880404922), (257, 0.07456898815917268), (726, 0.07450846791112836), (611, 0.07401115580216712), (907, 0.07400144878451081), (104, 0.07384650341622818), (648, 0.07381663800067773), (345, 0.07359141974065819), (854, 0.07334311306710133), (905, 0.07330195615739205), (23, 0.07329441714917945), (217, 0.0728553366724772), (403, 0.07270152704020937), (774, 0.07270152704020935), (502, 0.07241034917349587), (248, 0.07203716924254698), (800, 0.07173184887953903), (852, 0.07155086391167682), (656, 0.07143408331772451), (105, 0.07138027749879758), (594, 0.07129300830471932), (351, 0.07122969438848874), (266, 0.07097146783794137), (647, 0.07053541564787014), (440, 0.07048110738417705), (880, 0.07036163588283623), (101, 0.07027239426115581), (581, 0.07013650939278912), (300, 0.07009843505331478), (258, 0.0699706141934956), (369, 0.06974556257974181), (286, 0.06966314171575072), (566, 0.06907707874868932), (540, 0.06899899564323118), (61, 0.06899054164312791), (432, 0.06895081973101887), (598, 0.06863133984474971), (135, 0.06843378325766283), (772, 0.06821700234815589), (448, 0.0681660031534414), (835, 0.06816600315344139), (518, 0.0681304413721392), (376, 0.06795000718530214), (894, 0.06790252825741327), (44, 0.06774598908524133), (482, 0.0668599001181583), (283, 0.06682192160071448), (468, 0.06667555733372849), (773, 0.06651508644563443), (676, 0.06649333666380586), (875, 0.06635824918765014), (539, 0.06625050220281542), (547, 0.06622380186478628), (902, 0.06591035735374426), (856, 0.06528425520974905), (546, 0.06517120879556718), (420, 0.06512011415125975), (813, 0.06502339456852078), (851, 0.06501209409477969), (338, 0.0648184876311525), (868, 0.06476988241179461), (592, 0.06467560305699817), (861, 0.06465821480475302), (41, 0.06462971755774419), (278, 0.0645214297672581), (714, 0.06448589838631184), (362, 0.06440017679989762), (164, 0.06422048378192038), (858, 0.06417603658965983), (729, 0.0640412198209267), (548, 0.06392344254056442), (873, 0.06385244033662599), (397, 0.06380582801123424), (504, 0.06377749370469472), (624, 0.06373652448276498), (573, 0.06341630099243967), (193, 0.06335713703789754), (375, 0.06324991971935742), (46, 0.0626859153820696), (596, 0.062360235843226065), (171, 0.06223175153067235), (168, 0.06218180847940123), (383, 0.0618919622670545), (361, 0.061202839877657025), (364, 0.06097020407276203), (584, 0.06096543353985693), (646, 0.06052467113543306), (299, 0.06034013051228337), (78, 0.060218240374586576), (285, 0.06019100982504275), (259, 0.05989638735202027), (869, 0.05986397642785384), (466, 0.05980655872581148), (279, 0.059788035116428745), (388, 0.05974476293593486), (832, 0.05963988893944653), (60, 0.05919013710369393), (307, 0.05917400342097737), (662, 0.05917400342097735), (51, 0.058896840288745006), (28, 0.058846787148935153), (910, 0.05850463029837937), (865, 0.05832006854501654), (530, 0.0581042472312613), (451, 0.05808814964202559), (238, 0.05782134151110235), (181, 0.057806576730291076), (445, 0.057806576730291076), (55, 0.05775316095219753), (400, 0.057198361488855126), (152, 0.05590057656069866), (717, 0.05560250070920068), (335, 0.05552967487479217), (605, 0.055476715631390935), (173, 0.05518836052304828), (235, 0.05510444600043908), (363, 0.054899035915515634), (264, 0.05481681251923537), (391, 0.054425759533253), (725, 0.05439148992001443), (167, 0.054306117461055035), (829, 0.05422572346070474), (26, 0.053946063404140286), (6, 0.053858097964786814), (34, 0.05375074446955624), (561, 0.053340445866982784), (149, 0.053254758348416815), (870, 0.05325388611318245), (268, 0.05287079689972744), (825, 0.05279910506092682), (833, 0.05258618593899864), (274, 0.052515921302082894), (533, 0.05238259810830989), (811, 0.05196177020052519), (111, 0.0519556205146997), (389, 0.05149297476970571), (522, 0.05122766782583013), (799, 0.05103968836916432), (132, 0.05093198766914113), (27, 0.05087823357746856), (74, 0.0508246493250268), (438, 0.05067668787766472), (330, 0.05047910367792041), (218, 0.05039281357127436), (619, 0.05036688156838956), (116, 0.04999110480485365), (36, 0.04974118173041728), (587, 0.04962631636996633), (536, 0.04936254012354291), (326, 0.049350258232305405), (720, 0.04925362162270715), (293, 0.04923475449747317), (339, 0.04912464697927409), (469, 0.04909344681926467), (147, 0.048948485537808374), (690, 0.04862557514941076), (597, 0.04862213881823526), (119, 0.048461767866899735), (413, 0.04834388453038294), (75, 0.04821649594392724), (908, 0.04811059570427296), (496, 0.0480143381905281), (618, 0.04790776109124517), (333, 0.04788080982934939), (455, 0.047865095663096296), (215, 0.04758076769914708), (802, 0.04750667014880493), (254, 0.04749214070101717), (913, 0.04739288546361677), (417, 0.04735210968295514), (225, 0.046937785633099194), (317, 0.04686412716799095), (38, 0.04669176863199786), (785, 0.04657314883455854), (753, 0.04599933042882078), (470, 0.04594515412042436), (754, 0.04566399290640343), (494, 0.04564049092011217), (740, 0.045631959235041555), (439, 0.0455260889162607), (221, 0.04545406630727426), (636, 0.045159402910949914), (544, 0.044307902049736905), (669, 0.044307902049736905), (76, 0.044229457782754396), (757, 0.044112281217747844), (392, 0.04408260001333878), (83, 0.043757692458031766), (359, 0.04372868888060373), (562, 0.04366300733623871), (65, 0.04329635042891643), (615, 0.043246498540848284), (781, 0.04318742862006211), (661, 0.04301940817450044), (200, 0.042344666072496116), (71, 0.042288664430506245), (213, 0.04089801091912505), (447, 0.0407178090653416), (219, 0.040316721011362695), (341, 0.040114489676517665), (776, 0.040114489676517665), (134, 0.040000189350456926), (607, 0.039861170564156286), (378, 0.03949971743783136), (700, 0.03908235707389929), (791, 0.0388053618341989), (831, 0.0386301674323076), (187, 0.03800751590824853), (29, 0.03787015544478894), (59, 0.03734396970029921), (827, 0.037222434603759444), (701, 0.03715330534635525), (158, 0.036923251708114085), (260, 0.036475680601387915), (559, 0.036273247681998994), (644, 0.036257913397787216), (836, 0.03571390924142978), (762, 0.035281388646334885), (110, 0.0352328918692581), (744, 0.034957203622308315), (428, 0.03495088966874425), (25, 0.03493157444777821), (67, 0.0346508673816229), (538, 0.0344327225221776), (172, 0.03374444381495627), (488, 0.03343604055127226), (750, 0.03318355527082871), (640, 0.03312830514490918), (138, 0.03308421091331089), (678, 0.0327257581817753), (795, 0.032633425535218044), (492, 0.03250596792211634), (501, 0.032085795566981795), (639, 0.031845153193070165), (190, 0.0318294549196816), (806, 0.031568073121970096), (5, 0.031165486530302804), (209, 0.031012742248512186), (474, 0.03100957816726655), (794, 0.030875924312835715), (310, 0.030366548885311855), (265, 0.029922320501697748), (848, 0.029478395904332138), (165, 0.028446237309102965), (680, 0.028278395104404146), (571, 0.027973587499569904), (878, 0.02774668455056673), (751, 0.02753159072864911), (759, 0.02752237101837374), (179, 0.027408406259617678), (735, 0.027350667821236452), (233, 0.02637458187633026), (224, 0.02618963901301532), (847, 0.02548695720107013), (864, 0.02508440996102268), (100, 0.024691828457241192), (553, 0.0246813989621794), (526, 0.02438183282317364), (626, 0.023997664993871293), (239, 0.02392262349032459), (613, 0.02363812908659889), (411, 0.023445769552022176), (464, 0.023352314803468627), (777, 0.023337913127844463), (752, 0.02316714561570752), (556, 0.022945179820816102), (360, 0.02211378063638067), (318, 0.021671703289236816), (415, 0.021177179101300035), (306, 0.020814911615514468), (226, 0.02076932908581417), (814, 0.02004655256517735), (186, 0.01953274028667133), (633, 0.019430300405696058), (373, 0.0177089992828193), (295, 0.017441713074302163), (305, 0.017246827481866178), (334, 0.017011329916444), (743, 0.01529059137664771), (287, 0.015231370205800135), (207, 0.015150767913791028), (157, 0.012876722477435864), (188, 0.012002905054577356), (16, 0.011991177738582739), (603, 0.011979484729718246), (402, 0.011875764294972039), (236, 0.011314823742974801), (273, 0.010861868132594531), (490, 0.01011184892848762), (202, 0.008868678192751257), (112, 0.008402800952329894), (458, 0.008256290076967833), (12, 0.008233451056515566), (668, 0.007746999694578848), (877, 0.007572064574296845), (665, 0.007264726144200545), (68, 0.006192217557725874), (11, 0.006042985566297869), (638, 0.005856181313928276), (704, 0.005712513943906522), (276, 0.005457234142955183), (8, 0.005233379015116646), (672, 0.00470191424508362), (280, 0.0047013192233470984), (797, 0.0046892576561904905), (262, 0.004664248103701636), (709, 0.004631516133658661), (349, 0.0045071574150548615), (94, 0.00447760196570065), (724, 0.004392306497548508), (602, 0.004260375197090087), (409, 0.0042108342661765115), (527, 0.0042108342661765115), (500, 0.004116725528257783), (421, 0.004061016255151639), (353, 0.00396619346191236), (820, 0.003926129874551101), (140, 0.0037772172989665944), (577, 0.0035602747726725336), (98, 0.003441448841081139), (425, 0.003197647396955396), (377, 0.0029948711824295616), (635, 0.002815371548759151), (419, 0.002793797502491538), (537, 0.002438183282317364), (163, 0.0023057026217306537), (843, 0.002257319089698829), (912, 0.0013079798549423952), (10, 0.0), (14, 0.0), (15, 0.0), (20, 0.0), (31, 0.0), (32, 0.0), (35, 0.0), (50, 0.0), (56, 0.0), (57, 0.0), (69, 0.0), (72, 0.0), (114, 0.0), (117, 0.0), (118, 0.0), (121, 0.0), (128, 0.0), (142, 0.0), (143, 0.0), (154, 0.0), (175, 0.0), (178, 0.0), (183, 0.0), (185, 0.0), (194, 0.0), (196, 0.0), (210, 0.0), (211, 0.0), (231, 0.0), (245, 0.0), (249, 0.0), (253, 0.0), (269, 0.0), (297, 0.0), (302, 0.0), (303, 0.0), (313, 0.0), (322, 0.0), (323, 0.0), (331, 0.0), (344, 0.0), (348, 0.0), (356, 0.0), (357, 0.0), (367, 0.0), (374, 0.0), (385, 0.0), (394, 0.0), (395, 0.0), (422, 0.0), (424, 0.0), (426, 0.0), (437, 0.0), (452, 0.0), (456, 0.0), (457, 0.0), (459, 0.0), (471, 0.0), (472, 0.0), (476, 0.0), (478, 0.0), (479, 0.0), (481, 0.0), (499, 0.0), (512, 0.0), (513, 0.0), (516, 0.0), (521, 0.0), (523, 0.0), (528, 0.0), (534, 0.0), (549, 0.0), (551, 0.0), (552, 0.0), (555, 0.0), (564, 0.0), (570, 0.0), (576, 0.0), (591, 0.0), (593, 0.0), (595, 0.0), (604, 0.0), (608, 0.0), (623, 0.0), (625, 0.0), (631, 0.0), (634, 0.0), (641, 0.0), (643, 0.0), (651, 0.0), (654, 0.0), (659, 0.0), (664, 0.0), (679, 0.0), (686, 0.0), (687, 0.0), (691, 0.0), (692, 0.0), (697, 0.0), (711, 0.0), (712, 0.0), (716, 0.0), (718, 0.0), (727, 0.0), (728, 0.0), (730, 0.0), (731, 0.0), (733, 0.0), (736, 0.0), (739, 0.0), (742, 0.0), (756, 0.0), (761, 0.0), (764, 0.0), (766, 0.0), (778, 0.0), (807, 0.0), (828, 0.0), (838, 0.0), (840, 0.0), (876, 0.0), (883, 0.0), (884, 0.0), (885, 0.0), (886, 0.0), (890, 0.0)]\n"
          ]
        }
      ]
    },
    {
      "cell_type": "code",
      "metadata": {
        "colab": {
          "base_uri": "https://localhost:8080/"
        },
        "id": "YMtLBI6dxqam",
        "outputId": "9aeb9682-d52b-42b7-a42c-d368cbfb9bc3"
      },
      "source": [
        "# Create a loop to print the first 7 similar movies\n",
        "j = 0\n",
        "print('The 7 most recommended courses : ', title_to_search, '\\nare:\\n')\n",
        "print('ID  Course Title' )\n",
        "for item in sorted_scores:\n",
        "  course_title = df[df.index == item[0]]['title'].values[0]\n",
        "  course_id = df[df.index == item[0]]['Course_id'].values[0]\n",
        "  #course_headline = df[df.index == item[0]]['headline'].values[0]\n",
        "  num_reviews = df[df.index == item[0]]['num_reviews'].values[0]\n",
        "  print(course_id, course_title, \" | \" + str(num_reviews) )\n",
        "  j=j+1\n",
        "  if j>20:\n",
        "    break"
      ],
      "execution_count": 185,
      "outputs": [
        {
          "output_type": "stream",
          "name": "stdout",
          "text": [
            "The 7 most recommended courses :  Dark Web Foundation: A Guide to the Deep/Dark Web 2019 \n",
            "are:\n",
            "\n",
            "ID  Course Title\n",
            "1074132 Web Hacking: Become a Professional Web Pentester  | 503\n",
            "1109736 Beginners Introduction to Web Development  | 224\n",
            "1077852 Python: Web Development and Penetration Testing  | 13\n",
            "1077472 Learn Bootstrap 4 - Make Real World Projects & Templates  | 180\n",
            "1075814 XML Crash Course For Beginners  | 60\n",
            "1075808 JSON Crash Course for Beginners  | 149\n",
            "1075818 XML Schema (XSD) Crash Course for Beginners  | 26\n",
            "1110366 Scrapy: Powerful Web Scraping & Crawling with Python  | 2489\n",
            "1112294 Mastering NodeJs  | 8\n",
            "1089910 Python Scrapy: Capture Dados Web de forma rápida e escalável  | 667\n",
            "1090164 Aprende Cómo Crear Páginas Web Responsivas: con HTML5 y CSS3  | 27\n",
            "1093608 The Most Comprehensive Web Development Course  | 475\n",
            "1072248 The All-In-One Web Development Course  | 22\n",
            "1111062 Create Websites from Scratch with HTML, CSS and Javascript  | 32\n",
            "1110402 Build a Web Browser for Android : 2 hour Android Project  | 53\n",
            "1078206 Scalable Web Applications with Python, Flask, and SQLAlchemy  | 572\n",
            "1092316 Learning Path:  Python Web Development  | 20\n",
            "1111844 Learn AJAX with jQuery  | 532\n",
            "1111552 Build a Complete JQuery Plugin  | 124\n",
            "1073793 Javascript Crash Course: Go From Zero to Basics, Dom and OOP  | 139\n",
            "1092212 Web Geliştiricisi Olmanın Temelleri  | 594\n"
          ]
        }
      ]
    }
  ]
}