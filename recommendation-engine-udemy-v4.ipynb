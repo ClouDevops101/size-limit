{
  "nbformat": 4,
  "nbformat_minor": 0,
  "metadata": {
    "colab": {
      "name": "Untitled0.ipynb",
      "provenance": [],
      "collapsed_sections": [],
      "authorship_tag": "ABX9TyMz48A57yLSu1XJAAYnUu2h",
      "include_colab_link": true
    },
    "kernelspec": {
      "display_name": "Python 3",
      "name": "python3"
    },
    "language_info": {
      "name": "python"
    }
  },
  "cells": [
    {
      "cell_type": "markdown",
      "metadata": {
        "id": "view-in-github",
        "colab_type": "text"
      },
      "source": [
        "<a href=\"https://colab.research.google.com/github/ClouDevops101/size-limit/blob/main/recommendation-engine-udemy-v4.ipynb\" target=\"_parent\"><img src=\"https://colab.research.google.com/assets/colab-badge.svg\" alt=\"Open In Colab\"/></a>"
      ]
    },
    {
      "cell_type": "markdown",
      "metadata": {
        "id": "sjKF4fY8XJ-4"
      },
      "source": [
        "# build a online courses recommendation system"
      ]
    },
    {
      "cell_type": "code",
      "metadata": {
        "id": "bBUIP4N7XffM"
      },
      "source": [
        "# importing libraries\n",
        "# src https://www.youtube.com/watch?v=ueKXSupHz6Q"
      ],
      "execution_count": null,
      "outputs": []
    },
    {
      "cell_type": "code",
      "metadata": {
        "id": "qnloLFNVJZ6W",
        "colab": {
          "base_uri": "https://localhost:8080/"
        },
        "outputId": "8293a71b-67bd-4500-ce80-2696ef1697a8"
      },
      "source": [
        "import pandas as pd\n",
        "import numpy as np\n",
        "from sklearn.metrics.pairwise import cosine_similarity\n",
        "from sklearn.feature_extraction.text import CountVectorizer\n",
        "from nltk.corpus import stopwords\n",
        "import nltk\n",
        "nltk.download('stopwords')"
      ],
      "execution_count": 1,
      "outputs": [
        {
          "output_type": "stream",
          "name": "stdout",
          "text": [
            "[nltk_data] Downloading package stopwords to /root/nltk_data...\n",
            "[nltk_data]   Unzipping corpora/stopwords.zip.\n"
          ]
        },
        {
          "output_type": "execute_result",
          "data": {
            "text/plain": [
              "True"
            ]
          },
          "metadata": {},
          "execution_count": 1
        }
      ]
    },
    {
      "cell_type": "code",
      "metadata": {
        "colab": {
          "base_uri": "https://localhost:8080/"
        },
        "id": "OIHJzTADS_Mb",
        "outputId": "ee442642-8bf9-4a74-970a-fb56a61987cc"
      },
      "source": [
        "# show available language\n",
        "print(stopwords.fileids())"
      ],
      "execution_count": 131,
      "outputs": [
        {
          "output_type": "stream",
          "name": "stdout",
          "text": [
            "['arabic', 'azerbaijani', 'danish', 'dutch', 'english', 'finnish', 'french', 'german', 'greek', 'hungarian', 'indonesian', 'italian', 'kazakh', 'nepali', 'norwegian', 'portuguese', 'romanian', 'russian', 'slovene', 'spanish', 'swedish', 'tajik', 'turkish']\n"
          ]
        }
      ]
    },
    {
      "cell_type": "code",
      "metadata": {
        "id": "w2Sly4SSJekt",
        "colab": {
          "resources": {
            "http://localhost:8080/nbextensions/google.colab/files.js": {
              "data": "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",
              "ok": true,
              "headers": [
                [
                  "content-type",
                  "application/javascript"
                ]
              ],
              "status": 200,
              "status_text": ""
            }
          },
          "base_uri": "https://localhost:8080/",
          "height": 380
        },
        "outputId": "29bcd2bc-3c61-4df6-f708-28c91c914f5f"
      },
      "source": [
        "# Load the data \n",
        "from google.colab import files\n",
        "uploaded = files.upload()"
      ],
      "execution_count": null,
      "outputs": [
        {
          "output_type": "display_data",
          "data": {
            "text/html": [
              "\n",
              "     <input type=\"file\" id=\"files-83b1cd30-286e-4f3d-9f10-3ae13117d4fa\" name=\"files[]\" multiple disabled\n",
              "        style=\"border:none\" />\n",
              "     <output id=\"result-83b1cd30-286e-4f3d-9f10-3ae13117d4fa\">\n",
              "      Upload widget is only available when the cell has been executed in the\n",
              "      current browser session. Please rerun this cell to enable.\n",
              "      </output>\n",
              "      <script src=\"/nbextensions/google.colab/files.js\"></script> "
            ],
            "text/plain": [
              "<IPython.core.display.HTML object>"
            ]
          },
          "metadata": {}
        },
        {
          "output_type": "error",
          "ename": "KeyboardInterrupt",
          "evalue": "ignored",
          "traceback": [
            "\u001b[0;31m---------------------------------------------------------------------------\u001b[0m",
            "\u001b[0;31mKeyboardInterrupt\u001b[0m                         Traceback (most recent call last)",
            "\u001b[0;32m<ipython-input-2-bac6ecd8d656>\u001b[0m in \u001b[0;36m<module>\u001b[0;34m()\u001b[0m\n\u001b[1;32m      1\u001b[0m \u001b[0;31m# Load the data\u001b[0m\u001b[0;34m\u001b[0m\u001b[0;34m\u001b[0m\u001b[0;34m\u001b[0m\u001b[0m\n\u001b[1;32m      2\u001b[0m \u001b[0;32mfrom\u001b[0m \u001b[0mgoogle\u001b[0m\u001b[0;34m.\u001b[0m\u001b[0mcolab\u001b[0m \u001b[0;32mimport\u001b[0m \u001b[0mfiles\u001b[0m\u001b[0;34m\u001b[0m\u001b[0;34m\u001b[0m\u001b[0m\n\u001b[0;32m----> 3\u001b[0;31m \u001b[0muploaded\u001b[0m \u001b[0;34m=\u001b[0m \u001b[0mfiles\u001b[0m\u001b[0;34m.\u001b[0m\u001b[0mupload\u001b[0m\u001b[0;34m(\u001b[0m\u001b[0;34m)\u001b[0m\u001b[0;34m\u001b[0m\u001b[0;34m\u001b[0m\u001b[0m\n\u001b[0m",
            "\u001b[0;32m/usr/local/lib/python3.7/dist-packages/google/colab/files.py\u001b[0m in \u001b[0;36mupload\u001b[0;34m()\u001b[0m\n\u001b[1;32m     62\u001b[0m   result = _output.eval_js(\n\u001b[1;32m     63\u001b[0m       'google.colab._files._uploadFiles(\"{input_id}\", \"{output_id}\")'.format(\n\u001b[0;32m---> 64\u001b[0;31m           input_id=input_id, output_id=output_id))\n\u001b[0m\u001b[1;32m     65\u001b[0m   \u001b[0mfiles\u001b[0m \u001b[0;34m=\u001b[0m \u001b[0m_collections\u001b[0m\u001b[0;34m.\u001b[0m\u001b[0mdefaultdict\u001b[0m\u001b[0;34m(\u001b[0m\u001b[0m_six\u001b[0m\u001b[0;34m.\u001b[0m\u001b[0mbinary_type\u001b[0m\u001b[0;34m)\u001b[0m\u001b[0;34m\u001b[0m\u001b[0;34m\u001b[0m\u001b[0m\n\u001b[1;32m     66\u001b[0m   \u001b[0;31m# Mapping from original filename to filename as saved locally.\u001b[0m\u001b[0;34m\u001b[0m\u001b[0;34m\u001b[0m\u001b[0;34m\u001b[0m\u001b[0m\n",
            "\u001b[0;32m/usr/local/lib/python3.7/dist-packages/google/colab/output/_js.py\u001b[0m in \u001b[0;36meval_js\u001b[0;34m(script, ignore_result, timeout_sec)\u001b[0m\n\u001b[1;32m     38\u001b[0m   \u001b[0;32mif\u001b[0m \u001b[0mignore_result\u001b[0m\u001b[0;34m:\u001b[0m\u001b[0;34m\u001b[0m\u001b[0;34m\u001b[0m\u001b[0m\n\u001b[1;32m     39\u001b[0m     \u001b[0;32mreturn\u001b[0m\u001b[0;34m\u001b[0m\u001b[0;34m\u001b[0m\u001b[0m\n\u001b[0;32m---> 40\u001b[0;31m   \u001b[0;32mreturn\u001b[0m \u001b[0m_message\u001b[0m\u001b[0;34m.\u001b[0m\u001b[0mread_reply_from_input\u001b[0m\u001b[0;34m(\u001b[0m\u001b[0mrequest_id\u001b[0m\u001b[0;34m,\u001b[0m \u001b[0mtimeout_sec\u001b[0m\u001b[0;34m)\u001b[0m\u001b[0;34m\u001b[0m\u001b[0;34m\u001b[0m\u001b[0m\n\u001b[0m\u001b[1;32m     41\u001b[0m \u001b[0;34m\u001b[0m\u001b[0m\n\u001b[1;32m     42\u001b[0m \u001b[0;34m\u001b[0m\u001b[0m\n",
            "\u001b[0;32m/usr/local/lib/python3.7/dist-packages/google/colab/_message.py\u001b[0m in \u001b[0;36mread_reply_from_input\u001b[0;34m(message_id, timeout_sec)\u001b[0m\n\u001b[1;32m     99\u001b[0m     \u001b[0mreply\u001b[0m \u001b[0;34m=\u001b[0m \u001b[0m_read_next_input_message\u001b[0m\u001b[0;34m(\u001b[0m\u001b[0;34m)\u001b[0m\u001b[0;34m\u001b[0m\u001b[0;34m\u001b[0m\u001b[0m\n\u001b[1;32m    100\u001b[0m     \u001b[0;32mif\u001b[0m \u001b[0mreply\u001b[0m \u001b[0;34m==\u001b[0m \u001b[0m_NOT_READY\u001b[0m \u001b[0;32mor\u001b[0m \u001b[0;32mnot\u001b[0m \u001b[0misinstance\u001b[0m\u001b[0;34m(\u001b[0m\u001b[0mreply\u001b[0m\u001b[0;34m,\u001b[0m \u001b[0mdict\u001b[0m\u001b[0;34m)\u001b[0m\u001b[0;34m:\u001b[0m\u001b[0;34m\u001b[0m\u001b[0;34m\u001b[0m\u001b[0m\n\u001b[0;32m--> 101\u001b[0;31m       \u001b[0mtime\u001b[0m\u001b[0;34m.\u001b[0m\u001b[0msleep\u001b[0m\u001b[0;34m(\u001b[0m\u001b[0;36m0.025\u001b[0m\u001b[0;34m)\u001b[0m\u001b[0;34m\u001b[0m\u001b[0;34m\u001b[0m\u001b[0m\n\u001b[0m\u001b[1;32m    102\u001b[0m       \u001b[0;32mcontinue\u001b[0m\u001b[0;34m\u001b[0m\u001b[0;34m\u001b[0m\u001b[0m\n\u001b[1;32m    103\u001b[0m     if (reply.get('type') == 'colab_reply' and\n",
            "\u001b[0;31mKeyboardInterrupt\u001b[0m: "
          ]
        }
      ]
    },
    {
      "cell_type": "code",
      "metadata": {
        "colab": {
          "base_uri": "https://localhost:8080/",
          "height": 400
        },
        "id": "xlcp5Q6Bij1w",
        "outputId": "dfdec5f0-3e1b-4a00-d986-cd2e26c2444b"
      },
      "source": [
        "#Store the data \n",
        "df = pd.read_csv('udemy-data-v2.csv')\n",
        "# show the first 3 rows of data \n",
        "df.head(3)"
      ],
      "execution_count": 2,
      "outputs": [
        {
          "output_type": "execute_result",
          "data": {
            "text/html": [
              "<div>\n",
              "<style scoped>\n",
              "    .dataframe tbody tr th:only-of-type {\n",
              "        vertical-align: middle;\n",
              "    }\n",
              "\n",
              "    .dataframe tbody tr th {\n",
              "        vertical-align: top;\n",
              "    }\n",
              "\n",
              "    .dataframe thead th {\n",
              "        text-align: right;\n",
              "    }\n",
              "</style>\n",
              "<table border=\"1\" class=\"dataframe\">\n",
              "  <thead>\n",
              "    <tr style=\"text-align: right;\">\n",
              "      <th></th>\n",
              "      <th>Course_id</th>\n",
              "      <th>title</th>\n",
              "      <th>description</th>\n",
              "      <th>headline</th>\n",
              "      <th>category</th>\n",
              "      <th>subcategory</th>\n",
              "      <th>instructors_name</th>\n",
              "      <th>instructors_job_title</th>\n",
              "      <th>price</th>\n",
              "      <th>num_subscribers</th>\n",
              "      <th>avg_rating</th>\n",
              "      <th>num_reviews</th>\n",
              "      <th>created</th>\n",
              "    </tr>\n",
              "  </thead>\n",
              "  <tbody>\n",
              "    <tr>\n",
              "      <th>0</th>\n",
              "      <td>1117836</td>\n",
              "      <td>NoSQL Databases For Beginners</td>\n",
              "      <td>&lt;p&gt;NoSQL (Non-SQL or Not-only-SQL) databases a...</td>\n",
              "      <td>Learn to Store and Retrieve Data  from a Datab...</td>\n",
              "      <td>Development</td>\n",
              "      <td>Database Design &amp; Development</td>\n",
              "      <td>Bluelime Learning Solutions</td>\n",
              "      <td>Learning made simple</td>\n",
              "      <td>€94.99</td>\n",
              "      <td>1178</td>\n",
              "      <td>3.5</td>\n",
              "      <td>128</td>\n",
              "      <td>2017-02-17T12:46:11Z</td>\n",
              "    </tr>\n",
              "    <tr>\n",
              "      <th>1</th>\n",
              "      <td>1117864</td>\n",
              "      <td>Tai Chi Foundation Course</td>\n",
              "      <td>&lt;p&gt;Whether you're a beginner or experienced st...</td>\n",
              "      <td>Traditional methods. Modern teaching.</td>\n",
              "      <td>Health &amp; Fitness</td>\n",
              "      <td>General Health</td>\n",
              "      <td>Aamir Rafi</td>\n",
              "      <td>Tai Chi practitioner &amp; life long martial artist</td>\n",
              "      <td>€89.99</td>\n",
              "      <td>5</td>\n",
              "      <td>0.0</td>\n",
              "      <td>0</td>\n",
              "      <td>2017-02-17T13:28:15Z</td>\n",
              "    </tr>\n",
              "    <tr>\n",
              "      <th>2</th>\n",
              "      <td>1117988</td>\n",
              "      <td>Music Pedagogy: 7 advices to teach a musical i...</td>\n",
              "      <td>&lt;p&gt;&lt;strong&gt;Are you a music teacher?&lt;/strong&gt;&lt;/...</td>\n",
              "      <td>Learn how to organize and improve your classes.</td>\n",
              "      <td>Music</td>\n",
              "      <td>Music Fundamentals</td>\n",
              "      <td>Ilse Lozoya</td>\n",
              "      <td>University Professor, Piano Teacher, Course De...</td>\n",
              "      <td>€39.99</td>\n",
              "      <td>1345</td>\n",
              "      <td>4.0</td>\n",
              "      <td>7</td>\n",
              "      <td>2017-02-17T15:50:16Z</td>\n",
              "    </tr>\n",
              "  </tbody>\n",
              "</table>\n",
              "</div>"
            ],
            "text/plain": [
              "   Course_id  ...               created\n",
              "0    1117836  ...  2017-02-17T12:46:11Z\n",
              "1    1117864  ...  2017-02-17T13:28:15Z\n",
              "2    1117988  ...  2017-02-17T15:50:16Z\n",
              "\n",
              "[3 rows x 13 columns]"
            ]
          },
          "metadata": {},
          "execution_count": 2
        }
      ]
    },
    {
      "cell_type": "code",
      "metadata": {
        "colab": {
          "base_uri": "https://localhost:8080/"
        },
        "id": "cDHmd10Mnfbp",
        "outputId": "0cf28d26-bd36-4990-cd17-aa72660bd5c8"
      },
      "source": [
        "df.shape\n"
      ],
      "execution_count": 3,
      "outputs": [
        {
          "output_type": "execute_result",
          "data": {
            "text/plain": [
              "(645, 13)"
            ]
          },
          "metadata": {},
          "execution_count": 3
        }
      ]
    },
    {
      "cell_type": "code",
      "metadata": {
        "id": "SZPROhUynmtW"
      },
      "source": [
        "# Creat a list of important columns for the recommendation engine\n",
        "columns= ['title','description','headline','category','subcategory','instructors_name','instructors_job_title']"
      ],
      "execution_count": 4,
      "outputs": []
    },
    {
      "cell_type": "code",
      "metadata": {
        "colab": {
          "base_uri": "https://localhost:8080/",
          "height": 363
        },
        "id": "b78UcfsUn8Hm",
        "outputId": "f9b81a62-fe54-4c18-86de-b99a0b4a8ebd"
      },
      "source": [
        "# show the data \n",
        "df[columns].head(3)\n"
      ],
      "execution_count": 5,
      "outputs": [
        {
          "output_type": "execute_result",
          "data": {
            "text/html": [
              "<div>\n",
              "<style scoped>\n",
              "    .dataframe tbody tr th:only-of-type {\n",
              "        vertical-align: middle;\n",
              "    }\n",
              "\n",
              "    .dataframe tbody tr th {\n",
              "        vertical-align: top;\n",
              "    }\n",
              "\n",
              "    .dataframe thead th {\n",
              "        text-align: right;\n",
              "    }\n",
              "</style>\n",
              "<table border=\"1\" class=\"dataframe\">\n",
              "  <thead>\n",
              "    <tr style=\"text-align: right;\">\n",
              "      <th></th>\n",
              "      <th>title</th>\n",
              "      <th>description</th>\n",
              "      <th>headline</th>\n",
              "      <th>category</th>\n",
              "      <th>subcategory</th>\n",
              "      <th>instructors_name</th>\n",
              "      <th>instructors_job_title</th>\n",
              "    </tr>\n",
              "  </thead>\n",
              "  <tbody>\n",
              "    <tr>\n",
              "      <th>0</th>\n",
              "      <td>NoSQL Databases For Beginners</td>\n",
              "      <td>&lt;p&gt;NoSQL (Non-SQL or Not-only-SQL) databases a...</td>\n",
              "      <td>Learn to Store and Retrieve Data  from a Datab...</td>\n",
              "      <td>Development</td>\n",
              "      <td>Database Design &amp; Development</td>\n",
              "      <td>Bluelime Learning Solutions</td>\n",
              "      <td>Learning made simple</td>\n",
              "    </tr>\n",
              "    <tr>\n",
              "      <th>1</th>\n",
              "      <td>Tai Chi Foundation Course</td>\n",
              "      <td>&lt;p&gt;Whether you're a beginner or experienced st...</td>\n",
              "      <td>Traditional methods. Modern teaching.</td>\n",
              "      <td>Health &amp; Fitness</td>\n",
              "      <td>General Health</td>\n",
              "      <td>Aamir Rafi</td>\n",
              "      <td>Tai Chi practitioner &amp; life long martial artist</td>\n",
              "    </tr>\n",
              "    <tr>\n",
              "      <th>2</th>\n",
              "      <td>Music Pedagogy: 7 advices to teach a musical i...</td>\n",
              "      <td>&lt;p&gt;&lt;strong&gt;Are you a music teacher?&lt;/strong&gt;&lt;/...</td>\n",
              "      <td>Learn how to organize and improve your classes.</td>\n",
              "      <td>Music</td>\n",
              "      <td>Music Fundamentals</td>\n",
              "      <td>Ilse Lozoya</td>\n",
              "      <td>University Professor, Piano Teacher, Course De...</td>\n",
              "    </tr>\n",
              "  </tbody>\n",
              "</table>\n",
              "</div>"
            ],
            "text/plain": [
              "                                               title  ...                              instructors_job_title\n",
              "0                      NoSQL Databases For Beginners  ...                               Learning made simple\n",
              "1                          Tai Chi Foundation Course  ...    Tai Chi practitioner & life long martial artist\n",
              "2  Music Pedagogy: 7 advices to teach a musical i...  ...  University Professor, Piano Teacher, Course De...\n",
              "\n",
              "[3 rows x 7 columns]"
            ]
          },
          "metadata": {},
          "execution_count": 5
        }
      ]
    },
    {
      "cell_type": "code",
      "metadata": {
        "colab": {
          "base_uri": "https://localhost:8080/"
        },
        "id": "xNDOQsIdoIlW",
        "outputId": "2614f83d-c049-4286-c2f1-aedbe66d7837"
      },
      "source": [
        "# check for missing values in the important columns\n",
        "df[columns].isnull().values.any()\n",
        "\n",
        "# data cleaning is needed"
      ],
      "execution_count": 6,
      "outputs": [
        {
          "output_type": "execute_result",
          "data": {
            "text/plain": [
              "True"
            ]
          },
          "metadata": {},
          "execution_count": 6
        }
      ]
    },
    {
      "cell_type": "code",
      "metadata": {
        "id": "wDFpKULComom"
      },
      "source": [
        "# Create a function to combine the values of the important columns into a single string\n",
        "def get_important_features(data):\n",
        "  important_features = []\n",
        "  for i in range(0, data.shape[0]):\n",
        "    important_features.append(str(data['title'][i])+' '+str(data['description'][i])+' '+str(data['headline'][i])+' '+str(data['category'][i])+' '+str(data['subcategory'][i])+' '+str(data['instructors_name'][i])+' '+str(data['instructors_job_title'][i]) )\n",
        "  return important_features\n"
      ],
      "execution_count": 7,
      "outputs": []
    },
    {
      "cell_type": "code",
      "metadata": {
        "colab": {
          "base_uri": "https://localhost:8080/",
          "height": 1000
        },
        "id": "fZVZLsyhp_dp",
        "outputId": "b0c181c4-8d79-4f36-b724-5b2473e677ba"
      },
      "source": [
        "# Create a column to hold the combined strings\n",
        "df['important_features'] = get_important_features(df)\n",
        "\n",
        "#show the data \n",
        "df.head(10)"
      ],
      "execution_count": 8,
      "outputs": [
        {
          "output_type": "execute_result",
          "data": {
            "text/html": [
              "<div>\n",
              "<style scoped>\n",
              "    .dataframe tbody tr th:only-of-type {\n",
              "        vertical-align: middle;\n",
              "    }\n",
              "\n",
              "    .dataframe tbody tr th {\n",
              "        vertical-align: top;\n",
              "    }\n",
              "\n",
              "    .dataframe thead th {\n",
              "        text-align: right;\n",
              "    }\n",
              "</style>\n",
              "<table border=\"1\" class=\"dataframe\">\n",
              "  <thead>\n",
              "    <tr style=\"text-align: right;\">\n",
              "      <th></th>\n",
              "      <th>Course_id</th>\n",
              "      <th>title</th>\n",
              "      <th>description</th>\n",
              "      <th>headline</th>\n",
              "      <th>category</th>\n",
              "      <th>subcategory</th>\n",
              "      <th>instructors_name</th>\n",
              "      <th>instructors_job_title</th>\n",
              "      <th>price</th>\n",
              "      <th>num_subscribers</th>\n",
              "      <th>avg_rating</th>\n",
              "      <th>num_reviews</th>\n",
              "      <th>created</th>\n",
              "      <th>important_features</th>\n",
              "    </tr>\n",
              "  </thead>\n",
              "  <tbody>\n",
              "    <tr>\n",
              "      <th>0</th>\n",
              "      <td>1117836</td>\n",
              "      <td>NoSQL Databases For Beginners</td>\n",
              "      <td>&lt;p&gt;NoSQL (Non-SQL or Not-only-SQL) databases a...</td>\n",
              "      <td>Learn to Store and Retrieve Data  from a Datab...</td>\n",
              "      <td>Development</td>\n",
              "      <td>Database Design &amp; Development</td>\n",
              "      <td>Bluelime Learning Solutions</td>\n",
              "      <td>Learning made simple</td>\n",
              "      <td>€94.99</td>\n",
              "      <td>1178</td>\n",
              "      <td>3.500000</td>\n",
              "      <td>128</td>\n",
              "      <td>2017-02-17T12:46:11Z</td>\n",
              "      <td>NoSQL Databases For Beginners &lt;p&gt;NoSQL (Non-SQ...</td>\n",
              "    </tr>\n",
              "    <tr>\n",
              "      <th>1</th>\n",
              "      <td>1117864</td>\n",
              "      <td>Tai Chi Foundation Course</td>\n",
              "      <td>&lt;p&gt;Whether you're a beginner or experienced st...</td>\n",
              "      <td>Traditional methods. Modern teaching.</td>\n",
              "      <td>Health &amp; Fitness</td>\n",
              "      <td>General Health</td>\n",
              "      <td>Aamir Rafi</td>\n",
              "      <td>Tai Chi practitioner &amp; life long martial artist</td>\n",
              "      <td>€89.99</td>\n",
              "      <td>5</td>\n",
              "      <td>0.000000</td>\n",
              "      <td>0</td>\n",
              "      <td>2017-02-17T13:28:15Z</td>\n",
              "      <td>Tai Chi Foundation Course &lt;p&gt;Whether you're a ...</td>\n",
              "    </tr>\n",
              "    <tr>\n",
              "      <th>2</th>\n",
              "      <td>1117988</td>\n",
              "      <td>Music Pedagogy: 7 advices to teach a musical i...</td>\n",
              "      <td>&lt;p&gt;&lt;strong&gt;Are you a music teacher?&lt;/strong&gt;&lt;/...</td>\n",
              "      <td>Learn how to organize and improve your classes.</td>\n",
              "      <td>Music</td>\n",
              "      <td>Music Fundamentals</td>\n",
              "      <td>Ilse Lozoya</td>\n",
              "      <td>University Professor, Piano Teacher, Course De...</td>\n",
              "      <td>€39.99</td>\n",
              "      <td>1345</td>\n",
              "      <td>4.000000</td>\n",
              "      <td>7</td>\n",
              "      <td>2017-02-17T15:50:16Z</td>\n",
              "      <td>Music Pedagogy: 7 advices to teach a musical i...</td>\n",
              "    </tr>\n",
              "    <tr>\n",
              "      <th>3</th>\n",
              "      <td>1118012</td>\n",
              "      <td>Ultimate Power Electronics for Electrical Powe...</td>\n",
              "      <td>&lt;p&gt;&lt;strong&gt;\"Ultimate Power Electronics Course ...</td>\n",
              "      <td>Learn everything about power electronics for e...</td>\n",
              "      <td>Teaching &amp; Academics</td>\n",
              "      <td>Engineering</td>\n",
              "      <td>Ahmed Mahdy / Khadija Academy</td>\n",
              "      <td>Electrical Power Engineer</td>\n",
              "      <td>€94.99</td>\n",
              "      <td>3186</td>\n",
              "      <td>4.592593</td>\n",
              "      <td>481</td>\n",
              "      <td>2017-02-17T16:15:02Z</td>\n",
              "      <td>Ultimate Power Electronics for Electrical Powe...</td>\n",
              "    </tr>\n",
              "    <tr>\n",
              "      <th>4</th>\n",
              "      <td>1118046</td>\n",
              "      <td>Facebook Advertising: Create Converting Facebo...</td>\n",
              "      <td>&lt;p&gt;&lt;strong&gt;Over 8000 students have joined this...</td>\n",
              "      <td>Learn how to select your niche, identify marke...</td>\n",
              "      <td>Marketing</td>\n",
              "      <td>Social Media Marketing</td>\n",
              "      <td>Barry North</td>\n",
              "      <td>Award Winning \"Sexiest Voice\"</td>\n",
              "      <td>€89.99</td>\n",
              "      <td>10498</td>\n",
              "      <td>4.200000</td>\n",
              "      <td>68</td>\n",
              "      <td>2017-02-17T16:48:28Z</td>\n",
              "      <td>Facebook Advertising: Create Converting Facebo...</td>\n",
              "    </tr>\n",
              "    <tr>\n",
              "      <th>5</th>\n",
              "      <td>1118072</td>\n",
              "      <td>Planning &amp; Scheduling: Be the Professional fro...</td>\n",
              "      <td>&lt;p&gt;&lt;strong&gt;Planning and Scheduling&lt;/strong&gt; is...</td>\n",
              "      <td>Project Planning and Scheduling Management cou...</td>\n",
              "      <td>Business</td>\n",
              "      <td>Project Management</td>\n",
              "      <td>Construction Project Management Guru (PSP, PMI...</td>\n",
              "      <td>Promoting Professionalism in Planning and Sche...</td>\n",
              "      <td>€109.99</td>\n",
              "      <td>3393</td>\n",
              "      <td>4.074074</td>\n",
              "      <td>615</td>\n",
              "      <td>2017-02-17T17:08:03Z</td>\n",
              "      <td>Planning &amp; Scheduling: Be the Professional fro...</td>\n",
              "    </tr>\n",
              "    <tr>\n",
              "      <th>6</th>\n",
              "      <td>1118146</td>\n",
              "      <td>Wie du einen genialen Vortrag hältst</td>\n",
              "      <td>&lt;p&gt;Dein Vortrag ist deine Chance&lt;/p&gt;  &lt;p&gt;Mit d...</td>\n",
              "      <td>Mit Simon (Profi-Speaker) und Michi (NLP-Train...</td>\n",
              "      <td>Personal Development</td>\n",
              "      <td>Career Development</td>\n",
              "      <td>Simon Schnetzer &amp; Michael Schmidt</td>\n",
              "      <td>Speaker &amp; Persönlichkeitsentwickler</td>\n",
              "      <td>€44.99</td>\n",
              "      <td>345</td>\n",
              "      <td>4.100000</td>\n",
              "      <td>31</td>\n",
              "      <td>2017-02-17T17:50:36Z</td>\n",
              "      <td>Wie du einen genialen Vortrag hältst &lt;p&gt;Dein V...</td>\n",
              "    </tr>\n",
              "    <tr>\n",
              "      <th>7</th>\n",
              "      <td>1118268</td>\n",
              "      <td>Top Five Leadership Behaviors</td>\n",
              "      <td>&lt;p&gt;Every Leader Needs To Gain Their Team's Tru...</td>\n",
              "      <td>Strong Leaders Don't Just Happen: Learn These ...</td>\n",
              "      <td>Personal Development</td>\n",
              "      <td>Leadership</td>\n",
              "      <td>Donna Galatas</td>\n",
              "      <td>HR Vice Empress / CEO of The Galatas Group</td>\n",
              "      <td>€94.99</td>\n",
              "      <td>129</td>\n",
              "      <td>4.350000</td>\n",
              "      <td>27</td>\n",
              "      <td>2017-02-17T19:38:01Z</td>\n",
              "      <td>Top Five Leadership Behaviors &lt;p&gt;Every Leader ...</td>\n",
              "    </tr>\n",
              "    <tr>\n",
              "      <th>8</th>\n",
              "      <td>1118274</td>\n",
              "      <td>The Visual Guide on How Neural Networks Learn ...</td>\n",
              "      <td>&lt;p&gt;Course Achievements (January 2021):&amp;nbsp;&lt;/...</td>\n",
              "      <td>The BEST Resource for Understanding Neural Net...</td>\n",
              "      <td>Development</td>\n",
              "      <td>Data Science</td>\n",
              "      <td>Mauricio Maroto</td>\n",
              "      <td>+10,000 students and growing!</td>\n",
              "      <td>€94.99</td>\n",
              "      <td>3163</td>\n",
              "      <td>4.700000</td>\n",
              "      <td>143</td>\n",
              "      <td>2017-02-17T19:54:28Z</td>\n",
              "      <td>The Visual Guide on How Neural Networks Learn ...</td>\n",
              "    </tr>\n",
              "    <tr>\n",
              "      <th>9</th>\n",
              "      <td>1118300</td>\n",
              "      <td>Aprende a crear Plugins para WordPress desde c...</td>\n",
              "      <td>&lt;p&gt;&lt;strong&gt;Más de 60 reseñas fantásticas !!! 4...</td>\n",
              "      <td>Es hora de saltar al siguiente paso en WordPre...</td>\n",
              "      <td>Development</td>\n",
              "      <td>Web Development</td>\n",
              "      <td>Gilbert Rodríguez</td>\n",
              "      <td>Desarrollador Web</td>\n",
              "      <td>€94.99</td>\n",
              "      <td>1457</td>\n",
              "      <td>4.500000</td>\n",
              "      <td>243</td>\n",
              "      <td>2017-02-17T20:32:46Z</td>\n",
              "      <td>Aprende a crear Plugins para WordPress desde c...</td>\n",
              "    </tr>\n",
              "  </tbody>\n",
              "</table>\n",
              "</div>"
            ],
            "text/plain": [
              "   Course_id  ...                                 important_features\n",
              "0    1117836  ...  NoSQL Databases For Beginners <p>NoSQL (Non-SQ...\n",
              "1    1117864  ...  Tai Chi Foundation Course <p>Whether you're a ...\n",
              "2    1117988  ...  Music Pedagogy: 7 advices to teach a musical i...\n",
              "3    1118012  ...  Ultimate Power Electronics for Electrical Powe...\n",
              "4    1118046  ...  Facebook Advertising: Create Converting Facebo...\n",
              "5    1118072  ...  Planning & Scheduling: Be the Professional fro...\n",
              "6    1118146  ...  Wie du einen genialen Vortrag hältst <p>Dein V...\n",
              "7    1118268  ...  Top Five Leadership Behaviors <p>Every Leader ...\n",
              "8    1118274  ...  The Visual Guide on How Neural Networks Learn ...\n",
              "9    1118300  ...  Aprende a crear Plugins para WordPress desde c...\n",
              "\n",
              "[10 rows x 14 columns]"
            ]
          },
          "metadata": {},
          "execution_count": 8
        }
      ]
    },
    {
      "cell_type": "code",
      "metadata": {
        "colab": {
          "base_uri": "https://localhost:8080/"
        },
        "id": "BksF3bl4X4ws",
        "outputId": "2a5d37eb-fa0d-4c5b-f1dd-3006a40bf80c"
      },
      "source": [
        "# creating stop word\n",
        "stop_words =  stopwords.words('arabic') + stopwords.words('azerbaijani') + stopwords.words('danish') + stopwords.words('dutch') + stopwords.words('english') + stopwords.words('finnish') + stopwords.words('french') + stopwords.words('german') + stopwords.words('greek') + stopwords.words('hungarian') + stopwords.words('indonesian') + stopwords.words('italian') + stopwords.words('kazakh') + stopwords.words('nepali') + stopwords.words('norwegian') + stopwords.words('portuguese') + stopwords.words('romanian') + stopwords.words('russian') + stopwords.words('slovene') + stopwords.words('spanish') + stopwords.words('swedish') + stopwords.words('tajik') + stopwords.words('turkish')\n",
        "print(stop_words)"
      ],
      "execution_count": 9,
      "outputs": [
        {
          "output_type": "stream",
          "name": "stdout",
          "text": [
            "['إذ', 'إذا', 'إذما', 'إذن', 'أف', 'أقل', 'أكثر', 'ألا', 'إلا', 'التي', 'الذي', 'الذين', 'اللاتي', 'اللائي', 'اللتان', 'اللتيا', 'اللتين', 'اللذان', 'اللذين', 'اللواتي', 'إلى', 'إليك', 'إليكم', 'إليكما', 'إليكن', 'أم', 'أما', 'أما', 'إما', 'أن', 'إن', 'إنا', 'أنا', 'أنت', 'أنتم', 'أنتما', 'أنتن', 'إنما', 'إنه', 'أنى', 'أنى', 'آه', 'آها', 'أو', 'أولاء', 'أولئك', 'أوه', 'آي', 'أي', 'أيها', 'إي', 'أين', 'أين', 'أينما', 'إيه', 'بخ', 'بس', 'بعد', 'بعض', 'بك', 'بكم', 'بكم', 'بكما', 'بكن', 'بل', 'بلى', 'بما', 'بماذا', 'بمن', 'بنا', 'به', 'بها', 'بهم', 'بهما', 'بهن', 'بي', 'بين', 'بيد', 'تلك', 'تلكم', 'تلكما', 'ته', 'تي', 'تين', 'تينك', 'ثم', 'ثمة', 'حاشا', 'حبذا', 'حتى', 'حيث', 'حيثما', 'حين', 'خلا', 'دون', 'ذا', 'ذات', 'ذاك', 'ذان', 'ذانك', 'ذلك', 'ذلكم', 'ذلكما', 'ذلكن', 'ذه', 'ذو', 'ذوا', 'ذواتا', 'ذواتي', 'ذي', 'ذين', 'ذينك', 'ريث', 'سوف', 'سوى', 'شتان', 'عدا', 'عسى', 'عل', 'على', 'عليك', 'عليه', 'عما', 'عن', 'عند', 'غير', 'فإذا', 'فإن', 'فلا', 'فمن', 'في', 'فيم', 'فيما', 'فيه', 'فيها', 'قد', 'كأن', 'كأنما', 'كأي', 'كأين', 'كذا', 'كذلك', 'كل', 'كلا', 'كلاهما', 'كلتا', 'كلما', 'كليكما', 'كليهما', 'كم', 'كم', 'كما', 'كي', 'كيت', 'كيف', 'كيفما', 'لا', 'لاسيما', 'لدى', 'لست', 'لستم', 'لستما', 'لستن', 'لسن', 'لسنا', 'لعل', 'لك', 'لكم', 'لكما', 'لكن', 'لكنما', 'لكي', 'لكيلا', 'لم', 'لما', 'لن', 'لنا', 'له', 'لها', 'لهم', 'لهما', 'لهن', 'لو', 'لولا', 'لوما', 'لي', 'لئن', 'ليت', 'ليس', 'ليسا', 'ليست', 'ليستا', 'ليسوا', 'ما', 'ماذا', 'متى', 'مذ', 'مع', 'مما', 'ممن', 'من', 'منه', 'منها', 'منذ', 'مه', 'مهما', 'نحن', 'نحو', 'نعم', 'ها', 'هاتان', 'هاته', 'هاتي', 'هاتين', 'هاك', 'هاهنا', 'هذا', 'هذان', 'هذه', 'هذي', 'هذين', 'هكذا', 'هل', 'هلا', 'هم', 'هما', 'هن', 'هنا', 'هناك', 'هنالك', 'هو', 'هؤلاء', 'هي', 'هيا', 'هيت', 'هيهات', 'والذي', 'والذين', 'وإذ', 'وإذا', 'وإن', 'ولا', 'ولكن', 'ولو', 'وما', 'ومن', 'وهو', 'يا', 'a', 'ad', 'altı', 'altmış', 'amma', 'arasında', 'artıq', 'ay', 'az', 'bax', 'belə', 'bəli', 'bəlkə', 'beş', 'bəy', 'bəzən', 'bəzi', 'bilər', 'bir', 'biraz', 'biri', 'birşey', 'biz', 'bizim', 'bizlər', 'bu', 'buna', 'bundan', 'bunların', 'bunu', 'bunun', 'buradan', 'bütün', 'ci', 'cı', 'çox', 'cu', 'cü', 'çünki', 'da', 'daha', 'də', 'dedi', 'dək', 'dən', 'dəqiqə', 'deyil', 'dir', 'doqquz', 'doqsan', 'dörd', 'düz', 'ə', 'edən', 'edir', 'əgər', 'əlbəttə', 'elə', 'əlli', 'ən', 'əslində', 'et', 'etdi', 'etmə', 'etmək', 'faiz', 'gilə', 'görə', 'ha', 'haqqında', 'harada', 'hə', 'heç', 'həm', 'həmin', 'həmişə', 'hər', 'ı', 'idi', 'iki', 'il', 'ildə', 'ilə', 'ilk', 'in', 'indi', 'isə', 'istifadə', 'iyirmi', 'ki', 'kim', 'kimə', 'kimi', 'lakin', 'lap', 'məhz', 'mən', 'mənə', 'mirşey', 'nə', 'nəhayət', 'niyə', 'o', 'obirisi', 'of', 'olan', 'olar', 'olaraq', 'oldu', 'olduğu', 'olmadı', 'olmaz', 'olmuşdur', 'olsun', 'olur', 'on', 'ona', 'ondan', 'onlar', 'onlardan', 'onların ', 'onsuzda', 'onu', 'onun', 'oradan', 'otuz', 'öz', 'özü', 'qarşı', 'qədər', 'qırx', 'saat', 'sadəcə', 'saniyə', 'səhv', 'səkkiz', 'səksən', 'sən', 'sənə', 'sənin', 'siz', 'sizin', 'sizlər', 'sonra', 'təəssüf', 'ü', 'üç', 'üçün', 'var', 'və', 'xan', 'xanım', 'xeyr', 'ya', 'yalnız', 'yaxşı', 'yeddi', 'yenə', 'yəni', 'yetmiş', 'yox', 'yoxdur', 'yoxsa', 'yüz', 'zaman', 'og', 'i', 'jeg', 'det', 'at', 'en', 'den', 'til', 'er', 'som', 'på', 'de', 'med', 'han', 'af', 'for', 'ikke', 'der', 'var', 'mig', 'sig', 'men', 'et', 'har', 'om', 'vi', 'min', 'havde', 'ham', 'hun', 'nu', 'over', 'da', 'fra', 'du', 'ud', 'sin', 'dem', 'os', 'op', 'man', 'hans', 'hvor', 'eller', 'hvad', 'skal', 'selv', 'her', 'alle', 'vil', 'blev', 'kunne', 'ind', 'når', 'være', 'dog', 'noget', 'ville', 'jo', 'deres', 'efter', 'ned', 'skulle', 'denne', 'end', 'dette', 'mit', 'også', 'under', 'have', 'dig', 'anden', 'hende', 'mine', 'alt', 'meget', 'sit', 'sine', 'vor', 'mod', 'disse', 'hvis', 'din', 'nogle', 'hos', 'blive', 'mange', 'ad', 'bliver', 'hendes', 'været', 'thi', 'jer', 'sådan', 'de', 'en', 'van', 'ik', 'te', 'dat', 'die', 'in', 'een', 'hij', 'het', 'niet', 'zijn', 'is', 'was', 'op', 'aan', 'met', 'als', 'voor', 'had', 'er', 'maar', 'om', 'hem', 'dan', 'zou', 'of', 'wat', 'mijn', 'men', 'dit', 'zo', 'door', 'over', 'ze', 'zich', 'bij', 'ook', 'tot', 'je', 'mij', 'uit', 'der', 'daar', 'haar', 'naar', 'heb', 'hoe', 'heeft', 'hebben', 'deze', 'u', 'want', 'nog', 'zal', 'me', 'zij', 'nu', 'ge', 'geen', 'omdat', 'iets', 'worden', 'toch', 'al', 'waren', 'veel', 'meer', 'doen', 'toen', 'moet', 'ben', 'zonder', 'kan', 'hun', 'dus', 'alles', 'onder', 'ja', 'eens', 'hier', 'wie', 'werd', 'altijd', 'doch', 'wordt', 'wezen', 'kunnen', 'ons', 'zelf', 'tegen', 'na', 'reeds', 'wil', 'kon', 'niets', 'uw', 'iemand', 'geweest', 'andere', 'i', 'me', 'my', 'myself', 'we', 'our', 'ours', 'ourselves', 'you', \"you're\", \"you've\", \"you'll\", \"you'd\", 'your', 'yours', 'yourself', 'yourselves', 'he', 'him', 'his', 'himself', 'she', \"she's\", 'her', 'hers', 'herself', 'it', \"it's\", 'its', 'itself', 'they', 'them', 'their', 'theirs', 'themselves', 'what', 'which', 'who', 'whom', 'this', 'that', \"that'll\", 'these', 'those', 'am', 'is', 'are', 'was', 'were', 'be', 'been', 'being', 'have', 'has', 'had', 'having', 'do', 'does', 'did', 'doing', 'a', 'an', 'the', 'and', 'but', 'if', 'or', 'because', 'as', 'until', 'while', 'of', 'at', 'by', 'for', 'with', 'about', 'against', 'between', 'into', 'through', 'during', 'before', 'after', 'above', 'below', 'to', 'from', 'up', 'down', 'in', 'out', 'on', 'off', 'over', 'under', 'again', 'further', 'then', 'once', 'here', 'there', 'when', 'where', 'why', 'how', 'all', 'any', 'both', 'each', 'few', 'more', 'most', 'other', 'some', 'such', 'no', 'nor', 'not', 'only', 'own', 'same', 'so', 'than', 'too', 'very', 's', 't', 'can', 'will', 'just', 'don', \"don't\", 'should', \"should've\", 'now', 'd', 'll', 'm', 'o', 're', 've', 'y', 'ain', 'aren', \"aren't\", 'couldn', \"couldn't\", 'didn', \"didn't\", 'doesn', \"doesn't\", 'hadn', \"hadn't\", 'hasn', \"hasn't\", 'haven', \"haven't\", 'isn', \"isn't\", 'ma', 'mightn', \"mightn't\", 'mustn', \"mustn't\", 'needn', \"needn't\", 'shan', \"shan't\", 'shouldn', \"shouldn't\", 'wasn', \"wasn't\", 'weren', \"weren't\", 'won', \"won't\", 'wouldn', \"wouldn't\", 'olla', 'olen', 'olet', 'on', 'olemme', 'olette', 'ovat', 'ole', 'oli', 'olisi', 'olisit', 'olisin', 'olisimme', 'olisitte', 'olisivat', 'olit', 'olin', 'olimme', 'olitte', 'olivat', 'ollut', 'olleet', 'en', 'et', 'ei', 'emme', 'ette', 'eivät', 'minä', 'minun', 'minut', 'minua', 'minussa', 'minusta', 'minuun', 'minulla', 'minulta', 'minulle', 'sinä', 'sinun', 'sinut', 'sinua', 'sinussa', 'sinusta', 'sinuun', 'sinulla', 'sinulta', 'sinulle', 'hän', 'hänen', 'hänet', 'häntä', 'hänessä', 'hänestä', 'häneen', 'hänellä', 'häneltä', 'hänelle', 'me', 'meidän', 'meidät', 'meitä', 'meissä', 'meistä', 'meihin', 'meillä', 'meiltä', 'meille', 'te', 'teidän', 'teidät', 'teitä', 'teissä', 'teistä', 'teihin', 'teillä', 'teiltä', 'teille', 'he', 'heidän', 'heidät', 'heitä', 'heissä', 'heistä', 'heihin', 'heillä', 'heiltä', 'heille', 'tämä', 'tämän', 'tätä', 'tässä', 'tästä', 'tähän', 'tallä', 'tältä', 'tälle', 'tänä', 'täksi', 'tuo', 'tuon', 'tuotä', 'tuossa', 'tuosta', 'tuohon', 'tuolla', 'tuolta', 'tuolle', 'tuona', 'tuoksi', 'se', 'sen', 'sitä', 'siinä', 'siitä', 'siihen', 'sillä', 'siltä', 'sille', 'sinä', 'siksi', 'nämä', 'näiden', 'näitä', 'näissä', 'näistä', 'näihin', 'näillä', 'näiltä', 'näille', 'näinä', 'näiksi', 'nuo', 'noiden', 'noita', 'noissa', 'noista', 'noihin', 'noilla', 'noilta', 'noille', 'noina', 'noiksi', 'ne', 'niiden', 'niitä', 'niissä', 'niistä', 'niihin', 'niillä', 'niiltä', 'niille', 'niinä', 'niiksi', 'kuka', 'kenen', 'kenet', 'ketä', 'kenessä', 'kenestä', 'keneen', 'kenellä', 'keneltä', 'kenelle', 'kenenä', 'keneksi', 'ketkä', 'keiden', 'ketkä', 'keitä', 'keissä', 'keistä', 'keihin', 'keillä', 'keiltä', 'keille', 'keinä', 'keiksi', 'mikä', 'minkä', 'minkä', 'mitä', 'missä', 'mistä', 'mihin', 'millä', 'miltä', 'mille', 'minä', 'miksi', 'mitkä', 'joka', 'jonka', 'jota', 'jossa', 'josta', 'johon', 'jolla', 'jolta', 'jolle', 'jona', 'joksi', 'jotka', 'joiden', 'joita', 'joissa', 'joista', 'joihin', 'joilla', 'joilta', 'joille', 'joina', 'joiksi', 'että', 'ja', 'jos', 'koska', 'kuin', 'mutta', 'niin', 'sekä', 'sillä', 'tai', 'vaan', 'vai', 'vaikka', 'kanssa', 'mukaan', 'noin', 'poikki', 'yli', 'kun', 'niin', 'nyt', 'itse', 'au', 'aux', 'avec', 'ce', 'ces', 'dans', 'de', 'des', 'du', 'elle', 'en', 'et', 'eux', 'il', 'ils', 'je', 'la', 'le', 'les', 'leur', 'lui', 'ma', 'mais', 'me', 'même', 'mes', 'moi', 'mon', 'ne', 'nos', 'notre', 'nous', 'on', 'ou', 'par', 'pas', 'pour', 'qu', 'que', 'qui', 'sa', 'se', 'ses', 'son', 'sur', 'ta', 'te', 'tes', 'toi', 'ton', 'tu', 'un', 'une', 'vos', 'votre', 'vous', 'c', 'd', 'j', 'l', 'à', 'm', 'n', 's', 't', 'y', 'été', 'étée', 'étées', 'étés', 'étant', 'étante', 'étants', 'étantes', 'suis', 'es', 'est', 'sommes', 'êtes', 'sont', 'serai', 'seras', 'sera', 'serons', 'serez', 'seront', 'serais', 'serait', 'serions', 'seriez', 'seraient', 'étais', 'était', 'étions', 'étiez', 'étaient', 'fus', 'fut', 'fûmes', 'fûtes', 'furent', 'sois', 'soit', 'soyons', 'soyez', 'soient', 'fusse', 'fusses', 'fût', 'fussions', 'fussiez', 'fussent', 'ayant', 'ayante', 'ayantes', 'ayants', 'eu', 'eue', 'eues', 'eus', 'ai', 'as', 'avons', 'avez', 'ont', 'aurai', 'auras', 'aura', 'aurons', 'aurez', 'auront', 'aurais', 'aurait', 'aurions', 'auriez', 'auraient', 'avais', 'avait', 'avions', 'aviez', 'avaient', 'eut', 'eûmes', 'eûtes', 'eurent', 'aie', 'aies', 'ait', 'ayons', 'ayez', 'aient', 'eusse', 'eusses', 'eût', 'eussions', 'eussiez', 'eussent', 'aber', 'alle', 'allem', 'allen', 'aller', 'alles', 'als', 'also', 'am', 'an', 'ander', 'andere', 'anderem', 'anderen', 'anderer', 'anderes', 'anderm', 'andern', 'anderr', 'anders', 'auch', 'auf', 'aus', 'bei', 'bin', 'bis', 'bist', 'da', 'damit', 'dann', 'der', 'den', 'des', 'dem', 'die', 'das', 'dass', 'daß', 'derselbe', 'derselben', 'denselben', 'desselben', 'demselben', 'dieselbe', 'dieselben', 'dasselbe', 'dazu', 'dein', 'deine', 'deinem', 'deinen', 'deiner', 'deines', 'denn', 'derer', 'dessen', 'dich', 'dir', 'du', 'dies', 'diese', 'diesem', 'diesen', 'dieser', 'dieses', 'doch', 'dort', 'durch', 'ein', 'eine', 'einem', 'einen', 'einer', 'eines', 'einig', 'einige', 'einigem', 'einigen', 'einiger', 'einiges', 'einmal', 'er', 'ihn', 'ihm', 'es', 'etwas', 'euer', 'eure', 'eurem', 'euren', 'eurer', 'eures', 'für', 'gegen', 'gewesen', 'hab', 'habe', 'haben', 'hat', 'hatte', 'hatten', 'hier', 'hin', 'hinter', 'ich', 'mich', 'mir', 'ihr', 'ihre', 'ihrem', 'ihren', 'ihrer', 'ihres', 'euch', 'im', 'in', 'indem', 'ins', 'ist', 'jede', 'jedem', 'jeden', 'jeder', 'jedes', 'jene', 'jenem', 'jenen', 'jener', 'jenes', 'jetzt', 'kann', 'kein', 'keine', 'keinem', 'keinen', 'keiner', 'keines', 'können', 'könnte', 'machen', 'man', 'manche', 'manchem', 'manchen', 'mancher', 'manches', 'mein', 'meine', 'meinem', 'meinen', 'meiner', 'meines', 'mit', 'muss', 'musste', 'nach', 'nicht', 'nichts', 'noch', 'nun', 'nur', 'ob', 'oder', 'ohne', 'sehr', 'sein', 'seine', 'seinem', 'seinen', 'seiner', 'seines', 'selbst', 'sich', 'sie', 'ihnen', 'sind', 'so', 'solche', 'solchem', 'solchen', 'solcher', 'solches', 'soll', 'sollte', 'sondern', 'sonst', 'über', 'um', 'und', 'uns', 'unsere', 'unserem', 'unseren', 'unser', 'unseres', 'unter', 'viel', 'vom', 'von', 'vor', 'während', 'war', 'waren', 'warst', 'was', 'weg', 'weil', 'weiter', 'welche', 'welchem', 'welchen', 'welcher', 'welches', 'wenn', 'werde', 'werden', 'wie', 'wieder', 'will', 'wir', 'wird', 'wirst', 'wo', 'wollen', 'wollte', 'würde', 'würden', 'zu', 'zum', 'zur', 'zwar', 'zwischen', 'αλλα', 'αν', 'αντι', 'απο', 'αυτα', 'αυτεσ', 'αυτη', 'αυτο', 'αυτοι', 'αυτοσ', 'αυτουσ', 'αυτων', 'αἱ', 'αἳ', 'αἵ', 'αὐτόσ', 'αὐτὸς', 'αὖ', 'γάρ', 'γα', 'γα^', 'γε', 'για', 'γοῦν', 'γὰρ', \"δ'\", 'δέ', 'δή', 'δαί', 'δαίσ', 'δαὶ', 'δαὶς', 'δε', 'δεν', \"δι'\", 'διά', 'διὰ', 'δὲ', 'δὴ', 'δ’', 'εαν', 'ειμαι', 'ειμαστε', 'ειναι', 'εισαι', 'ειστε', 'εκεινα', 'εκεινεσ', 'εκεινη', 'εκεινο', 'εκεινοι', 'εκεινοσ', 'εκεινουσ', 'εκεινων', 'ενω', 'επ', 'επι', 'εἰ', 'εἰμί', 'εἰμὶ', 'εἰς', 'εἰσ', 'εἴ', 'εἴμι', 'εἴτε', 'η', 'θα', 'ισωσ', 'κ', 'καί', 'καίτοι', 'καθ', 'και', 'κατ', 'κατά', 'κατα', 'κατὰ', 'καὶ', 'κι', 'κἀν', 'κἂν', 'μέν', 'μή', 'μήτε', 'μα', 'με', 'μεθ', 'μετ', 'μετά', 'μετα', 'μετὰ', 'μη', 'μην', 'μἐν', 'μὲν', 'μὴ', 'μὴν', 'να', 'ο', 'οι', 'ομωσ', 'οπωσ', 'οσο', 'οτι', 'οἱ', 'οἳ', 'οἷς', 'οὐ', 'οὐδ', 'οὐδέ', 'οὐδείσ', 'οὐδεὶς', 'οὐδὲ', 'οὐδὲν', 'οὐκ', 'οὐχ', 'οὐχὶ', 'οὓς', 'οὔτε', 'οὕτω', 'οὕτως', 'οὕτωσ', 'οὖν', 'οὗ', 'οὗτος', 'οὗτοσ', 'παρ', 'παρά', 'παρα', 'παρὰ', 'περί', 'περὶ', 'ποια', 'ποιεσ', 'ποιο', 'ποιοι', 'ποιοσ', 'ποιουσ', 'ποιων', 'ποτε', 'που', 'ποῦ', 'προ', 'προσ', 'πρόσ', 'πρὸ', 'πρὸς', 'πως', 'πωσ', 'σε', 'στη', 'στην', 'στο', 'στον', 'σόσ', 'σύ', 'σύν', 'σὸς', 'σὺ', 'σὺν', 'τά', 'τήν', 'τί', 'τίς', 'τίσ', 'τα', 'ταῖς', 'τε', 'την', 'τησ', 'τι', 'τινα', 'τις', 'τισ', 'το', 'τοί', 'τοι', 'τοιοῦτος', 'τοιοῦτοσ', 'τον', 'τοτε', 'του', 'τούσ', 'τοὺς', 'τοῖς', 'τοῦ', 'των', 'τό', 'τόν', 'τότε', 'τὰ', 'τὰς', 'τὴν', 'τὸ', 'τὸν', 'τῆς', 'τῆσ', 'τῇ', 'τῶν', 'τῷ', 'ωσ', \"ἀλλ'\", 'ἀλλά', 'ἀλλὰ', 'ἀλλ’', 'ἀπ', 'ἀπό', 'ἀπὸ', 'ἀφ', 'ἂν', 'ἃ', 'ἄλλος', 'ἄλλοσ', 'ἄν', 'ἄρα', 'ἅμα', 'ἐάν', 'ἐγώ', 'ἐγὼ', 'ἐκ', 'ἐμόσ', 'ἐμὸς', 'ἐν', 'ἐξ', 'ἐπί', 'ἐπεὶ', 'ἐπὶ', 'ἐστι', 'ἐφ', 'ἐὰν', 'ἑαυτοῦ', 'ἔτι', 'ἡ', 'ἢ', 'ἣ', 'ἤ', 'ἥ', 'ἧς', 'ἵνα', 'ὁ', 'ὃ', 'ὃν', 'ὃς', 'ὅ', 'ὅδε', 'ὅθεν', 'ὅπερ', 'ὅς', 'ὅσ', 'ὅστις', 'ὅστισ', 'ὅτε', 'ὅτι', 'ὑμόσ', 'ὑπ', 'ὑπέρ', 'ὑπό', 'ὑπὲρ', 'ὑπὸ', 'ὡς', 'ὡσ', 'ὥς', 'ὥστε', 'ὦ', 'ᾧ', 'a', 'ahogy', 'ahol', 'aki', 'akik', 'akkor', 'alatt', 'által', 'általában', 'amely', 'amelyek', 'amelyekben', 'amelyeket', 'amelyet', 'amelynek', 'ami', 'amit', 'amolyan', 'amíg', 'amikor', 'át', 'abban', 'ahhoz', 'annak', 'arra', 'arról', 'az', 'azok', 'azon', 'azt', 'azzal', 'azért', 'aztán', 'azután', 'azonban', 'bár', 'be', 'belül', 'benne', 'cikk', 'cikkek', 'cikkeket', 'csak', 'de', 'e', 'eddig', 'egész', 'egy', 'egyes', 'egyetlen', 'egyéb', 'egyik', 'egyre', 'ekkor', 'el', 'elég', 'ellen', 'elõ', 'elõször', 'elõtt', 'elsõ', 'én', 'éppen', 'ebben', 'ehhez', 'emilyen', 'ennek', 'erre', 'ez', 'ezt', 'ezek', 'ezen', 'ezzel', 'ezért', 'és', 'fel', 'felé', 'hanem', 'hiszen', 'hogy', 'hogyan', 'igen', 'így', 'illetve', 'ill.', 'ill', 'ilyen', 'ilyenkor', 'ison', 'ismét', 'itt', 'jó', 'jól', 'jobban', 'kell', 'kellett', 'keresztül', 'keressünk', 'ki', 'kívül', 'között', 'közül', 'legalább', 'lehet', 'lehetett', 'legyen', 'lenne', 'lenni', 'lesz', 'lett', 'maga', 'magát', 'majd', 'majd', 'már', 'más', 'másik', 'meg', 'még', 'mellett', 'mert', 'mely', 'melyek', 'mi', 'mit', 'míg', 'miért', 'milyen', 'mikor', 'minden', 'mindent', 'mindenki', 'mindig', 'mint', 'mintha', 'mivel', 'most', 'nagy', 'nagyobb', 'nagyon', 'ne', 'néha', 'nekem', 'neki', 'nem', 'néhány', 'nélkül', 'nincs', 'olyan', 'ott', 'össze', 'õ', 'õk', 'õket', 'pedig', 'persze', 'rá', 's', 'saját', 'sem', 'semmi', 'sok', 'sokat', 'sokkal', 'számára', 'szemben', 'szerint', 'szinte', 'talán', 'tehát', 'teljes', 'tovább', 'továbbá', 'több', 'úgy', 'ugyanis', 'új', 'újabb', 'újra', 'után', 'utána', 'utolsó', 'vagy', 'vagyis', 'valaki', 'valami', 'valamint', 'való', 'vagyok', 'van', 'vannak', 'volt', 'voltam', 'voltak', 'voltunk', 'vissza', 'vele', 'viszont', 'volna', 'ada', 'adalah', 'adanya', 'adapun', 'agak', 'agaknya', 'agar', 'akan', 'akankah', 'akhir', 'akhiri', 'akhirnya', 'aku', 'akulah', 'amat', 'amatlah', 'anda', 'andalah', 'antar', 'antara', 'antaranya', 'apa', 'apaan', 'apabila', 'apakah', 'apalagi', 'apatah', 'artinya', 'asal', 'asalkan', 'atas', 'atau', 'ataukah', 'ataupun', 'awal', 'awalnya', 'bagai', 'bagaikan', 'bagaimana', 'bagaimanakah', 'bagaimanapun', 'bagi', 'bagian', 'bahkan', 'bahwa', 'bahwasanya', 'baik', 'bakal', 'bakalan', 'balik', 'banyak', 'bapak', 'baru', 'bawah', 'beberapa', 'begini', 'beginian', 'beginikah', 'beginilah', 'begitu', 'begitukah', 'begitulah', 'begitupun', 'bekerja', 'belakang', 'belakangan', 'belum', 'belumlah', 'benar', 'benarkah', 'benarlah', 'berada', 'berakhir', 'berakhirlah', 'berakhirnya', 'berapa', 'berapakah', 'berapalah', 'berapapun', 'berarti', 'berawal', 'berbagai', 'berdatangan', 'beri', 'berikan', 'berikut', 'berikutnya', 'berjumlah', 'berkali-kali', 'berkata', 'berkehendak', 'berkeinginan', 'berkenaan', 'berlainan', 'berlalu', 'berlangsung', 'berlebihan', 'bermacam', 'bermacam-macam', 'bermaksud', 'bermula', 'bersama', 'bersama-sama', 'bersiap', 'bersiap-siap', 'bertanya', 'bertanya-tanya', 'berturut', 'berturut-turut', 'bertutur', 'berujar', 'berupa', 'besar', 'betul', 'betulkah', 'biasa', 'biasanya', 'bila', 'bilakah', 'bisa', 'bisakah', 'boleh', 'bolehkah', 'bolehlah', 'buat', 'bukan', 'bukankah', 'bukanlah', 'bukannya', 'bulan', 'bung', 'cara', 'caranya', 'cukup', 'cukupkah', 'cukuplah', 'cuma', 'dahulu', 'dalam', 'dan', 'dapat', 'dari', 'daripada', 'datang', 'dekat', 'demi', 'demikian', 'demikianlah', 'dengan', 'depan', 'di', 'dia', 'diakhiri', 'diakhirinya', 'dialah', 'diantara', 'diantaranya', 'diberi', 'diberikan', 'diberikannya', 'dibuat', 'dibuatnya', 'didapat', 'didatangkan', 'digunakan', 'diibaratkan', 'diibaratkannya', 'diingat', 'diingatkan', 'diinginkan', 'dijawab', 'dijelaskan', 'dijelaskannya', 'dikarenakan', 'dikatakan', 'dikatakannya', 'dikerjakan', 'diketahui', 'diketahuinya', 'dikira', 'dilakukan', 'dilalui', 'dilihat', 'dimaksud', 'dimaksudkan', 'dimaksudkannya', 'dimaksudnya', 'diminta', 'dimintai', 'dimisalkan', 'dimulai', 'dimulailah', 'dimulainya', 'dimungkinkan', 'dini', 'dipastikan', 'diperbuat', 'diperbuatnya', 'dipergunakan', 'diperkirakan', 'diperlihatkan', 'diperlukan', 'diperlukannya', 'dipersoalkan', 'dipertanyakan', 'dipunyai', 'diri', 'dirinya', 'disampaikan', 'disebut', 'disebutkan', 'disebutkannya', 'disini', 'disinilah', 'ditambahkan', 'ditandaskan', 'ditanya', 'ditanyai', 'ditanyakan', 'ditegaskan', 'ditujukan', 'ditunjuk', 'ditunjuki', 'ditunjukkan', 'ditunjukkannya', 'ditunjuknya', 'dituturkan', 'dituturkannya', 'diucapkan', 'diucapkannya', 'diungkapkan', 'dong', 'dua', 'dulu', 'empat', 'enggak', 'enggaknya', 'entah', 'entahlah', 'guna', 'gunakan', 'hal', 'hampir', 'hanya', 'hanyalah', 'hari', 'harus', 'haruslah', 'harusnya', 'hendak', 'hendaklah', 'hendaknya', 'hingga', 'ia', 'ialah', 'ibarat', 'ibaratkan', 'ibaratnya', 'ibu', 'ikut', 'ingat', 'ingat-ingat', 'ingin', 'inginkah', 'inginkan', 'ini', 'inikah', 'inilah', 'itu', 'itukah', 'itulah', 'jadi', 'jadilah', 'jadinya', 'jangan', 'jangankan', 'janganlah', 'jauh', 'jawab', 'jawaban', 'jawabnya', 'jelas', 'jelaskan', 'jelaslah', 'jelasnya', 'jika', 'jikalau', 'juga', 'jumlah', 'jumlahnya', 'justru', 'kala', 'kalau', 'kalaulah', 'kalaupun', 'kalian', 'kami', 'kamilah', 'kamu', 'kamulah', 'kan', 'kapan', 'kapankah', 'kapanpun', 'karena', 'karenanya', 'kasus', 'kata', 'katakan', 'katakanlah', 'katanya', 'ke', 'keadaan', 'kebetulan', 'kecil', 'kedua', 'keduanya', 'keinginan', 'kelamaan', 'kelihatan', 'kelihatannya', 'kelima', 'keluar', 'kembali', 'kemudian', 'kemungkinan', 'kemungkinannya', 'kenapa', 'kepada', 'kepadanya', 'kesampaian', 'keseluruhan', 'keseluruhannya', 'keterlaluan', 'ketika', 'khususnya', 'kini', 'kinilah', 'kira', 'kira-kira', 'kiranya', 'kita', 'kitalah', 'kok', 'kurang', 'lagi', 'lagian', 'lah', 'lain', 'lainnya', 'lalu', 'lama', 'lamanya', 'lanjut', 'lanjutnya', 'lebih', 'lewat', 'lima', 'luar', 'macam', 'maka', 'makanya', 'makin', 'malah', 'malahan', 'mampu', 'mampukah', 'mana', 'manakala', 'manalagi', 'masa', 'masalah', 'masalahnya', 'masih', 'masihkah', 'masing', 'masing-masing', 'mau', 'maupun', 'melainkan', 'melakukan', 'melalui', 'melihat', 'melihatnya', 'memang', 'memastikan', 'memberi', 'memberikan', 'membuat', 'memerlukan', 'memihak', 'meminta', 'memintakan', 'memisalkan', 'memperbuat', 'mempergunakan', 'memperkirakan', 'memperlihatkan', 'mempersiapkan', 'mempersoalkan', 'mempertanyakan', 'mempunyai', 'memulai', 'memungkinkan', 'menaiki', 'menambahkan', 'menandaskan', 'menanti', 'menanti-nanti', 'menantikan', 'menanya', 'menanyai', 'menanyakan', 'mendapat', 'mendapatkan', 'mendatang', 'mendatangi', 'mendatangkan', 'menegaskan', 'mengakhiri', 'mengapa', 'mengatakan', 'mengatakannya', 'mengenai', 'mengerjakan', 'mengetahui', 'menggunakan', 'menghendaki', 'mengibaratkan', 'mengibaratkannya', 'mengingat', 'mengingatkan', 'menginginkan', 'mengira', 'mengucapkan', 'mengucapkannya', 'mengungkapkan', 'menjadi', 'menjawab', 'menjelaskan', 'menuju', 'menunjuk', 'menunjuki', 'menunjukkan', 'menunjuknya', 'menurut', 'menuturkan', 'menyampaikan', 'menyangkut', 'menyatakan', 'menyebutkan', 'menyeluruh', 'menyiapkan', 'merasa', 'mereka', 'merekalah', 'merupakan', 'meski', 'meskipun', 'meyakini', 'meyakinkan', 'minta', 'mirip', 'misal', 'misalkan', 'misalnya', 'mula', 'mulai', 'mulailah', 'mulanya', 'mungkin', 'mungkinkah', 'nah', 'naik', 'namun', 'nanti', 'nantinya', 'nyaris', 'nyatanya', 'oleh', 'olehnya', 'pada', 'padahal', 'padanya', 'pak', 'paling', 'panjang', 'pantas', 'para', 'pasti', 'pastilah', 'penting', 'pentingnya', 'per', 'percuma', 'perlu', 'perlukah', 'perlunya', 'pernah', 'persoalan', 'pertama', 'pertama-tama', 'pertanyaan', 'pertanyakan', 'pihak', 'pihaknya', 'pukul', 'pula', 'pun', 'punya', 'rasa', 'rasanya', 'rata', 'rupanya', 'saat', 'saatnya', 'saja', 'sajalah', 'saling', 'sama', 'sama-sama', 'sambil', 'sampai', 'sampai-sampai', 'sampaikan', 'sana', 'sangat', 'sangatlah', 'satu', 'saya', 'sayalah', 'se', 'sebab', 'sebabnya', 'sebagai', 'sebagaimana', 'sebagainya', 'sebagian', 'sebaik', 'sebaik-baiknya', 'sebaiknya', 'sebaliknya', 'sebanyak', 'sebegini', 'sebegitu', 'sebelum', 'sebelumnya', 'sebenarnya', 'seberapa', 'sebesar', 'sebetulnya', 'sebisanya', 'sebuah', 'sebut', 'sebutlah', 'sebutnya', 'secara', 'secukupnya', 'sedang', 'sedangkan', 'sedemikian', 'sedikit', 'sedikitnya', 'seenaknya', 'segala', 'segalanya', 'segera', 'seharusnya', 'sehingga', 'seingat', 'sejak', 'sejauh', 'sejenak', 'sejumlah', 'sekadar', 'sekadarnya', 'sekali', 'sekali-kali', 'sekalian', 'sekaligus', 'sekalipun', 'sekarang', 'sekarang', 'sekecil', 'seketika', 'sekiranya', 'sekitar', 'sekitarnya', 'sekurang-kurangnya', 'sekurangnya', 'sela', 'selain', 'selaku', 'selalu', 'selama', 'selama-lamanya', 'selamanya', 'selanjutnya', 'seluruh', 'seluruhnya', 'semacam', 'semakin', 'semampu', 'semampunya', 'semasa', 'semasih', 'semata', 'semata-mata', 'semaunya', 'sementara', 'semisal', 'semisalnya', 'sempat', 'semua', 'semuanya', 'semula', 'sendiri', 'sendirian', 'sendirinya', 'seolah', 'seolah-olah', 'seorang', 'sepanjang', 'sepantasnya', 'sepantasnyalah', 'seperlunya', 'seperti', 'sepertinya', 'sepihak', 'sering', 'seringnya', 'serta', 'serupa', 'sesaat', 'sesama', 'sesampai', 'sesegera', 'sesekali', 'seseorang', 'sesuatu', 'sesuatunya', 'sesudah', 'sesudahnya', 'setelah', 'setempat', 'setengah', 'seterusnya', 'setiap', 'setiba', 'setibanya', 'setidak-tidaknya', 'setidaknya', 'setinggi', 'seusai', 'sewaktu', 'siap', 'siapa', 'siapakah', 'siapapun', 'sini', 'sinilah', 'soal', 'soalnya', 'suatu', 'sudah', 'sudahkah', 'sudahlah', 'supaya', 'tadi', 'tadinya', 'tahu', 'tahun', 'tak', 'tambah', 'tambahnya', 'tampak', 'tampaknya', 'tandas', 'tandasnya', 'tanpa', 'tanya', 'tanyakan', 'tanyanya', 'tapi', 'tegas', 'tegasnya', 'telah', 'tempat', 'tengah', 'tentang', 'tentu', 'tentulah', 'tentunya', 'tepat', 'terakhir', 'terasa', 'terbanyak', 'terdahulu', 'terdapat', 'terdiri', 'terhadap', 'terhadapnya', 'teringat', 'teringat-ingat', 'terjadi', 'terjadilah', 'terjadinya', 'terkira', 'terlalu', 'terlebih', 'terlihat', 'termasuk', 'ternyata', 'tersampaikan', 'tersebut', 'tersebutlah', 'tertentu', 'tertuju', 'terus', 'terutama', 'tetap', 'tetapi', 'tiap', 'tiba', 'tiba-tiba', 'tidak', 'tidakkah', 'tidaklah', 'tiga', 'tinggi', 'toh', 'tunjuk', 'turut', 'tutur', 'tuturnya', 'ucap', 'ucapnya', 'ujar', 'ujarnya', 'umum', 'umumnya', 'ungkap', 'ungkapnya', 'untuk', 'usah', 'usai', 'waduh', 'wah', 'wahai', 'waktu', 'waktunya', 'walau', 'walaupun', 'wong', 'yaitu', 'yakin', 'yakni', 'yang', 'ad', 'al', 'allo', 'ai', 'agli', 'all', 'agl', 'alla', 'alle', 'con', 'col', 'coi', 'da', 'dal', 'dallo', 'dai', 'dagli', 'dall', 'dagl', 'dalla', 'dalle', 'di', 'del', 'dello', 'dei', 'degli', 'dell', 'degl', 'della', 'delle', 'in', 'nel', 'nello', 'nei', 'negli', 'nell', 'negl', 'nella', 'nelle', 'su', 'sul', 'sullo', 'sui', 'sugli', 'sull', 'sugl', 'sulla', 'sulle', 'per', 'tra', 'contro', 'io', 'tu', 'lui', 'lei', 'noi', 'voi', 'loro', 'mio', 'mia', 'miei', 'mie', 'tuo', 'tua', 'tuoi', 'tue', 'suo', 'sua', 'suoi', 'sue', 'nostro', 'nostra', 'nostri', 'nostre', 'vostro', 'vostra', 'vostri', 'vostre', 'mi', 'ti', 'ci', 'vi', 'lo', 'la', 'li', 'le', 'gli', 'ne', 'il', 'un', 'uno', 'una', 'ma', 'ed', 'se', 'perché', 'anche', 'come', 'dov', 'dove', 'che', 'chi', 'cui', 'non', 'più', 'quale', 'quanto', 'quanti', 'quanta', 'quante', 'quello', 'quelli', 'quella', 'quelle', 'questo', 'questi', 'questa', 'queste', 'si', 'tutto', 'tutti', 'a', 'c', 'e', 'i', 'l', 'o', 'ho', 'hai', 'ha', 'abbiamo', 'avete', 'hanno', 'abbia', 'abbiate', 'abbiano', 'avrò', 'avrai', 'avrà', 'avremo', 'avrete', 'avranno', 'avrei', 'avresti', 'avrebbe', 'avremmo', 'avreste', 'avrebbero', 'avevo', 'avevi', 'aveva', 'avevamo', 'avevate', 'avevano', 'ebbi', 'avesti', 'ebbe', 'avemmo', 'aveste', 'ebbero', 'avessi', 'avesse', 'avessimo', 'avessero', 'avendo', 'avuto', 'avuta', 'avuti', 'avute', 'sono', 'sei', 'è', 'siamo', 'siete', 'sia', 'siate', 'siano', 'sarò', 'sarai', 'sarà', 'saremo', 'sarete', 'saranno', 'sarei', 'saresti', 'sarebbe', 'saremmo', 'sareste', 'sarebbero', 'ero', 'eri', 'era', 'eravamo', 'eravate', 'erano', 'fui', 'fosti', 'fu', 'fummo', 'foste', 'furono', 'fossi', 'fosse', 'fossimo', 'fossero', 'essendo', 'faccio', 'fai', 'facciamo', 'fanno', 'faccia', 'facciate', 'facciano', 'farò', 'farai', 'farà', 'faremo', 'farete', 'faranno', 'farei', 'faresti', 'farebbe', 'faremmo', 'fareste', 'farebbero', 'facevo', 'facevi', 'faceva', 'facevamo', 'facevate', 'facevano', 'feci', 'facesti', 'fece', 'facemmo', 'faceste', 'fecero', 'facessi', 'facesse', 'facessimo', 'facessero', 'facendo', 'sto', 'stai', 'sta', 'stiamo', 'stanno', 'stia', 'stiate', 'stiano', 'starò', 'starai', 'starà', 'staremo', 'starete', 'staranno', 'starei', 'staresti', 'starebbe', 'staremmo', 'stareste', 'starebbero', 'stavo', 'stavi', 'stava', 'stavamo', 'stavate', 'stavano', 'stetti', 'stesti', 'stette', 'stemmo', 'steste', 'stettero', 'stessi', 'stesse', 'stessimo', 'stessero', 'stando', 'ах', 'ох', 'эх', 'ай', 'эй', 'ой', 'тағы', 'тағыда', 'әрине', 'жоқ', 'сондай', 'осындай', 'осылай', 'солай', 'мұндай', 'бұндай', 'мен', 'сен', 'ол', 'біз', 'біздер', 'олар', 'сіз', 'сіздер', 'маған', 'оған', 'саған', 'біздің', 'сіздің', 'оның', 'бізге', 'сізге', 'оларға', 'біздерге', 'сіздерге', 'оларға', 'менімен', 'сенімен', 'онымен', 'бізбен', 'сізбен', 'олармен', 'біздермен', 'сіздермен', 'менің', 'сенің', 'біздің', 'сіздің', 'оның', 'біздердің', 'сіздердің', 'олардың', 'маған', 'саған', 'оған', 'менен', 'сенен', 'одан', 'бізден', 'сізден', 'олардан', 'біздерден', 'сіздерден', 'олардан', 'айтпақшы', 'сонымен', 'сондықтан', 'бұл', 'осы', 'сол', 'анау', 'мынау', 'сонау', 'осынау', 'ана', 'мына', 'сона', 'әні', 'міне', 'өй', 'үйт', 'бүйт', 'біреу', 'кейбіреу', 'кейбір', 'қайсыбір', 'әрбір', 'бірнеше', 'бірдеме', 'бірнеше', 'әркім', 'әрне', 'әрқайсы', 'әрқалай', 'әлдекім', 'әлдене', 'әлдеқайдан', 'әлденеше', 'әлдеқалай', 'әлдеқашан', 'алдақашан', 'еш', 'ешкім', 'ешбір', 'ештеме', 'дәнеңе', 'ешқашан', 'ешқандай', 'ешқайсы', 'емес', 'бәрі', 'барлық', 'барша', 'бар', 'күллі', 'бүкіл', 'түгел', 'өз', 'өзім', 'өзің', 'өзінің', 'өзіме', 'өзіне', 'өзімнің', 'өзі', 'өзге', 'менде', 'сенде', 'онда', 'менен', 'сенен\\tонан', 'одан', 'ау', 'па', 'ей', 'әй', 'е', 'уа', 'уау', 'уай', 'я', 'пай', 'ә', 'о', 'оһо', 'ой', 'ие', 'аһа', 'ау', 'беу', 'мәссаған', 'бәрекелді', 'әттегенай', 'жаракімалла', 'масқарай', 'астапыралла', 'япырмай', 'ойпырмай', 'кәне', 'кәнеки', 'ал', 'әйда', 'кәні', 'міне', 'әні', 'сорап', 'қош-қош', 'пфша', 'пішә', 'құрау-құрау', 'шәйт', 'шек', 'моһ', 'тәк', 'құрау', 'құр', 'кә', 'кәһ', 'күшім', 'күшім', 'мышы', 'пырс', 'әукім', 'алақай', 'паһ-паһ', 'бәрекелді', 'ура', 'әттең', 'әттеген-ай', 'қап', 'түге', 'пішту', 'шіркін', 'алатау', 'пай-пай', 'үшін', 'сайын', 'сияқты', 'туралы', 'арқылы', 'бойы', 'бойымен', 'шамалы', 'шақты', 'қаралы', 'ғұрлы', 'ғұрлым', 'шейін', 'дейін', 'қарай', 'таман', 'салым', 'тарта', 'жуық', 'таяу', 'гөрі', 'бері', 'кейін', 'соң', 'бұрын', 'бетер', 'қатар', 'бірге', 'қоса', 'арс', 'гүрс', 'дүрс', 'қорс', 'тарс', 'тырс', 'ырс', 'барқ', 'борт', 'күрт', 'кірт', 'морт', 'сарт', 'шырт', 'дүңк', 'күңк', 'қыңқ', 'мыңқ', 'маңқ', 'саңқ', 'шаңқ', 'шіңк', 'сыңқ', 'таңқ', 'тыңқ', 'ыңқ', 'болп', 'былп', 'жалп', 'желп', 'қолп', 'ірк', 'ырқ', 'сарт-сұрт', 'тарс-тұрс', 'арс-ұрс', 'жалт-жалт', 'жалт-жұлт', 'қалт-қалт', 'қалт-құлт', 'қаңқ-қаңқ', 'қаңқ-құңқ', 'шаңқ-шаңқ', 'шаңқ-шұңқ', 'арбаң-арбаң', 'бүгжең-бүгжең', 'арсалаң-арсалаң', 'ербелең-ербелең', 'батыр-бұтыр', 'далаң-далаң', 'тарбаң-тарбаң', 'қызараң-қызараң', 'қаңғыр-күңгір', 'қайқаң-құйқаң', 'митың-митың', 'салаң-сұлаң', 'ыржың-тыржың', 'бірақ', 'алайда', 'дегенмен', 'әйтпесе', 'әйткенмен', 'себебі', 'өйткені', 'сондықтан', 'үшін', 'сайын', 'сияқты', 'туралы', 'арқылы', 'бойы', 'бойымен', 'шамалы', 'шақты', 'қаралы', 'ғұрлы', 'ғұрлым', 'гөрі', 'бері', 'кейін', 'соң', 'бұрын', 'бетер', 'қатар', 'бірге', 'қоса', 'шейін', 'дейін', 'қарай', 'таман', 'салым', 'тарта', 'жуық', 'таяу', 'арнайы', 'осындай', 'ғана', 'қана', 'тек', 'әншейін', 'छ', 'र', 'पनि', 'छन्', 'लागि', 'भएको', 'गरेको', 'भने', 'गर्न', 'गर्ने', 'हो', 'तथा', 'यो', 'रहेको', 'उनले', 'थियो', 'हुने', 'गरेका', 'थिए', 'गर्दै', 'तर', 'नै', 'को', 'मा', 'हुन्', 'भन्ने', 'हुन', 'गरी', 'त', 'हुन्छ', 'अब', 'के', 'रहेका', 'गरेर', 'छैन', 'दिए', 'भए', 'यस', 'ले', 'गर्नु', 'औं', 'सो', 'त्यो', 'कि', 'जुन', 'यी', 'का', 'गरि', 'ती', 'न', 'छु', 'छौं', 'लाई', 'नि', 'उप', 'अक्सर', 'आदि', 'कसरी', 'क्रमशः', 'चाले', 'अगाडी', 'अझै', 'अनुसार', 'अन्तर्गत', 'अन्य', 'अन्यत्र', 'अन्यथा', 'अरु', 'अरुलाई', 'अर्को', 'अर्थात', 'अर्थात्', 'अलग', 'आए', 'आजको', 'ओठ', 'आत्म', 'आफू', 'आफूलाई', 'आफ्नै', 'आफ्नो', 'आयो', 'उदाहरण', 'उनको', 'उहालाई', 'एउटै', 'एक', 'एकदम', 'कतै', 'कम से कम', 'कसै', 'कसैले', 'कहाँबाट', 'कहिलेकाहीं', 'का', 'किन', 'किनभने', 'कुनै', 'कुरा', 'कृपया', 'केही', 'कोही', 'गए', 'गरौं', 'गर्छ', 'गर्छु', 'गर्नुपर्छ', 'गयौ', 'गैर', 'चार', 'चाहनुहुन्छ', 'चाहन्छु', 'चाहिए', 'छू', 'जताततै', 'जब', 'जबकि', 'जसको', 'जसबाट', 'जसमा', 'जसलाई', 'जसले', 'जस्तै', 'जस्तो', 'जस्तोसुकै', 'जहाँ', 'जान', 'जाहिर', 'जे', 'जो', 'ठीक', 'तत्काल', 'तदनुसार', 'तपाईको', 'तपाई', 'पर्याप्त', 'पहिले', 'पहिलो', 'पहिल्यै', 'पाँच', 'पाँचौं', 'तल', 'तापनी', 'तिनी', 'तिनीहरू', 'तिनीहरुको', 'तिनिहरुलाई', 'तिमी', 'तिर', 'तीन', 'तुरुन्तै', 'तेस्रो', 'तेस्कारण', 'पूर्व', 'प्रति', 'प्रतेक', 'प्लस', 'फेरी', 'बने', 'त्सपछि', 'त्सैले', 'त्यहाँ', 'थिएन', 'दिनुभएको', 'दिनुहुन्छ', 'दुई', 'देखि', 'बरु', 'बारे', 'बाहिर', 'देखिन्छ', 'देखियो', 'देखे', 'देखेको', 'देखेर', 'दोस्रो', 'धेरै', 'नजिकै', 'नत्र', 'नयाँ', 'निम्ति', 'बाहेक', 'बीच', 'बीचमा', 'भन', 'निम्न', 'निम्नानुसार', 'निर्दिष्ट', 'नौ', 'पक्का', 'पक्कै', 'पछि', 'पछिल्लो', 'पटक', 'पर्छ', 'पर्थ्यो', 'भन्छन्', 'भन्', 'भन्छु', 'भन्दा', 'भन्नुभयो', 'भर', 'भित्र', 'भित्री', 'म', 'मलाई', 'मात्र', 'माथि', 'मुख्य', 'मेरो', 'यति', 'यथोचित', 'यदि', 'यद्यपि', 'यसको', 'यसपछि', 'यसबाहेक', 'यसरी', 'यसो', 'यस्तो', 'यहाँ', 'यहाँसम्म', 'या', 'रही', 'राखे', 'राख्छ', 'राम्रो', 'रूप', 'लगभग', 'वरीपरी', 'वास्तवमा', 'बिरुद्ध', 'बिशेष', 'सायद', 'शायद', 'संग', 'संगै', 'सक्छ', 'सट्टा', 'सधै', 'सबै', 'सबैलाई', 'समय', 'सम्भव', 'सम्म', 'सही', 'साँच्चै', 'सात', 'साथ', 'साथै', 'सारा', 'सोही', 'स्पष्ट', 'हरे', 'हरेक', 'og', 'i', 'jeg', 'det', 'at', 'en', 'et', 'den', 'til', 'er', 'som', 'på', 'de', 'med', 'han', 'av', 'ikke', 'ikkje', 'der', 'så', 'var', 'meg', 'seg', 'men', 'ett', 'har', 'om', 'vi', 'min', 'mitt', 'ha', 'hadde', 'hun', 'nå', 'over', 'da', 'ved', 'fra', 'du', 'ut', 'sin', 'dem', 'oss', 'opp', 'man', 'kan', 'hans', 'hvor', 'eller', 'hva', 'skal', 'selv', 'sjøl', 'her', 'alle', 'vil', 'bli', 'ble', 'blei', 'blitt', 'kunne', 'inn', 'når', 'være', 'kom', 'noen', 'noe', 'ville', 'dere', 'som', 'deres', 'kun', 'ja', 'etter', 'ned', 'skulle', 'denne', 'for', 'deg', 'si', 'sine', 'sitt', 'mot', 'å', 'meget', 'hvorfor', 'dette', 'disse', 'uten', 'hvordan', 'ingen', 'din', 'ditt', 'blir', 'samme', 'hvilken', 'hvilke', 'sånn', 'inni', 'mellom', 'vår', 'hver', 'hvem', 'vors', 'hvis', 'både', 'bare', 'enn', 'fordi', 'før', 'mange', 'også', 'slik', 'vært', 'være', 'båe', 'begge', 'siden', 'dykk', 'dykkar', 'dei', 'deira', 'deires', 'deim', 'di', 'då', 'eg', 'ein', 'eit', 'eitt', 'elles', 'honom', 'hjå', 'ho', 'hoe', 'henne', 'hennar', 'hennes', 'hoss', 'hossen', 'ikkje', 'ingi', 'inkje', 'korleis', 'korso', 'kva', 'kvar', 'kvarhelst', 'kven', 'kvi', 'kvifor', 'me', 'medan', 'mi', 'mine', 'mykje', 'no', 'nokon', 'noka', 'nokor', 'noko', 'nokre', 'si', 'sia', 'sidan', 'so', 'somt', 'somme', 'um', 'upp', 'vere', 'vore', 'verte', 'vort', 'varte', 'vart', 'de', 'a', 'o', 'que', 'e', 'é', 'do', 'da', 'em', 'um', 'para', 'com', 'não', 'uma', 'os', 'no', 'se', 'na', 'por', 'mais', 'as', 'dos', 'como', 'mas', 'ao', 'ele', 'das', 'à', 'seu', 'sua', 'ou', 'quando', 'muito', 'nos', 'já', 'eu', 'também', 'só', 'pelo', 'pela', 'até', 'isso', 'ela', 'entre', 'depois', 'sem', 'mesmo', 'aos', 'seus', 'quem', 'nas', 'me', 'esse', 'eles', 'você', 'essa', 'num', 'nem', 'suas', 'meu', 'às', 'minha', 'numa', 'pelos', 'elas', 'qual', 'nós', 'lhe', 'deles', 'essas', 'esses', 'pelas', 'este', 'dele', 'tu', 'te', 'vocês', 'vos', 'lhes', 'meus', 'minhas', 'teu', 'tua', 'teus', 'tuas', 'nosso', 'nossa', 'nossos', 'nossas', 'dela', 'delas', 'esta', 'estes', 'estas', 'aquele', 'aquela', 'aqueles', 'aquelas', 'isto', 'aquilo', 'estou', 'está', 'estamos', 'estão', 'estive', 'esteve', 'estivemos', 'estiveram', 'estava', 'estávamos', 'estavam', 'estivera', 'estivéramos', 'esteja', 'estejamos', 'estejam', 'estivesse', 'estivéssemos', 'estivessem', 'estiver', 'estivermos', 'estiverem', 'hei', 'há', 'havemos', 'hão', 'houve', 'houvemos', 'houveram', 'houvera', 'houvéramos', 'haja', 'hajamos', 'hajam', 'houvesse', 'houvéssemos', 'houvessem', 'houver', 'houvermos', 'houverem', 'houverei', 'houverá', 'houveremos', 'houverão', 'houveria', 'houveríamos', 'houveriam', 'sou', 'somos', 'são', 'era', 'éramos', 'eram', 'fui', 'foi', 'fomos', 'foram', 'fora', 'fôramos', 'seja', 'sejamos', 'sejam', 'fosse', 'fôssemos', 'fossem', 'for', 'formos', 'forem', 'serei', 'será', 'seremos', 'serão', 'seria', 'seríamos', 'seriam', 'tenho', 'tem', 'temos', 'tém', 'tinha', 'tínhamos', 'tinham', 'tive', 'teve', 'tivemos', 'tiveram', 'tivera', 'tivéramos', 'tenha', 'tenhamos', 'tenham', 'tivesse', 'tivéssemos', 'tivessem', 'tiver', 'tivermos', 'tiverem', 'terei', 'terá', 'teremos', 'terão', 'teria', 'teríamos', 'teriam', 'a', 'abia', 'acea', 'aceasta', 'această', 'aceea', 'aceeasi', 'acei', 'aceia', 'acel', 'acela', 'acelasi', 'acele', 'acelea', 'acest', 'acesta', 'aceste', 'acestea', 'acestei', 'acestia', 'acestui', 'aceşti', 'aceştia', 'adica', 'ai', 'aia', 'aibă', 'aici', 'al', 'ala', 'ale', 'alea', 'alt', 'alta', 'altceva', 'altcineva', 'alte', 'altfel', 'alti', 'altii', 'altul', 'am', 'anume', 'apoi', 'ar', 'are', 'as', 'asa', 'asta', 'astea', 'astfel', 'asupra', 'atare', 'atat', 'atata', 'atatea', 'atatia', 'ati', 'atit', 'atita', 'atitea', 'atitia', 'atunci', 'au', 'avea', 'avem', 'aveţi', 'avut', 'aş', 'aţi', 'ba', 'ca', 'cam', 'cand', 'care', 'careia', 'carora', 'caruia', 'cat', 'catre', 'ce', 'cea', 'ceea', 'cei', 'ceilalti', 'cel', 'cele', 'celor', 'ceva', 'chiar', 'ci', 'cind', 'cine', 'cineva', 'cit', 'cita', 'cite', 'citeva', 'citi', 'citiva', 'cu', 'cui', 'cum', 'cumva', 'cât', 'câte', 'câtva', 'câţi', 'cînd', 'cît', 'cîte', 'cîtva', 'cîţi', 'că', 'căci', 'cărei', 'căror', 'cărui', 'către', 'da', 'daca', 'dacă', 'dar', 'dat', 'dată', 'dau', 'de', 'deasupra', 'deci', 'decit', 'deja', 'desi', 'despre', 'deşi', 'din', 'dintr', 'dintr-', 'dintre', 'doar', 'doi', 'doilea', 'două', 'drept', 'dupa', 'după', 'dă', 'e', 'ea', 'ei', 'el', 'ele', 'era', 'eram', 'este', 'eu', 'eşti', 'face', 'fara', 'fata', 'fel', 'fi', 'fie', 'fiecare', 'fii', 'fim', 'fiu', 'fiţi', 'foarte', 'fost', 'fără', 'i', 'ia', 'iar', 'ii', 'il', 'imi', 'in', 'inainte', 'inapoi', 'inca', 'incit', 'insa', 'intr', 'intre', 'isi', 'iti', 'la', 'le', 'li', 'lor', 'lui', 'lângă', 'lîngă', 'm', 'ma', 'mai', 'mea', 'mei', 'mele', 'mereu', 'meu', 'mi', 'mie', 'mine', 'mod', 'mult', 'multa', 'multe', 'multi', 'multă', 'mulţi', 'mâine', 'mîine', 'mă', 'ne', 'ni', 'nici', 'nimeni', 'nimic', 'niste', 'nişte', 'noastre', 'noastră', 'noi', 'nostri', 'nostru', 'nou', 'noua', 'nouă', 'noştri', 'nu', 'numai', 'o', 'or', 'ori', 'oricare', 'orice', 'oricine', 'oricum', 'oricând', 'oricât', 'oricînd', 'oricît', 'oriunde', 'pai', 'parca', 'patra', 'patru', 'pe', 'pentru', 'peste', 'pic', 'pina', 'poate', 'pot', 'prea', 'prima', 'primul', 'prin', 'printr-', 'putini', 'puţin', 'puţina', 'puţină', 'până', 'pînă', 'sa', 'sa-mi', 'sa-ti', 'sai', 'sale', 'sau', 'se', 'si', 'sint', 'sintem', 'spate', 'spre', 'sub', 'sunt', 'suntem', 'sunteţi', 'sus', 'să', 'săi', 'său', 't', 'ta', 'tale', 'te', 'ti', 'tine', 'toata', 'toate', 'toată', 'tocmai', 'tot', 'toti', 'totul', 'totusi', 'totuşi', 'toţi', 'trei', 'treia', 'treilea', 'tu', 'tuturor', 'tăi', 'tău', 'u', 'ul', 'ului', 'un', 'una', 'unde', 'undeva', 'unei', 'uneia', 'unele', 'uneori', 'unii', 'unor', 'unora', 'unu', 'unui', 'unuia', 'unul', 'v', 'va', 'vi', 'voastre', 'voastră', 'voi', 'vom', 'vor', 'vostru', 'vouă', 'voştri', 'vreo', 'vreun', 'vă', 'zi', 'zice', 'îi', 'îl', 'îmi', 'în', 'îţi', 'ăla', 'ălea', 'ăsta', 'ăstea', 'ăştia', 'şi', 'ţi', 'ţie', 'и', 'в', 'во', 'не', 'что', 'он', 'на', 'я', 'с', 'со', 'как', 'а', 'то', 'все', 'она', 'так', 'его', 'но', 'да', 'ты', 'к', 'у', 'же', 'вы', 'за', 'бы', 'по', 'только', 'ее', 'мне', 'было', 'вот', 'от', 'меня', 'еще', 'нет', 'о', 'из', 'ему', 'теперь', 'когда', 'даже', 'ну', 'вдруг', 'ли', 'если', 'уже', 'или', 'ни', 'быть', 'был', 'него', 'до', 'вас', 'нибудь', 'опять', 'уж', 'вам', 'ведь', 'там', 'потом', 'себя', 'ничего', 'ей', 'может', 'они', 'тут', 'где', 'есть', 'надо', 'ней', 'для', 'мы', 'тебя', 'их', 'чем', 'была', 'сам', 'чтоб', 'без', 'будто', 'чего', 'раз', 'тоже', 'себе', 'под', 'будет', 'ж', 'тогда', 'кто', 'этот', 'того', 'потому', 'этого', 'какой', 'совсем', 'ним', 'здесь', 'этом', 'один', 'почти', 'мой', 'тем', 'чтобы', 'нее', 'сейчас', 'были', 'куда', 'зачем', 'всех', 'никогда', 'можно', 'при', 'наконец', 'два', 'об', 'другой', 'хоть', 'после', 'над', 'больше', 'тот', 'через', 'эти', 'нас', 'про', 'всего', 'них', 'какая', 'много', 'разве', 'три', 'эту', 'моя', 'впрочем', 'хорошо', 'свою', 'этой', 'перед', 'иногда', 'лучше', 'чуть', 'том', 'нельзя', 'такой', 'им', 'более', 'всегда', 'конечно', 'всю', 'между', 'ali', 'ampak', 'bodisi', 'in', 'kajti', 'marveč', 'namreč', 'ne', 'niti', 'oziroma', 'pa', 'saj', 'sicer', 'temveč', 'ter', 'toda', 'torej', 'vendar', 'vendarle', 'zakaj', 'če', 'čeprav', 'čeravno', 'četudi', 'čim', 'da', 'kadar', 'kakor', 'ker', 'ki', 'ko', 'kot', 'naj', 'najsi', 'odkar', 'preden', 'dve', 'dvema', 'dveh', 'šest', 'šestdeset', 'šestindvajset', 'šestintrideset', 'šestnajst', 'šeststo', 'štiri', 'štirideset', 'štiriindvajset', 'štirinajst', 'štiristo', 'deset', 'devet', 'devetdeset', 'devetintrideset', 'devetnajst', 'devetsto', 'dvainšestdeset', 'dvaindvajset', 'dvajset', 'dvanajst', 'dvesto', 'enaindvajset', 'enaintrideset', 'enajst', 'nič', 'osem', 'osemdeset', 'oseminštirideset', 'osemindevetdeset', 'osemnajst', 'pet', 'petdeset', 'petinštirideset', 'petindevetdeset', 'petindvajset', 'petinosemdeset', 'petinpetdeset', 'petinsedemdeset', 'petintrideset', 'petnajst', 'petsto', 'sedem', 'sedemdeset', 'sedeminšestdeset', 'sedemindvajset', 'sedeminpetdeset', 'sedemnajst', 'sedemsto', 'sto', 'tisoč', 'tri', 'trideset', 'triinšestdeset', 'triindvajset', 'triinpetdeset', 'trinajst', 'tristo', 'šestdesetim', 'šestim', 'šestindvajsetim', 'šestintridesetim', 'šestnajstim', 'šeststotim', 'štiridesetim', 'štiriindvajsetim', 'štirim', 'štirinajstim', 'štiristotim', 'desetim', 'devetdesetim', 'devetim', 'devetintridesetim', 'devetnajstim', 'devetstotim', 'dvainšestdesetim', 'dvaindvajsetim', 'dvajsetim', 'dvanajstim', 'dvestotim', 'enaindvajsetim', 'enaintridesetim', 'enajstim', 'osemdesetim', 'oseminštiridesetim', 'osemindevetdesetim', 'osemnajstim', 'osmim', 'petdesetim', 'petim', 'petinštiridesetim', 'petindevetdesetim', 'petindvajsetim', 'petinosemdesetim', 'petinpetdesetim', 'petinsedemdesetim', 'petintridesetim', 'petnajstim', 'petstotim', 'sedemdesetim', 'sedeminšestdesetim', 'sedemindvajsetim', 'sedeminpetdesetim', 'sedemnajstim', 'sedemstotim', 'sedmim', 'stotim', 'tisočim', 'trem', 'tridesetim', 'triinšestdesetim', 'triindvajsetim', 'triinpetdesetim', 'trinajstim', 'tristotim', 'šestdesetih', 'šestih', 'šestindvajsetih', 'šestintridesetih', 'šestnajstih', 'šeststotih', 'štiridesetih', 'štirih', 'štiriindvajsetih', 'štirinajstih', 'štiristotih', 'desetih', 'devetdesetih', 'devetih', 'devetintridesetih', 'devetnajstih', 'devetstotih', 'dvainšestdesetih', 'dvaindvajsetih', 'dvajsetih', 'dvanajstih', 'dvestotih', 'enaindvajsetih', 'enaintridesetih', 'enajstih', 'osemdesetih', 'oseminštiridesetih', 'osemindevetdesetih', 'osemnajstih', 'osmih', 'petdesetih', 'petih', 'petinštiridesetih', 'petindevetdesetih', 'petindvajsetih', 'petinosemdesetih', 'petinpetdesetih', 'petinsedemdesetih', 'petintridesetih', 'petnajstih', 'petstotih', 'sedemdesetih', 'sedeminšestdesetih', 'sedemindvajsetih', 'sedeminpetdesetih', 'sedemnajstih', 'sedemstotih', 'sedmih', 'stotih', 'tisočih', 'treh', 'tridesetih', 'triinšestdesetih', 'triindvajsetih', 'triinpetdesetih', 'trinajstih', 'tristotih', 'šestdesetimi', 'šestimi', 'šestindvajsetimi', 'šestintridesetimi', 'šestnajstimi', 'šeststotimi', 'štiridesetimi', 'štiriindvajsetimi', 'štirimi', 'štirinajstimi', 'štiristotimi', 'desetimi', 'devetdesetimi', 'devetimi', 'devetintridesetimi', 'devetnajstimi', 'devetstotimi', 'dvainšestdesetimi', 'dvaindvajsetimi', 'dvajsetimi', 'dvanajstimi', 'dvestotimi', 'enaindvajsetimi', 'enaintridesetimi', 'enajstimi', 'osemdesetimi', 'oseminštiridesetimi', 'osemindevetdesetimi', 'osemnajstimi', 'osmimi', 'petdesetimi', 'petimi', 'petinštiridesetimi', 'petindevetdesetimi', 'petindvajsetimi', 'petinosemdesetimi', 'petinpetdesetimi', 'petinsedemdesetimi', 'petintridesetimi', 'petnajstimi', 'petstotimi', 'sedemdesetimi', 'sedeminšestdesetimi', 'sedemindvajsetimi', 'sedeminpetdesetimi', 'sedemnajstimi', 'sedemstotimi', 'sedmimi', 'stotimi', 'tisočimi', 'tremi', 'tridesetimi', 'triinšestdesetimi', 'triindvajsetimi', 'triinpetdesetimi', 'trinajstimi', 'tristotimi', 'eno', 'eni', 'ene', 'ena', 'dva', 'štirje', 'trije', 'en', 'enega', 'enemu', 'enim', 'enem', 'eden', 'dvojni', 'trojni', 'dvojnima', 'trojnima', 'dvojnih', 'trojnih', 'dvojne', 'trojne', 'dvojnim', 'trojnim', 'dvojnimi', 'trojnimi', 'dvojno', 'trojno', 'dvojna', 'trojna', 'dvojnega', 'trojnega', 'dvojen', 'trojen', 'dvojnemu', 'trojnemu', 'dvojnem', 'trojnem', 'četrti', 'šestdeseti', 'šesti', 'šestnajsti', 'štirideseti', 'štiriindvajseti', 'štirinajsti', 'deseti', 'devetdeseti', 'deveti', 'devetnajsti', 'drugi', 'dvaindevetdeseti', 'dvajseti', 'dvanajsti', 'dvestoti', 'enaindvajseti', 'enajsti', 'osemdeseti', 'osemnajsti', 'osmi', 'petdeseti', 'peti', 'petinštirideseti', 'petindvajseti', 'petinosemdeseti', 'petintrideseti', 'petnajsti', 'prvi', 'sedemdeseti', 'sedemindvajseti', 'sedemnajsti', 'sedmi', 'stoti', 'tisoči', 'tretji', 'trideseti', 'triindvajseti', 'triintrideseti', 'trinajsti', 'tristoti', 'četrtima', 'šestdesetima', 'šestima', 'šestnajstima', 'štiridesetima', 'štiriindvajsetima', 'štirinajstima', 'desetima', 'devetdesetima', 'devetima', 'devetnajstima', 'drugima', 'dvaindevetdesetima', 'dvajsetima', 'dvanajstima', 'dvestotima', 'enaindvajsetima', 'enajstima', 'osemdesetima', 'osemnajstima', 'osmima', 'petdesetima', 'petima', 'petinštiridesetima', 'petindvajsetima', 'petinosemdesetima', 'petintridesetima', 'petnajstima', 'prvima', 'sedemdesetima', 'sedemindvajsetima', 'sedemnajstima', 'sedmima', 'stotima', 'tisočima', 'tretjima', 'tridesetima', 'triindvajsetima', 'triintridesetima', 'trinajstima', 'tristotima', 'četrtih', 'drugih', 'dvaindevetdesetih', 'prvih', 'tretjih', 'triintridesetih', 'četrte', 'šestdesete', 'šeste', 'šestnajste', 'štiridesete', 'štiriindvajsete', 'štirinajste', 'desete', 'devetdesete', 'devete', 'devetnajste', 'druge', 'dvaindevetdesete', 'dvajsete', 'dvanajste', 'dvestote', 'enaindvajsete', 'enajste', 'osemdesete', 'osemnajste', 'osme', 'petdesete', 'pete', 'petinštiridesete', 'petindvajsete', 'petinosemdesete', 'petintridesete', 'petnajste', 'prve', 'sedemdesete', 'sedemindvajsete', 'sedemnajste', 'sedme', 'stote', 'tisoče', 'tretje', 'tridesete', 'triindvajsete', 'triintridesete', 'trinajste', 'tristote', 'četrtim', 'drugim', 'dvaindevetdesetim', 'prvim', 'tretjim', 'triintridesetim', 'četrtimi', 'drugimi', 'dvaindevetdesetimi', 'prvimi', 'tretjimi', 'triintridesetimi', 'četrto', 'šestdeseto', 'šestnajsto', 'šesto', 'štirideseto', 'štiriindvajseto', 'štirinajsto', 'deseto', 'devetdeseto', 'devetnajsto', 'deveto', 'drugo', 'dvaindevetdeseto', 'dvajseto', 'dvanajsto', 'dvestoto', 'enaindvajseto', 'enajsto', 'osemdeseto', 'osemnajsto', 'osmo', 'petdeseto', 'petinštirideseto', 'petindvajseto', 'petinosemdeseto', 'petintrideseto', 'petnajsto', 'peto', 'prvo', 'sedemdeseto', 'sedemindvajseto', 'sedemnajsto', 'sedmo', 'stoto', 'tisočo', 'tretjo', 'trideseto', 'triindvajseto', 'triintrideseto', 'trinajsto', 'tristoto', 'četrta', 'šesta', 'šestdeseta', 'šestnajsta', 'štirideseta', 'štiriindvajseta', 'štirinajsta', 'deseta', 'deveta', 'devetdeseta', 'devetnajsta', 'druga', 'dvaindevetdeseta', 'dvajseta', 'dvanajsta', 'dvestota', 'enaindvajseta', 'enajsta', 'osemdeseta', 'osemnajsta', 'osma', 'peta', 'petdeseta', 'petinštirideseta', 'petindvajseta', 'petinosemdeseta', 'petintrideseta', 'petnajsta', 'prva', 'sedemdeseta', 'sedemindvajseta', 'sedemnajsta', 'sedma', 'stota', 'tisoča', 'tretja', 'trideseta', 'triindvajseta', 'triintrideseta', 'trinajsta', 'tristota', 'četrtega', 'šestdesetega', 'šestega', 'šestnajstega', 'štiridesetega', 'štiriindvajsetega', 'štirinajstega', 'desetega', 'devetdesetega', 'devetega', 'devetnajstega', 'drugega', 'dvaindevetdesetega', 'dvajsetega', 'dvanajstega', 'dvestotega', 'enaindvajsetega', 'enajstega', 'osemdesetega', 'osemnajstega', 'osmega', 'petdesetega', 'petega', 'petinštiridesetega', 'petindvajsetega', 'petinosemdesetega', 'petintridesetega', 'petnajstega', 'prvega', 'sedemdesetega', 'sedemindvajsetega', 'sedemnajstega', 'sedmega', 'stotega', 'tisočega', 'tretjega', 'tridesetega', 'triindvajsetega', 'triintridesetega', 'trinajstega', 'tristotega', 'četrtemu', 'šestdesetemu', 'šestemu', 'šestnajstemu', 'štiridesetemu', 'štiriindvajsetemu', 'štirinajstemu', 'desetemu', 'devetdesetemu', 'devetemu', 'devetnajstemu', 'drugemu', 'dvaindevetdesetemu', 'dvajsetemu', 'dvanajstemu', 'dvestotemu', 'enaindvajsetemu', 'enajstemu', 'osemdesetemu', 'osemnajstemu', 'osmemu', 'petdesetemu', 'petemu', 'petinštiridesetemu', 'petindvajsetemu', 'petinosemdesetemu', 'petintridesetemu', 'petnajstemu', 'prvemu', 'sedemdesetemu', 'sedemindvajsetemu', 'sedemnajstemu', 'sedmemu', 'stotemu', 'tisočemu', 'tretjemu', 'tridesetemu', 'triindvajsetemu', 'triintridesetemu', 'trinajstemu', 'tristotemu', 'četrtem', 'šestdesetem', 'šestem', 'šestnajstem', 'štiridesetem', 'štiriindvajsetem', 'štirinajstem', 'desetem', 'devetdesetem', 'devetem', 'devetnajstem', 'drugem', 'dvaindevetdesetem', 'dvajsetem', 'dvanajstem', 'dvestotem', 'enaindvajsetem', 'enajstem', 'osemdesetem', 'osemnajstem', 'osmem', 'petdesetem', 'petem', 'petinštiridesetem', 'petindvajsetem', 'petinosemdesetem', 'petintridesetem', 'petnajstem', 'prvem', 'sedemdesetem', 'sedemindvajsetem', 'sedemnajstem', 'sedmem', 'stotem', 'tisočem', 'tretjem', 'tridesetem', 'triindvajsetem', 'triintridesetem', 'trinajstem', 'tristotem', 'deseteri', 'dvakratni', 'dvoji', 'enkratni', 'peteri', 'stoteri', 'tisočeri', 'trikratni', 'troji', 'deseterima', 'dvakratnima', 'dvojima', 'enkratnima', 'peterima', 'stoterima', 'tisočerima', 'trikratnima', 'trojima', 'deseterih', 'dvakratnih', 'dvojih', 'enkratnih', 'peterih', 'stoterih', 'tisočerih', 'trikratnih', 'trojih', 'desetere', 'dvakratne', 'dvoje', 'enkratne', 'petere', 'stotere', 'tisočere', 'trikratne', 'troje', 'deseterim', 'dvakratnim', 'dvojim', 'enkratnim', 'peterim', 'stoterim', 'tisočerim', 'trikratnim', 'trojim', 'deseterimi', 'dvakratnimi', 'dvojimi', 'enkratnimi', 'peterimi', 'stoterimi', 'tisočerimi', 'trikratnimi', 'trojimi', 'desetero', 'dvakratno', 'dvojo', 'enkratno', 'petero', 'stotero', 'tisočero', 'trikratno', 'trojo', 'desetera', 'dvakratna', 'dvoja', 'enkratna', 'petera', 'stotera', 'tisočera', 'trikratna', 'troja', 'deseterega', 'dvakratnega', 'dvojega', 'enkratnega', 'peterega', 'stoterega', 'tisočerega', 'trikratnega', 'trojega', 'deseter', 'dvakraten', 'dvoj', 'enkraten', 'peter', 'stoter', 'tisočer', 'trikraten', 'troj', 'deseteremu', 'dvakratnemu', 'dvojemu', 'enkratnemu', 'peteremu', 'stoteremu', 'tisočeremu', 'trikratnemu', 'trojemu', 'deseterem', 'dvakratnem', 'dvojem', 'enkratnem', 'peterem', 'stoterem', 'tisočerem', 'trikratnem', 'trojem', 'le-onega', 'le-tega', 'le-tistega', 'le-toliko', 'onega', 'tega', 'tistega', 'toliko', 'le-oni', 'le-takšni', 'le-taki', 'le-te', 'le-ti', 'le-tisti', 'oni', 'takšni', 'taki', 'te', 'ti', 'tisti', 'le-onima', 'le-takšnima', 'le-takima', 'le-tema', 'le-tistima', 'onima', 'takšnima', 'takima', 'tema', 'tistima', 'le-onih', 'le-takšnih', 'le-takih', 'le-teh', 'le-tistih', 'onih', 'takšnih', 'takih', 'teh', 'tistih', 'le-one', 'le-takšne', 'le-take', 'le-tiste', 'one', 'takšne', 'take', 'tiste', 'le-onim', 'le-takšnim', 'le-takim', 'le-tem', 'le-tistim', 'onim', 'takšnim', 'takim', 'tem', 'tistim', 'le-onimi', 'le-takšnimi', 'le-takimi', 'le-temi', 'le-tistimi', 'onimi', 'takšnimi', 'takimi', 'temi', 'tistimi', 'le-ono', 'le-takšno', 'le-tako', 'le-tisto', 'le-to', 'ono', 'takšno', 'tako', 'tisto', 'to', 'le-tej', 'tej', 'le-ona', 'le-ta', 'le-takšna', 'le-taka', 'le-tista', 'ona', 'ta', 'takšna', 'taka', 'tista', 'le-tak', 'le-takšen', 'tak', 'takšen', 'le-takšnega', 'le-takega', 'takšnega', 'takega', 'le-onemu', 'le-takšnemu', 'le-takemu', 'le-temu', 'le-tistemu', 'onemu', 'takšnemu', 'takemu', 'temu', 'temuintemu', 'tistemu', 'le-onem', 'le-takšnem', 'le-takem', 'le-tistem', 'onem', 'takšnem', 'takem', 'tistem', 'vsakogar', 'vsakomur', 'vsakomer', 'vsakdo', 'obe', 'vsaki', 'vsakršni', 'vsi', 'obema', 'vsakima', 'vsakršnima', 'vsema', 'obeh', 'vsakih', 'vsakršnih', 'vseh', 'vsake', 'vsakršne', 'vse', 'vsakim', 'vsakršnim', 'vsem', 'vsakimi', 'vsakršnimi', 'vsemi', 'vsako', 'vsakršno', 'vso', 'vsej', 'vsa', 'vsaka', 'vsakršna', 'oba', 'ves', 'vsak', 'vsakršen', 'vsakega', 'vsakršnega', 'vsega', 'vsakemu', 'vsakršnemu', 'vsemu', 'vsakem', 'vsakršnem', 'enako', 'istega', 'koliko', 'mnogo', 'nekoga', 'nekoliko', 'precej', 'kaj', 'koga', 'marsikaj', 'marsikoga', 'nekaj', 'čemu', 'komu', 'marsičemu', 'marsikomu', 'nečemu', 'nekomu', 'česa', 'marsičesa', 'nečesa', 'kom', 'marsičim', 'marsikom', 'nečim', 'nekom', 'čem', 'marsičem', 'nečem', 'kdo', 'marsikdo', 'nekdo', 'čigavi', 'drugačni', 'enaki', 'isti', 'kakšni', 'kaki', 'kakršnikoli', 'kateri', 'katerikoli', 'kolikšni', 'koliki', 'marsikateri', 'nekakšni', 'nekaki', 'nekateri', 'neki', 'takile', 'tele', 'tile', 'tolikšni', 'toliki', 'čigavima', 'drugačnima', 'enakima', 'enima', 'istima', 'kakšnima', 'kakima', 'kakršnimakoli', 'katerima', 'katerimakoli', 'kolikšnima', 'kolikima', 'marsikaterima', 'nekakšnima', 'nekakima', 'nekaterima', 'nekima', 'takimale', 'temale', 'tolikšnima', 'tolikima', 'čigavih', 'drugačnih', 'enakih', 'enih', 'istih', 'kakšnih', 'kakih', 'kakršnihkoli', 'katerih', 'katerihkoli', 'kolikšnih', 'kolikih', 'marsikaterih', 'nekakšnih', 'nekakih', 'nekaterih', 'nekih', 'takihle', 'tehle', 'tolikšnih', 'tolikih', 'čigave', 'drugačne', 'enake', 'iste', 'kakšne', 'kake', 'kakršnekoli', 'katere', 'katerekoli', 'kolikšne', 'kolike', 'marsikatere', 'nekakšne', 'nekake', 'nekatere', 'neke', 'takele', 'tolikšne', 'tolike', 'čigavim', 'drugačnim', 'enakim', 'istim', 'kakšnim', 'kakim', 'kakršnimkoli', 'katerim', 'katerimkoli', 'kolikšnim', 'kolikim', 'marsikaterim', 'nekakšnim', 'nekakim', 'nekaterim', 'nekim', 'takimle', 'temle', 'tolikšnim', 'tolikim', 'čigavimi', 'drugačnimi', 'enakimi', 'enimi', 'istimi', 'kakšnimi', 'kakimi', 'kakršnimikoli', 'katerimi', 'katerimikoli', 'kolikšnimi', 'kolikimi', 'marsikaterimi', 'nekakšnimi', 'nekakimi', 'nekaterimi', 'nekimi', 'takimile', 'temile', 'tolikšnimi', 'tolikimi', 'čigavo', 'drugačno', 'isto', 'kakšno', 'kako', 'kakršnokoli', 'katero', 'katerokoli', 'kolikšno', 'marsikatero', 'nekakšno', 'nekako', 'nekatero', 'neko', 'takole', 'tole', 'tolikšno', 'tejle', 'čigava', 'drugačna', 'enaka', 'ista', 'kakšna', 'kaka', 'kakršnakoli', 'katera', 'katerakoli', 'kolikšna', 'kolika', 'marsikatera', 'neka', 'nekakšna', 'nekaka', 'nekatera', 'takale', 'tale', 'tolikšna', 'tolika', 'čigav', 'drug', 'drugačen', 'enak', 'kak', 'kakšen', 'kakršenkoli', 'kakršnegakoli', 'kateregakoli', 'kolik', 'kolikšen', 'nek', 'nekak', 'nekakšen', 'takegale', 'takle', 'tegale', 'tolik', 'tolikšen', 'čigavega', 'drugačnega', 'enakega', 'kakšnega', 'kakega', 'katerega', 'kolikšnega', 'kolikega', 'marsikaterega', 'nekakšnega', 'nekakega', 'nekaterega', 'nekega', 'tolikšnega', 'tolikega', 'čigavemu', 'drugačnemu', 'enakemu', 'istemu', 'kakšnemu', 'kakemu', 'kakršnemukoli', 'kateremu', 'kateremukoli', 'kolikšnemu', 'kolikemu', 'marsikateremu', 'nekakšnemu', 'nekakemu', 'nekateremu', 'nekemu', 'takemule', 'temule', 'tolikšnemu', 'tolikemu', 'čigavem', 'drugačnem', 'enakem', 'istem', 'kakšnem', 'kakem', 'kakršnemkoli', 'katerem', 'kateremkoli', 'kolikšnem', 'kolikem', 'marsikaterem', 'nekakšnem', 'nekakem', 'nekaterem', 'nekem', 'takemle', 'tolikšnem', 'tolikem', 'naju', 'nama', 'midva', 'nas', 'nam', 'nami', 'mi', 'mene', 'me', 'meni', 'mano', 'menoj', 'jaz', 'vaju', 'vama', 'vidva', 'vas', 'vam', 'vami', 'vi', 'tebe', 'tebi', 'tabo', 'teboj', 'njiju', 'jih', 'ju', 'njima', 'jima', 'onedve', 'onidve', 'nje', 'njih', 'njim', 'jim', 'njimi', 'njo', 'jo', 'njej', 'nji', 'ji', 'je', 'onadva', 'njega', 'ga', 'njemu', 'mu', 'njem', 'on', 'čigar', 'kolikor', 'kar', 'karkoli', 'kogar', 'kogarkoli', 'čemur', 'čemurkoli', 'komur', 'komurkoli', 'česar', 'česarkoli', 'čimer', 'čimerkoli', 'komer', 'komerkoli', 'čemer', 'čemerkoli', 'kdor', 'kdorkoli', 'kakršni', 'kakršnima', 'kakršnih', 'kakršne', 'kakršnim', 'kakršnimi', 'kakršno', 'kakršna', 'kakršen', 'kakršnega', 'kakršnemu', 'kakršnem', 'najini', 'naši', 'moji', 'najinima', 'našima', 'mojima', 'najinih', 'naših', 'mojih', 'najine', 'naše', 'moje', 'najinim', 'našim', 'mojim', 'najinimi', 'našimi', 'mojimi', 'najino', 'našo', 'mojo', 'najina', 'naša', 'moja', 'najin', 'najinega', 'naš', 'našega', 'moj', 'mojega', 'najinemu', 'našemu', 'mojemu', 'najinem', 'našem', 'mojem', 'vajini', 'vaši', 'tvoji', 'vajinima', 'vašima', 'tvojima', 'vajinih', 'vaših', 'tvojih', 'vajine', 'vaše', 'tvoje', 'vajinim', 'vašim', 'tvojim', 'vajinimi', 'vašimi', 'tvojimi', 'vajino', 'vašo', 'tvojo', 'vajina', 'vaša', 'tvoja', 'vajin', 'vajinega', 'vaš', 'vašega', 'tvoj', 'tvojega', 'vajinemu', 'vašemu', 'tvojemu', 'vajinem', 'vašem', 'tvojem', 'njuni', 'njihovi', 'njeni', 'njegovi', 'njunima', 'njihovima', 'njenima', 'njegovima', 'njunih', 'njihovih', 'njenih', 'njegovih', 'njune', 'njihove', 'njene', 'njegove', 'njunim', 'njihovim', 'njenim', 'njegovim', 'njunimi', 'njihovimi', 'njenimi', 'njegovimi', 'njuno', 'njihovo', 'njeno', 'njegovo', 'njuna', 'njihova', 'njena', 'njegova', 'njun', 'njunega', 'njihov', 'njihovega', 'njen', 'njenega', 'njegov', 'njegovega', 'njunemu', 'njihovemu', 'njenemu', 'njegovemu', 'njunem', 'njihovem', 'njenem', 'njegovem', 'se', 'si', 'sebe', 'sebi', 'sabo', 'seboj', 'svoji', 'svojima', 'svojih', 'svoje', 'svojim', 'svojimi', 'svojo', 'svoja', 'svoj', 'svojega', 'svojemu', 'svojem', 'nikogar', 'noben', 'ničemur', 'nikomur', 'ničesar', 'ničimer', 'nikomer', 'ničemer', 'nihče', 'nikakršni', 'nobeni', 'nikakršnima', 'nobenima', 'nikakršnih', 'nobenih', 'nikakršne', 'nobene', 'nikakršnim', 'nobenim', 'nikakršnimi', 'nobenimi', 'nikakršno', 'nobeno', 'nikakršna', 'nobena', 'nikakršen', 'nikakršnega', 'nobenega', 'nikakršnemu', 'nobenemu', 'nikakršnem', 'nobenem', 'še', 'šele', 'žal', 'že', 'baje', 'bojda', 'bržčas', 'bržkone', 'celo', 'dobesedno', 'domala', 'edinole', 'gotovo', 'itak', 'ja', 'kajne', 'kajpada', 'kajpak', 'koli', 'komaj', 'le', 'malone', 'mar', 'menda', 'morda', 'morebiti', 'nadvse', 'najbrž', 'nemara', 'nerad', 'neradi', 'nikar', 'pač', 'pogodu', 'prav', 'pravzaprav', 'predvsem', 'preprosto', 'rad', 'rada', 'rade', 'radi', 'ravno', 'res', 'resda', 'samo', 'seveda', 'skoraj', 'skorajda', 'spet', 'sploh', 'tudi', 'všeč', 'verjetno', 'vnovič', 'vred', 'vsaj', 'zadosti', 'zapored', 'zares', 'zgolj', 'zlasti', 'zopet', 'čezenj', 'čeznje', 'mednje', 'mednju', 'medse', 'nadenj', 'nadme', 'nadnje', 'name', 'nanj', 'nanje', 'nanjo', 'nanju', 'nase', 'nate', 'obenj', 'podnjo', 'pome', 'ponj', 'ponje', 'ponjo', 'pote', 'predenj', 'predme', 'prednje', 'predse', 'skozenj', 'skoznje', 'skoznjo', 'skozte', 'vame', 'vanj', 'vanje', 'vanjo', 'vanju', 'vase', 'vate', 'zame', 'zanj', 'zanje', 'zanjo', 'zanju', 'zase', 'zate', 'čez', 'med', 'na', 'nad', 'ob', 'po', 'pod', 'pred', 'raz', 'skoz', 'skozi', 'v', 'za', 'zoper', 'h', 'k', 'kljub', 'nasproti', 'navkljub', 'navzlic', 'proti', 'ž', 'blizu', 'brez', 'dno', 'do', 'iz', 'izmed', 'iznad', 'izpod', 'izpred', 'izven', 'izza', 'krog', 'mimo', 'namesto', 'naokoli', 'naproti', 'od', 'okoli', 'okrog', 'onkraj', 'onstran', 'poleg', 'povrh', 'povrhu', 'prek', 'preko', 'razen', 's', 'spod', 'spričo', 'sredi', 'vštric', 'vpričo', 'vrh', 'vrhu', 'vzdolž', 'z', 'zaradi', 'zavoljo', 'zraven', 'zunaj', 'o', 'pri', 'bi', 'bova', 'bomo', 'bom', 'bosta', 'boste', 'boš', 'bodo', 'bojo', 'bo', 'sva', 'nisva', 'smo', 'nismo', 'sem', 'nisem', 'sta', 'nista', 'ste', 'niste', 'nisi', 'so', 'niso', 'ni', 'bodiva', 'bodimo', 'bodita', 'bodite', 'bodi', 'biti', 'bili', 'bila', 'bile', 'bil', 'bilo', 'želiva', 'dovoliva', 'hočeva', 'marava', 'morava', 'moreva', 'smeva', 'zmoreva', 'nočeva', 'želimo', 'dovolimo', 'hočemo', 'maramo', 'moramo', 'moremo', 'smemo', 'zmoremo', 'nočemo', 'želim', 'dovolim', 'hočem', 'maram', 'moram', 'morem', 'smem', 'zmorem', 'nočem', 'želita', 'dovolita', 'hočeta', 'marata', 'morata', 'moreta', 'smeta', 'zmoreta', 'nočeta', 'želite', 'dovolite', 'hočete', 'marate', 'morate', 'morete', 'smete', 'zmorete', 'nočete', 'želiš', 'dovoliš', 'hočeš', 'maraš', 'moraš', 'moreš', 'smeš', 'zmoreš', 'nočeš', 'želijo', 'dovolijo', 'hočejo', 'marajo', 'morajo', 'morejo', 'smejo', 'zmorejo', 'nočejo', 'želi', 'dovoli', 'hoče', 'mara', 'mora', 'more', 'sme', 'zmore', 'noče', 'hotiva', 'marajva', 'hotimo', 'marajmo', 'hotita', 'marajta', 'hotite', 'marajte', 'hoti', 'maraj', 'želeti', 'dovoliti', 'hoteti', 'marati', 'moči', 'morati', 'smeti', 'zmoči', 'želeni', 'dovoljeni', 'želena', 'dovoljena', 'želene', 'dovoljene', 'želen', 'dovoljen', 'želeno', 'dovoljeno', 'želeli', 'dovolili', 'hoteli', 'marali', 'mogli', 'morali', 'smeli', 'zmogli', 'želela', 'dovolila', 'hotela', 'marala', 'mogla', 'morala', 'smela', 'zmogla', 'želele', 'dovolile', 'hotele', 'marale', 'mogle', 'morale', 'smele', 'zmogle', 'želel', 'dovolil', 'hotel', 'maral', 'mogel', 'moral', 'smel', 'zmogel', 'želelo', 'dovolilo', 'hotelo', 'maralo', 'moglo', 'moralo', 'smelo', 'zmogl', 'de', 'la', 'que', 'el', 'en', 'y', 'a', 'los', 'del', 'se', 'las', 'por', 'un', 'para', 'con', 'no', 'una', 'su', 'al', 'lo', 'como', 'más', 'pero', 'sus', 'le', 'ya', 'o', 'este', 'sí', 'porque', 'esta', 'entre', 'cuando', 'muy', 'sin', 'sobre', 'también', 'me', 'hasta', 'hay', 'donde', 'quien', 'desde', 'todo', 'nos', 'durante', 'todos', 'uno', 'les', 'ni', 'contra', 'otros', 'ese', 'eso', 'ante', 'ellos', 'e', 'esto', 'mí', 'antes', 'algunos', 'qué', 'unos', 'yo', 'otro', 'otras', 'otra', 'él', 'tanto', 'esa', 'estos', 'mucho', 'quienes', 'nada', 'muchos', 'cual', 'poco', 'ella', 'estar', 'estas', 'algunas', 'algo', 'nosotros', 'mi', 'mis', 'tú', 'te', 'ti', 'tu', 'tus', 'ellas', 'nosotras', 'vosotros', 'vosotras', 'os', 'mío', 'mía', 'míos', 'mías', 'tuyo', 'tuya', 'tuyos', 'tuyas', 'suyo', 'suya', 'suyos', 'suyas', 'nuestro', 'nuestra', 'nuestros', 'nuestras', 'vuestro', 'vuestra', 'vuestros', 'vuestras', 'esos', 'esas', 'estoy', 'estás', 'está', 'estamos', 'estáis', 'están', 'esté', 'estés', 'estemos', 'estéis', 'estén', 'estaré', 'estarás', 'estará', 'estaremos', 'estaréis', 'estarán', 'estaría', 'estarías', 'estaríamos', 'estaríais', 'estarían', 'estaba', 'estabas', 'estábamos', 'estabais', 'estaban', 'estuve', 'estuviste', 'estuvo', 'estuvimos', 'estuvisteis', 'estuvieron', 'estuviera', 'estuvieras', 'estuviéramos', 'estuvierais', 'estuvieran', 'estuviese', 'estuvieses', 'estuviésemos', 'estuvieseis', 'estuviesen', 'estando', 'estado', 'estada', 'estados', 'estadas', 'estad', 'he', 'has', 'ha', 'hemos', 'habéis', 'han', 'haya', 'hayas', 'hayamos', 'hayáis', 'hayan', 'habré', 'habrás', 'habrá', 'habremos', 'habréis', 'habrán', 'habría', 'habrías', 'habríamos', 'habríais', 'habrían', 'había', 'habías', 'habíamos', 'habíais', 'habían', 'hube', 'hubiste', 'hubo', 'hubimos', 'hubisteis', 'hubieron', 'hubiera', 'hubieras', 'hubiéramos', 'hubierais', 'hubieran', 'hubiese', 'hubieses', 'hubiésemos', 'hubieseis', 'hubiesen', 'habiendo', 'habido', 'habida', 'habidos', 'habidas', 'soy', 'eres', 'es', 'somos', 'sois', 'son', 'sea', 'seas', 'seamos', 'seáis', 'sean', 'seré', 'serás', 'será', 'seremos', 'seréis', 'serán', 'sería', 'serías', 'seríamos', 'seríais', 'serían', 'era', 'eras', 'éramos', 'erais', 'eran', 'fui', 'fuiste', 'fue', 'fuimos', 'fuisteis', 'fueron', 'fuera', 'fueras', 'fuéramos', 'fuerais', 'fueran', 'fuese', 'fueses', 'fuésemos', 'fueseis', 'fuesen', 'sintiendo', 'sentido', 'sentida', 'sentidos', 'sentidas', 'siente', 'sentid', 'tengo', 'tienes', 'tiene', 'tenemos', 'tenéis', 'tienen', 'tenga', 'tengas', 'tengamos', 'tengáis', 'tengan', 'tendré', 'tendrás', 'tendrá', 'tendremos', 'tendréis', 'tendrán', 'tendría', 'tendrías', 'tendríamos', 'tendríais', 'tendrían', 'tenía', 'tenías', 'teníamos', 'teníais', 'tenían', 'tuve', 'tuviste', 'tuvo', 'tuvimos', 'tuvisteis', 'tuvieron', 'tuviera', 'tuvieras', 'tuviéramos', 'tuvierais', 'tuvieran', 'tuviese', 'tuvieses', 'tuviésemos', 'tuvieseis', 'tuviesen', 'teniendo', 'tenido', 'tenida', 'tenidos', 'tenidas', 'tened', 'och', 'det', 'att', 'i', 'en', 'jag', 'hon', 'som', 'han', 'på', 'den', 'med', 'var', 'sig', 'för', 'så', 'till', 'är', 'men', 'ett', 'om', 'hade', 'de', 'av', 'icke', 'mig', 'du', 'henne', 'då', 'sin', 'nu', 'har', 'inte', 'hans', 'honom', 'skulle', 'hennes', 'där', 'min', 'man', 'ej', 'vid', 'kunde', 'något', 'från', 'ut', 'när', 'efter', 'upp', 'vi', 'dem', 'vara', 'vad', 'över', 'än', 'dig', 'kan', 'sina', 'här', 'ha', 'mot', 'alla', 'under', 'någon', 'eller', 'allt', 'mycket', 'sedan', 'ju', 'denna', 'själv', 'detta', 'åt', 'utan', 'varit', 'hur', 'ingen', 'mitt', 'ni', 'bli', 'blev', 'oss', 'din', 'dessa', 'några', 'deras', 'blir', 'mina', 'samma', 'vilken', 'er', 'sådan', 'vår', 'blivit', 'dess', 'inom', 'mellan', 'sådant', 'varför', 'varje', 'vilka', 'ditt', 'vem', 'vilket', 'sitta', 'sådana', 'vart', 'dina', 'vars', 'vårt', 'våra', 'ert', 'era', 'vilkas', 'аз', 'дар', 'ба', 'бо', 'барои', 'бе', 'то', 'ҷуз', 'пеши', 'назди', 'рӯйи', 'болои ', 'паси', 'ғайри', 'ҳамон', 'ҳамоно', 'инҷониб', 'замон', 'замоно', 'эътиборан', 'пеш', 'қабл', 'дида', 'сар карда', 'агар ', 'агар ки', 'валекин ', 'ки', 'лекин', 'аммо', 'вале', 'балки', 'ва', 'ҳарчанд', 'чунки', 'зеро', 'зеро ки', 'вақте ки', 'то вақте ки', 'барои он ки', 'бо нияти он ки', 'лекин ва ҳол он ки', 'ё', 'ё ин ки  ', 'бе он ки ', 'дар ҳолате ки', 'то даме ки ', 'баъд аз он ки', 'даме ки', 'ба тразе ки ', 'аз баҳри он ки', 'гар ', 'ар', 'ба шарте', 'азбаски ', 'модоме ки', 'агар чи', 'гарчанде ки ', 'бо вуҷуди он ки', 'гӯё', 'аз-баски ', 'чун-ки', 'агар-чанд', 'агар-чи ', 'гар-чи', 'то ки', 'чунон ки', 'то даме ки', 'ҳар қадар ки', 'магар ', 'оё', 'наход', 'ҳатто ', 'ҳам ', 'бале ', 'оре ', 'хуб ', 'хуш', 'хайр', 'не', 'на', 'мана', 'э', 'фақат', 'танҳо', 'кошки ', 'мабодо', 'ҳтимол', 'ана ҳамин', 'наход ки', 'ҳатто ки', 'аз афташ', 'майлаш куя', 'ана', 'ҳа', 'канӣ', 'гӯё ки', 'ҳо ана', 'на ин ки', 'ваҳ', 'ҳой', 'и', 'а', 'о', 'эҳ', 'ҳе', 'ҳу', 'аҳа', 'оҳе', 'уҳа', 'ҳм', 'нм', 'оббо', 'ӯббо', 'ҳой-ҳой ', 'вой-вой', 'ту-ту', 'ҳмм', 'эҳа', 'тавба', 'ӯҳӯ', 'аҷабо', 'ало', 'аё', 'ой', 'ӯим ', 'ором', 'хом?ш', 'ҳай-ҳай ', 'бай-бай', 'аз ', 'он', 'баъд', 'азбаски', 'ӯ', 'ҳангоми', 'чӣ', 'кадом', 'ин', 'ҷо', 'ҳам', 'ё ки', 'бояд', 'аст', 'чанд', 'ҳар', 'бар', 'чаро ки', 'агар', 'то кӣ', 'бинобар', 'бинобар ин', 'ҳаргиз', 'асло', 'нахот', 'нахот ки', 'кошкӣ', 'шояд', 'шояд ки', 'охир', 'аз рӯи', 'аз рӯйи ', 'рӯ', 'acaba', 'ama', 'aslında', 'az', 'bazı', 'belki', 'biri', 'birkaç', 'birşey', 'biz', 'bu', 'çok', 'çünkü', 'da', 'daha', 'de', 'defa', 'diye', 'eğer', 'en', 'gibi', 'hem', 'hep', 'hepsi', 'her', 'hiç', 'için', 'ile', 'ise', 'kez', 'ki', 'kim', 'mı', 'mu', 'mü', 'nasıl', 'ne', 'neden', 'nerde', 'nerede', 'nereye', 'niçin', 'niye', 'o', 'sanki', 'şey', 'siz', 'şu', 'tüm', 've', 'veya', 'ya', 'yani']\n"
          ]
        }
      ]
    },
    {
      "cell_type": "code",
      "metadata": {
        "colab": {
          "base_uri": "https://localhost:8080/"
        },
        "id": "pZucHH61q7TV",
        "outputId": "8109b2a4-a5a6-459d-e9ac-bcf05d4b8dc1"
      },
      "source": [
        "# convert the text to a matrix of token counts \n",
        "df['important_features'].replace('<[^<]+?>',' ',regex=True, inplace = True)\n",
        "print (df['important_features'].head(3))\n",
        "df['important_features'] = df['important_features'].apply(lambda x: ' '.join([word for word in x.split() if word not in (stop_words)]))\n",
        "cm = CountVectorizer().fit_transform(df['important_features'])\n",
        "\n",
        "# GEt the cosine similarity matrix from the count matrix\n",
        "cs = cosine_similarity(cm)\n",
        "#Print the cosine similarity matrix\n",
        "print(cs)\n"
      ],
      "execution_count": 10,
      "outputs": [
        {
          "output_type": "stream",
          "name": "stdout",
          "text": [
            "0    NoSQL Databases For Beginners  NoSQL (Non-SQL ...\n",
            "1    Tai Chi Foundation Course  Whether you're a be...\n",
            "2    Music Pedagogy: 7 advices to teach a musical i...\n",
            "Name: important_features, dtype: object\n",
            "[[1.         0.08476291 0.14103213 ... 0.11829838 0.         0.23462534]\n",
            " [0.08476291 1.         0.17646815 ... 0.14558425 0.         0.06099894]\n",
            " [0.14103213 0.17646815 1.         ... 0.19714449 0.         0.12309373]\n",
            " ...\n",
            " [0.11829838 0.14558425 0.19714449 ... 1.         0.         0.1348569 ]\n",
            " [0.         0.         0.         ... 0.         1.         0.        ]\n",
            " [0.23462534 0.06099894 0.12309373 ... 0.1348569  0.         1.        ]]\n"
          ]
        }
      ]
    },
    {
      "cell_type": "code",
      "metadata": {
        "colab": {
          "base_uri": "https://localhost:8080/"
        },
        "id": "-O800M2PsNeE",
        "outputId": "76b23708-04f2-4c38-bda9-d74a444ee9ca"
      },
      "source": [
        "# Get the shape of the cosine similarity matrix \n",
        "cs.shape\n"
      ],
      "execution_count": 11,
      "outputs": [
        {
          "output_type": "execute_result",
          "data": {
            "text/plain": [
              "(645, 645)"
            ]
          },
          "metadata": {},
          "execution_count": 11
        }
      ]
    },
    {
      "cell_type": "code",
      "metadata": {
        "id": "VrzTIGQisZwc",
        "colab": {
          "base_uri": "https://localhost:8080/"
        },
        "outputId": "5d2c5117-93ab-42e5-9e8f-5f22eaabded8"
      },
      "source": [
        "# Get the title of the course that the user likes \n",
        "title_to_search = 'Beginner Data Analysis Using SQL and Microsoft SQL Server'\n",
        "\n",
        "# Find the course id\n",
        "course_id = df[df.title == title_to_search]['Course_id'].index\n",
        "print (course_id[0])\n",
        "#course_id = 251"
      ],
      "execution_count": 20,
      "outputs": [
        {
          "output_type": "stream",
          "name": "stdout",
          "text": [
            "450\n"
          ]
        }
      ]
    },
    {
      "cell_type": "code",
      "metadata": {
        "id": "XjR5iXP0v_tH"
      },
      "source": [
        "# Create a list of enumeration for the similarity score [(course_id, similiraty score ),(..)]\n",
        "scores = list(enumerate(cs[course_id[0]]))"
      ],
      "execution_count": 21,
      "outputs": []
    },
    {
      "cell_type": "code",
      "metadata": {
        "id": "dHosRQKrw6JV"
      },
      "source": [
        "#sort the list \n",
        "sorted_scores = sorted(scores, key = lambda x:x[1], reverse  = True)\n",
        "sorted_scores = sorted_scores[1:]\n"
      ],
      "execution_count": 22,
      "outputs": []
    },
    {
      "cell_type": "code",
      "metadata": {
        "colab": {
          "base_uri": "https://localhost:8080/"
        },
        "id": "VVwGyqgUxV-6",
        "outputId": "e6831f60-3491-4c35-8419-4d30030dbd8a"
      },
      "source": [
        "#Print the sorted scores\n",
        "print(sorted_scores)"
      ],
      "execution_count": 23,
      "outputs": [
        {
          "output_type": "stream",
          "name": "stdout",
          "text": [
            "[(96, 0.7684947407547379), (93, 0.6676396803224743), (451, 0.5002982846894393), (0, 0.4761863009446829), (238, 0.462199195258419), (488, 0.46178997833556035), (95, 0.44578511914786173), (311, 0.40728408062957294), (203, 0.40293825029933), (348, 0.3646211257691806), (146, 0.3337613352091694), (261, 0.32816166234553934), (644, 0.3097427036232282), (170, 0.282467377273899), (343, 0.26471837423372957), (84, 0.2572590554771448), (531, 0.24786306271977274), (22, 0.24550651952834218), (457, 0.24260852343677922), (234, 0.2379272409556267), (229, 0.23331457818745363), (563, 0.2216454803196132), (73, 0.21994076777852398), (362, 0.21645247030087902), (252, 0.21601554504621778), (44, 0.2143383258282074), (373, 0.21361878157351166), (470, 0.21157305544372565), (588, 0.20685498813171996), (603, 0.20353274876272984), (418, 0.19708693703340172), (542, 0.1968544657913625), (143, 0.19181142828268138), (279, 0.183777294604954), (262, 0.18361669878930714), (281, 0.18293640217073784), (367, 0.18136600123425609), (316, 0.17662924369854108), (125, 0.1740823660401436), (465, 0.17361389799662483), (483, 0.17320215759087476), (575, 0.17187426891589483), (77, 0.17125359092744644), (49, 0.1691954201818395), (230, 0.16861047236685184), (226, 0.1665375065192421), (381, 0.16605468833373593), (475, 0.16318848686396192), (15, 0.16084647446528894), (395, 0.15868089275764538), (284, 0.15467087044622435), (403, 0.15286084310953418), (442, 0.1527123674013133), (360, 0.15268978182588824), (124, 0.15221009242103975), (342, 0.1514118365930959), (223, 0.15131770469595898), (627, 0.1511896559330256), (145, 0.15105739543185245), (325, 0.1505146893249265), (471, 0.1504817446160222), (153, 0.149844383126527), (535, 0.14966741430567448), (456, 0.14538879034703162), (346, 0.14494816456924983), (141, 0.14489608169558849), (82, 0.14464217683935643), (371, 0.1437278407645161), (250, 0.14160774239838533), (438, 0.14141852789503476), (487, 0.13949211344462095), (168, 0.1386072242487109), (498, 0.13859015733713406), (541, 0.13850044476802137), (114, 0.1379870322360459), (337, 0.13795346297067487), (374, 0.137222662051069), (16, 0.13664040943493663), (561, 0.13652662187472078), (305, 0.13589201327872905), (500, 0.1352114835854979), (283, 0.13445527873602847), (199, 0.1338305603620385), (421, 0.13295827655961853), (551, 0.13291650796639656), (397, 0.13253148844492718), (428, 0.13203403686569112), (460, 0.1300277773045015), (377, 0.12900387973478628), (345, 0.12844248559607163), (417, 0.12795122353922034), (568, 0.12786131394738814), (503, 0.12784209822688095), (467, 0.1276937488888997), (439, 0.12760084477247077), (420, 0.12707120037781178), (478, 0.12703823337979964), (607, 0.1268658632431232), (152, 0.1261320884930182), (509, 0.1260980872466325), (269, 0.12598987222122499), (577, 0.12519845546115257), (326, 0.12507141613542036), (352, 0.12410303975605949), (480, 0.12400212819153959), (486, 0.12383167845022597), (613, 0.1232531187355784), (549, 0.12314894246494856), (321, 0.12303739448692647), (188, 0.12302288582080206), (272, 0.12263341081468195), (357, 0.121594090649172), (452, 0.12124128087593651), (329, 0.12118513078850585), (631, 0.12070499403408133), (118, 0.12034529726104881), (8, 0.12007354678328234), (474, 0.11925567256767333), (295, 0.11899526024714573), (78, 0.1189805499840437), (559, 0.1188064857563478), (587, 0.11854089542782931), (80, 0.11752480204528545), (105, 0.11711453796930374), (55, 0.11703837615288841), (386, 0.11579363096518917), (616, 0.11543845243944337), (289, 0.11533395545700192), (591, 0.11531477484341893), (31, 0.11518768018455595), (217, 0.11517353260934858), (538, 0.11452355197345751), (136, 0.11451487794994562), (278, 0.11451487794994561), (404, 0.11451364010515927), (609, 0.11391521335091526), (576, 0.11356250555372101), (37, 0.11354148917322263), (611, 0.11341083354284556), (318, 0.11332274466212232), (103, 0.11319444092642247), (468, 0.11307414394088475), (414, 0.11299064190421708), (276, 0.11282863820301503), (98, 0.11272645770584183), (435, 0.11257425313656907), (53, 0.11240904989431676), (536, 0.11230734255177455), (359, 0.11215703319939908), (522, 0.11129128797795876), (566, 0.11112527141117129), (88, 0.11110044981269722), (171, 0.11029979134380118), (581, 0.11013940850534587), (69, 0.11008719007171974), (132, 0.11004430422124235), (116, 0.10975352594029937), (300, 0.10965764695665947), (530, 0.1089763682073168), (249, 0.10883641670614821), (273, 0.1086183022180062), (615, 0.10859816917616592), (319, 0.10832299048600345), (336, 0.10827077814708033), (366, 0.1079160674183584), (481, 0.1069973408625225), (213, 0.10659189663848627), (177, 0.10646843661779391), (361, 0.1061581330752914), (385, 0.10599788006359787), (129, 0.10595139844272422), (392, 0.1057680140048325), (183, 0.105763560786611), (62, 0.1054359689047112), (502, 0.1052231380068128), (302, 0.10478839490659099), (157, 0.10470643977815632), (65, 0.1043670899780635), (235, 0.10434914843005538), (282, 0.10391193462794047), (426, 0.10370597340011493), (344, 0.1036397219889298), (43, 0.10354647885535292), (169, 0.10353613403502089), (50, 0.10350420214803979), (411, 0.10347734379219987), (26, 0.10306734005308715), (112, 0.1029230567441959), (191, 0.10279971992621602), (287, 0.10271760256666843), (547, 0.10253714039156411), (222, 0.1021672258168218), (155, 0.10198132207911381), (163, 0.09981583778109121), (416, 0.09970132974700761), (413, 0.0995672300780435), (240, 0.09947872422712165), (334, 0.09905186723229965), (558, 0.09898394839875177), (544, 0.09891947807650842), (205, 0.09876850527588173), (554, 0.09837945399782562), (189, 0.09830992157000285), (567, 0.0982469523312909), (479, 0.09815358632414098), (215, 0.09810450538792985), (198, 0.09799212283873053), (540, 0.0979448236334462), (101, 0.09748480574001564), (363, 0.09736510745166116), (258, 0.0971070593279642), (505, 0.09696211095571607), (277, 0.09688496195152269), (27, 0.09681911397983567), (328, 0.09638308120275181), (604, 0.09611070113656153), (186, 0.095893009574739), (59, 0.09573070817280772), (596, 0.09558339958741194), (140, 0.09542508202604823), (491, 0.09541598555626371), (349, 0.09537441410579502), (120, 0.09528864549141268), (179, 0.09519397358801132), (218, 0.09503059520581232), (91, 0.09456862974538752), (382, 0.09444817544895874), (161, 0.0943978490574405), (187, 0.09384353872763974), (241, 0.0938064390864478), (642, 0.09370358652503606), (60, 0.09364067556124471), (398, 0.0935168443864133), (506, 0.09328835717669844), (529, 0.09293778715079544), (375, 0.09282936822711432), (407, 0.09279890444724444), (263, 0.09275303873505665), (606, 0.09263561491441764), (324, 0.09229903190360615), (113, 0.09161781939638362), (87, 0.09124395233027856), (290, 0.09089079810636533), (89, 0.09079065885510693), (149, 0.0905040855728586), (156, 0.09016168465750476), (494, 0.09015829785793718), (18, 0.0900611397494925), (394, 0.08951880661380861), (600, 0.08945812882463178), (23, 0.08941960055943658), (630, 0.08941920629225092), (582, 0.08891257781666578), (211, 0.08882075878271982), (160, 0.08880857747440452), (569, 0.08850274761800697), (553, 0.0884451482054697), (288, 0.0880688936902753), (253, 0.08796594930244243), (267, 0.08785836958101749), (110, 0.08775811988716731), (521, 0.0876870416884566), (147, 0.08762258603039925), (57, 0.08706423958276693), (231, 0.0870442128052345), (270, 0.08684695354315777), (150, 0.08668894775377578), (628, 0.08665319461050858), (108, 0.08657165153017937), (496, 0.08632178505948974), (220, 0.08599971678734895), (46, 0.08549239159919139), (274, 0.08530649272669472), (477, 0.08526187171033547), (629, 0.08526075104606623), (448, 0.08519910637255954), (455, 0.08512625547734594), (247, 0.08511823367659692), (406, 0.084833582208996), (532, 0.0848030723326267), (306, 0.0846921555865331), (557, 0.08454775266877429), (40, 0.08448458752140309), (228, 0.08338041338850483), (219, 0.08308916358457723), (463, 0.08295663113924), (310, 0.08293141523003707), (54, 0.08289557498719759), (599, 0.08282690997912914), (431, 0.08276548080766262), (25, 0.08271892108760466), (94, 0.08249300778248035), (574, 0.08229417559724249), (556, 0.08227507940993908), (202, 0.08221757482932447), (134, 0.08213645238744022), (573, 0.08177667644689335), (350, 0.08147876406705483), (622, 0.0813695219388465), (580, 0.08136026365403028), (2, 0.08124427878732828), (309, 0.08115023365160301), (333, 0.08107831458677588), (595, 0.08083564191234636), (493, 0.08036549912950074), (100, 0.08034698564830935), (178, 0.0798491188783829), (520, 0.07982505553217449), (552, 0.07966173795876579), (528, 0.07962947857233758), (154, 0.07961507251549019), (61, 0.07951371998901656), (67, 0.07931049676977901), (533, 0.07880813432161436), (165, 0.07860171771761276), (378, 0.07855243400380128), (312, 0.07837716559845807), (317, 0.07836802563259211), (259, 0.07820573677203724), (257, 0.07771756453411939), (516, 0.07723981424986705), (415, 0.07715848557608018), (35, 0.07709361924634928), (36, 0.07689104815349773), (42, 0.07672722003865179), (106, 0.07662401504256905), (539, 0.07656182099556871), (7, 0.07645764955267066), (433, 0.07635897261106907), (268, 0.07626245789018266), (39, 0.07541250059149948), (197, 0.07539219566367006), (137, 0.07511212093606794), (499, 0.0749189523150481), (167, 0.0747324347582004), (330, 0.07462713399023553), (5, 0.07458592120611159), (640, 0.07437959506194552), (174, 0.07424024417371236), (109, 0.07412383178360409), (33, 0.07371622837243874), (462, 0.07342837137586858), (440, 0.07330456938036949), (299, 0.07328435021866081), (162, 0.07313750209251157), (47, 0.07269766084494662), (182, 0.07237959122650582), (632, 0.07147960609974663), (56, 0.07103981472840477), (209, 0.07048263110829846), (466, 0.07038884180380107), (123, 0.07017852897360524), (608, 0.06995017532311164), (331, 0.06980915828722105), (30, 0.06947805138722318), (74, 0.06921312468225298), (372, 0.06909314799261988), (193, 0.06880914060015506), (275, 0.06828807908699916), (144, 0.06824815906208387), (513, 0.06814703547085864), (393, 0.06804494247649666), (180, 0.067448265942924), (605, 0.0669398562721142), (512, 0.06672965065390982), (304, 0.06670603908581449), (17, 0.06657506340451078), (201, 0.06596345430811808), (425, 0.06595195849497469), (545, 0.06593139704789927), (232, 0.06560678805910257), (518, 0.06541479107396295), (29, 0.06505219562467396), (446, 0.06482216614927362), (195, 0.06467235198944493), (514, 0.064202847774917), (454, 0.06419903858522333), (537, 0.06415112859647606), (408, 0.06369487984517483), (423, 0.06343611251455021), (597, 0.06325277692680219), (90, 0.06312053179587662), (388, 0.0630383655953789), (314, 0.06298917499339246), (185, 0.06296431606017942), (227, 0.06280938361297173), (327, 0.06264998534834669), (347, 0.06251045036572783), (410, 0.06248482303483976), (254, 0.06196649422182729), (624, 0.06193902071383896), (292, 0.06186593629816298), (405, 0.06159271618042373), (560, 0.06128136208784839), (356, 0.06112574959507447), (3, 0.06111524661933759), (122, 0.06097050372364649), (115, 0.06083052998801273), (618, 0.06068174158411336), (133, 0.06052330728131827), (390, 0.05985041592145234), (443, 0.05968013550119241), (323, 0.05939578171591459), (237, 0.05864396620162831), (298, 0.05850198414013935), (4, 0.05798863144808166), (453, 0.057761577863994), (507, 0.057644185834656775), (83, 0.057519488119684006), (51, 0.05701573763422149), (430, 0.05621506323865823), (128, 0.056123016410417684), (308, 0.0559026039340584), (111, 0.055762672290477266), (19, 0.05572141244591529), (251, 0.05558262913590455), (427, 0.05549197611085921), (379, 0.05517241962451287), (196, 0.05506875785067015), (190, 0.05445391004778208), (625, 0.054257554724758954), (562, 0.054164018666267855), (543, 0.05365765642939988), (208, 0.05315638495668999), (264, 0.05271064743900182), (265, 0.05235380875336018), (260, 0.052353184077055505), (341, 0.05219870575291073), (619, 0.05201705606795041), (571, 0.05194765369405719), (212, 0.051826865098165815), (387, 0.051789441349346), (68, 0.05129720385911222), (399, 0.05073924186055867), (641, 0.049938723938127566), (41, 0.04958639670796368), (97, 0.049227204891586974), (181, 0.04914166667771704), (495, 0.04910716359945454), (301, 0.04879632391214672), (402, 0.04844424528996335), (34, 0.04713901951066167), (92, 0.047026056644570144), (204, 0.04597375710796589), (445, 0.04581538356664146), (437, 0.04573517033369388), (527, 0.04563080989340639), (508, 0.0450269078351592), (482, 0.04488669335920954), (339, 0.044784880689181614), (1, 0.04476019902255678), (592, 0.044632956064965444), (623, 0.04456803536723499), (497, 0.044387898813158445), (583, 0.04249193393748968), (637, 0.04225686760752488), (256, 0.040942860023924416), (286, 0.04075484575466926), (99, 0.040693166043569214), (332, 0.04024324232204993), (24, 0.03941563743966226), (320, 0.03912091121912437), (322, 0.03905383655684476), (526, 0.03899487572760649), (280, 0.037425455162669104), (370, 0.03723569855209972), (473, 0.0365547605975645), (484, 0.03641193924756529), (626, 0.03556612717212712), (436, 0.03210450922783637), (519, 0.03177377011284127), (166, 0.03146869651229889), (472, 0.030567673895611186), (389, 0.030415264994006364), (441, 0.030276209668206915), (365, 0.029934970927510223), (550, 0.02971808663782148), (590, 0.02942529046640687), (515, 0.029150248761996813), (139, 0.02914761573437316), (130, 0.028903091933006782), (578, 0.028643940446619828), (546, 0.027395686729307034), (248, 0.027348447161992764), (461, 0.02690549144711369), (464, 0.02688546502718437), (620, 0.025539320036458292), (271, 0.02544369297383777), (85, 0.02466687395597942), (364, 0.024637086472169497), (58, 0.023793511739669915), (353, 0.023543310131179194), (194, 0.02330241768866692), (151, 0.022862772458140196), (501, 0.02215055396113233), (224, 0.02181382669877313), (138, 0.02118720620427178), (38, 0.020449085348204575), (102, 0.020346583021784603), (52, 0.019623987235899996), (564, 0.019182942438238624), (354, 0.019106668011164726), (70, 0.018905316472270048), (434, 0.018019236793969818), (148, 0.01739596143271195), (10, 0.017351624302533515), (594, 0.017230222141826325), (303, 0.01700872141686316), (20, 0.01697483670166838), (432, 0.016682571606418367), (548, 0.015554368338607499), (244, 0.01548475517845974), (293, 0.014612180352988833), (72, 0.014500941458870405), (614, 0.014398460023069494), (176, 0.014210669997805297), (429, 0.013712513234989848), (175, 0.01345715863026027), (158, 0.013147251760272522), (585, 0.012688323776511603), (86, 0.012681984368783133), (476, 0.012580669257353306), (593, 0.01234146621448072), (9, 0.012208903670931583), (164, 0.012186641818099243), (340, 0.011986738017463524), (444, 0.011928659268145337), (119, 0.011618717666592617), (294, 0.011515524665436648), (384, 0.011464000806698836), (449, 0.010145587495026505), (524, 0.01011029838812299), (242, 0.010071123461034665), (6, 0.009873172971584576), (107, 0.00986954246108434), (291, 0.00968610395266544), (313, 0.009250836298948762), (233, 0.009174440432456934), (243, 0.009093586832522352), (184, 0.008705540892243367), (63, 0.008665970046962563), (633, 0.008599536373653868), (81, 0.008598000605024128), (221, 0.008412276749681162), (598, 0.008352259740073033), (285, 0.008348304134954148), (117, 0.007980586451001182), (245, 0.007815138841918876), (315, 0.007798975145521297), (584, 0.0076499563498560975), (617, 0.007609190621269879), (368, 0.007553276208813763), (602, 0.007340347955801517), (121, 0.007063731962098823), (192, 0.0069292698655877925), (409, 0.0068685952039324715), (71, 0.0068201901243917645), (380, 0.006599132815441097), (376, 0.006579694974056226), (400, 0.006466568576750385), (523, 0.006394314146079542), (28, 0.006279091841086375), (135, 0.00622376836760137), (104, 0.0061453494821262075), (639, 0.006112193692521628), (206, 0.0060064122646566066), (172, 0.0058371834959702485), (621, 0.005757762332718324), (48, 0.0054696894323985525), (216, 0.005380510287641009), (75, 0.005320390967334121), (14, 0.005126857019578205), (485, 0.005072793747513253), (200, 0.004953014439636913), (489, 0.004953014439636913), (297, 0.004888266368578976), (419, 0.004815843603870426), (555, 0.004762367117324233), (32, 0.0047405045667530165), (490, 0.004722513972187018), (225, 0.00455961937521363), (510, 0.004490387179137574), (127, 0.0044479382718698255), (565, 0.00420361292377241), (21, 0.0041860612273909165), (236, 0.004131765008948361), (412, 0.00399992000239992), (307, 0.0039383300852560785), (492, 0.003915701728238804), (459, 0.00373347510852001), (636, 0.003726424157734873), (612, 0.003456526297468333), (79, 0.003375312303352589), (517, 0.003349487040217449), (643, 0.003272779421231369), (383, 0.0032332842883751925), (579, 0.0032332842883751925), (586, 0.003219593538289658), (570, 0.003018036870090745), (266, 0.002995060725051662), (358, 0.0029356297896758433), (76, 0.0028345393123560773), (239, 0.00280409224989372), (351, 0.00280409224989372), (13, 0.002732069632058702), (355, 0.0026601954836670606), (126, 0.002108708964742332), (142, 0.0017780285633443931), (214, 0.0016212545419889597), (335, 0.00146268564830202), (391, 0.0012874747974245934), (504, 0.0012300802294330272), (173, 0.0009170152687788905), (422, 0.000495499683492927), (11, 0.0), (12, 0.0), (45, 0.0), (64, 0.0), (66, 0.0), (131, 0.0), (159, 0.0), (207, 0.0), (210, 0.0), (246, 0.0), (255, 0.0), (296, 0.0), (338, 0.0), (369, 0.0), (396, 0.0), (401, 0.0), (424, 0.0), (447, 0.0), (458, 0.0), (469, 0.0), (511, 0.0), (525, 0.0), (534, 0.0), (572, 0.0), (589, 0.0), (601, 0.0), (610, 0.0), (634, 0.0), (635, 0.0), (638, 0.0)]\n"
          ]
        }
      ]
    },
    {
      "cell_type": "code",
      "metadata": {
        "colab": {
          "base_uri": "https://localhost:8080/"
        },
        "id": "YMtLBI6dxqam",
        "outputId": "8d528202-693c-4ede-b596-1bb7bad06baf"
      },
      "source": [
        "# Create a loop to print the first 7 similar movies\n",
        "j = 0\n",
        "print('The 7 most recommended courses : ', title_to_search, '\\nare:\\n')\n",
        "print('ID  Course Title' )\n",
        "for item in sorted_scores:\n",
        "  course_title = df[df.index == item[0]]['title'].values[0]\n",
        "  course_id = df[df.index == item[0]]['Course_id'].values[0]\n",
        "  #course_headline = df[df.index == item[0]]['headline'].values[0]\n",
        "  num_subscribers = df[df.index == item[0]]['num_subscribers'].values[0]\n",
        "  print(course_id, course_title, \" | \" + str(num_subscribers) )\n",
        "  j=j+1\n",
        "  if j>20:\n",
        "    break"
      ],
      "execution_count": 24,
      "outputs": [
        {
          "output_type": "stream",
          "name": "stdout",
          "text": [
            "The 7 most recommended courses :  Beginner Data Analysis Using SQL and Microsoft SQL Server \n",
            "are:\n",
            "\n",
            "ID  Course Title\n",
            "1121780 Learn to use SQL for Data Analysis and Reporting  | 1632\n",
            "1121702 Learn Microsoft SSIS (SQL Server Integration Services)  | 826\n",
            "1135322 Introduction To SQL Server Reporting Services -SSRS  | 603\n",
            "1117836 NoSQL Databases For Beginners  | 1178\n",
            "1126478 Student Registration Form in C# and SQL Server in Urdu  | 14\n",
            "1136680 SQL Server 101 : Microsoft SQL Server for Absolute Beginners  | 576\n",
            "1121716 Introduction to SQL Server Reporting Services (SSRS)  | 598\n",
            "1129804 Haskell: Data Analysis Made Easy  | 604\n",
            "1125010 Oracle SQL- Ultimate In-Depth : Beginner to Advance  | 1877\n",
            "1131092 R: Complete Machine Learning Solutions  | 564\n",
            "1123198 Colors for Data Science A-Z: Data Visualization Color Theory  | 5754\n",
            "1127462 Microsoft Power Pivot (Excel) and SSAS (Tabular DAX model)  | 2871\n",
            "1142202 Master Angular 4 by Example - Build 7 Awesome Apps!  | 1484\n",
            "1124030 Bash Shell Programming for Data Sciences: Animated  | 11549\n",
            "1130950 Cyberhacker Series: Hacking Databases  | 181\n",
            "1121448 Como Crear un CRUD con PHP, PDO y SQL Server  | 37050\n",
            "1137736 Mathematica for healthcare and life science statistics  | 466\n",
            "1118908 Excel for beginners - Understand why and how to use MS Excel  | 1031\n",
            "1135406 Google Cloud Platform Certification Prep - Foundations  | 155\n",
            "1126172 Database Security for Cyber Professionals  | 887\n",
            "1125862 PL/SQL Programming with Real-World Examples  | 3326\n"
          ]
        }
      ]
    }
  ]
}